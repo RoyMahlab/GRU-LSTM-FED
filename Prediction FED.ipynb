{
 "cells": [
  {
   "cell_type": "code",
   "execution_count": 1197,
   "id": "provincial-casting",
   "metadata": {},
   "outputs": [
    {
     "name": "stdout",
     "output_type": "stream",
     "text": [
      "env: CUBLAS_WORKSPACE_CONFIG=:4096:2\n",
      "env: CUDA_LAUNCH_BLOCKING=1\n"
     ]
    },
    {
     "name": "stderr",
     "output_type": "stream",
     "text": [
      "<ipython-input-1197-c3b0ea2d3d79>:9: FutureWarning:\n",
      "\n",
      "The pandas.datetime class is deprecated and will be removed from pandas in a future version. Import from datetime module instead.\n",
      "\n"
     ]
    },
    {
     "data": {
      "text/plain": [
       "<torch._C.Generator at 0x1fac1f53e50>"
      ]
     },
     "execution_count": 1197,
     "metadata": {},
     "output_type": "execute_result"
    }
   ],
   "source": [
    "import numpy as np\n",
    "import random\n",
    "import pandas as pd \n",
    "from pylab import mpl, plt\n",
    "plt.style.use('seaborn')\n",
    "mpl.rcParams['font.family'] = 'serif'\n",
    "%matplotlib inline\n",
    "\n",
    "from pandas import datetime\n",
    "import math, time\n",
    "import itertools\n",
    "import datetime\n",
    "from operator import itemgetter\n",
    "from sklearn.metrics import mean_squared_error\n",
    "from sklearn.preprocessing import MinMaxScaler\n",
    "from math import sqrt\n",
    "\n",
    "import torch\n",
    "import torch.nn as nn\n",
    "from torch.autograd import Variable\n",
    "import os\n",
    "import optuna\n",
    "import torch.utils.data as utils\n",
    "\n",
    "# for LSTM reproducibility\n",
    "%env CUBLAS_WORKSPACE_CONFIG=:4096:2\n",
    "%env CUDA_LAUNCH_BLOCKING=1\n",
    "        \n",
    "seed = 211\n",
    "np.random.seed(seed)\n",
    "torch.manual_seed(seed)"
   ]
  },
  {
   "cell_type": "code",
   "execution_count": 1198,
   "id": "basic-treasurer",
   "metadata": {},
   "outputs": [],
   "source": [
    "def load_nasdaq(use_fed_data = True):\n",
    "    filepath = 'input/NASDAQ_DAYLY.csv'\n",
    "    nasdaq = pd.read_csv(filepath)\n",
    "    nasdaq['Date'] = pd.to_datetime(nasdaq['Date'], format = '%Y-%m-%d')\n",
    "    #nasdaq = nasdaq[nasdaq['Date'] > datetime.datetime(2018, 1, 1)]\n",
    "    nasdaq = nasdaq.set_index('Date')\n",
    "    nasdaq = nasdaq[['Close']]\n",
    "    filepath = 'input/WALCL.csv'\n",
    "    assets = pd.read_csv(filepath)\n",
    "    assets['DATE'] = pd.to_datetime(assets['DATE'], format = '%Y-%m-%d')\n",
    "    assets = assets.rename(columns={'DATE':'Date',\"WALCL\":'Millions_of_Dollars'})\n",
    "    assets.set_index('Date',inplace=True)\n",
    "    nasdaq['Assets'] = assets['Millions_of_Dollars']\n",
    "    nasdaq = nasdaq.dropna()\n",
    "    scaled = nasdaq.copy()\n",
    "    scaler1 = MinMaxScaler(feature_range=(min(nasdaq['Close'])/max(nasdaq['Close']), 1))\n",
    "    #scaler1 = MinMaxScaler(feature_range=(0.1, 1))\n",
    "    scaler2 = MinMaxScaler(feature_range=(min(nasdaq['Assets'])/max(nasdaq['Assets']), 1))\n",
    "    #scaler2 = MinMaxScaler(feature_range=(0.1, 1))\n",
    "    scaled ['Close'] = scaler1.fit_transform(scaled['Close'].values.reshape(-1,1))\n",
    "    scaled ['Assets'] = scaler2.fit_transform(scaled['Assets'].values.reshape(-1,1))\n",
    "    if not use_fed_data:\n",
    "        del nasdaq['Assets']\n",
    "        del scaled['Assets']\n",
    "    return nasdaq, scaled, scaler1, scaler2    \n",
    "        \n",
    "nasdaq, scaled, scaler1, scaler2  = load_nasdaq()  "
   ]
  },
  {
   "cell_type": "code",
   "execution_count": 1199,
   "id": "guilty-chess",
   "metadata": {},
   "outputs": [
    {
     "data": {
      "text/html": [
       "<div>\n",
       "<style scoped>\n",
       "    .dataframe tbody tr th:only-of-type {\n",
       "        vertical-align: middle;\n",
       "    }\n",
       "\n",
       "    .dataframe tbody tr th {\n",
       "        vertical-align: top;\n",
       "    }\n",
       "\n",
       "    .dataframe thead th {\n",
       "        text-align: right;\n",
       "    }\n",
       "</style>\n",
       "<table border=\"1\" class=\"dataframe\">\n",
       "  <thead>\n",
       "    <tr style=\"text-align: right;\">\n",
       "      <th></th>\n",
       "      <th>Close</th>\n",
       "      <th>Assets</th>\n",
       "    </tr>\n",
       "    <tr>\n",
       "      <th>Date</th>\n",
       "      <th></th>\n",
       "      <th></th>\n",
       "    </tr>\n",
       "  </thead>\n",
       "  <tbody>\n",
       "    <tr>\n",
       "      <th>2002-12-18</th>\n",
       "      <td>1013.669983</td>\n",
       "      <td>719542.0</td>\n",
       "    </tr>\n",
       "    <tr>\n",
       "      <th>2003-01-08</th>\n",
       "      <td>1042.520020</td>\n",
       "      <td>723762.0</td>\n",
       "    </tr>\n",
       "    <tr>\n",
       "      <th>2003-01-15</th>\n",
       "      <td>1073.599976</td>\n",
       "      <td>720074.0</td>\n",
       "    </tr>\n",
       "    <tr>\n",
       "      <th>2003-01-22</th>\n",
       "      <td>1006.510010</td>\n",
       "      <td>735953.0</td>\n",
       "    </tr>\n",
       "    <tr>\n",
       "      <th>2003-01-29</th>\n",
       "      <td>1016.559998</td>\n",
       "      <td>712809.0</td>\n",
       "    </tr>\n",
       "    <tr>\n",
       "      <th>...</th>\n",
       "      <td>...</td>\n",
       "      <td>...</td>\n",
       "    </tr>\n",
       "    <tr>\n",
       "      <th>2021-05-26</th>\n",
       "      <td>13702.740234</td>\n",
       "      <td>7903541.0</td>\n",
       "    </tr>\n",
       "    <tr>\n",
       "      <th>2021-06-02</th>\n",
       "      <td>13675.790039</td>\n",
       "      <td>7935703.0</td>\n",
       "    </tr>\n",
       "    <tr>\n",
       "      <th>2021-06-09</th>\n",
       "      <td>13814.940430</td>\n",
       "      <td>7952327.0</td>\n",
       "    </tr>\n",
       "    <tr>\n",
       "      <th>2021-06-16</th>\n",
       "      <td>13983.009766</td>\n",
       "      <td>8064257.0</td>\n",
       "    </tr>\n",
       "    <tr>\n",
       "      <th>2021-06-23</th>\n",
       "      <td>14274.240234</td>\n",
       "      <td>8101945.0</td>\n",
       "    </tr>\n",
       "  </tbody>\n",
       "</table>\n",
       "<p>957 rows × 2 columns</p>\n",
       "</div>"
      ],
      "text/plain": [
       "                   Close     Assets\n",
       "Date                               \n",
       "2002-12-18   1013.669983   719542.0\n",
       "2003-01-08   1042.520020   723762.0\n",
       "2003-01-15   1073.599976   720074.0\n",
       "2003-01-22   1006.510010   735953.0\n",
       "2003-01-29   1016.559998   712809.0\n",
       "...                  ...        ...\n",
       "2021-05-26  13702.740234  7903541.0\n",
       "2021-06-02  13675.790039  7935703.0\n",
       "2021-06-09  13814.940430  7952327.0\n",
       "2021-06-16  13983.009766  8064257.0\n",
       "2021-06-23  14274.240234  8101945.0\n",
       "\n",
       "[957 rows x 2 columns]"
      ]
     },
     "execution_count": 1199,
     "metadata": {},
     "output_type": "execute_result"
    }
   ],
   "source": [
    "nasdaq"
   ]
  },
  {
   "cell_type": "code",
   "execution_count": 1200,
   "id": "alike-expense",
   "metadata": {},
   "outputs": [
    {
     "data": {
      "text/html": [
       "<div>\n",
       "<style scoped>\n",
       "    .dataframe tbody tr th:only-of-type {\n",
       "        vertical-align: middle;\n",
       "    }\n",
       "\n",
       "    .dataframe tbody tr th {\n",
       "        vertical-align: top;\n",
       "    }\n",
       "\n",
       "    .dataframe thead th {\n",
       "        text-align: right;\n",
       "    }\n",
       "</style>\n",
       "<table border=\"1\" class=\"dataframe\">\n",
       "  <thead>\n",
       "    <tr style=\"text-align: right;\">\n",
       "      <th></th>\n",
       "      <th>Close</th>\n",
       "      <th>Assets</th>\n",
       "    </tr>\n",
       "    <tr>\n",
       "      <th>Date</th>\n",
       "      <th></th>\n",
       "      <th></th>\n",
       "    </tr>\n",
       "  </thead>\n",
       "  <tbody>\n",
       "    <tr>\n",
       "      <th>2002-12-18</th>\n",
       "      <td>0.071014</td>\n",
       "      <td>0.088811</td>\n",
       "    </tr>\n",
       "    <tr>\n",
       "      <th>2003-01-08</th>\n",
       "      <td>0.073035</td>\n",
       "      <td>0.089332</td>\n",
       "    </tr>\n",
       "    <tr>\n",
       "      <th>2003-01-15</th>\n",
       "      <td>0.075212</td>\n",
       "      <td>0.088877</td>\n",
       "    </tr>\n",
       "    <tr>\n",
       "      <th>2003-01-22</th>\n",
       "      <td>0.070512</td>\n",
       "      <td>0.090837</td>\n",
       "    </tr>\n",
       "    <tr>\n",
       "      <th>2003-01-29</th>\n",
       "      <td>0.071216</td>\n",
       "      <td>0.087980</td>\n",
       "    </tr>\n",
       "    <tr>\n",
       "      <th>...</th>\n",
       "      <td>...</td>\n",
       "      <td>...</td>\n",
       "    </tr>\n",
       "    <tr>\n",
       "      <th>2021-05-26</th>\n",
       "      <td>0.959963</td>\n",
       "      <td>0.975512</td>\n",
       "    </tr>\n",
       "    <tr>\n",
       "      <th>2021-06-02</th>\n",
       "      <td>0.958075</td>\n",
       "      <td>0.979481</td>\n",
       "    </tr>\n",
       "    <tr>\n",
       "      <th>2021-06-09</th>\n",
       "      <td>0.967823</td>\n",
       "      <td>0.981533</td>\n",
       "    </tr>\n",
       "    <tr>\n",
       "      <th>2021-06-16</th>\n",
       "      <td>0.979597</td>\n",
       "      <td>0.995348</td>\n",
       "    </tr>\n",
       "    <tr>\n",
       "      <th>2021-06-23</th>\n",
       "      <td>1.000000</td>\n",
       "      <td>1.000000</td>\n",
       "    </tr>\n",
       "  </tbody>\n",
       "</table>\n",
       "<p>957 rows × 2 columns</p>\n",
       "</div>"
      ],
      "text/plain": [
       "               Close    Assets\n",
       "Date                          \n",
       "2002-12-18  0.071014  0.088811\n",
       "2003-01-08  0.073035  0.089332\n",
       "2003-01-15  0.075212  0.088877\n",
       "2003-01-22  0.070512  0.090837\n",
       "2003-01-29  0.071216  0.087980\n",
       "...              ...       ...\n",
       "2021-05-26  0.959963  0.975512\n",
       "2021-06-02  0.958075  0.979481\n",
       "2021-06-09  0.967823  0.981533\n",
       "2021-06-16  0.979597  0.995348\n",
       "2021-06-23  1.000000  1.000000\n",
       "\n",
       "[957 rows x 2 columns]"
      ]
     },
     "execution_count": 1200,
     "metadata": {},
     "output_type": "execute_result"
    }
   ],
   "source": [
    "scaled"
   ]
  },
  {
   "cell_type": "code",
   "execution_count": 1201,
   "id": "dying-combining",
   "metadata": {},
   "outputs": [
    {
     "name": "stdout",
     "output_type": "stream",
     "text": [
      "72\n",
      "torch.Size([189, 10, 2])\n",
      "torch.Size([189, 10, 2])\n",
      "torch.Size([569, 10, 2])\n",
      "torch.Size([189, 1])\n",
      "torch.Size([569, 1])\n"
     ]
    }
   ],
   "source": [
    "# function to create train, test data given stock data and sequence lengt\n",
    "def load_data(stock, look_back, batch_size = 1, prev_perm = None ,use_perm = True):\n",
    "    data_raw = stock.values # convert to numpy array\n",
    "    data = []\n",
    "    \n",
    "    # create all possible sequences of length look_back\n",
    "    for index in range(len(data_raw) - look_back): \n",
    "        data.append(data_raw[index: index + look_back+1])\n",
    "    \n",
    "    data = np.array(data);\n",
    "    test_set_size = int(np.round(0.2*data.shape[0]))\n",
    "    train_set_size = data.shape[0] - 2*(test_set_size)\n",
    "    np.random.seed(seed)\n",
    "    if prev_perm is not None:\n",
    "        rand_perm = prev_perm\n",
    "    else:\n",
    "        rand_perm = np.random.permutation(data.shape[0])\n",
    "    if use_perm: \n",
    "        data = data[rand_perm,:,:]\n",
    "    \n",
    "    x_train = data[:train_set_size,:-1,:]\n",
    "    y_train = data[:train_set_size,-1,0].reshape(-1,1)\n",
    "    x_val = data[train_set_size:train_set_size+test_set_size,:-1,:]\n",
    "    y_val = data[train_set_size:train_set_size+test_set_size,-1,0].reshape(-1,1) \n",
    "    x_test = data[train_set_size+test_set_size:,:-1]\n",
    "    y_test = data[train_set_size+test_set_size:,-1,0].reshape(-1,1)\n",
    "\n",
    "    \n",
    "    x_train = torch.from_numpy(x_train).type(torch.Tensor).to(device)\n",
    "    y_train = torch.from_numpy(y_train).type(torch.Tensor).to(device)\n",
    "    x_test = torch.from_numpy(x_test).type(torch.Tensor).to(device)\n",
    "    y_test = torch.from_numpy(y_test).type(torch.Tensor).to(device)\n",
    "    x_val = torch.from_numpy(x_val).type(torch.Tensor).to(device)\n",
    "    y_val = torch.from_numpy(y_val).type(torch.Tensor).to(device)\n",
    "    \n",
    "    train_loader = utils.DataLoader(utils.TensorDataset(x_train,y_train),batch_size=batch_size)\n",
    "    \n",
    "      \n",
    "    \n",
    "    return x_test, y_test, x_train, y_train, x_val, y_val, train_loader\n",
    "\n",
    "x_test, y_test, x_train, y_train, x_val, y_val, train_loader = load_data(nasdaq, 10, 8)\n",
    "print(len(train_loader))\n",
    "print(x_test.shape)\n",
    "print(x_val.shape)\n",
    "print(x_train.shape)\n",
    "print(y_test.shape)\n",
    "print(y_train.shape)"
   ]
  },
  {
   "cell_type": "code",
   "execution_count": 1202,
   "id": "b76a5817",
   "metadata": {},
   "outputs": [],
   "source": [
    "class GRU(nn.Module):\n",
    "    def __init__(self, input_dim, hidden_dim, num_layers, output_dim):\n",
    "        torch.manual_seed(seed)\n",
    "        super(GRU, self).__init__()\n",
    "        self.hidden_dim = hidden_dim\n",
    "        self.num_layers = num_layers\n",
    "        \n",
    "        self.gru = nn.GRU(input_dim, hidden_dim, num_layers, batch_first=True)\n",
    "        self.fc = nn.Linear(hidden_dim, output_dim)\n",
    "\n",
    "    def forward(self, x):\n",
    "        h0 = torch.zeros(self.num_layers, x.size(0), self.hidden_dim).requires_grad_().to(device)\n",
    "        out, (hn) = self.gru(x, (h0.detach()))\n",
    "        out = self.fc(out[:, -1, :]) \n",
    "        return out\n",
    "    \n",
    "class LSTM(nn.Module):\n",
    "    def __init__(self, input_dim, hidden_dim, num_layers, output_dim):\n",
    "        torch.manual_seed(seed)\n",
    "        super(LSTM, self).__init__()\n",
    "        self.hidden_dim = hidden_dim\n",
    "        self.num_layers = num_layers\n",
    "        \n",
    "        self.lstm = nn.LSTM(input_dim, hidden_dim, num_layers, batch_first=True)\n",
    "        self.fc = nn.Linear(hidden_dim, output_dim)\n",
    "\n",
    "    def forward(self, x):\n",
    "        h0 = torch.zeros(self.num_layers, x.size(0), self.hidden_dim).requires_grad_().to(device)\n",
    "        c0 = torch.zeros(self.num_layers, x.size(0), self.hidden_dim).requires_grad_().to(device)\n",
    "        out, (hn, cn) = self.lstm(x, (h0.detach(), c0.detach()))\n",
    "        out = self.fc(out[:, -1, :]) \n",
    "        return out"
   ]
  },
  {
   "cell_type": "code",
   "execution_count": 1203,
   "id": "94a2075d",
   "metadata": {},
   "outputs": [],
   "source": [
    "def objective(trial):\n",
    "    look_back = trial.suggest_int(\"Look Back\",10,50,step=5)\n",
    "    batch_size = trial.suggest_categorical('Batch Size', [4,8,16,32,64])\n",
    "    hidden_dim = trial.suggest_categorical('Hidden Dim', [16,32,64,128,256])\n",
    "    num_layers = trial.suggest_int(\"N layers\",1,3)\n",
    "    lr = trial.suggest_float(\"Learning Rate\",1e-4,0.1,log=True)\n",
    "    num_iters = 3000 #trial.suggest_int(\"Num Iters\",2000,2000,step=500)\n",
    "    factor = trial.suggest_float('Factor',0.55,0.95,step=0.1)\n",
    "    #patience = trial.suggest_int(\"Patience\",5,5)\n",
    "    \n",
    "    x_test, y_test, x_train, y_train, x_val, y_val, train_loader= load_data(scaled, look_back, batch_size, use_perm=True)\n",
    "    output_dim = 1\n",
    "    if model_name == \"GRU\":\n",
    "        model = GRU(input_dim=input_dim, hidden_dim=hidden_dim, output_dim=output_dim, num_layers=num_layers).to(device)\n",
    "    elif model_name == \"LSTM\":\n",
    "        model = LSTM(input_dim=input_dim, hidden_dim=hidden_dim, output_dim=output_dim, num_layers=num_layers).to(device)\n",
    "        \n",
    "    loss_fn = torch.nn.MSELoss()\n",
    "    \n",
    "    optimizer = torch.optim.Adam(model.parameters(), lr=lr)\n",
    "    \n",
    "    num_epochs = min(num_iters//len(train_loader),100)\n",
    "    \n",
    "    scheduler = torch.optim.lr_scheduler.ReduceLROnPlateau(optimizer, factor=factor, patience=5)\n",
    "    for epoch in range(num_epochs):\n",
    "        train_loss = 0\n",
    "        for batch_idx, (data,target) in enumerate(train_loader):\n",
    "\n",
    "            # Forward pass\n",
    "            y_train_pred = model(data)\n",
    "            MSE_loss = loss_fn(y_train_pred, target)\n",
    "            loss = torch.sqrt(MSE_loss)\n",
    "            train_loss += MSE_loss.item()\n",
    "            # Zero out gradient, else they will accumulate between epochs\n",
    "            optimizer.zero_grad()\n",
    "\n",
    "            # Backward pass\n",
    "            loss.backward()\n",
    "\n",
    "            # Update parameters\n",
    "            optimizer.step()\n",
    "            \n",
    "        train_loss = math.sqrt(train_loss/len(train_loader))\n",
    "        y_val_pred = model(x_val)\n",
    "        val_loss = torch.sqrt(loss_fn(y_val_pred, y_val)).item()\n",
    "        scheduler.step(val_loss)\n",
    "        trial.report(val_loss, epoch)\n",
    "        \n",
    "        if trial.should_prune():\n",
    "            raise optuna.exceptions.TrialPruned()\n",
    "    return val_loss"
   ]
  },
  {
   "cell_type": "code",
   "execution_count": 1204,
   "id": "7b7e72d8",
   "metadata": {},
   "outputs": [],
   "source": [
    "# now we can run the experiment\n",
    "def conduct_study (study_name, model_name, n_trials = 100, timeout=180*60):\n",
    "    sampler = optuna.samplers.TPESampler()\n",
    "    study = optuna.create_study(study_name=study_name, direction=\"minimize\", sampler=sampler)\n",
    "    study.optimize(objective, n_trials, timeout=timeout)\n",
    "\n",
    "    pruned_trials = [t for t in study.trials if t.state == optuna.trial.TrialState.PRUNED]\n",
    "    complete_trials = [t for t in study.trials if t.state == optuna.trial.TrialState.COMPLETE]\n",
    "\n",
    "    print(\"Study statistics: \")\n",
    "    print(\"  Number of finished trials: \", len(study.trials))\n",
    "    print(\"  Number of pruned trials: \", len(pruned_trials))\n",
    "    print(\"  Number of complete trials: \", len(complete_trials))\n",
    "    return study"
   ]
  },
  {
   "cell_type": "code",
   "execution_count": 1205,
   "id": "29a6efae",
   "metadata": {},
   "outputs": [],
   "source": [
    "def train(best_trial, model_name):\n",
    "    look_back = best_trial.params['Look Back']\n",
    "    batch_size = best_trial.params['Batch Size']\n",
    "    hidden_dim = best_trial.params['Hidden Dim']\n",
    "    num_layers = best_trial.params['N layers']\n",
    "    lr = best_trial.params['Learning Rate']\n",
    "    num_iters = 3000 #best_trial.params[\"Num Iters\"]\n",
    "    factor = best_trial.params['Factor']\n",
    "    #patience = best_trial.params['Patience']\n",
    "    \n",
    "    x_test, y_test, x_train, y_train, x_val, y_val, train_loader= load_data(scaled, look_back, batch_size, use_perm=True)\n",
    "    output_dim = 1\n",
    "    if model_name == \"GRU\":\n",
    "        model = GRU(input_dim=input_dim, hidden_dim=hidden_dim, output_dim=output_dim, num_layers=num_layers).to(device)\n",
    "    elif model_name == \"LSTM\":\n",
    "        model = LSTM(input_dim=input_dim, hidden_dim=hidden_dim, output_dim=output_dim, num_layers=num_layers).to(device)\n",
    "        \n",
    "    loss_fn = torch.nn.MSELoss()\n",
    "    \n",
    "    optimizer = torch.optim.Adam(model.parameters(), lr=lr)\n",
    "    \n",
    "    num_epochs = min(num_iters//len(train_loader),100)\n",
    "    \n",
    "    scheduler = torch.optim.lr_scheduler.ReduceLROnPlateau(optimizer, factor=factor, patience=5)\n",
    "    hist = np.zeros(num_epochs)\n",
    "    print(\"\\nTraining Loss:\")\n",
    "    for epoch in range(num_epochs):\n",
    "        train_loss = 0\n",
    "        for batch_idx, (data,target) in enumerate(train_loader):\n",
    "\n",
    "            # Forward pass\n",
    "            y_train_pred = model(data)\n",
    "            MSE_loss = loss_fn(y_train_pred, target)\n",
    "            loss = torch.sqrt(MSE_loss)\n",
    "            train_loss += MSE_loss.item()\n",
    "            # Zero out gradient, else they will accumulate between epochs\n",
    "            optimizer.zero_grad()\n",
    "\n",
    "            # Backward pass\n",
    "            loss.backward()\n",
    "\n",
    "            # Update parameters\n",
    "            optimizer.step()\n",
    "            \n",
    "        train_loss = math.sqrt(train_loss/len(train_loader))\n",
    "        y_val_pred = model(x_val)\n",
    "        val_loss = torch.sqrt(loss_fn(y_val_pred, y_val)).item()\n",
    "        scheduler.step(val_loss)\n",
    "        \n",
    "        hist[epoch] = val_loss\n",
    "        if epoch == num_epochs-1:\n",
    "            print(\"Last Epoch\", epoch, \"MSE: \", train_loss)\n",
    "    \n",
    "    # plot loss\n",
    "    plt.plot(hist, label=\"Training loss\")\n",
    "    plt.legend()\n",
    "    plt.show()\n",
    "    \n",
    "    # make predictions\n",
    "    y_test_pred = model(x_test)\n",
    "    y_train_pred = model(x_train)\n",
    "    y_val_pred = model(x_val)\n",
    "    # invert predictions\n",
    "\n",
    "    y_train_pred = scaler1.inverse_transform(y_train_pred.cpu().detach().numpy())\n",
    "    y_train = scaler1.inverse_transform(y_train.detach().cpu().numpy())\n",
    "    y_test_pred = scaler1.inverse_transform(y_test_pred.cpu().detach().numpy())\n",
    "    y_test = scaler1.inverse_transform(y_test.cpu().detach().numpy())\n",
    "    y_val_pred = scaler1.inverse_transform(y_val_pred.cpu().detach().numpy())\n",
    "    y_val = scaler1.inverse_transform(y_val.cpu().detach().numpy())\n",
    "    return y_train_pred, y_train, y_test_pred, y_test, y_val_pred, y_val, model"
   ]
  },
  {
   "cell_type": "code",
   "execution_count": 1206,
   "id": "2aeeba32",
   "metadata": {},
   "outputs": [],
   "source": [
    "def plot_results(model, last = 20):\n",
    "    x_test, y_test, x_train, y_train, x_val, y_val, train_loader= load_data(scaled, look_back, use_perm = False)\n",
    "    x = torch.cat((x_train,x_val,x_test))\n",
    "    y = torch.cat((y_train,y_val,y_test))\n",
    "    y_pred = model(x)\n",
    "    y_pred = scaler1.inverse_transform(y_pred.cpu().detach().numpy())\n",
    "    y = scaler1.inverse_transform(y.cpu().detach().numpy())\n",
    "    figure, axes = plt.subplots(figsize=(15, 6))\n",
    "    axes.xaxis_date()\n",
    "    axes.plot(nasdaq[-len(y):].index, y, color = 'red', label = 'Real NASDAQ Price')\n",
    "    axes.plot(nasdaq[-len(y):].index, y_pred, color = 'blue', label = 'Predicted NASDAQ Price')\n",
    "    #axes.xticks(np.arange(0,394,50))\n",
    "    plt.title('NASDAQ-100 Stock Price Prediction')\n",
    "    plt.xlabel('Time')\n",
    "    plt.ylabel('NASDAQ-100 Stock Price')\n",
    "    plt.legend()\n",
    "    figure, axes = plt.subplots(figsize=(15, 6))\n",
    "    axes.xaxis_date()\n",
    "    axes.plot(nasdaq[-last:].index, y[-last:], '.', color = 'red', label = 'Real NASDAQ Price')\n",
    "    axes.plot(nasdaq[-last:].index, y_pred[-last:], '.', color = 'blue', label = 'Predicted NASDAQ Price')\n",
    "    plt.title('NASDAQ-100 Stock Price Prediction - Last Weeks')\n",
    "    plt.xlabel('Time')\n",
    "    plt.ylabel('NASDAQ-100 Stock Price')\n",
    "    plt.legend()"
   ]
  },
  {
   "cell_type": "code",
   "execution_count": 1207,
   "id": "932875eb",
   "metadata": {},
   "outputs": [],
   "source": [
    "def predict_results(model, n=5):\n",
    "    data_raw = scaled.values\n",
    "    predictions = []\n",
    "    data = np.array(data_raw[len(data_raw) - look_back:])\n",
    "    x_test = data.reshape(1,data.shape[0],data.shape[1])\n",
    "    x_test = torch.from_numpy(x_test).type(torch.Tensor).to(device)\n",
    "    for _ in range(n):\n",
    "        y_test_pred = model(x_test)\n",
    "        if input_dim == 2:\n",
    "            tmp = torch.tensor([[[y_test_pred[0,0].item(),2*x_test[0,-1,1].item()-x_test[0,-2,1].item()]]]).to(device)\n",
    "        elif input_dim ==1: \n",
    "            tmp = torch.tensor([[[y_test_pred[0,0].item()]]]).to(device)\n",
    "        x_test = torch.cat((x_test,tmp),1)[:,1:,:]\n",
    "        y_test_pred = scaler1.inverse_transform(y_test_pred.cpu().detach().numpy())\n",
    "        predictions.append(y_test_pred.item())\n",
    "        \n",
    "    figure, axes = plt.subplots(figsize=(15, 6))\n",
    "    axes.plot(range(1,n+1),predictions)\n",
    "    plt.xticks(range(1,n+1))\n",
    "    plt.title('NASDAQ-100 Stock Price Future Prediction - Last Weeks')\n",
    "    plt.xlabel('Weeks Ahead')\n",
    "    plt.ylabel('NASDAQ-100 Stock Price')\n",
    "    plt.show()\n",
    "    print(predictions)"
   ]
  },
  {
   "cell_type": "code",
   "execution_count": 1208,
   "id": "4445b64b",
   "metadata": {},
   "outputs": [],
   "source": [
    "def study_results(study, model_name, n=5, last=20):\n",
    "    print(\"Best trial:\")\n",
    "    best_trial = study.best_trial\n",
    "\n",
    "    print(\"Validation Loss: \", best_trial.value)\n",
    "    print(best_trial.params)\n",
    "    #optuna.visualization.plot_param_importances(best_trial)\n",
    "    y_train_pred, y_train, y_test_pred, y_test, y_val_pred, y_val, model = train(best_trial, model_name)\n",
    "    # calculate root mean squared error\n",
    "    trainScore = math.sqrt(mean_squared_error(y_train[:,0], y_train_pred[:,0]))\n",
    "    print('\\n\\nModel Train Score: %.2f RMSE' % (trainScore))\n",
    "    valScore = math.sqrt(mean_squared_error(y_val[:,0], y_val_pred[:,0]))\n",
    "    print('Model Validation Score: %.2f RMSE' % (valScore))\n",
    "    testScore = math.sqrt(mean_squared_error(y_test[:,0], y_test_pred[:,0]))\n",
    "    print('Model Test Score: %.2f RMSE\\n\\n' % (testScore))\n",
    "    y = np.concatenate((y_train,y_val,y_test))\n",
    "    y_pred = np.concatenate((y_train_pred,y_val_pred,y_test_pred))\n",
    "    totScore = math.sqrt(mean_squared_error(y[:,0], y_pred[:,0]))\n",
    "    print('Aggregated Score: %.2f RMSE\\n\\n' % (totScore))\n",
    "    plot_results(model)\n",
    "    predict_results(model)"
   ]
  },
  {
   "cell_type": "markdown",
   "id": "98227add",
   "metadata": {},
   "source": [
    "# Optuna Hyper Parameter Search"
   ]
  },
  {
   "cell_type": "code",
   "execution_count": 1209,
   "id": "33ac8c06",
   "metadata": {},
   "outputs": [],
   "source": [
    "device = torch.device(\"cuda:0\" if torch.cuda.is_available() else \"cpu\")\n",
    "n_trials = 500"
   ]
  },
  {
   "cell_type": "code",
   "execution_count": 1210,
   "id": "9b481f3a",
   "metadata": {},
   "outputs": [
    {
     "name": "stderr",
     "output_type": "stream",
     "text": [
      "\u001b[32m[I 2021-06-26 03:02:45,770]\u001b[0m A new study created in memory with name: GRU\u001b[0m\n",
      "\u001b[32m[I 2021-06-26 03:03:00,830]\u001b[0m Trial 0 finished with value: 0.00843887496739626 and parameters: {'Look Back': 35, 'Batch Size': 16, 'Hidden Dim': 32, 'N layers': 3, 'Learning Rate': 0.005717693567618212, 'Factor': 0.75}. Best is trial 0 with value: 0.00843887496739626.\u001b[0m\n",
      "\u001b[32m[I 2021-06-26 03:03:10,076]\u001b[0m Trial 1 finished with value: 0.012656274251639843 and parameters: {'Look Back': 10, 'Batch Size': 16, 'Hidden Dim': 64, 'N layers': 2, 'Learning Rate': 0.00011649975584070954, 'Factor': 0.55}. Best is trial 0 with value: 0.00843887496739626.\u001b[0m\n",
      "\u001b[32m[I 2021-06-26 03:03:22,048]\u001b[0m Trial 2 finished with value: 0.44890764355659485 and parameters: {'Look Back': 40, 'Batch Size': 4, 'Hidden Dim': 128, 'N layers': 2, 'Learning Rate': 0.05484019927036393, 'Factor': 0.75}. Best is trial 0 with value: 0.00843887496739626.\u001b[0m\n",
      "\u001b[32m[I 2021-06-26 03:03:29,880]\u001b[0m Trial 3 finished with value: 0.01044280081987381 and parameters: {'Look Back': 30, 'Batch Size': 64, 'Hidden Dim': 256, 'N layers': 2, 'Learning Rate': 0.0006255051320160599, 'Factor': 0.75}. Best is trial 0 with value: 0.00843887496739626.\u001b[0m\n",
      "\u001b[32m[I 2021-06-26 03:03:41,474]\u001b[0m Trial 4 finished with value: 0.014255432412028313 and parameters: {'Look Back': 15, 'Batch Size': 4, 'Hidden Dim': 16, 'N layers': 3, 'Learning Rate': 0.005193328961050257, 'Factor': 0.8500000000000001}. Best is trial 0 with value: 0.00843887496739626.\u001b[0m\n",
      "\u001b[32m[I 2021-06-26 03:03:41,669]\u001b[0m Trial 5 pruned. \u001b[0m\n",
      "\u001b[32m[I 2021-06-26 03:03:57,174]\u001b[0m Trial 6 finished with value: 0.010940848849713802 and parameters: {'Look Back': 50, 'Batch Size': 4, 'Hidden Dim': 16, 'N layers': 3, 'Learning Rate': 0.000531451216822719, 'Factor': 0.75}. Best is trial 0 with value: 0.00843887496739626.\u001b[0m\n",
      "\u001b[32m[I 2021-06-26 03:03:57,551]\u001b[0m Trial 7 pruned. \u001b[0m\n",
      "\u001b[32m[I 2021-06-26 03:03:57,643]\u001b[0m Trial 8 pruned. \u001b[0m\n",
      "\u001b[32m[I 2021-06-26 03:03:59,236]\u001b[0m Trial 9 pruned. \u001b[0m\n",
      "\u001b[32m[I 2021-06-26 03:04:09,164]\u001b[0m Trial 10 pruned. \u001b[0m\n",
      "\u001b[32m[I 2021-06-26 03:04:09,900]\u001b[0m Trial 11 pruned. \u001b[0m\n",
      "\u001b[32m[I 2021-06-26 03:04:10,407]\u001b[0m Trial 12 pruned. \u001b[0m\n",
      "\u001b[32m[I 2021-06-26 03:04:10,559]\u001b[0m Trial 13 pruned. \u001b[0m\n",
      "\u001b[32m[I 2021-06-26 03:04:21,150]\u001b[0m Trial 14 pruned. \u001b[0m\n",
      "\u001b[32m[I 2021-06-26 03:04:21,701]\u001b[0m Trial 15 pruned. \u001b[0m\n",
      "\u001b[32m[I 2021-06-26 03:04:22,919]\u001b[0m Trial 16 pruned. \u001b[0m\n",
      "\u001b[32m[I 2021-06-26 03:04:22,978]\u001b[0m Trial 17 pruned. \u001b[0m\n",
      "\u001b[32m[I 2021-06-26 03:04:23,155]\u001b[0m Trial 18 pruned. \u001b[0m\n",
      "\u001b[32m[I 2021-06-26 03:04:25,373]\u001b[0m Trial 19 pruned. \u001b[0m\n",
      "\u001b[32m[I 2021-06-26 03:04:25,422]\u001b[0m Trial 20 pruned. \u001b[0m\n",
      "\u001b[32m[I 2021-06-26 03:04:26,166]\u001b[0m Trial 21 pruned. \u001b[0m\n",
      "\u001b[32m[I 2021-06-26 03:04:41,446]\u001b[0m Trial 22 finished with value: 0.012360266409814358 and parameters: {'Look Back': 50, 'Batch Size': 4, 'Hidden Dim': 16, 'N layers': 3, 'Learning Rate': 0.0014628818157736642, 'Factor': 0.75}. Best is trial 0 with value: 0.00843887496739626.\u001b[0m\n",
      "\u001b[32m[I 2021-06-26 03:04:41,677]\u001b[0m Trial 23 pruned. \u001b[0m\n",
      "\u001b[32m[I 2021-06-26 03:04:42,025]\u001b[0m Trial 24 pruned. \u001b[0m\n",
      "\u001b[32m[I 2021-06-26 03:04:42,164]\u001b[0m Trial 25 pruned. \u001b[0m\n",
      "\u001b[32m[I 2021-06-26 03:04:51,491]\u001b[0m Trial 26 finished with value: 0.018128102645277977 and parameters: {'Look Back': 20, 'Batch Size': 4, 'Hidden Dim': 32, 'N layers': 2, 'Learning Rate': 0.002687516581381052, 'Factor': 0.75}. Best is trial 0 with value: 0.00843887496739626.\u001b[0m\n",
      "\u001b[32m[I 2021-06-26 03:04:51,571]\u001b[0m Trial 27 pruned. \u001b[0m\n",
      "\u001b[32m[I 2021-06-26 03:05:05,962]\u001b[0m Trial 28 finished with value: 0.010832713916897774 and parameters: {'Look Back': 25, 'Batch Size': 16, 'Hidden Dim': 256, 'N layers': 2, 'Learning Rate': 0.0011728117658717848, 'Factor': 0.8500000000000001}. Best is trial 0 with value: 0.00843887496739626.\u001b[0m\n",
      "\u001b[32m[I 2021-06-26 03:05:10,957]\u001b[0m Trial 29 pruned. \u001b[0m\n",
      "\u001b[32m[I 2021-06-26 03:05:11,149]\u001b[0m Trial 30 pruned. \u001b[0m\n",
      "\u001b[32m[I 2021-06-26 03:05:11,544]\u001b[0m Trial 31 pruned. \u001b[0m\n",
      "\u001b[32m[I 2021-06-26 03:05:22,414]\u001b[0m Trial 32 finished with value: 0.009435434825718403 and parameters: {'Look Back': 25, 'Batch Size': 16, 'Hidden Dim': 64, 'N layers': 2, 'Learning Rate': 0.0033305486314145587, 'Factor': 0.75}. Best is trial 0 with value: 0.00843887496739626.\u001b[0m\n",
      "\u001b[32m[I 2021-06-26 03:05:22,686]\u001b[0m Trial 33 pruned. \u001b[0m\n",
      "\u001b[32m[I 2021-06-26 03:05:22,828]\u001b[0m Trial 34 pruned. \u001b[0m\n",
      "\u001b[32m[I 2021-06-26 03:05:25,906]\u001b[0m Trial 35 pruned. \u001b[0m\n",
      "\u001b[32m[I 2021-06-26 03:05:26,102]\u001b[0m Trial 36 pruned. \u001b[0m\n",
      "\u001b[32m[I 2021-06-26 03:05:26,216]\u001b[0m Trial 37 pruned. \u001b[0m\n",
      "\u001b[32m[I 2021-06-26 03:05:26,533]\u001b[0m Trial 38 pruned. \u001b[0m\n",
      "\u001b[32m[I 2021-06-26 03:05:26,679]\u001b[0m Trial 39 pruned. \u001b[0m\n",
      "\u001b[32m[I 2021-06-26 03:05:26,771]\u001b[0m Trial 40 pruned. \u001b[0m\n",
      "\u001b[32m[I 2021-06-26 03:05:36,147]\u001b[0m Trial 41 finished with value: 0.015069937333464622 and parameters: {'Look Back': 20, 'Batch Size': 4, 'Hidden Dim': 16, 'N layers': 2, 'Learning Rate': 0.001218218397169847, 'Factor': 0.75}. Best is trial 0 with value: 0.00843887496739626.\u001b[0m\n",
      "\u001b[32m[I 2021-06-26 03:05:51,576]\u001b[0m Trial 42 finished with value: 0.009320849552750587 and parameters: {'Look Back': 25, 'Batch Size': 4, 'Hidden Dim': 256, 'N layers': 3, 'Learning Rate': 0.000371090215361183, 'Factor': 0.65}. Best is trial 0 with value: 0.00843887496739626.\u001b[0m\n",
      "\u001b[32m[I 2021-06-26 03:06:00,452]\u001b[0m Trial 43 pruned. \u001b[0m\n",
      "\u001b[32m[I 2021-06-26 03:06:10,719]\u001b[0m Trial 44 finished with value: 0.012188846245408058 and parameters: {'Look Back': 15, 'Batch Size': 4, 'Hidden Dim': 256, 'N layers': 2, 'Learning Rate': 0.00040875255637538095, 'Factor': 0.65}. Best is trial 0 with value: 0.00843887496739626.\u001b[0m\n",
      "\u001b[32m[I 2021-06-26 03:06:10,822]\u001b[0m Trial 45 pruned. \u001b[0m\n",
      "\u001b[32m[I 2021-06-26 03:06:21,119]\u001b[0m Trial 46 pruned. \u001b[0m\n",
      "\u001b[32m[I 2021-06-26 03:06:25,352]\u001b[0m Trial 47 pruned. \u001b[0m\n",
      "\u001b[32m[I 2021-06-26 03:06:25,460]\u001b[0m Trial 48 pruned. \u001b[0m\n",
      "\u001b[32m[I 2021-06-26 03:06:25,578]\u001b[0m Trial 49 pruned. \u001b[0m\n",
      "\u001b[32m[I 2021-06-26 03:06:29,535]\u001b[0m Trial 50 pruned. \u001b[0m\n",
      "\u001b[32m[I 2021-06-26 03:06:30,142]\u001b[0m Trial 51 pruned. \u001b[0m\n",
      "\u001b[32m[I 2021-06-26 03:06:46,569]\u001b[0m Trial 52 finished with value: 0.018405456095933914 and parameters: {'Look Back': 45, 'Batch Size': 4, 'Hidden Dim': 128, 'N layers': 3, 'Learning Rate': 0.0009501141933286598, 'Factor': 0.75}. Best is trial 0 with value: 0.00843887496739626.\u001b[0m\n",
      "\u001b[32m[I 2021-06-26 03:06:47,321]\u001b[0m Trial 53 pruned. \u001b[0m\n",
      "\u001b[32m[I 2021-06-26 03:06:47,408]\u001b[0m Trial 54 pruned. \u001b[0m\n",
      "\u001b[32m[I 2021-06-26 03:06:48,016]\u001b[0m Trial 55 pruned. \u001b[0m\n",
      "\u001b[32m[I 2021-06-26 03:06:48,148]\u001b[0m Trial 56 pruned. \u001b[0m\n",
      "\u001b[32m[I 2021-06-26 03:06:48,443]\u001b[0m Trial 57 pruned. \u001b[0m\n",
      "\u001b[32m[I 2021-06-26 03:06:48,669]\u001b[0m Trial 58 pruned. \u001b[0m\n",
      "\u001b[32m[I 2021-06-26 03:06:48,734]\u001b[0m Trial 59 pruned. \u001b[0m\n",
      "\u001b[32m[I 2021-06-26 03:06:49,530]\u001b[0m Trial 60 pruned. \u001b[0m\n",
      "\u001b[32m[I 2021-06-26 03:06:52,298]\u001b[0m Trial 61 pruned. \u001b[0m\n",
      "\u001b[32m[I 2021-06-26 03:07:02,709]\u001b[0m Trial 62 finished with value: 0.013335621915757656 and parameters: {'Look Back': 15, 'Batch Size': 4, 'Hidden Dim': 256, 'N layers': 2, 'Learning Rate': 0.0003278057024946, 'Factor': 0.65}. Best is trial 0 with value: 0.00843887496739626.\u001b[0m\n",
      "\u001b[32m[I 2021-06-26 03:07:13,069]\u001b[0m Trial 63 finished with value: 0.010205463506281376 and parameters: {'Look Back': 15, 'Batch Size': 4, 'Hidden Dim': 256, 'N layers': 2, 'Learning Rate': 0.00023790933898832034, 'Factor': 0.65}. Best is trial 0 with value: 0.00843887496739626.\u001b[0m\n",
      "\u001b[32m[I 2021-06-26 03:07:15,870]\u001b[0m Trial 64 pruned. \u001b[0m\n",
      "\u001b[32m[I 2021-06-26 03:07:16,078]\u001b[0m Trial 65 pruned. \u001b[0m\n",
      "\u001b[32m[I 2021-06-26 03:07:16,576]\u001b[0m Trial 66 pruned. \u001b[0m\n",
      "\u001b[32m[I 2021-06-26 03:07:16,771]\u001b[0m Trial 67 pruned. \u001b[0m\n",
      "\u001b[32m[I 2021-06-26 03:07:16,846]\u001b[0m Trial 68 pruned. \u001b[0m\n",
      "\u001b[32m[I 2021-06-26 03:07:17,030]\u001b[0m Trial 69 pruned. \u001b[0m\n",
      "\u001b[32m[I 2021-06-26 03:07:17,403]\u001b[0m Trial 70 pruned. \u001b[0m\n",
      "\u001b[32m[I 2021-06-26 03:07:17,902]\u001b[0m Trial 71 pruned. \u001b[0m\n",
      "\u001b[32m[I 2021-06-26 03:07:28,146]\u001b[0m Trial 72 finished with value: 0.010599255561828613 and parameters: {'Look Back': 15, 'Batch Size': 4, 'Hidden Dim': 256, 'N layers': 2, 'Learning Rate': 0.0006867964600404554, 'Factor': 0.65}. Best is trial 0 with value: 0.00843887496739626.\u001b[0m\n"
     ]
    },
    {
     "name": "stderr",
     "output_type": "stream",
     "text": [
      "\u001b[32m[I 2021-06-26 03:07:28,628]\u001b[0m Trial 73 pruned. \u001b[0m\n",
      "\u001b[32m[I 2021-06-26 03:07:29,149]\u001b[0m Trial 74 pruned. \u001b[0m\n",
      "\u001b[32m[I 2021-06-26 03:07:29,251]\u001b[0m Trial 75 pruned. \u001b[0m\n",
      "\u001b[32m[I 2021-06-26 03:07:29,430]\u001b[0m Trial 76 pruned. \u001b[0m\n",
      "\u001b[32m[I 2021-06-26 03:07:29,934]\u001b[0m Trial 77 pruned. \u001b[0m\n",
      "\u001b[32m[I 2021-06-26 03:07:30,275]\u001b[0m Trial 78 pruned. \u001b[0m\n",
      "\u001b[32m[I 2021-06-26 03:07:30,500]\u001b[0m Trial 79 pruned. \u001b[0m\n",
      "\u001b[32m[I 2021-06-26 03:07:30,559]\u001b[0m Trial 80 pruned. \u001b[0m\n",
      "\u001b[32m[I 2021-06-26 03:07:31,027]\u001b[0m Trial 81 pruned. \u001b[0m\n",
      "\u001b[32m[I 2021-06-26 03:07:41,296]\u001b[0m Trial 82 finished with value: 0.010142172686755657 and parameters: {'Look Back': 15, 'Batch Size': 4, 'Hidden Dim': 256, 'N layers': 2, 'Learning Rate': 0.00023783990840421464, 'Factor': 0.65}. Best is trial 0 with value: 0.00843887496739626.\u001b[0m\n",
      "\u001b[32m[I 2021-06-26 03:07:42,741]\u001b[0m Trial 83 pruned. \u001b[0m\n",
      "\u001b[32m[I 2021-06-26 03:07:43,795]\u001b[0m Trial 84 pruned. \u001b[0m\n",
      "\u001b[32m[I 2021-06-26 03:07:44,305]\u001b[0m Trial 85 pruned. \u001b[0m\n",
      "\u001b[32m[I 2021-06-26 03:07:44,775]\u001b[0m Trial 86 pruned. \u001b[0m\n",
      "\u001b[32m[I 2021-06-26 03:07:44,932]\u001b[0m Trial 87 pruned. \u001b[0m\n",
      "\u001b[32m[I 2021-06-26 03:07:45,729]\u001b[0m Trial 88 pruned. \u001b[0m\n",
      "\u001b[32m[I 2021-06-26 03:07:45,930]\u001b[0m Trial 89 pruned. \u001b[0m\n",
      "\u001b[32m[I 2021-06-26 03:07:45,991]\u001b[0m Trial 90 pruned. \u001b[0m\n",
      "\u001b[32m[I 2021-06-26 03:07:46,487]\u001b[0m Trial 91 pruned. \u001b[0m\n",
      "\u001b[32m[I 2021-06-26 03:07:46,965]\u001b[0m Trial 92 pruned. \u001b[0m\n",
      "\u001b[32m[I 2021-06-26 03:07:47,472]\u001b[0m Trial 93 pruned. \u001b[0m\n",
      "\u001b[32m[I 2021-06-26 03:07:48,014]\u001b[0m Trial 94 pruned. \u001b[0m\n",
      "\u001b[32m[I 2021-06-26 03:07:57,159]\u001b[0m Trial 95 finished with value: 0.01375887542963028 and parameters: {'Look Back': 15, 'Batch Size': 4, 'Hidden Dim': 32, 'N layers': 2, 'Learning Rate': 0.004826003911596471, 'Factor': 0.95}. Best is trial 0 with value: 0.00843887496739626.\u001b[0m\n",
      "\u001b[32m[I 2021-06-26 03:07:57,600]\u001b[0m Trial 96 pruned. \u001b[0m\n",
      "\u001b[32m[I 2021-06-26 03:07:57,801]\u001b[0m Trial 97 pruned. \u001b[0m\n",
      "\u001b[32m[I 2021-06-26 03:07:57,916]\u001b[0m Trial 98 pruned. \u001b[0m\n",
      "\u001b[32m[I 2021-06-26 03:07:58,508]\u001b[0m Trial 99 pruned. \u001b[0m\n",
      "\u001b[32m[I 2021-06-26 03:08:24,613]\u001b[0m Trial 100 finished with value: 0.01103290170431137 and parameters: {'Look Back': 45, 'Batch Size': 8, 'Hidden Dim': 256, 'N layers': 3, 'Learning Rate': 0.0006820019837490956, 'Factor': 0.8500000000000001}. Best is trial 0 with value: 0.00843887496739626.\u001b[0m\n",
      "\u001b[32m[I 2021-06-26 03:08:25,246]\u001b[0m Trial 101 pruned. \u001b[0m\n",
      "\u001b[32m[I 2021-06-26 03:08:26,574]\u001b[0m Trial 102 pruned. \u001b[0m\n",
      "\u001b[32m[I 2021-06-26 03:08:27,154]\u001b[0m Trial 103 pruned. \u001b[0m\n",
      "\u001b[32m[I 2021-06-26 03:08:27,790]\u001b[0m Trial 104 pruned. \u001b[0m\n",
      "\u001b[32m[I 2021-06-26 03:08:28,023]\u001b[0m Trial 105 pruned. \u001b[0m\n",
      "\u001b[32m[I 2021-06-26 03:08:28,430]\u001b[0m Trial 106 pruned. \u001b[0m\n",
      "\u001b[32m[I 2021-06-26 03:08:28,497]\u001b[0m Trial 107 pruned. \u001b[0m\n",
      "\u001b[32m[I 2021-06-26 03:08:38,576]\u001b[0m Trial 108 finished with value: 0.009859910234808922 and parameters: {'Look Back': 25, 'Batch Size': 4, 'Hidden Dim': 64, 'N layers': 2, 'Learning Rate': 0.001138326739331886, 'Factor': 0.8500000000000001}. Best is trial 0 with value: 0.00843887496739626.\u001b[0m\n",
      "\u001b[32m[I 2021-06-26 03:08:39,089]\u001b[0m Trial 109 pruned. \u001b[0m\n",
      "\u001b[32m[I 2021-06-26 03:08:39,275]\u001b[0m Trial 110 pruned. \u001b[0m\n",
      "\u001b[32m[I 2021-06-26 03:08:40,287]\u001b[0m Trial 111 pruned. \u001b[0m\n",
      "\u001b[32m[I 2021-06-26 03:08:40,830]\u001b[0m Trial 112 pruned. \u001b[0m\n",
      "\u001b[32m[I 2021-06-26 03:08:41,410]\u001b[0m Trial 113 pruned. \u001b[0m\n",
      "\u001b[32m[I 2021-06-26 03:08:44,153]\u001b[0m Trial 114 pruned. \u001b[0m\n",
      "\u001b[32m[I 2021-06-26 03:08:44,700]\u001b[0m Trial 115 pruned. \u001b[0m\n",
      "\u001b[32m[I 2021-06-26 03:08:45,205]\u001b[0m Trial 116 pruned. \u001b[0m\n",
      "\u001b[32m[I 2021-06-26 03:08:45,362]\u001b[0m Trial 117 pruned. \u001b[0m\n",
      "\u001b[32m[I 2021-06-26 03:08:45,570]\u001b[0m Trial 118 pruned. \u001b[0m\n",
      "\u001b[32m[I 2021-06-26 03:08:46,070]\u001b[0m Trial 119 pruned. \u001b[0m\n",
      "\u001b[32m[I 2021-06-26 03:08:46,746]\u001b[0m Trial 120 pruned. \u001b[0m\n",
      "\u001b[32m[I 2021-06-26 03:08:47,509]\u001b[0m Trial 121 pruned. \u001b[0m\n",
      "\u001b[32m[I 2021-06-26 03:08:48,275]\u001b[0m Trial 122 pruned. \u001b[0m\n",
      "\u001b[32m[I 2021-06-26 03:08:49,038]\u001b[0m Trial 123 pruned. \u001b[0m\n",
      "\u001b[32m[I 2021-06-26 03:08:49,734]\u001b[0m Trial 124 pruned. \u001b[0m\n",
      "\u001b[32m[I 2021-06-26 03:08:49,892]\u001b[0m Trial 125 pruned. \u001b[0m\n",
      "\u001b[32m[I 2021-06-26 03:08:50,912]\u001b[0m Trial 126 pruned. \u001b[0m\n",
      "\u001b[32m[I 2021-06-26 03:08:50,984]\u001b[0m Trial 127 pruned. \u001b[0m\n",
      "\u001b[32m[I 2021-06-26 03:08:51,219]\u001b[0m Trial 128 pruned. \u001b[0m\n",
      "\u001b[32m[I 2021-06-26 03:08:52,021]\u001b[0m Trial 129 pruned. \u001b[0m\n",
      "\u001b[32m[I 2021-06-26 03:08:52,225]\u001b[0m Trial 130 pruned. \u001b[0m\n",
      "\u001b[32m[I 2021-06-26 03:08:52,364]\u001b[0m Trial 131 pruned. \u001b[0m\n",
      "\u001b[32m[I 2021-06-26 03:08:52,503]\u001b[0m Trial 132 pruned. \u001b[0m\n",
      "\u001b[32m[I 2021-06-26 03:08:52,647]\u001b[0m Trial 133 pruned. \u001b[0m\n",
      "\u001b[32m[I 2021-06-26 03:08:52,785]\u001b[0m Trial 134 pruned. \u001b[0m\n",
      "\u001b[32m[I 2021-06-26 03:08:52,837]\u001b[0m Trial 135 pruned. \u001b[0m\n",
      "\u001b[32m[I 2021-06-26 03:08:53,317]\u001b[0m Trial 136 pruned. \u001b[0m\n",
      "\u001b[32m[I 2021-06-26 03:08:53,597]\u001b[0m Trial 137 pruned. \u001b[0m\n",
      "\u001b[32m[I 2021-06-26 03:08:54,376]\u001b[0m Trial 138 pruned. \u001b[0m\n",
      "\u001b[32m[I 2021-06-26 03:08:54,840]\u001b[0m Trial 139 pruned. \u001b[0m\n",
      "\u001b[32m[I 2021-06-26 03:08:54,998]\u001b[0m Trial 140 pruned. \u001b[0m\n",
      "\u001b[32m[I 2021-06-26 03:08:55,516]\u001b[0m Trial 141 pruned. \u001b[0m\n",
      "\u001b[32m[I 2021-06-26 03:08:56,030]\u001b[0m Trial 142 pruned. \u001b[0m\n",
      "\u001b[32m[I 2021-06-26 03:08:56,564]\u001b[0m Trial 143 pruned. \u001b[0m\n",
      "\u001b[32m[I 2021-06-26 03:08:57,563]\u001b[0m Trial 144 pruned. \u001b[0m\n",
      "\u001b[32m[I 2021-06-26 03:09:00,145]\u001b[0m Trial 145 pruned. \u001b[0m\n",
      "\u001b[32m[I 2021-06-26 03:09:00,534]\u001b[0m Trial 146 pruned. \u001b[0m\n",
      "\u001b[32m[I 2021-06-26 03:09:01,047]\u001b[0m Trial 147 pruned. \u001b[0m\n",
      "\u001b[32m[I 2021-06-26 03:09:01,153]\u001b[0m Trial 148 pruned. \u001b[0m\n",
      "\u001b[32m[I 2021-06-26 03:09:01,752]\u001b[0m Trial 149 pruned. \u001b[0m\n",
      "\u001b[32m[I 2021-06-26 03:09:01,951]\u001b[0m Trial 150 pruned. \u001b[0m\n",
      "\u001b[32m[I 2021-06-26 03:09:02,397]\u001b[0m Trial 151 pruned. \u001b[0m\n",
      "\u001b[32m[I 2021-06-26 03:09:02,841]\u001b[0m Trial 152 pruned. \u001b[0m\n",
      "\u001b[32m[I 2021-06-26 03:09:03,291]\u001b[0m Trial 153 pruned. \u001b[0m\n",
      "\u001b[32m[I 2021-06-26 03:09:05,453]\u001b[0m Trial 154 pruned. \u001b[0m\n",
      "\u001b[32m[I 2021-06-26 03:09:05,883]\u001b[0m Trial 155 pruned. \u001b[0m\n",
      "\u001b[32m[I 2021-06-26 03:09:06,384]\u001b[0m Trial 156 pruned. \u001b[0m\n",
      "\u001b[32m[I 2021-06-26 03:09:06,977]\u001b[0m Trial 157 pruned. \u001b[0m\n",
      "\u001b[32m[I 2021-06-26 03:09:07,190]\u001b[0m Trial 158 pruned. \u001b[0m\n",
      "\u001b[32m[I 2021-06-26 03:09:10,782]\u001b[0m Trial 159 pruned. \u001b[0m\n",
      "\u001b[32m[I 2021-06-26 03:09:10,956]\u001b[0m Trial 160 pruned. \u001b[0m\n",
      "\u001b[32m[I 2021-06-26 03:09:11,522]\u001b[0m Trial 161 pruned. \u001b[0m\n",
      "\u001b[32m[I 2021-06-26 03:09:12,057]\u001b[0m Trial 162 pruned. \u001b[0m\n",
      "\u001b[32m[I 2021-06-26 03:09:12,766]\u001b[0m Trial 163 pruned. \u001b[0m\n",
      "\u001b[32m[I 2021-06-26 03:09:13,301]\u001b[0m Trial 164 pruned. \u001b[0m\n",
      "\u001b[32m[I 2021-06-26 03:09:13,878]\u001b[0m Trial 165 pruned. \u001b[0m\n",
      "\u001b[32m[I 2021-06-26 03:09:13,938]\u001b[0m Trial 166 pruned. \u001b[0m\n",
      "\u001b[32m[I 2021-06-26 03:09:14,692]\u001b[0m Trial 167 pruned. \u001b[0m\n",
      "\u001b[32m[I 2021-06-26 03:09:14,869]\u001b[0m Trial 168 pruned. \u001b[0m\n",
      "\u001b[32m[I 2021-06-26 03:09:15,346]\u001b[0m Trial 169 pruned. \u001b[0m\n",
      "\u001b[32m[I 2021-06-26 03:09:15,800]\u001b[0m Trial 170 pruned. \u001b[0m\n",
      "\u001b[32m[I 2021-06-26 03:09:16,687]\u001b[0m Trial 171 pruned. \u001b[0m\n",
      "\u001b[32m[I 2021-06-26 03:09:17,142]\u001b[0m Trial 172 pruned. \u001b[0m\n",
      "\u001b[32m[I 2021-06-26 03:09:26,154]\u001b[0m Trial 173 finished with value: 0.012915265746414661 and parameters: {'Look Back': 15, 'Batch Size': 4, 'Hidden Dim': 16, 'N layers': 2, 'Learning Rate': 0.001883521265383939, 'Factor': 0.75}. Best is trial 0 with value: 0.00843887496739626.\u001b[0m\n",
      "\u001b[32m[I 2021-06-26 03:09:26,645]\u001b[0m Trial 174 pruned. \u001b[0m\n",
      "\u001b[32m[I 2021-06-26 03:09:34,907]\u001b[0m Trial 175 finished with value: 0.010584370233118534 and parameters: {'Look Back': 10, 'Batch Size': 4, 'Hidden Dim': 16, 'N layers': 2, 'Learning Rate': 0.0016806577179819986, 'Factor': 0.75}. Best is trial 0 with value: 0.00843887496739626.\u001b[0m\n",
      "\u001b[32m[I 2021-06-26 03:09:35,341]\u001b[0m Trial 176 pruned. \u001b[0m\n",
      "\u001b[32m[I 2021-06-26 03:09:35,471]\u001b[0m Trial 177 pruned. \u001b[0m\n",
      "\u001b[32m[I 2021-06-26 03:09:37,173]\u001b[0m Trial 178 pruned. \u001b[0m\n",
      "\u001b[32m[I 2021-06-26 03:09:37,664]\u001b[0m Trial 179 pruned. \u001b[0m\n",
      "\u001b[32m[I 2021-06-26 03:09:38,151]\u001b[0m Trial 180 pruned. \u001b[0m\n",
      "\u001b[32m[I 2021-06-26 03:09:38,507]\u001b[0m Trial 181 pruned. \u001b[0m\n",
      "\u001b[32m[I 2021-06-26 03:09:41,900]\u001b[0m Trial 182 pruned. \u001b[0m\n",
      "\u001b[32m[I 2021-06-26 03:09:42,479]\u001b[0m Trial 183 pruned. \u001b[0m\n",
      "\u001b[32m[I 2021-06-26 03:09:42,996]\u001b[0m Trial 184 pruned. \u001b[0m\n",
      "\u001b[32m[I 2021-06-26 03:09:43,130]\u001b[0m Trial 185 pruned. \u001b[0m\n",
      "\u001b[32m[I 2021-06-26 03:09:43,649]\u001b[0m Trial 186 pruned. \u001b[0m\n",
      "\u001b[32m[I 2021-06-26 03:09:43,720]\u001b[0m Trial 187 pruned. \u001b[0m\n"
     ]
    },
    {
     "name": "stderr",
     "output_type": "stream",
     "text": [
      "\u001b[32m[I 2021-06-26 03:09:44,211]\u001b[0m Trial 188 pruned. \u001b[0m\n",
      "\u001b[32m[I 2021-06-26 03:09:44,475]\u001b[0m Trial 189 pruned. \u001b[0m\n",
      "\u001b[32m[I 2021-06-26 03:09:45,063]\u001b[0m Trial 190 pruned. \u001b[0m\n",
      "\u001b[32m[I 2021-06-26 03:09:45,543]\u001b[0m Trial 191 pruned. \u001b[0m\n",
      "\u001b[32m[I 2021-06-26 03:09:46,020]\u001b[0m Trial 192 pruned. \u001b[0m\n",
      "\u001b[32m[I 2021-06-26 03:09:46,466]\u001b[0m Trial 193 pruned. \u001b[0m\n",
      "\u001b[32m[I 2021-06-26 03:09:46,911]\u001b[0m Trial 194 pruned. \u001b[0m\n",
      "\u001b[32m[I 2021-06-26 03:09:47,646]\u001b[0m Trial 195 pruned. \u001b[0m\n",
      "\u001b[32m[I 2021-06-26 03:09:48,156]\u001b[0m Trial 196 pruned. \u001b[0m\n",
      "\u001b[32m[I 2021-06-26 03:09:48,370]\u001b[0m Trial 197 pruned. \u001b[0m\n",
      "\u001b[32m[I 2021-06-26 03:09:48,851]\u001b[0m Trial 198 pruned. \u001b[0m\n",
      "\u001b[32m[I 2021-06-26 03:09:49,172]\u001b[0m Trial 199 pruned. \u001b[0m\n",
      "\u001b[32m[I 2021-06-26 03:09:49,678]\u001b[0m Trial 200 pruned. \u001b[0m\n",
      "\u001b[32m[I 2021-06-26 03:09:50,149]\u001b[0m Trial 201 pruned. \u001b[0m\n",
      "\u001b[32m[I 2021-06-26 03:09:50,623]\u001b[0m Trial 202 pruned. \u001b[0m\n",
      "\u001b[32m[I 2021-06-26 03:09:51,076]\u001b[0m Trial 203 pruned. \u001b[0m\n",
      "\u001b[32m[I 2021-06-26 03:09:51,556]\u001b[0m Trial 204 pruned. \u001b[0m\n",
      "\u001b[32m[I 2021-06-26 03:09:51,996]\u001b[0m Trial 205 pruned. \u001b[0m\n",
      "\u001b[32m[I 2021-06-26 03:09:52,144]\u001b[0m Trial 206 pruned. \u001b[0m\n",
      "\u001b[32m[I 2021-06-26 03:09:52,277]\u001b[0m Trial 207 pruned. \u001b[0m\n",
      "\u001b[32m[I 2021-06-26 03:09:52,379]\u001b[0m Trial 208 pruned. \u001b[0m\n",
      "\u001b[32m[I 2021-06-26 03:09:52,870]\u001b[0m Trial 209 pruned. \u001b[0m\n",
      "\u001b[32m[I 2021-06-26 03:09:55,546]\u001b[0m Trial 210 pruned. \u001b[0m\n",
      "\u001b[32m[I 2021-06-26 03:09:58,670]\u001b[0m Trial 211 pruned. \u001b[0m\n",
      "\u001b[32m[I 2021-06-26 03:09:59,505]\u001b[0m Trial 212 pruned. \u001b[0m\n",
      "\u001b[32m[I 2021-06-26 03:10:00,298]\u001b[0m Trial 213 pruned. \u001b[0m\n",
      "\u001b[32m[I 2021-06-26 03:10:01,364]\u001b[0m Trial 214 pruned. \u001b[0m\n",
      "\u001b[32m[I 2021-06-26 03:10:02,162]\u001b[0m Trial 215 pruned. \u001b[0m\n",
      "\u001b[32m[I 2021-06-26 03:10:02,404]\u001b[0m Trial 216 pruned. \u001b[0m\n",
      "\u001b[32m[I 2021-06-26 03:10:02,840]\u001b[0m Trial 217 pruned. \u001b[0m\n",
      "\u001b[32m[I 2021-06-26 03:10:05,011]\u001b[0m Trial 218 pruned. \u001b[0m\n",
      "\u001b[32m[I 2021-06-26 03:10:05,520]\u001b[0m Trial 219 pruned. \u001b[0m\n",
      "\u001b[32m[I 2021-06-26 03:10:05,884]\u001b[0m Trial 220 pruned. \u001b[0m\n",
      "\u001b[32m[I 2021-06-26 03:10:06,462]\u001b[0m Trial 221 pruned. \u001b[0m\n",
      "\u001b[32m[I 2021-06-26 03:10:18,470]\u001b[0m Trial 222 finished with value: 0.010702286846935749 and parameters: {'Look Back': 40, 'Batch Size': 4, 'Hidden Dim': 128, 'N layers': 2, 'Learning Rate': 0.0010404595650397779, 'Factor': 0.75}. Best is trial 0 with value: 0.00843887496739626.\u001b[0m\n",
      "\u001b[32m[I 2021-06-26 03:10:19,665]\u001b[0m Trial 223 pruned. \u001b[0m\n",
      "\u001b[32m[I 2021-06-26 03:10:20,280]\u001b[0m Trial 224 pruned. \u001b[0m\n",
      "\u001b[32m[I 2021-06-26 03:10:20,848]\u001b[0m Trial 225 pruned. \u001b[0m\n",
      "\u001b[32m[I 2021-06-26 03:10:33,280]\u001b[0m Trial 226 finished with value: 0.0094908457249403 and parameters: {'Look Back': 45, 'Batch Size': 4, 'Hidden Dim': 128, 'N layers': 2, 'Learning Rate': 0.0008220793316848963, 'Factor': 0.75}. Best is trial 0 with value: 0.00843887496739626.\u001b[0m\n",
      "\u001b[32m[I 2021-06-26 03:10:33,467]\u001b[0m Trial 227 pruned. \u001b[0m\n",
      "\u001b[32m[I 2021-06-26 03:10:33,907]\u001b[0m Trial 228 pruned. \u001b[0m\n",
      "\u001b[32m[I 2021-06-26 03:10:48,040]\u001b[0m Trial 229 finished with value: 0.01279984787106514 and parameters: {'Look Back': 45, 'Batch Size': 4, 'Hidden Dim': 256, 'N layers': 2, 'Learning Rate': 0.0005503378403658162, 'Factor': 0.75}. Best is trial 0 with value: 0.00843887496739626.\u001b[0m\n",
      "\u001b[32m[I 2021-06-26 03:10:48,735]\u001b[0m Trial 230 pruned. \u001b[0m\n",
      "\u001b[32m[I 2021-06-26 03:10:50,092]\u001b[0m Trial 231 pruned. \u001b[0m\n",
      "\u001b[32m[I 2021-06-26 03:10:52,829]\u001b[0m Trial 232 pruned. \u001b[0m\n",
      "\u001b[32m[I 2021-06-26 03:10:53,530]\u001b[0m Trial 233 pruned. \u001b[0m\n",
      "\u001b[32m[I 2021-06-26 03:10:54,240]\u001b[0m Trial 234 pruned. \u001b[0m\n",
      "\u001b[32m[I 2021-06-26 03:10:54,762]\u001b[0m Trial 235 pruned. \u001b[0m\n",
      "\u001b[32m[I 2021-06-26 03:10:55,500]\u001b[0m Trial 236 pruned. \u001b[0m\n",
      "\u001b[32m[I 2021-06-26 03:10:55,576]\u001b[0m Trial 237 pruned. \u001b[0m\n",
      "\u001b[32m[I 2021-06-26 03:10:55,756]\u001b[0m Trial 238 pruned. \u001b[0m\n",
      "\u001b[32m[I 2021-06-26 03:10:56,230]\u001b[0m Trial 239 pruned. \u001b[0m\n",
      "\u001b[32m[I 2021-06-26 03:10:56,719]\u001b[0m Trial 240 pruned. \u001b[0m\n",
      "\u001b[32m[I 2021-06-26 03:10:57,331]\u001b[0m Trial 241 pruned. \u001b[0m\n",
      "\u001b[32m[I 2021-06-26 03:10:58,145]\u001b[0m Trial 242 pruned. \u001b[0m\n",
      "\u001b[32m[I 2021-06-26 03:11:01,120]\u001b[0m Trial 243 pruned. \u001b[0m\n",
      "\u001b[32m[I 2021-06-26 03:11:01,749]\u001b[0m Trial 244 pruned. \u001b[0m\n",
      "\u001b[32m[I 2021-06-26 03:11:02,520]\u001b[0m Trial 245 pruned. \u001b[0m\n",
      "\u001b[32m[I 2021-06-26 03:11:03,216]\u001b[0m Trial 246 pruned. \u001b[0m\n",
      "\u001b[32m[I 2021-06-26 03:11:03,374]\u001b[0m Trial 247 pruned. \u001b[0m\n",
      "\u001b[32m[I 2021-06-26 03:11:03,869]\u001b[0m Trial 248 pruned. \u001b[0m\n",
      "\u001b[32m[I 2021-06-26 03:11:04,453]\u001b[0m Trial 249 pruned. \u001b[0m\n",
      "\u001b[32m[I 2021-06-26 03:11:04,754]\u001b[0m Trial 250 pruned. \u001b[0m\n",
      "\u001b[32m[I 2021-06-26 03:11:05,241]\u001b[0m Trial 251 pruned. \u001b[0m\n",
      "\u001b[32m[I 2021-06-26 03:11:06,017]\u001b[0m Trial 252 pruned. \u001b[0m\n",
      "\u001b[32m[I 2021-06-26 03:11:06,206]\u001b[0m Trial 253 pruned. \u001b[0m\n",
      "\u001b[32m[I 2021-06-26 03:11:06,736]\u001b[0m Trial 254 pruned. \u001b[0m\n",
      "\u001b[32m[I 2021-06-26 03:11:06,857]\u001b[0m Trial 255 pruned. \u001b[0m\n",
      "\u001b[32m[I 2021-06-26 03:11:06,978]\u001b[0m Trial 256 pruned. \u001b[0m\n",
      "\u001b[32m[I 2021-06-26 03:11:13,832]\u001b[0m Trial 257 finished with value: 0.010399510152637959 and parameters: {'Look Back': 15, 'Batch Size': 4, 'Hidden Dim': 128, 'N layers': 1, 'Learning Rate': 0.0014450520330849287, 'Factor': 0.75}. Best is trial 0 with value: 0.00843887496739626.\u001b[0m\n",
      "\u001b[32m[I 2021-06-26 03:11:23,422]\u001b[0m Trial 258 finished with value: 0.011085801757872105 and parameters: {'Look Back': 15, 'Batch Size': 4, 'Hidden Dim': 64, 'N layers': 2, 'Learning Rate': 0.0018155430756961273, 'Factor': 0.75}. Best is trial 0 with value: 0.00843887496739626.\u001b[0m\n",
      "\u001b[32m[I 2021-06-26 03:11:30,232]\u001b[0m Trial 259 finished with value: 0.012289995327591896 and parameters: {'Look Back': 15, 'Batch Size': 4, 'Hidden Dim': 64, 'N layers': 1, 'Learning Rate': 0.0015275906452251898, 'Factor': 0.75}. Best is trial 0 with value: 0.00843887496739626.\u001b[0m\n",
      "\u001b[32m[I 2021-06-26 03:11:30,579]\u001b[0m Trial 260 pruned. \u001b[0m\n",
      "\u001b[32m[I 2021-06-26 03:11:30,919]\u001b[0m Trial 261 pruned. \u001b[0m\n",
      "\u001b[32m[I 2021-06-26 03:11:31,029]\u001b[0m Trial 262 pruned. \u001b[0m\n",
      "\u001b[32m[I 2021-06-26 03:11:31,376]\u001b[0m Trial 263 pruned. \u001b[0m\n",
      "\u001b[32m[I 2021-06-26 03:11:32,060]\u001b[0m Trial 264 pruned. \u001b[0m\n",
      "\u001b[32m[I 2021-06-26 03:11:32,412]\u001b[0m Trial 265 pruned. \u001b[0m\n",
      "\u001b[32m[I 2021-06-26 03:11:32,763]\u001b[0m Trial 266 pruned. \u001b[0m\n",
      "\u001b[32m[I 2021-06-26 03:11:32,948]\u001b[0m Trial 267 pruned. \u001b[0m\n",
      "\u001b[32m[I 2021-06-26 03:11:33,174]\u001b[0m Trial 268 pruned. \u001b[0m\n",
      "\u001b[32m[I 2021-06-26 03:11:33,681]\u001b[0m Trial 269 pruned. \u001b[0m\n",
      "\u001b[32m[I 2021-06-26 03:11:34,189]\u001b[0m Trial 270 pruned. \u001b[0m\n",
      "\u001b[32m[I 2021-06-26 03:11:42,636]\u001b[0m Trial 271 finished with value: 0.014573730528354645 and parameters: {'Look Back': 10, 'Batch Size': 4, 'Hidden Dim': 64, 'N layers': 2, 'Learning Rate': 0.0021289521562602217, 'Factor': 0.65}. Best is trial 0 with value: 0.00843887496739626.\u001b[0m\n",
      "\u001b[32m[I 2021-06-26 03:11:42,993]\u001b[0m Trial 272 pruned. \u001b[0m\n",
      "\u001b[32m[I 2021-06-26 03:11:43,179]\u001b[0m Trial 273 pruned. \u001b[0m\n",
      "\u001b[32m[I 2021-06-26 03:11:43,823]\u001b[0m Trial 274 pruned. \u001b[0m\n",
      "\u001b[32m[I 2021-06-26 03:11:44,294]\u001b[0m Trial 275 pruned. \u001b[0m\n",
      "\u001b[32m[I 2021-06-26 03:11:44,817]\u001b[0m Trial 276 pruned. \u001b[0m\n",
      "\u001b[32m[I 2021-06-26 03:11:46,677]\u001b[0m Trial 277 pruned. \u001b[0m\n",
      "\u001b[32m[I 2021-06-26 03:11:46,744]\u001b[0m Trial 278 pruned. \u001b[0m\n",
      "\u001b[32m[I 2021-06-26 03:11:46,919]\u001b[0m Trial 279 pruned. \u001b[0m\n",
      "\u001b[32m[I 2021-06-26 03:11:48,176]\u001b[0m Trial 280 pruned. \u001b[0m\n",
      "\u001b[32m[I 2021-06-26 03:11:49,094]\u001b[0m Trial 281 pruned. \u001b[0m\n",
      "\u001b[32m[I 2021-06-26 03:11:49,555]\u001b[0m Trial 282 pruned. \u001b[0m\n",
      "\u001b[32m[I 2021-06-26 03:11:49,911]\u001b[0m Trial 283 pruned. \u001b[0m\n",
      "\u001b[32m[I 2021-06-26 03:12:00,175]\u001b[0m Trial 284 finished with value: 0.012097962200641632 and parameters: {'Look Back': 15, 'Batch Size': 4, 'Hidden Dim': 256, 'N layers': 2, 'Learning Rate': 0.00047478488018594736, 'Factor': 0.75}. Best is trial 0 with value: 0.00843887496739626.\u001b[0m\n",
      "\u001b[32m[I 2021-06-26 03:12:10,484]\u001b[0m Trial 285 finished with value: 0.012267681770026684 and parameters: {'Look Back': 15, 'Batch Size': 4, 'Hidden Dim': 256, 'N layers': 2, 'Learning Rate': 0.0004030453145340356, 'Factor': 0.75}. Best is trial 0 with value: 0.00843887496739626.\u001b[0m\n",
      "\u001b[32m[I 2021-06-26 03:12:10,975]\u001b[0m Trial 286 pruned. \u001b[0m\n",
      "\u001b[32m[I 2021-06-26 03:12:11,157]\u001b[0m Trial 287 pruned. \u001b[0m\n",
      "\u001b[32m[I 2021-06-26 03:12:21,396]\u001b[0m Trial 288 finished with value: 0.010147182270884514 and parameters: {'Look Back': 15, 'Batch Size': 4, 'Hidden Dim': 256, 'N layers': 2, 'Learning Rate': 0.0004212165034317185, 'Factor': 0.75}. Best is trial 0 with value: 0.00843887496739626.\u001b[0m\n"
     ]
    },
    {
     "name": "stderr",
     "output_type": "stream",
     "text": [
      "\u001b[32m[I 2021-06-26 03:12:22,060]\u001b[0m Trial 289 pruned. \u001b[0m\n",
      "\u001b[32m[I 2021-06-26 03:12:22,695]\u001b[0m Trial 290 pruned. \u001b[0m\n",
      "\u001b[32m[I 2021-06-26 03:12:22,798]\u001b[0m Trial 291 pruned. \u001b[0m\n",
      "\u001b[32m[I 2021-06-26 03:12:22,909]\u001b[0m Trial 292 pruned. \u001b[0m\n",
      "\u001b[32m[I 2021-06-26 03:12:23,646]\u001b[0m Trial 293 pruned. \u001b[0m\n",
      "\u001b[32m[I 2021-06-26 03:12:24,163]\u001b[0m Trial 294 pruned. \u001b[0m\n",
      "\u001b[32m[I 2021-06-26 03:12:24,349]\u001b[0m Trial 295 pruned. \u001b[0m\n",
      "\u001b[32m[I 2021-06-26 03:12:24,745]\u001b[0m Trial 296 pruned. \u001b[0m\n",
      "\u001b[32m[I 2021-06-26 03:12:25,301]\u001b[0m Trial 297 pruned. \u001b[0m\n",
      "\u001b[32m[I 2021-06-26 03:12:25,785]\u001b[0m Trial 298 pruned. \u001b[0m\n",
      "\u001b[32m[I 2021-06-26 03:12:26,259]\u001b[0m Trial 299 pruned. \u001b[0m\n",
      "\u001b[32m[I 2021-06-26 03:12:26,454]\u001b[0m Trial 300 pruned. \u001b[0m\n",
      "\u001b[32m[I 2021-06-26 03:12:26,964]\u001b[0m Trial 301 pruned. \u001b[0m\n",
      "\u001b[32m[I 2021-06-26 03:12:35,915]\u001b[0m Trial 302 finished with value: 0.01380264200270176 and parameters: {'Look Back': 10, 'Batch Size': 8, 'Hidden Dim': 64, 'N layers': 2, 'Learning Rate': 0.0024869972947669182, 'Factor': 0.75}. Best is trial 0 with value: 0.00843887496739626.\u001b[0m\n",
      "\u001b[32m[I 2021-06-26 03:12:36,560]\u001b[0m Trial 303 pruned. \u001b[0m\n",
      "\u001b[32m[I 2021-06-26 03:12:38,521]\u001b[0m Trial 304 pruned. \u001b[0m\n",
      "\u001b[32m[I 2021-06-26 03:12:39,817]\u001b[0m Trial 305 pruned. \u001b[0m\n",
      "\u001b[32m[I 2021-06-26 03:12:39,874]\u001b[0m Trial 306 pruned. \u001b[0m\n",
      "\u001b[32m[I 2021-06-26 03:12:40,095]\u001b[0m Trial 307 pruned. \u001b[0m\n",
      "\u001b[32m[I 2021-06-26 03:12:40,574]\u001b[0m Trial 308 pruned. \u001b[0m\n",
      "\u001b[32m[I 2021-06-26 03:12:41,126]\u001b[0m Trial 309 pruned. \u001b[0m\n",
      "\u001b[32m[I 2021-06-26 03:12:41,605]\u001b[0m Trial 310 pruned. \u001b[0m\n",
      "\u001b[32m[I 2021-06-26 03:12:42,311]\u001b[0m Trial 311 pruned. \u001b[0m\n",
      "\u001b[32m[I 2021-06-26 03:12:42,473]\u001b[0m Trial 312 pruned. \u001b[0m\n",
      "\u001b[32m[I 2021-06-26 03:12:42,945]\u001b[0m Trial 313 pruned. \u001b[0m\n",
      "\u001b[32m[I 2021-06-26 03:12:43,692]\u001b[0m Trial 314 pruned. \u001b[0m\n",
      "\u001b[32m[I 2021-06-26 03:12:44,228]\u001b[0m Trial 315 pruned. \u001b[0m\n",
      "\u001b[32m[I 2021-06-26 03:12:44,822]\u001b[0m Trial 316 pruned. \u001b[0m\n",
      "\u001b[32m[I 2021-06-26 03:12:45,282]\u001b[0m Trial 317 pruned. \u001b[0m\n",
      "\u001b[32m[I 2021-06-26 03:12:45,434]\u001b[0m Trial 318 pruned. \u001b[0m\n",
      "\u001b[32m[I 2021-06-26 03:12:45,827]\u001b[0m Trial 319 pruned. \u001b[0m\n",
      "\u001b[32m[I 2021-06-26 03:12:46,303]\u001b[0m Trial 320 pruned. \u001b[0m\n",
      "\u001b[32m[I 2021-06-26 03:12:47,002]\u001b[0m Trial 321 pruned. \u001b[0m\n",
      "\u001b[32m[I 2021-06-26 03:12:47,068]\u001b[0m Trial 322 pruned. \u001b[0m\n",
      "\u001b[32m[I 2021-06-26 03:12:47,164]\u001b[0m Trial 323 pruned. \u001b[0m\n",
      "\u001b[32m[I 2021-06-26 03:12:48,017]\u001b[0m Trial 324 pruned. \u001b[0m\n",
      "\u001b[32m[I 2021-06-26 03:12:48,195]\u001b[0m Trial 325 pruned. \u001b[0m\n",
      "\u001b[32m[I 2021-06-26 03:12:48,740]\u001b[0m Trial 326 pruned. \u001b[0m\n",
      "\u001b[32m[I 2021-06-26 03:12:49,228]\u001b[0m Trial 327 pruned. \u001b[0m\n",
      "\u001b[32m[I 2021-06-26 03:12:49,954]\u001b[0m Trial 328 pruned. \u001b[0m\n",
      "\u001b[32m[I 2021-06-26 03:12:50,576]\u001b[0m Trial 329 pruned. \u001b[0m\n",
      "\u001b[32m[I 2021-06-26 03:12:50,797]\u001b[0m Trial 330 pruned. \u001b[0m\n",
      "\u001b[32m[I 2021-06-26 03:12:51,251]\u001b[0m Trial 331 pruned. \u001b[0m\n",
      "\u001b[32m[I 2021-06-26 03:12:51,570]\u001b[0m Trial 332 pruned. \u001b[0m\n",
      "\u001b[32m[I 2021-06-26 03:12:52,283]\u001b[0m Trial 333 pruned. \u001b[0m\n",
      "\u001b[32m[I 2021-06-26 03:12:52,785]\u001b[0m Trial 334 pruned. \u001b[0m\n",
      "\u001b[32m[I 2021-06-26 03:12:53,287]\u001b[0m Trial 335 pruned. \u001b[0m\n",
      "\u001b[32m[I 2021-06-26 03:12:53,486]\u001b[0m Trial 336 pruned. \u001b[0m\n",
      "\u001b[32m[I 2021-06-26 03:12:53,967]\u001b[0m Trial 337 pruned. \u001b[0m\n",
      "\u001b[32m[I 2021-06-26 03:12:54,026]\u001b[0m Trial 338 pruned. \u001b[0m\n",
      "\u001b[32m[I 2021-06-26 03:12:56,777]\u001b[0m Trial 339 pruned. \u001b[0m\n",
      "\u001b[32m[I 2021-06-26 03:12:57,515]\u001b[0m Trial 340 pruned. \u001b[0m\n",
      "\u001b[32m[I 2021-06-26 03:12:57,982]\u001b[0m Trial 341 pruned. \u001b[0m\n",
      "\u001b[32m[I 2021-06-26 03:12:58,127]\u001b[0m Trial 342 pruned. \u001b[0m\n",
      "\u001b[32m[I 2021-06-26 03:12:58,778]\u001b[0m Trial 343 pruned. \u001b[0m\n",
      "\u001b[32m[I 2021-06-26 03:12:59,335]\u001b[0m Trial 344 pruned. \u001b[0m\n",
      "\u001b[32m[I 2021-06-26 03:12:59,952]\u001b[0m Trial 345 pruned. \u001b[0m\n",
      "\u001b[32m[I 2021-06-26 03:13:00,217]\u001b[0m Trial 346 pruned. \u001b[0m\n",
      "\u001b[32m[I 2021-06-26 03:13:00,959]\u001b[0m Trial 347 pruned. \u001b[0m\n",
      "\u001b[32m[I 2021-06-26 03:13:01,135]\u001b[0m Trial 348 pruned. \u001b[0m\n",
      "\u001b[32m[I 2021-06-26 03:13:11,290]\u001b[0m Trial 349 finished with value: 0.012163184583187103 and parameters: {'Look Back': 15, 'Batch Size': 4, 'Hidden Dim': 256, 'N layers': 2, 'Learning Rate': 0.0003772279473156033, 'Factor': 0.8500000000000001}. Best is trial 0 with value: 0.00843887496739626.\u001b[0m\n",
      "\u001b[32m[I 2021-06-26 03:13:11,852]\u001b[0m Trial 350 pruned. \u001b[0m\n",
      "\u001b[32m[I 2021-06-26 03:13:12,363]\u001b[0m Trial 351 pruned. \u001b[0m\n",
      "\u001b[32m[I 2021-06-26 03:13:12,506]\u001b[0m Trial 352 pruned. \u001b[0m\n",
      "\u001b[32m[I 2021-06-26 03:13:13,504]\u001b[0m Trial 353 pruned. \u001b[0m\n",
      "\u001b[32m[I 2021-06-26 03:13:15,364]\u001b[0m Trial 354 pruned. \u001b[0m\n",
      "\u001b[32m[I 2021-06-26 03:13:15,600]\u001b[0m Trial 355 pruned. \u001b[0m\n",
      "\u001b[32m[I 2021-06-26 03:13:15,776]\u001b[0m Trial 356 pruned. \u001b[0m\n",
      "\u001b[32m[I 2021-06-26 03:13:16,338]\u001b[0m Trial 357 pruned. \u001b[0m\n",
      "\u001b[32m[I 2021-06-26 03:13:16,914]\u001b[0m Trial 358 pruned. \u001b[0m\n",
      "\u001b[32m[I 2021-06-26 03:13:19,381]\u001b[0m Trial 359 pruned. \u001b[0m\n",
      "\u001b[32m[I 2021-06-26 03:13:19,954]\u001b[0m Trial 360 pruned. \u001b[0m\n",
      "\u001b[32m[I 2021-06-26 03:13:20,098]\u001b[0m Trial 361 pruned. \u001b[0m\n",
      "\u001b[32m[I 2021-06-26 03:13:20,606]\u001b[0m Trial 362 pruned. \u001b[0m\n",
      "\u001b[32m[I 2021-06-26 03:13:23,082]\u001b[0m Trial 363 pruned. \u001b[0m\n",
      "\u001b[32m[I 2021-06-26 03:13:23,487]\u001b[0m Trial 364 pruned. \u001b[0m\n",
      "\u001b[32m[I 2021-06-26 03:13:24,193]\u001b[0m Trial 365 pruned. \u001b[0m\n",
      "\u001b[32m[I 2021-06-26 03:13:24,675]\u001b[0m Trial 366 pruned. \u001b[0m\n",
      "\u001b[32m[I 2021-06-26 03:13:24,832]\u001b[0m Trial 367 pruned. \u001b[0m\n",
      "\u001b[32m[I 2021-06-26 03:13:24,914]\u001b[0m Trial 368 pruned. \u001b[0m\n",
      "\u001b[32m[I 2021-06-26 03:13:25,475]\u001b[0m Trial 369 pruned. \u001b[0m\n",
      "\u001b[32m[I 2021-06-26 03:13:25,937]\u001b[0m Trial 370 pruned. \u001b[0m\n",
      "\u001b[32m[I 2021-06-26 03:13:26,522]\u001b[0m Trial 371 pruned. \u001b[0m\n",
      "\u001b[32m[I 2021-06-26 03:13:27,025]\u001b[0m Trial 372 pruned. \u001b[0m\n",
      "\u001b[32m[I 2021-06-26 03:13:27,260]\u001b[0m Trial 373 pruned. \u001b[0m\n",
      "\u001b[32m[I 2021-06-26 03:13:27,739]\u001b[0m Trial 374 pruned. \u001b[0m\n",
      "\u001b[32m[I 2021-06-26 03:13:29,658]\u001b[0m Trial 375 pruned. \u001b[0m\n",
      "\u001b[32m[I 2021-06-26 03:13:30,324]\u001b[0m Trial 376 pruned. \u001b[0m\n",
      "\u001b[32m[I 2021-06-26 03:13:30,679]\u001b[0m Trial 377 pruned. \u001b[0m\n",
      "\u001b[32m[I 2021-06-26 03:13:30,935]\u001b[0m Trial 378 pruned. \u001b[0m\n",
      "\u001b[32m[I 2021-06-26 03:13:31,326]\u001b[0m Trial 379 pruned. \u001b[0m\n",
      "\u001b[32m[I 2021-06-26 03:13:31,888]\u001b[0m Trial 380 pruned. \u001b[0m\n",
      "\u001b[32m[I 2021-06-26 03:13:32,389]\u001b[0m Trial 381 pruned. \u001b[0m\n",
      "\u001b[32m[I 2021-06-26 03:13:34,395]\u001b[0m Trial 382 pruned. \u001b[0m\n",
      "\u001b[32m[I 2021-06-26 03:13:34,477]\u001b[0m Trial 383 pruned. \u001b[0m\n",
      "\u001b[32m[I 2021-06-26 03:13:36,642]\u001b[0m Trial 384 pruned. \u001b[0m\n",
      "\u001b[32m[I 2021-06-26 03:13:36,800]\u001b[0m Trial 385 pruned. \u001b[0m\n",
      "\u001b[32m[I 2021-06-26 03:13:37,359]\u001b[0m Trial 386 pruned. \u001b[0m\n",
      "\u001b[32m[I 2021-06-26 03:13:37,476]\u001b[0m Trial 387 pruned. \u001b[0m\n",
      "\u001b[32m[I 2021-06-26 03:13:37,987]\u001b[0m Trial 388 pruned. \u001b[0m\n",
      "\u001b[32m[I 2021-06-26 03:13:38,680]\u001b[0m Trial 389 pruned. \u001b[0m\n",
      "\u001b[32m[I 2021-06-26 03:13:39,275]\u001b[0m Trial 390 pruned. \u001b[0m\n",
      "\u001b[32m[I 2021-06-26 03:13:39,422]\u001b[0m Trial 391 pruned. \u001b[0m\n",
      "\u001b[32m[I 2021-06-26 03:13:39,926]\u001b[0m Trial 392 pruned. \u001b[0m\n",
      "\u001b[32m[I 2021-06-26 03:13:40,625]\u001b[0m Trial 393 pruned. \u001b[0m\n",
      "\u001b[32m[I 2021-06-26 03:13:40,955]\u001b[0m Trial 394 pruned. \u001b[0m\n",
      "\u001b[32m[I 2021-06-26 03:13:41,566]\u001b[0m Trial 395 pruned. \u001b[0m\n",
      "\u001b[32m[I 2021-06-26 03:13:42,151]\u001b[0m Trial 396 pruned. \u001b[0m\n",
      "\u001b[32m[I 2021-06-26 03:13:42,327]\u001b[0m Trial 397 pruned. \u001b[0m\n",
      "\u001b[32m[I 2021-06-26 03:13:42,959]\u001b[0m Trial 398 pruned. \u001b[0m\n",
      "\u001b[32m[I 2021-06-26 03:13:43,041]\u001b[0m Trial 399 pruned. \u001b[0m\n",
      "\u001b[32m[I 2021-06-26 03:13:43,503]\u001b[0m Trial 400 pruned. \u001b[0m\n",
      "\u001b[32m[I 2021-06-26 03:13:44,267]\u001b[0m Trial 401 pruned. \u001b[0m\n",
      "\u001b[32m[I 2021-06-26 03:13:54,934]\u001b[0m Trial 402 finished with value: 0.01078597828745842 and parameters: {'Look Back': 25, 'Batch Size': 4, 'Hidden Dim': 128, 'N layers': 2, 'Learning Rate': 0.001118868333205967, 'Factor': 0.75}. Best is trial 0 with value: 0.00843887496739626.\u001b[0m\n",
      "\u001b[32m[I 2021-06-26 03:13:55,125]\u001b[0m Trial 403 pruned. \u001b[0m\n",
      "\u001b[32m[I 2021-06-26 03:14:05,744]\u001b[0m Trial 404 finished with value: 0.011359669268131256 and parameters: {'Look Back': 25, 'Batch Size': 4, 'Hidden Dim': 128, 'N layers': 2, 'Learning Rate': 0.001118446813177378, 'Factor': 0.75}. Best is trial 0 with value: 0.00843887496739626.\u001b[0m\n",
      "\u001b[32m[I 2021-06-26 03:14:06,437]\u001b[0m Trial 405 pruned. \u001b[0m\n",
      "\u001b[32m[I 2021-06-26 03:14:06,986]\u001b[0m Trial 406 pruned. \u001b[0m\n",
      "\u001b[32m[I 2021-06-26 03:14:17,601]\u001b[0m Trial 407 finished with value: 0.013539678417146206 and parameters: {'Look Back': 25, 'Batch Size': 4, 'Hidden Dim': 128, 'N layers': 2, 'Learning Rate': 0.001116496404092232, 'Factor': 0.75}. Best is trial 0 with value: 0.00843887496739626.\u001b[0m\n"
     ]
    },
    {
     "name": "stderr",
     "output_type": "stream",
     "text": [
      "\u001b[32m[I 2021-06-26 03:14:18,124]\u001b[0m Trial 408 pruned. \u001b[0m\n",
      "\u001b[32m[I 2021-06-26 03:14:19,759]\u001b[0m Trial 409 pruned. \u001b[0m\n",
      "\u001b[32m[I 2021-06-26 03:14:23,327]\u001b[0m Trial 410 pruned. \u001b[0m\n",
      "\u001b[32m[I 2021-06-26 03:14:23,989]\u001b[0m Trial 411 pruned. \u001b[0m\n",
      "\u001b[32m[I 2021-06-26 03:14:24,520]\u001b[0m Trial 412 pruned. \u001b[0m\n",
      "\u001b[32m[I 2021-06-26 03:14:25,046]\u001b[0m Trial 413 pruned. \u001b[0m\n",
      "\u001b[32m[I 2021-06-26 03:14:25,576]\u001b[0m Trial 414 pruned. \u001b[0m\n",
      "\u001b[32m[I 2021-06-26 03:14:36,270]\u001b[0m Trial 415 finished with value: 0.013507502153515816 and parameters: {'Look Back': 25, 'Batch Size': 4, 'Hidden Dim': 128, 'N layers': 2, 'Learning Rate': 0.0009354854160806491, 'Factor': 0.75}. Best is trial 0 with value: 0.00843887496739626.\u001b[0m\n",
      "\u001b[32m[I 2021-06-26 03:14:36,508]\u001b[0m Trial 416 pruned. \u001b[0m\n",
      "\u001b[32m[I 2021-06-26 03:14:50,198]\u001b[0m Trial 417 finished with value: 0.010536772198975086 and parameters: {'Look Back': 25, 'Batch Size': 4, 'Hidden Dim': 128, 'N layers': 3, 'Learning Rate': 0.0011337534738599666, 'Factor': 0.75}. Best is trial 0 with value: 0.00843887496739626.\u001b[0m\n",
      "\u001b[32m[I 2021-06-26 03:14:50,738]\u001b[0m Trial 418 pruned. \u001b[0m\n",
      "\u001b[32m[I 2021-06-26 03:14:51,271]\u001b[0m Trial 419 pruned. \u001b[0m\n",
      "\u001b[32m[I 2021-06-26 03:14:51,972]\u001b[0m Trial 420 pruned. \u001b[0m\n",
      "\u001b[32m[I 2021-06-26 03:14:54,505]\u001b[0m Trial 421 pruned. \u001b[0m\n",
      "\u001b[32m[I 2021-06-26 03:14:55,031]\u001b[0m Trial 422 pruned. \u001b[0m\n",
      "\u001b[32m[I 2021-06-26 03:14:55,126]\u001b[0m Trial 423 pruned. \u001b[0m\n",
      "\u001b[32m[I 2021-06-26 03:14:55,637]\u001b[0m Trial 424 pruned. \u001b[0m\n",
      "\u001b[32m[I 2021-06-26 03:14:56,161]\u001b[0m Trial 425 pruned. \u001b[0m\n",
      "\u001b[32m[I 2021-06-26 03:14:56,771]\u001b[0m Trial 426 pruned. \u001b[0m\n",
      "\u001b[32m[I 2021-06-26 03:14:56,880]\u001b[0m Trial 427 pruned. \u001b[0m\n",
      "\u001b[32m[I 2021-06-26 03:15:07,581]\u001b[0m Trial 428 finished with value: 0.011353344656527042 and parameters: {'Look Back': 25, 'Batch Size': 4, 'Hidden Dim': 128, 'N layers': 2, 'Learning Rate': 0.0012804702313575092, 'Factor': 0.75}. Best is trial 0 with value: 0.00843887496739626.\u001b[0m\n",
      "\u001b[32m[I 2021-06-26 03:15:08,111]\u001b[0m Trial 429 pruned. \u001b[0m\n",
      "\u001b[32m[I 2021-06-26 03:15:08,632]\u001b[0m Trial 430 pruned. \u001b[0m\n",
      "\u001b[32m[I 2021-06-26 03:15:19,774]\u001b[0m Trial 431 finished with value: 0.009209146723151207 and parameters: {'Look Back': 25, 'Batch Size': 8, 'Hidden Dim': 128, 'N layers': 2, 'Learning Rate': 0.001187066738326556, 'Factor': 0.75}. Best is trial 0 with value: 0.00843887496739626.\u001b[0m\n",
      "\u001b[32m[I 2021-06-26 03:15:20,064]\u001b[0m Trial 432 pruned. \u001b[0m\n",
      "\u001b[32m[I 2021-06-26 03:15:20,356]\u001b[0m Trial 433 pruned. \u001b[0m\n",
      "\u001b[32m[I 2021-06-26 03:15:20,648]\u001b[0m Trial 434 pruned. \u001b[0m\n",
      "\u001b[32m[I 2021-06-26 03:15:20,951]\u001b[0m Trial 435 pruned. \u001b[0m\n",
      "\u001b[32m[I 2021-06-26 03:15:21,233]\u001b[0m Trial 436 pruned. \u001b[0m\n",
      "\u001b[32m[I 2021-06-26 03:15:21,527]\u001b[0m Trial 437 pruned. \u001b[0m\n",
      "\u001b[32m[I 2021-06-26 03:15:21,823]\u001b[0m Trial 438 pruned. \u001b[0m\n",
      "\u001b[32m[I 2021-06-26 03:15:33,094]\u001b[0m Trial 439 finished with value: 0.009128307923674583 and parameters: {'Look Back': 25, 'Batch Size': 8, 'Hidden Dim': 128, 'N layers': 2, 'Learning Rate': 0.0009185397313496713, 'Factor': 0.75}. Best is trial 0 with value: 0.00843887496739626.\u001b[0m\n",
      "\u001b[32m[I 2021-06-26 03:15:33,391]\u001b[0m Trial 440 pruned. \u001b[0m\n",
      "\u001b[32m[I 2021-06-26 03:15:35,273]\u001b[0m Trial 441 pruned. \u001b[0m\n",
      "\u001b[32m[I 2021-06-26 03:15:35,564]\u001b[0m Trial 442 pruned. \u001b[0m\n",
      "\u001b[32m[I 2021-06-26 03:15:35,866]\u001b[0m Trial 443 pruned. \u001b[0m\n",
      "\u001b[32m[I 2021-06-26 03:15:36,236]\u001b[0m Trial 444 pruned. \u001b[0m\n",
      "\u001b[32m[I 2021-06-26 03:15:36,523]\u001b[0m Trial 445 pruned. \u001b[0m\n",
      "\u001b[32m[I 2021-06-26 03:15:36,817]\u001b[0m Trial 446 pruned. \u001b[0m\n",
      "\u001b[32m[I 2021-06-26 03:15:37,110]\u001b[0m Trial 447 pruned. \u001b[0m\n",
      "\u001b[32m[I 2021-06-26 03:15:37,191]\u001b[0m Trial 448 pruned. \u001b[0m\n",
      "\u001b[32m[I 2021-06-26 03:15:37,562]\u001b[0m Trial 449 pruned. \u001b[0m\n",
      "\u001b[32m[I 2021-06-26 03:15:37,855]\u001b[0m Trial 450 pruned. \u001b[0m\n",
      "\u001b[32m[I 2021-06-26 03:15:37,930]\u001b[0m Trial 451 pruned. \u001b[0m\n",
      "\u001b[32m[I 2021-06-26 03:15:38,469]\u001b[0m Trial 452 pruned. \u001b[0m\n",
      "\u001b[32m[I 2021-06-26 03:15:38,805]\u001b[0m Trial 453 pruned. \u001b[0m\n",
      "\u001b[32m[I 2021-06-26 03:15:38,913]\u001b[0m Trial 454 pruned. \u001b[0m\n",
      "\u001b[32m[I 2021-06-26 03:15:49,644]\u001b[0m Trial 455 finished with value: 0.01214342936873436 and parameters: {'Look Back': 25, 'Batch Size': 4, 'Hidden Dim': 128, 'N layers': 2, 'Learning Rate': 0.0016735761538173145, 'Factor': 0.75}. Best is trial 0 with value: 0.00843887496739626.\u001b[0m\n",
      "\u001b[32m[I 2021-06-26 03:15:50,178]\u001b[0m Trial 456 pruned. \u001b[0m\n",
      "\u001b[32m[I 2021-06-26 03:15:50,721]\u001b[0m Trial 457 pruned. \u001b[0m\n",
      "\u001b[32m[I 2021-06-26 03:15:51,247]\u001b[0m Trial 458 pruned. \u001b[0m\n",
      "\u001b[32m[I 2021-06-26 03:15:51,916]\u001b[0m Trial 459 pruned. \u001b[0m\n",
      "\u001b[32m[I 2021-06-26 03:15:52,456]\u001b[0m Trial 460 pruned. \u001b[0m\n",
      "\u001b[32m[I 2021-06-26 03:15:52,641]\u001b[0m Trial 461 pruned. \u001b[0m\n",
      "\u001b[32m[I 2021-06-26 03:15:53,171]\u001b[0m Trial 462 pruned. \u001b[0m\n",
      "\u001b[32m[I 2021-06-26 03:15:53,598]\u001b[0m Trial 463 pruned. \u001b[0m\n",
      "\u001b[32m[I 2021-06-26 03:15:54,131]\u001b[0m Trial 464 pruned. \u001b[0m\n",
      "\u001b[32m[I 2021-06-26 03:15:54,214]\u001b[0m Trial 465 pruned. \u001b[0m\n",
      "\u001b[32m[I 2021-06-26 03:15:54,703]\u001b[0m Trial 466 pruned. \u001b[0m\n",
      "\u001b[32m[I 2021-06-26 03:15:55,226]\u001b[0m Trial 467 pruned. \u001b[0m\n",
      "\u001b[32m[I 2021-06-26 03:15:55,410]\u001b[0m Trial 468 pruned. \u001b[0m\n",
      "\u001b[32m[I 2021-06-26 03:16:00,765]\u001b[0m Trial 469 pruned. \u001b[0m\n",
      "\u001b[32m[I 2021-06-26 03:16:01,294]\u001b[0m Trial 470 pruned. \u001b[0m\n",
      "\u001b[32m[I 2021-06-26 03:16:01,839]\u001b[0m Trial 471 pruned. \u001b[0m\n",
      "\u001b[32m[I 2021-06-26 03:16:02,143]\u001b[0m Trial 472 pruned. \u001b[0m\n",
      "\u001b[32m[I 2021-06-26 03:16:05,416]\u001b[0m Trial 473 pruned. \u001b[0m\n",
      "\u001b[32m[I 2021-06-26 03:16:15,313]\u001b[0m Trial 474 finished with value: 0.009758701547980309 and parameters: {'Look Back': 25, 'Batch Size': 4, 'Hidden Dim': 32, 'N layers': 2, 'Learning Rate': 0.003956830169513914, 'Factor': 0.75}. Best is trial 0 with value: 0.00843887496739626.\u001b[0m\n",
      "\u001b[32m[I 2021-06-26 03:16:15,483]\u001b[0m Trial 475 pruned. \u001b[0m\n",
      "\u001b[32m[I 2021-06-26 03:16:15,985]\u001b[0m Trial 476 pruned. \u001b[0m\n",
      "\u001b[32m[I 2021-06-26 03:16:27,347]\u001b[0m Trial 477 finished with value: 0.01102467067539692 and parameters: {'Look Back': 40, 'Batch Size': 4, 'Hidden Dim': 32, 'N layers': 2, 'Learning Rate': 0.003367348811018815, 'Factor': 0.75}. Best is trial 0 with value: 0.00843887496739626.\u001b[0m\n",
      "\u001b[32m[I 2021-06-26 03:16:30,151]\u001b[0m Trial 478 pruned. \u001b[0m\n",
      "\u001b[32m[I 2021-06-26 03:16:30,230]\u001b[0m Trial 479 pruned. \u001b[0m\n",
      "\u001b[32m[I 2021-06-26 03:16:30,540]\u001b[0m Trial 480 pruned. \u001b[0m\n",
      "\u001b[32m[I 2021-06-26 03:16:31,085]\u001b[0m Trial 481 pruned. \u001b[0m\n",
      "\u001b[32m[I 2021-06-26 03:16:31,782]\u001b[0m Trial 482 pruned. \u001b[0m\n",
      "\u001b[32m[I 2021-06-26 03:16:31,956]\u001b[0m Trial 483 pruned. \u001b[0m\n",
      "\u001b[32m[I 2021-06-26 03:16:32,513]\u001b[0m Trial 484 pruned. \u001b[0m\n",
      "\u001b[32m[I 2021-06-26 03:16:32,992]\u001b[0m Trial 485 pruned. \u001b[0m\n",
      "\u001b[32m[I 2021-06-26 03:16:33,085]\u001b[0m Trial 486 pruned. \u001b[0m\n",
      "\u001b[32m[I 2021-06-26 03:16:33,607]\u001b[0m Trial 487 pruned. \u001b[0m\n",
      "\u001b[32m[I 2021-06-26 03:16:34,349]\u001b[0m Trial 488 pruned. \u001b[0m\n",
      "\u001b[32m[I 2021-06-26 03:16:35,072]\u001b[0m Trial 489 pruned. \u001b[0m\n",
      "\u001b[32m[I 2021-06-26 03:16:35,561]\u001b[0m Trial 490 pruned. \u001b[0m\n",
      "\u001b[32m[I 2021-06-26 03:16:35,718]\u001b[0m Trial 491 pruned. \u001b[0m\n",
      "\u001b[32m[I 2021-06-26 03:16:36,311]\u001b[0m Trial 492 pruned. \u001b[0m\n",
      "\u001b[32m[I 2021-06-26 03:16:36,801]\u001b[0m Trial 493 pruned. \u001b[0m\n",
      "\u001b[32m[I 2021-06-26 03:16:37,523]\u001b[0m Trial 494 pruned. \u001b[0m\n",
      "\u001b[32m[I 2021-06-26 03:16:37,790]\u001b[0m Trial 495 pruned. \u001b[0m\n",
      "\u001b[32m[I 2021-06-26 03:16:38,331]\u001b[0m Trial 496 pruned. \u001b[0m\n",
      "\u001b[32m[I 2021-06-26 03:16:38,859]\u001b[0m Trial 497 pruned. \u001b[0m\n",
      "\u001b[32m[I 2021-06-26 03:16:38,937]\u001b[0m Trial 498 pruned. \u001b[0m\n",
      "\u001b[32m[I 2021-06-26 03:16:39,152]\u001b[0m Trial 499 pruned. \u001b[0m\n"
     ]
    },
    {
     "name": "stdout",
     "output_type": "stream",
     "text": [
      "Study statistics: \n",
      "  Number of finished trials:  500\n",
      "  Number of pruned trials:  454\n",
      "  Number of complete trials:  46\n"
     ]
    }
   ],
   "source": [
    "nasdaq, scaled, scaler1, scaler2  = load_nasdaq()  \n",
    "input_dim = 2\n",
    "study_gru = conduct_study('GRU', 'GRU', n_trials)"
   ]
  },
  {
   "cell_type": "code",
   "execution_count": 1211,
   "id": "9117254b",
   "metadata": {},
   "outputs": [
    {
     "name": "stderr",
     "output_type": "stream",
     "text": [
      "\u001b[32m[I 2021-06-26 03:16:39,377]\u001b[0m A new study created in memory with name: LSTM\u001b[0m\n",
      "\u001b[32m[I 2021-06-26 03:16:44,410]\u001b[0m Trial 0 finished with value: 0.011329416185617447 and parameters: {'Look Back': 30, 'Batch Size': 32, 'Hidden Dim': 32, 'N layers': 1, 'Learning Rate': 0.0007625142268132246, 'Factor': 0.95}. Best is trial 0 with value: 0.011329416185617447.\u001b[0m\n",
      "\u001b[32m[I 2021-06-26 03:16:55,892]\u001b[0m Trial 1 finished with value: 0.012901894748210907 and parameters: {'Look Back': 15, 'Batch Size': 4, 'Hidden Dim': 32, 'N layers': 3, 'Learning Rate': 0.0002433760192810435, 'Factor': 0.8500000000000001}. Best is trial 0 with value: 0.011329416185617447.\u001b[0m\n",
      "\u001b[32m[I 2021-06-26 03:17:03,124]\u001b[0m Trial 2 finished with value: 0.010299893096089363 and parameters: {'Look Back': 10, 'Batch Size': 32, 'Hidden Dim': 16, 'N layers': 3, 'Learning Rate': 0.05946577537923222, 'Factor': 0.8500000000000001}. Best is trial 2 with value: 0.010299893096089363.\u001b[0m\n",
      "\u001b[32m[I 2021-06-26 03:17:10,568]\u001b[0m Trial 3 finished with value: 0.009711342863738537 and parameters: {'Look Back': 30, 'Batch Size': 32, 'Hidden Dim': 64, 'N layers': 2, 'Learning Rate': 0.006995449603024056, 'Factor': 0.95}. Best is trial 3 with value: 0.009711342863738537.\u001b[0m\n",
      "\u001b[32m[I 2021-06-26 03:17:19,773]\u001b[0m Trial 4 finished with value: 0.008704914711415768 and parameters: {'Look Back': 30, 'Batch Size': 32, 'Hidden Dim': 32, 'N layers': 3, 'Learning Rate': 0.007852339947556505, 'Factor': 0.55}. Best is trial 4 with value: 0.008704914711415768.\u001b[0m\n",
      "\u001b[32m[I 2021-06-26 03:17:31,017]\u001b[0m Trial 5 finished with value: 0.018709110096096992 and parameters: {'Look Back': 35, 'Batch Size': 4, 'Hidden Dim': 64, 'N layers': 2, 'Learning Rate': 0.000808021789927439, 'Factor': 0.95}. Best is trial 4 with value: 0.008704914711415768.\u001b[0m\n",
      "\u001b[32m[I 2021-06-26 03:17:31,139]\u001b[0m Trial 6 pruned. \u001b[0m\n",
      "\u001b[32m[I 2021-06-26 03:17:46,934]\u001b[0m Trial 7 finished with value: 0.01384891290217638 and parameters: {'Look Back': 50, 'Batch Size': 4, 'Hidden Dim': 16, 'N layers': 3, 'Learning Rate': 0.00442855390355415, 'Factor': 0.65}. Best is trial 4 with value: 0.008704914711415768.\u001b[0m\n",
      "\u001b[32m[I 2021-06-26 03:18:03,898]\u001b[0m Trial 8 finished with value: 0.010332223027944565 and parameters: {'Look Back': 40, 'Batch Size': 8, 'Hidden Dim': 128, 'N layers': 3, 'Learning Rate': 0.000545058412260551, 'Factor': 0.8500000000000001}. Best is trial 4 with value: 0.008704914711415768.\u001b[0m\n",
      "\u001b[32m[I 2021-06-26 03:18:05,078]\u001b[0m Trial 9 pruned. \u001b[0m\n",
      "\u001b[32m[I 2021-06-26 03:18:05,477]\u001b[0m Trial 10 pruned. \u001b[0m\n",
      "\u001b[32m[I 2021-06-26 03:18:05,531]\u001b[0m Trial 11 pruned. \u001b[0m\n",
      "\u001b[32m[I 2021-06-26 03:18:05,611]\u001b[0m Trial 12 pruned. \u001b[0m\n",
      "\u001b[32m[I 2021-06-26 03:18:05,693]\u001b[0m Trial 13 pruned. \u001b[0m\n",
      "\u001b[32m[I 2021-06-26 03:18:05,794]\u001b[0m Trial 14 pruned. \u001b[0m\n",
      "\u001b[32m[I 2021-06-26 03:18:06,360]\u001b[0m Trial 15 pruned. \u001b[0m\n",
      "\u001b[32m[I 2021-06-26 03:18:06,817]\u001b[0m Trial 16 pruned. \u001b[0m\n",
      "\u001b[32m[I 2021-06-26 03:18:06,871]\u001b[0m Trial 17 pruned. \u001b[0m\n",
      "\u001b[32m[I 2021-06-26 03:18:06,995]\u001b[0m Trial 18 pruned. \u001b[0m\n",
      "\u001b[32m[I 2021-06-26 03:18:07,103]\u001b[0m Trial 19 pruned. \u001b[0m\n",
      "\u001b[32m[I 2021-06-26 03:18:11,372]\u001b[0m Trial 20 pruned. \u001b[0m\n",
      "\u001b[32m[I 2021-06-26 03:18:11,463]\u001b[0m Trial 21 pruned. \u001b[0m\n",
      "\u001b[32m[I 2021-06-26 03:18:11,563]\u001b[0m Trial 22 pruned. \u001b[0m\n",
      "\u001b[32m[I 2021-06-26 03:18:11,676]\u001b[0m Trial 23 pruned. \u001b[0m\n",
      "\u001b[32m[I 2021-06-26 03:18:11,939]\u001b[0m Trial 24 pruned. \u001b[0m\n",
      "\u001b[32m[I 2021-06-26 03:18:12,166]\u001b[0m Trial 25 pruned. \u001b[0m\n",
      "\u001b[32m[I 2021-06-26 03:18:12,229]\u001b[0m Trial 26 pruned. \u001b[0m\n",
      "\u001b[32m[I 2021-06-26 03:18:12,344]\u001b[0m Trial 27 pruned. \u001b[0m\n",
      "\u001b[32m[I 2021-06-26 03:18:12,426]\u001b[0m Trial 28 pruned. \u001b[0m\n",
      "\u001b[32m[I 2021-06-26 03:18:12,732]\u001b[0m Trial 29 pruned. \u001b[0m\n",
      "\u001b[32m[I 2021-06-26 03:18:12,796]\u001b[0m Trial 30 pruned. \u001b[0m\n",
      "\u001b[32m[I 2021-06-26 03:18:13,219]\u001b[0m Trial 31 pruned. \u001b[0m\n",
      "\u001b[32m[I 2021-06-26 03:18:13,662]\u001b[0m Trial 32 pruned. \u001b[0m\n",
      "\u001b[32m[I 2021-06-26 03:18:29,930]\u001b[0m Trial 33 finished with value: 0.009752031415700912 and parameters: {'Look Back': 35, 'Batch Size': 8, 'Hidden Dim': 128, 'N layers': 3, 'Learning Rate': 0.0006951156525865953, 'Factor': 0.8500000000000001}. Best is trial 4 with value: 0.008704914711415768.\u001b[0m\n",
      "\u001b[32m[I 2021-06-26 03:18:31,882]\u001b[0m Trial 34 pruned. \u001b[0m\n",
      "\u001b[32m[I 2021-06-26 03:18:47,221]\u001b[0m Trial 35 finished with value: 0.013438336551189423 and parameters: {'Look Back': 35, 'Batch Size': 4, 'Hidden Dim': 128, 'N layers': 3, 'Learning Rate': 0.000971770100558634, 'Factor': 0.8500000000000001}. Best is trial 4 with value: 0.008704914711415768.\u001b[0m\n",
      "\u001b[32m[I 2021-06-26 03:18:59,168]\u001b[0m Trial 36 pruned. \u001b[0m\n",
      "\u001b[32m[I 2021-06-26 03:18:59,284]\u001b[0m Trial 37 pruned. \u001b[0m\n",
      "\u001b[32m[I 2021-06-26 03:18:59,815]\u001b[0m Trial 38 pruned. \u001b[0m\n",
      "\u001b[32m[I 2021-06-26 03:19:00,309]\u001b[0m Trial 39 pruned. \u001b[0m\n",
      "\u001b[32m[I 2021-06-26 03:19:00,475]\u001b[0m Trial 40 pruned. \u001b[0m\n",
      "\u001b[32m[I 2021-06-26 03:19:01,753]\u001b[0m Trial 41 pruned. \u001b[0m\n",
      "\u001b[32m[I 2021-06-26 03:19:02,162]\u001b[0m Trial 42 pruned. \u001b[0m\n",
      "\u001b[32m[I 2021-06-26 03:19:03,331]\u001b[0m Trial 43 pruned. \u001b[0m\n",
      "\u001b[32m[I 2021-06-26 03:19:03,422]\u001b[0m Trial 44 pruned. \u001b[0m\n",
      "\u001b[32m[I 2021-06-26 03:19:03,547]\u001b[0m Trial 45 pruned. \u001b[0m\n",
      "\u001b[32m[I 2021-06-26 03:19:03,959]\u001b[0m Trial 46 pruned. \u001b[0m\n",
      "\u001b[32m[I 2021-06-26 03:19:04,102]\u001b[0m Trial 47 pruned. \u001b[0m\n",
      "\u001b[32m[I 2021-06-26 03:19:04,602]\u001b[0m Trial 48 pruned. \u001b[0m\n",
      "\u001b[32m[I 2021-06-26 03:19:04,853]\u001b[0m Trial 49 pruned. \u001b[0m\n",
      "\u001b[32m[I 2021-06-26 03:19:05,452]\u001b[0m Trial 50 pruned. \u001b[0m\n",
      "\u001b[32m[I 2021-06-26 03:19:05,516]\u001b[0m Trial 51 pruned. \u001b[0m\n",
      "\u001b[32m[I 2021-06-26 03:19:05,609]\u001b[0m Trial 52 pruned. \u001b[0m\n",
      "\u001b[32m[I 2021-06-26 03:19:05,688]\u001b[0m Trial 53 pruned. \u001b[0m\n",
      "\u001b[32m[I 2021-06-26 03:19:05,781]\u001b[0m Trial 54 pruned. \u001b[0m\n",
      "\u001b[32m[I 2021-06-26 03:19:05,986]\u001b[0m Trial 55 pruned. \u001b[0m\n",
      "\u001b[32m[I 2021-06-26 03:19:06,050]\u001b[0m Trial 56 pruned. \u001b[0m\n",
      "\u001b[32m[I 2021-06-26 03:19:06,109]\u001b[0m Trial 57 pruned. \u001b[0m\n",
      "\u001b[32m[I 2021-06-26 03:19:06,209]\u001b[0m Trial 58 pruned. \u001b[0m\n",
      "\u001b[32m[I 2021-06-26 03:19:06,330]\u001b[0m Trial 59 pruned. \u001b[0m\n",
      "\u001b[32m[I 2021-06-26 03:19:07,812]\u001b[0m Trial 60 pruned. \u001b[0m\n",
      "\u001b[32m[I 2021-06-26 03:19:08,371]\u001b[0m Trial 61 pruned. \u001b[0m\n",
      "\u001b[32m[I 2021-06-26 03:19:09,923]\u001b[0m Trial 62 pruned. \u001b[0m\n",
      "\u001b[32m[I 2021-06-26 03:19:10,460]\u001b[0m Trial 63 pruned. \u001b[0m\n",
      "\u001b[32m[I 2021-06-26 03:19:11,137]\u001b[0m Trial 64 pruned. \u001b[0m\n",
      "\u001b[32m[I 2021-06-26 03:19:11,230]\u001b[0m Trial 65 pruned. \u001b[0m\n",
      "\u001b[32m[I 2021-06-26 03:19:11,449]\u001b[0m Trial 66 pruned. \u001b[0m\n",
      "\u001b[32m[I 2021-06-26 03:19:11,749]\u001b[0m Trial 67 pruned. \u001b[0m\n",
      "\u001b[32m[I 2021-06-26 03:19:12,208]\u001b[0m Trial 68 pruned. \u001b[0m\n",
      "\u001b[32m[I 2021-06-26 03:19:12,933]\u001b[0m Trial 69 pruned. \u001b[0m\n",
      "\u001b[32m[I 2021-06-26 03:19:13,051]\u001b[0m Trial 70 pruned. \u001b[0m\n",
      "\u001b[32m[I 2021-06-26 03:19:15,256]\u001b[0m Trial 71 pruned. \u001b[0m\n",
      "\u001b[32m[I 2021-06-26 03:19:17,463]\u001b[0m Trial 72 pruned. \u001b[0m\n",
      "\u001b[32m[I 2021-06-26 03:19:19,883]\u001b[0m Trial 73 pruned. \u001b[0m\n",
      "\u001b[32m[I 2021-06-26 03:19:23,696]\u001b[0m Trial 74 pruned. \u001b[0m\n",
      "\u001b[32m[I 2021-06-26 03:19:23,784]\u001b[0m Trial 75 pruned. \u001b[0m\n",
      "\u001b[32m[I 2021-06-26 03:19:24,167]\u001b[0m Trial 76 pruned. \u001b[0m\n",
      "\u001b[32m[I 2021-06-26 03:19:24,295]\u001b[0m Trial 77 pruned. \u001b[0m\n",
      "\u001b[32m[I 2021-06-26 03:19:26,246]\u001b[0m Trial 78 pruned. \u001b[0m\n",
      "\u001b[32m[I 2021-06-26 03:19:26,615]\u001b[0m Trial 79 pruned. \u001b[0m\n",
      "\u001b[32m[I 2021-06-26 03:19:26,679]\u001b[0m Trial 80 pruned. \u001b[0m\n",
      "\u001b[32m[I 2021-06-26 03:19:42,005]\u001b[0m Trial 81 finished with value: 0.018314022570848465 and parameters: {'Look Back': 50, 'Batch Size': 4, 'Hidden Dim': 16, 'N layers': 3, 'Learning Rate': 0.0021513416826628253, 'Factor': 0.55}. Best is trial 4 with value: 0.008704914711415768.\u001b[0m\n",
      "\u001b[32m[I 2021-06-26 03:19:57,285]\u001b[0m Trial 82 finished with value: 0.01770124025642872 and parameters: {'Look Back': 50, 'Batch Size': 4, 'Hidden Dim': 16, 'N layers': 3, 'Learning Rate': 0.0036753973324300344, 'Factor': 0.65}. Best is trial 4 with value: 0.008704914711415768.\u001b[0m\n",
      "\u001b[32m[I 2021-06-26 03:20:03,122]\u001b[0m Trial 83 pruned. \u001b[0m\n",
      "\u001b[32m[I 2021-06-26 03:20:05,039]\u001b[0m Trial 84 pruned. \u001b[0m\n",
      "\u001b[32m[I 2021-06-26 03:20:05,140]\u001b[0m Trial 85 pruned. \u001b[0m\n",
      "\u001b[32m[I 2021-06-26 03:20:05,567]\u001b[0m Trial 86 pruned. \u001b[0m\n",
      "\u001b[32m[I 2021-06-26 03:20:05,716]\u001b[0m Trial 87 pruned. \u001b[0m\n",
      "\u001b[32m[I 2021-06-26 03:20:05,915]\u001b[0m Trial 88 pruned. \u001b[0m\n",
      "\u001b[32m[I 2021-06-26 03:20:09,574]\u001b[0m Trial 89 pruned. \u001b[0m\n",
      "\u001b[32m[I 2021-06-26 03:20:09,656]\u001b[0m Trial 90 pruned. \u001b[0m\n"
     ]
    },
    {
     "name": "stderr",
     "output_type": "stream",
     "text": [
      "\u001b[32m[I 2021-06-26 03:20:11,727]\u001b[0m Trial 91 pruned. \u001b[0m\n",
      "\u001b[32m[I 2021-06-26 03:20:13,924]\u001b[0m Trial 92 pruned. \u001b[0m\n",
      "\u001b[32m[I 2021-06-26 03:20:29,117]\u001b[0m Trial 93 finished with value: 0.008960503153502941 and parameters: {'Look Back': 50, 'Batch Size': 4, 'Hidden Dim': 16, 'N layers': 3, 'Learning Rate': 0.006173950609551168, 'Factor': 0.8500000000000001}. Best is trial 4 with value: 0.008704914711415768.\u001b[0m\n",
      "\u001b[32m[I 2021-06-26 03:20:36,387]\u001b[0m Trial 94 pruned. \u001b[0m\n",
      "\u001b[32m[I 2021-06-26 03:20:37,158]\u001b[0m Trial 95 pruned. \u001b[0m\n",
      "\u001b[32m[I 2021-06-26 03:20:37,757]\u001b[0m Trial 96 pruned. \u001b[0m\n",
      "\u001b[32m[I 2021-06-26 03:20:37,815]\u001b[0m Trial 97 pruned. \u001b[0m\n",
      "\u001b[32m[I 2021-06-26 03:20:37,938]\u001b[0m Trial 98 pruned. \u001b[0m\n",
      "\u001b[32m[I 2021-06-26 03:20:38,383]\u001b[0m Trial 99 pruned. \u001b[0m\n",
      "\u001b[32m[I 2021-06-26 03:20:38,497]\u001b[0m Trial 100 pruned. \u001b[0m\n",
      "\u001b[32m[I 2021-06-26 03:20:39,254]\u001b[0m Trial 101 pruned. \u001b[0m\n",
      "\u001b[32m[I 2021-06-26 03:20:41,451]\u001b[0m Trial 102 pruned. \u001b[0m\n",
      "\u001b[32m[I 2021-06-26 03:20:42,222]\u001b[0m Trial 103 pruned. \u001b[0m\n",
      "\u001b[32m[I 2021-06-26 03:20:42,937]\u001b[0m Trial 104 pruned. \u001b[0m\n",
      "\u001b[32m[I 2021-06-26 03:20:45,185]\u001b[0m Trial 105 pruned. \u001b[0m\n",
      "\u001b[32m[I 2021-06-26 03:20:45,935]\u001b[0m Trial 106 pruned. \u001b[0m\n",
      "\u001b[32m[I 2021-06-26 03:20:46,088]\u001b[0m Trial 107 pruned. \u001b[0m\n",
      "\u001b[32m[I 2021-06-26 03:20:56,317]\u001b[0m Trial 108 finished with value: 0.009198981337249279 and parameters: {'Look Back': 25, 'Batch Size': 8, 'Hidden Dim': 64, 'N layers': 2, 'Learning Rate': 0.004536395886451822, 'Factor': 0.8500000000000001}. Best is trial 4 with value: 0.008704914711415768.\u001b[0m\n",
      "\u001b[32m[I 2021-06-26 03:20:56,998]\u001b[0m Trial 109 pruned. \u001b[0m\n",
      "\u001b[32m[I 2021-06-26 03:20:57,245]\u001b[0m Trial 110 pruned. \u001b[0m\n",
      "\u001b[32m[I 2021-06-26 03:21:07,544]\u001b[0m Trial 111 finished with value: 0.009047911502420902 and parameters: {'Look Back': 25, 'Batch Size': 8, 'Hidden Dim': 64, 'N layers': 2, 'Learning Rate': 0.0032759200471426443, 'Factor': 0.8500000000000001}. Best is trial 4 with value: 0.008704914711415768.\u001b[0m\n",
      "\u001b[32m[I 2021-06-26 03:21:17,936]\u001b[0m Trial 112 finished with value: 0.009363004006445408 and parameters: {'Look Back': 25, 'Batch Size': 8, 'Hidden Dim': 64, 'N layers': 2, 'Learning Rate': 0.0013903920056755055, 'Factor': 0.8500000000000001}. Best is trial 4 with value: 0.008704914711415768.\u001b[0m\n",
      "\u001b[32m[I 2021-06-26 03:21:18,198]\u001b[0m Trial 113 pruned. \u001b[0m\n",
      "\u001b[32m[I 2021-06-26 03:21:28,426]\u001b[0m Trial 114 finished with value: 0.009641715325415134 and parameters: {'Look Back': 25, 'Batch Size': 8, 'Hidden Dim': 64, 'N layers': 2, 'Learning Rate': 0.0014512922554295957, 'Factor': 0.8500000000000001}. Best is trial 4 with value: 0.008704914711415768.\u001b[0m\n",
      "\u001b[32m[I 2021-06-26 03:21:38,683]\u001b[0m Trial 115 finished with value: 0.010220196098089218 and parameters: {'Look Back': 25, 'Batch Size': 8, 'Hidden Dim': 64, 'N layers': 2, 'Learning Rate': 0.0013854056402256073, 'Factor': 0.8500000000000001}. Best is trial 4 with value: 0.008704914711415768.\u001b[0m\n",
      "\u001b[32m[I 2021-06-26 03:21:38,951]\u001b[0m Trial 116 pruned. \u001b[0m\n",
      "\u001b[32m[I 2021-06-26 03:21:49,430]\u001b[0m Trial 117 finished with value: 0.010013398714363575 and parameters: {'Look Back': 25, 'Batch Size': 8, 'Hidden Dim': 64, 'N layers': 2, 'Learning Rate': 0.0013860032634983063, 'Factor': 0.8500000000000001}. Best is trial 4 with value: 0.008704914711415768.\u001b[0m\n",
      "\u001b[32m[I 2021-06-26 03:21:49,694]\u001b[0m Trial 118 pruned. \u001b[0m\n",
      "\u001b[32m[I 2021-06-26 03:21:50,196]\u001b[0m Trial 119 pruned. \u001b[0m\n",
      "\u001b[32m[I 2021-06-26 03:21:50,733]\u001b[0m Trial 120 pruned. \u001b[0m\n",
      "\u001b[32m[I 2021-06-26 03:21:51,015]\u001b[0m Trial 121 pruned. \u001b[0m\n",
      "\u001b[32m[I 2021-06-26 03:21:51,555]\u001b[0m Trial 122 pruned. \u001b[0m\n",
      "\u001b[32m[I 2021-06-26 03:21:52,055]\u001b[0m Trial 123 pruned. \u001b[0m\n",
      "\u001b[32m[I 2021-06-26 03:21:52,328]\u001b[0m Trial 124 pruned. \u001b[0m\n",
      "\u001b[32m[I 2021-06-26 03:21:56,683]\u001b[0m Trial 125 pruned. \u001b[0m\n",
      "\u001b[32m[I 2021-06-26 03:21:56,945]\u001b[0m Trial 126 pruned. \u001b[0m\n",
      "\u001b[32m[I 2021-06-26 03:22:03,936]\u001b[0m Trial 127 pruned. \u001b[0m\n",
      "\u001b[32m[I 2021-06-26 03:22:04,206]\u001b[0m Trial 128 pruned. \u001b[0m\n",
      "\u001b[32m[I 2021-06-26 03:22:04,500]\u001b[0m Trial 129 pruned. \u001b[0m\n",
      "\u001b[32m[I 2021-06-26 03:22:04,765]\u001b[0m Trial 130 pruned. \u001b[0m\n",
      "\u001b[32m[I 2021-06-26 03:22:07,201]\u001b[0m Trial 131 pruned. \u001b[0m\n",
      "\u001b[32m[I 2021-06-26 03:22:07,745]\u001b[0m Trial 132 pruned. \u001b[0m\n",
      "\u001b[32m[I 2021-06-26 03:22:08,034]\u001b[0m Trial 133 pruned. \u001b[0m\n",
      "\u001b[32m[I 2021-06-26 03:22:08,300]\u001b[0m Trial 134 pruned. \u001b[0m\n",
      "\u001b[32m[I 2021-06-26 03:22:08,400]\u001b[0m Trial 135 pruned. \u001b[0m\n",
      "\u001b[32m[I 2021-06-26 03:22:08,666]\u001b[0m Trial 136 pruned. \u001b[0m\n",
      "\u001b[32m[I 2021-06-26 03:22:08,925]\u001b[0m Trial 137 pruned. \u001b[0m\n",
      "\u001b[32m[I 2021-06-26 03:22:09,028]\u001b[0m Trial 138 pruned. \u001b[0m\n",
      "\u001b[32m[I 2021-06-26 03:22:09,182]\u001b[0m Trial 139 pruned. \u001b[0m\n",
      "\u001b[32m[I 2021-06-26 03:22:09,847]\u001b[0m Trial 140 pruned. \u001b[0m\n",
      "\u001b[32m[I 2021-06-26 03:22:09,948]\u001b[0m Trial 141 pruned. \u001b[0m\n",
      "\u001b[32m[I 2021-06-26 03:22:12,908]\u001b[0m Trial 142 pruned. \u001b[0m\n",
      "\u001b[32m[I 2021-06-26 03:22:12,968]\u001b[0m Trial 143 pruned. \u001b[0m\n",
      "\u001b[32m[I 2021-06-26 03:22:13,069]\u001b[0m Trial 144 pruned. \u001b[0m\n",
      "\u001b[32m[I 2021-06-26 03:22:13,611]\u001b[0m Trial 145 pruned. \u001b[0m\n",
      "\u001b[32m[I 2021-06-26 03:22:20,973]\u001b[0m Trial 146 pruned. \u001b[0m\n",
      "\u001b[32m[I 2021-06-26 03:22:21,051]\u001b[0m Trial 147 pruned. \u001b[0m\n",
      "\u001b[32m[I 2021-06-26 03:22:21,892]\u001b[0m Trial 148 pruned. \u001b[0m\n",
      "\u001b[32m[I 2021-06-26 03:22:21,993]\u001b[0m Trial 149 pruned. \u001b[0m\n",
      "\u001b[32m[I 2021-06-26 03:22:22,534]\u001b[0m Trial 150 pruned. \u001b[0m\n",
      "\u001b[32m[I 2021-06-26 03:22:24,320]\u001b[0m Trial 151 pruned. \u001b[0m\n",
      "\u001b[32m[I 2021-06-26 03:22:25,038]\u001b[0m Trial 152 pruned. \u001b[0m\n",
      "\u001b[32m[I 2021-06-26 03:22:25,669]\u001b[0m Trial 153 pruned. \u001b[0m\n",
      "\u001b[32m[I 2021-06-26 03:22:25,856]\u001b[0m Trial 154 pruned. \u001b[0m\n",
      "\u001b[32m[I 2021-06-26 03:22:26,516]\u001b[0m Trial 155 pruned. \u001b[0m\n",
      "\u001b[32m[I 2021-06-26 03:22:26,817]\u001b[0m Trial 156 pruned. \u001b[0m\n",
      "\u001b[32m[I 2021-06-26 03:22:27,037]\u001b[0m Trial 157 pruned. \u001b[0m\n",
      "\u001b[32m[I 2021-06-26 03:22:28,164]\u001b[0m Trial 158 pruned. \u001b[0m\n",
      "\u001b[32m[I 2021-06-26 03:22:28,283]\u001b[0m Trial 159 pruned. \u001b[0m\n",
      "\u001b[32m[I 2021-06-26 03:22:28,561]\u001b[0m Trial 160 pruned. \u001b[0m\n",
      "\u001b[32m[I 2021-06-26 03:22:43,743]\u001b[0m Trial 161 finished with value: 0.012086758390069008 and parameters: {'Look Back': 50, 'Batch Size': 4, 'Hidden Dim': 16, 'N layers': 3, 'Learning Rate': 0.00410391268192356, 'Factor': 0.65}. Best is trial 4 with value: 0.008704914711415768.\u001b[0m\n",
      "\u001b[32m[I 2021-06-26 03:22:59,033]\u001b[0m Trial 162 finished with value: 0.015985354781150818 and parameters: {'Look Back': 50, 'Batch Size': 4, 'Hidden Dim': 16, 'N layers': 3, 'Learning Rate': 0.004109562403975835, 'Factor': 0.55}. Best is trial 4 with value: 0.008704914711415768.\u001b[0m\n",
      "\u001b[32m[I 2021-06-26 03:23:00,489]\u001b[0m Trial 163 pruned. \u001b[0m\n",
      "\u001b[32m[I 2021-06-26 03:23:01,227]\u001b[0m Trial 164 pruned. \u001b[0m\n",
      "\u001b[32m[I 2021-06-26 03:23:01,833]\u001b[0m Trial 165 pruned. \u001b[0m\n",
      "\u001b[32m[I 2021-06-26 03:23:02,533]\u001b[0m Trial 166 pruned. \u001b[0m\n",
      "\u001b[32m[I 2021-06-26 03:23:03,308]\u001b[0m Trial 167 pruned. \u001b[0m\n",
      "\u001b[32m[I 2021-06-26 03:23:03,413]\u001b[0m Trial 168 pruned. \u001b[0m\n",
      "\u001b[32m[I 2021-06-26 03:23:03,753]\u001b[0m Trial 169 pruned. \u001b[0m\n",
      "\u001b[32m[I 2021-06-26 03:23:03,844]\u001b[0m Trial 170 pruned. \u001b[0m\n",
      "\u001b[32m[I 2021-06-26 03:23:05,321]\u001b[0m Trial 171 pruned. \u001b[0m\n",
      "\u001b[32m[I 2021-06-26 03:23:06,070]\u001b[0m Trial 172 pruned. \u001b[0m\n",
      "\u001b[32m[I 2021-06-26 03:23:06,838]\u001b[0m Trial 173 pruned. \u001b[0m\n",
      "\u001b[32m[I 2021-06-26 03:23:07,594]\u001b[0m Trial 174 pruned. \u001b[0m\n",
      "\u001b[32m[I 2021-06-26 03:23:08,309]\u001b[0m Trial 175 pruned. \u001b[0m\n",
      "\u001b[32m[I 2021-06-26 03:23:08,909]\u001b[0m Trial 176 pruned. \u001b[0m\n",
      "\u001b[32m[I 2021-06-26 03:23:09,284]\u001b[0m Trial 177 pruned. \u001b[0m\n",
      "\u001b[32m[I 2021-06-26 03:23:09,399]\u001b[0m Trial 178 pruned. \u001b[0m\n",
      "\u001b[32m[I 2021-06-26 03:23:09,740]\u001b[0m Trial 179 pruned. \u001b[0m\n",
      "\u001b[32m[I 2021-06-26 03:23:10,256]\u001b[0m Trial 180 pruned. \u001b[0m\n",
      "\u001b[32m[I 2021-06-26 03:23:11,025]\u001b[0m Trial 181 pruned. \u001b[0m\n",
      "\u001b[32m[I 2021-06-26 03:23:26,133]\u001b[0m Trial 182 finished with value: 0.009233214892446995 and parameters: {'Look Back': 50, 'Batch Size': 4, 'Hidden Dim': 16, 'N layers': 3, 'Learning Rate': 0.0030823968372535814, 'Factor': 0.65}. Best is trial 4 with value: 0.008704914711415768.\u001b[0m\n",
      "\u001b[32m[I 2021-06-26 03:23:26,887]\u001b[0m Trial 183 pruned. \u001b[0m\n",
      "\u001b[32m[I 2021-06-26 03:23:42,346]\u001b[0m Trial 184 finished with value: 0.010464410297572613 and parameters: {'Look Back': 50, 'Batch Size': 4, 'Hidden Dim': 16, 'N layers': 3, 'Learning Rate': 0.005930597357525507, 'Factor': 0.65}. Best is trial 4 with value: 0.008704914711415768.\u001b[0m\n",
      "\u001b[32m[I 2021-06-26 03:23:43,094]\u001b[0m Trial 185 pruned. \u001b[0m\n"
     ]
    },
    {
     "name": "stderr",
     "output_type": "stream",
     "text": [
      "\u001b[32m[I 2021-06-26 03:23:43,447]\u001b[0m Trial 186 pruned. \u001b[0m\n",
      "\u001b[32m[I 2021-06-26 03:23:43,592]\u001b[0m Trial 187 pruned. \u001b[0m\n",
      "\u001b[32m[I 2021-06-26 03:23:45,082]\u001b[0m Trial 188 pruned. \u001b[0m\n",
      "\u001b[32m[I 2021-06-26 03:23:48,672]\u001b[0m Trial 189 pruned. \u001b[0m\n",
      "\u001b[32m[I 2021-06-26 03:23:48,910]\u001b[0m Trial 190 pruned. \u001b[0m\n",
      "\u001b[32m[I 2021-06-26 03:23:49,722]\u001b[0m Trial 191 pruned. \u001b[0m\n",
      "\u001b[32m[I 2021-06-26 03:23:51,251]\u001b[0m Trial 192 pruned. \u001b[0m\n",
      "\u001b[32m[I 2021-06-26 03:23:52,791]\u001b[0m Trial 193 pruned. \u001b[0m\n",
      "\u001b[32m[I 2021-06-26 03:24:08,577]\u001b[0m Trial 194 finished with value: 0.011682364158332348 and parameters: {'Look Back': 50, 'Batch Size': 4, 'Hidden Dim': 16, 'N layers': 3, 'Learning Rate': 0.0074573601143211035, 'Factor': 0.8500000000000001}. Best is trial 4 with value: 0.008704914711415768.\u001b[0m\n",
      "\u001b[32m[I 2021-06-26 03:24:10,862]\u001b[0m Trial 195 pruned. \u001b[0m\n",
      "\u001b[32m[I 2021-06-26 03:24:11,644]\u001b[0m Trial 196 pruned. \u001b[0m\n",
      "\u001b[32m[I 2021-06-26 03:24:11,799]\u001b[0m Trial 197 pruned. \u001b[0m\n",
      "\u001b[32m[I 2021-06-26 03:24:12,714]\u001b[0m Trial 198 pruned. \u001b[0m\n",
      "\u001b[32m[I 2021-06-26 03:24:13,308]\u001b[0m Trial 199 pruned. \u001b[0m\n",
      "\u001b[32m[I 2021-06-26 03:24:14,628]\u001b[0m Trial 200 pruned. \u001b[0m\n",
      "\u001b[32m[I 2021-06-26 03:24:15,383]\u001b[0m Trial 201 pruned. \u001b[0m\n",
      "\u001b[32m[I 2021-06-26 03:24:16,145]\u001b[0m Trial 202 pruned. \u001b[0m\n",
      "\u001b[32m[I 2021-06-26 03:24:31,570]\u001b[0m Trial 203 finished with value: 0.011598366312682629 and parameters: {'Look Back': 50, 'Batch Size': 4, 'Hidden Dim': 16, 'N layers': 3, 'Learning Rate': 0.005911437164756994, 'Factor': 0.8500000000000001}. Best is trial 4 with value: 0.008704914711415768.\u001b[0m\n",
      "\u001b[32m[I 2021-06-26 03:24:32,160]\u001b[0m Trial 204 pruned. \u001b[0m\n",
      "\u001b[32m[I 2021-06-26 03:24:32,917]\u001b[0m Trial 205 pruned. \u001b[0m\n",
      "\u001b[32m[I 2021-06-26 03:24:33,060]\u001b[0m Trial 206 pruned. \u001b[0m\n",
      "\u001b[32m[I 2021-06-26 03:24:33,208]\u001b[0m Trial 207 pruned. \u001b[0m\n",
      "\u001b[32m[I 2021-06-26 03:24:33,887]\u001b[0m Trial 208 pruned. \u001b[0m\n",
      "\u001b[32m[I 2021-06-26 03:24:34,341]\u001b[0m Trial 209 pruned. \u001b[0m\n",
      "\u001b[32m[I 2021-06-26 03:24:34,932]\u001b[0m Trial 210 pruned. \u001b[0m\n",
      "\u001b[32m[I 2021-06-26 03:24:37,164]\u001b[0m Trial 211 pruned. \u001b[0m\n",
      "\u001b[32m[I 2021-06-26 03:24:37,923]\u001b[0m Trial 212 pruned. \u001b[0m\n",
      "\u001b[32m[I 2021-06-26 03:24:38,694]\u001b[0m Trial 213 pruned. \u001b[0m\n",
      "\u001b[32m[I 2021-06-26 03:24:53,852]\u001b[0m Trial 214 finished with value: 0.015362383797764778 and parameters: {'Look Back': 50, 'Batch Size': 4, 'Hidden Dim': 16, 'N layers': 3, 'Learning Rate': 0.0027137268200089245, 'Factor': 0.8500000000000001}. Best is trial 4 with value: 0.008704914711415768.\u001b[0m\n",
      "\u001b[32m[I 2021-06-26 03:24:54,612]\u001b[0m Trial 215 pruned. \u001b[0m\n",
      "\u001b[32m[I 2021-06-26 03:24:54,759]\u001b[0m Trial 216 pruned. \u001b[0m\n",
      "\u001b[32m[I 2021-06-26 03:24:55,397]\u001b[0m Trial 217 pruned. \u001b[0m\n",
      "\u001b[32m[I 2021-06-26 03:24:56,514]\u001b[0m Trial 218 pruned. \u001b[0m\n",
      "\u001b[32m[I 2021-06-26 03:24:56,807]\u001b[0m Trial 219 pruned. \u001b[0m\n",
      "\u001b[32m[I 2021-06-26 03:24:56,886]\u001b[0m Trial 220 pruned. \u001b[0m\n",
      "\u001b[32m[I 2021-06-26 03:24:57,649]\u001b[0m Trial 221 pruned. \u001b[0m\n",
      "\u001b[32m[I 2021-06-26 03:24:58,412]\u001b[0m Trial 222 pruned. \u001b[0m\n",
      "\u001b[32m[I 2021-06-26 03:25:00,627]\u001b[0m Trial 223 pruned. \u001b[0m\n",
      "\u001b[32m[I 2021-06-26 03:25:15,860]\u001b[0m Trial 224 finished with value: 0.020156173035502434 and parameters: {'Look Back': 50, 'Batch Size': 4, 'Hidden Dim': 16, 'N layers': 3, 'Learning Rate': 0.003968834258900445, 'Factor': 0.65}. Best is trial 4 with value: 0.008704914711415768.\u001b[0m\n",
      "\u001b[32m[I 2021-06-26 03:25:16,628]\u001b[0m Trial 225 pruned. \u001b[0m\n",
      "\u001b[32m[I 2021-06-26 03:25:32,056]\u001b[0m Trial 226 finished with value: 0.012638624757528305 and parameters: {'Look Back': 50, 'Batch Size': 4, 'Hidden Dim': 32, 'N layers': 3, 'Learning Rate': 0.0013676009663360432, 'Factor': 0.8500000000000001}. Best is trial 4 with value: 0.008704914711415768.\u001b[0m\n",
      "\u001b[32m[I 2021-06-26 03:25:32,194]\u001b[0m Trial 227 pruned. \u001b[0m\n",
      "\u001b[32m[I 2021-06-26 03:25:32,589]\u001b[0m Trial 228 pruned. \u001b[0m\n",
      "\u001b[32m[I 2021-06-26 03:25:33,052]\u001b[0m Trial 229 pruned. \u001b[0m\n",
      "\u001b[32m[I 2021-06-26 03:25:33,397]\u001b[0m Trial 230 pruned. \u001b[0m\n",
      "\u001b[32m[I 2021-06-26 03:25:34,163]\u001b[0m Trial 231 pruned. \u001b[0m\n",
      "\u001b[32m[I 2021-06-26 03:25:34,942]\u001b[0m Trial 232 pruned. \u001b[0m\n",
      "\u001b[32m[I 2021-06-26 03:25:35,745]\u001b[0m Trial 233 pruned. \u001b[0m\n",
      "\u001b[32m[I 2021-06-26 03:25:37,127]\u001b[0m Trial 234 pruned. \u001b[0m\n",
      "\u001b[32m[I 2021-06-26 03:25:38,687]\u001b[0m Trial 235 pruned. \u001b[0m\n",
      "\u001b[32m[I 2021-06-26 03:25:39,454]\u001b[0m Trial 236 pruned. \u001b[0m\n",
      "\u001b[32m[I 2021-06-26 03:25:39,573]\u001b[0m Trial 237 pruned. \u001b[0m\n",
      "\u001b[32m[I 2021-06-26 03:25:39,901]\u001b[0m Trial 238 pruned. \u001b[0m\n",
      "\u001b[32m[I 2021-06-26 03:25:40,703]\u001b[0m Trial 239 pruned. \u001b[0m\n",
      "\u001b[32m[I 2021-06-26 03:25:41,404]\u001b[0m Trial 240 pruned. \u001b[0m\n",
      "\u001b[32m[I 2021-06-26 03:25:42,181]\u001b[0m Trial 241 pruned. \u001b[0m\n",
      "\u001b[32m[I 2021-06-26 03:25:42,951]\u001b[0m Trial 242 pruned. \u001b[0m\n",
      "\u001b[32m[I 2021-06-26 03:25:44,497]\u001b[0m Trial 243 pruned. \u001b[0m\n",
      "\u001b[32m[I 2021-06-26 03:25:45,275]\u001b[0m Trial 244 pruned. \u001b[0m\n",
      "\u001b[32m[I 2021-06-26 03:25:45,686]\u001b[0m Trial 245 pruned. \u001b[0m\n",
      "\u001b[32m[I 2021-06-26 03:25:46,209]\u001b[0m Trial 246 pruned. \u001b[0m\n",
      "\u001b[32m[I 2021-06-26 03:25:46,302]\u001b[0m Trial 247 pruned. \u001b[0m\n",
      "\u001b[32m[I 2021-06-26 03:25:46,614]\u001b[0m Trial 248 pruned. \u001b[0m\n",
      "\u001b[32m[I 2021-06-26 03:25:47,247]\u001b[0m Trial 249 pruned. \u001b[0m\n",
      "\u001b[32m[I 2021-06-26 03:25:48,188]\u001b[0m Trial 250 pruned. \u001b[0m\n",
      "\u001b[32m[I 2021-06-26 03:25:48,398]\u001b[0m Trial 251 pruned. \u001b[0m\n",
      "\u001b[32m[I 2021-06-26 03:25:48,583]\u001b[0m Trial 252 pruned. \u001b[0m\n",
      "\u001b[32m[I 2021-06-26 03:25:49,354]\u001b[0m Trial 253 pruned. \u001b[0m\n",
      "\u001b[32m[I 2021-06-26 03:25:49,590]\u001b[0m Trial 254 pruned. \u001b[0m\n",
      "\u001b[32m[I 2021-06-26 03:25:50,205]\u001b[0m Trial 255 pruned. \u001b[0m\n",
      "\u001b[32m[I 2021-06-26 03:25:50,464]\u001b[0m Trial 256 pruned. \u001b[0m\n",
      "\u001b[32m[I 2021-06-26 03:25:51,052]\u001b[0m Trial 257 pruned. \u001b[0m\n",
      "\u001b[32m[I 2021-06-26 03:26:08,782]\u001b[0m Trial 258 finished with value: 0.010177252814173698 and parameters: {'Look Back': 50, 'Batch Size': 8, 'Hidden Dim': 64, 'N layers': 3, 'Learning Rate': 0.002193641827306012, 'Factor': 0.55}. Best is trial 4 with value: 0.008704914711415768.\u001b[0m\n",
      "\u001b[32m[I 2021-06-26 03:26:09,049]\u001b[0m Trial 259 pruned. \u001b[0m\n",
      "\u001b[32m[I 2021-06-26 03:26:09,486]\u001b[0m Trial 260 pruned. \u001b[0m\n",
      "\u001b[32m[I 2021-06-26 03:26:09,860]\u001b[0m Trial 261 pruned. \u001b[0m\n",
      "\u001b[32m[I 2021-06-26 03:26:10,213]\u001b[0m Trial 262 pruned. \u001b[0m\n",
      "\u001b[32m[I 2021-06-26 03:26:10,646]\u001b[0m Trial 263 pruned. \u001b[0m\n",
      "\u001b[32m[I 2021-06-26 03:26:10,752]\u001b[0m Trial 264 pruned. \u001b[0m\n",
      "\u001b[32m[I 2021-06-26 03:26:11,138]\u001b[0m Trial 265 pruned. \u001b[0m\n",
      "\u001b[32m[I 2021-06-26 03:26:11,617]\u001b[0m Trial 266 pruned. \u001b[0m\n",
      "\u001b[32m[I 2021-06-26 03:26:11,703]\u001b[0m Trial 267 pruned. \u001b[0m\n",
      "\u001b[32m[I 2021-06-26 03:26:12,031]\u001b[0m Trial 268 pruned. \u001b[0m\n",
      "\u001b[32m[I 2021-06-26 03:26:12,367]\u001b[0m Trial 269 pruned. \u001b[0m\n",
      "\u001b[32m[I 2021-06-26 03:26:12,475]\u001b[0m Trial 270 pruned. \u001b[0m\n",
      "\u001b[32m[I 2021-06-26 03:26:13,115]\u001b[0m Trial 271 pruned. \u001b[0m\n",
      "\u001b[32m[I 2021-06-26 03:26:13,533]\u001b[0m Trial 272 pruned. \u001b[0m\n",
      "\u001b[32m[I 2021-06-26 03:26:13,621]\u001b[0m Trial 273 pruned. \u001b[0m\n",
      "\u001b[32m[I 2021-06-26 03:26:14,289]\u001b[0m Trial 274 pruned. \u001b[0m\n",
      "\u001b[32m[I 2021-06-26 03:26:14,787]\u001b[0m Trial 275 pruned. \u001b[0m\n",
      "\u001b[32m[I 2021-06-26 03:26:15,204]\u001b[0m Trial 276 pruned. \u001b[0m\n",
      "\u001b[32m[I 2021-06-26 03:26:15,339]\u001b[0m Trial 277 pruned. \u001b[0m\n",
      "\u001b[32m[I 2021-06-26 03:26:15,931]\u001b[0m Trial 278 pruned. \u001b[0m\n",
      "\u001b[32m[I 2021-06-26 03:26:16,267]\u001b[0m Trial 279 pruned. \u001b[0m\n",
      "\u001b[32m[I 2021-06-26 03:26:29,989]\u001b[0m Trial 280 finished with value: 0.010004264302551746 and parameters: {'Look Back': 25, 'Batch Size': 4, 'Hidden Dim': 128, 'N layers': 3, 'Learning Rate': 0.0029324533581728224, 'Factor': 0.55}. Best is trial 4 with value: 0.008704914711415768.\u001b[0m\n",
      "\u001b[32m[I 2021-06-26 03:26:30,672]\u001b[0m Trial 281 pruned. \u001b[0m\n",
      "\u001b[32m[I 2021-06-26 03:26:30,954]\u001b[0m Trial 282 pruned. \u001b[0m\n",
      "\u001b[32m[I 2021-06-26 03:26:31,083]\u001b[0m Trial 283 pruned. \u001b[0m\n",
      "\u001b[32m[I 2021-06-26 03:26:31,754]\u001b[0m Trial 284 pruned. \u001b[0m\n",
      "\u001b[32m[I 2021-06-26 03:26:32,133]\u001b[0m Trial 285 pruned. \u001b[0m\n",
      "\u001b[32m[I 2021-06-26 03:26:32,726]\u001b[0m Trial 286 pruned. \u001b[0m\n",
      "\u001b[32m[I 2021-06-26 03:26:34,057]\u001b[0m Trial 287 pruned. \u001b[0m\n",
      "\u001b[32m[I 2021-06-26 03:26:34,403]\u001b[0m Trial 288 pruned. \u001b[0m\n",
      "\u001b[32m[I 2021-06-26 03:26:34,502]\u001b[0m Trial 289 pruned. \u001b[0m\n",
      "\u001b[32m[I 2021-06-26 03:26:35,023]\u001b[0m Trial 290 pruned. \u001b[0m\n",
      "\u001b[32m[I 2021-06-26 03:26:35,536]\u001b[0m Trial 291 pruned. \u001b[0m\n",
      "\u001b[32m[I 2021-06-26 03:26:36,156]\u001b[0m Trial 292 pruned. \u001b[0m\n",
      "\u001b[32m[I 2021-06-26 03:26:36,324]\u001b[0m Trial 293 pruned. \u001b[0m\n",
      "\u001b[32m[I 2021-06-26 03:26:36,699]\u001b[0m Trial 294 pruned. \u001b[0m\n",
      "\u001b[32m[I 2021-06-26 03:26:37,457]\u001b[0m Trial 295 pruned. \u001b[0m\n"
     ]
    },
    {
     "name": "stderr",
     "output_type": "stream",
     "text": [
      "\u001b[32m[I 2021-06-26 03:26:37,577]\u001b[0m Trial 296 pruned. \u001b[0m\n",
      "\u001b[32m[I 2021-06-26 03:26:37,645]\u001b[0m Trial 297 pruned. \u001b[0m\n",
      "\u001b[32m[I 2021-06-26 03:26:38,118]\u001b[0m Trial 298 pruned. \u001b[0m\n",
      "\u001b[32m[I 2021-06-26 03:26:38,548]\u001b[0m Trial 299 pruned. \u001b[0m\n",
      "\u001b[32m[I 2021-06-26 03:26:39,402]\u001b[0m Trial 300 pruned. \u001b[0m\n",
      "\u001b[32m[I 2021-06-26 03:26:39,641]\u001b[0m Trial 301 pruned. \u001b[0m\n",
      "\u001b[32m[I 2021-06-26 03:26:39,781]\u001b[0m Trial 302 pruned. \u001b[0m\n",
      "\u001b[32m[I 2021-06-26 03:26:40,962]\u001b[0m Trial 303 pruned. \u001b[0m\n",
      "\u001b[32m[I 2021-06-26 03:26:41,283]\u001b[0m Trial 304 pruned. \u001b[0m\n",
      "\u001b[32m[I 2021-06-26 03:26:41,878]\u001b[0m Trial 305 pruned. \u001b[0m\n",
      "\u001b[32m[I 2021-06-26 03:26:42,855]\u001b[0m Trial 306 pruned. \u001b[0m\n",
      "\u001b[32m[I 2021-06-26 03:26:43,347]\u001b[0m Trial 307 pruned. \u001b[0m\n",
      "\u001b[32m[I 2021-06-26 03:26:43,488]\u001b[0m Trial 308 pruned. \u001b[0m\n",
      "\u001b[32m[I 2021-06-26 03:26:44,124]\u001b[0m Trial 309 pruned. \u001b[0m\n",
      "\u001b[32m[I 2021-06-26 03:26:44,514]\u001b[0m Trial 310 pruned. \u001b[0m\n",
      "\u001b[32m[I 2021-06-26 03:26:45,141]\u001b[0m Trial 311 pruned. \u001b[0m\n",
      "\u001b[32m[I 2021-06-26 03:26:45,697]\u001b[0m Trial 312 pruned. \u001b[0m\n",
      "\u001b[32m[I 2021-06-26 03:26:45,818]\u001b[0m Trial 313 pruned. \u001b[0m\n",
      "\u001b[32m[I 2021-06-26 03:26:46,587]\u001b[0m Trial 314 pruned. \u001b[0m\n",
      "\u001b[32m[I 2021-06-26 03:26:47,000]\u001b[0m Trial 315 pruned. \u001b[0m\n",
      "\u001b[32m[I 2021-06-26 03:26:47,620]\u001b[0m Trial 316 pruned. \u001b[0m\n",
      "\u001b[32m[I 2021-06-26 03:26:48,364]\u001b[0m Trial 317 pruned. \u001b[0m\n",
      "\u001b[32m[I 2021-06-26 03:26:48,732]\u001b[0m Trial 318 pruned. \u001b[0m\n",
      "\u001b[32m[I 2021-06-26 03:26:48,826]\u001b[0m Trial 319 pruned. \u001b[0m\n",
      "\u001b[32m[I 2021-06-26 03:26:49,544]\u001b[0m Trial 320 pruned. \u001b[0m\n",
      "\u001b[32m[I 2021-06-26 03:26:49,773]\u001b[0m Trial 321 pruned. \u001b[0m\n",
      "\u001b[32m[I 2021-06-26 03:26:50,554]\u001b[0m Trial 322 pruned. \u001b[0m\n",
      "\u001b[32m[I 2021-06-26 03:26:51,135]\u001b[0m Trial 323 pruned. \u001b[0m\n",
      "\u001b[32m[I 2021-06-26 03:27:03,320]\u001b[0m Trial 324 finished with value: 0.010483628138899803 and parameters: {'Look Back': 50, 'Batch Size': 8, 'Hidden Dim': 16, 'N layers': 2, 'Learning Rate': 0.01996334794604217, 'Factor': 0.55}. Best is trial 4 with value: 0.008704914711415768.\u001b[0m\n",
      "\u001b[32m[I 2021-06-26 03:27:03,634]\u001b[0m Trial 325 pruned. \u001b[0m\n",
      "\u001b[32m[I 2021-06-26 03:27:04,182]\u001b[0m Trial 326 pruned. \u001b[0m\n",
      "\u001b[32m[I 2021-06-26 03:27:04,479]\u001b[0m Trial 327 pruned. \u001b[0m\n",
      "\u001b[32m[I 2021-06-26 03:27:04,813]\u001b[0m Trial 328 pruned. \u001b[0m\n",
      "\u001b[32m[I 2021-06-26 03:27:05,047]\u001b[0m Trial 329 pruned. \u001b[0m\n",
      "\u001b[32m[I 2021-06-26 03:27:05,301]\u001b[0m Trial 330 pruned. \u001b[0m\n",
      "\u001b[32m[I 2021-06-26 03:27:05,427]\u001b[0m Trial 331 pruned. \u001b[0m\n",
      "\u001b[32m[I 2021-06-26 03:27:05,708]\u001b[0m Trial 332 pruned. \u001b[0m\n",
      "\u001b[32m[I 2021-06-26 03:27:06,255]\u001b[0m Trial 333 pruned. \u001b[0m\n",
      "\u001b[32m[I 2021-06-26 03:27:06,374]\u001b[0m Trial 334 pruned. \u001b[0m\n",
      "\u001b[32m[I 2021-06-26 03:27:06,434]\u001b[0m Trial 335 pruned. \u001b[0m\n",
      "\u001b[32m[I 2021-06-26 03:27:06,773]\u001b[0m Trial 336 pruned. \u001b[0m\n",
      "\u001b[32m[I 2021-06-26 03:27:07,573]\u001b[0m Trial 337 pruned. \u001b[0m\n",
      "\u001b[32m[I 2021-06-26 03:27:07,902]\u001b[0m Trial 338 pruned. \u001b[0m\n",
      "\u001b[32m[I 2021-06-26 03:27:08,016]\u001b[0m Trial 339 pruned. \u001b[0m\n",
      "\u001b[32m[I 2021-06-26 03:27:09,264]\u001b[0m Trial 340 pruned. \u001b[0m\n",
      "\u001b[32m[I 2021-06-26 03:27:09,659]\u001b[0m Trial 341 pruned. \u001b[0m\n",
      "\u001b[32m[I 2021-06-26 03:27:10,257]\u001b[0m Trial 342 pruned. \u001b[0m\n",
      "\u001b[32m[I 2021-06-26 03:27:10,957]\u001b[0m Trial 343 pruned. \u001b[0m\n",
      "\u001b[32m[I 2021-06-26 03:27:11,099]\u001b[0m Trial 344 pruned. \u001b[0m\n",
      "\u001b[32m[I 2021-06-26 03:27:11,751]\u001b[0m Trial 345 pruned. \u001b[0m\n",
      "\u001b[32m[I 2021-06-26 03:27:12,095]\u001b[0m Trial 346 pruned. \u001b[0m\n",
      "\u001b[32m[I 2021-06-26 03:27:12,705]\u001b[0m Trial 347 pruned. \u001b[0m\n",
      "\u001b[32m[I 2021-06-26 03:27:13,190]\u001b[0m Trial 348 pruned. \u001b[0m\n",
      "\u001b[32m[I 2021-06-26 03:27:13,855]\u001b[0m Trial 349 pruned. \u001b[0m\n",
      "\u001b[32m[I 2021-06-26 03:27:14,008]\u001b[0m Trial 350 pruned. \u001b[0m\n",
      "\u001b[32m[I 2021-06-26 03:27:14,774]\u001b[0m Trial 351 pruned. \u001b[0m\n",
      "\u001b[32m[I 2021-06-26 03:27:15,542]\u001b[0m Trial 352 pruned. \u001b[0m\n",
      "\u001b[32m[I 2021-06-26 03:27:15,818]\u001b[0m Trial 353 pruned. \u001b[0m\n",
      "\u001b[32m[I 2021-06-26 03:27:16,461]\u001b[0m Trial 354 pruned. \u001b[0m\n",
      "\u001b[32m[I 2021-06-26 03:27:16,704]\u001b[0m Trial 355 pruned. \u001b[0m\n",
      "\u001b[32m[I 2021-06-26 03:27:16,834]\u001b[0m Trial 356 pruned. \u001b[0m\n",
      "\u001b[32m[I 2021-06-26 03:27:17,445]\u001b[0m Trial 357 pruned. \u001b[0m\n",
      "\u001b[32m[I 2021-06-26 03:27:17,772]\u001b[0m Trial 358 pruned. \u001b[0m\n",
      "\u001b[32m[I 2021-06-26 03:27:18,509]\u001b[0m Trial 359 pruned. \u001b[0m\n",
      "\u001b[32m[I 2021-06-26 03:27:18,869]\u001b[0m Trial 360 pruned. \u001b[0m\n",
      "\u001b[32m[I 2021-06-26 03:27:19,532]\u001b[0m Trial 361 pruned. \u001b[0m\n",
      "\u001b[32m[I 2021-06-26 03:27:19,614]\u001b[0m Trial 362 pruned. \u001b[0m\n",
      "\u001b[32m[I 2021-06-26 03:27:19,747]\u001b[0m Trial 363 pruned. \u001b[0m\n",
      "\u001b[32m[I 2021-06-26 03:27:20,073]\u001b[0m Trial 364 pruned. \u001b[0m\n",
      "\u001b[32m[I 2021-06-26 03:27:20,680]\u001b[0m Trial 365 pruned. \u001b[0m\n",
      "\u001b[32m[I 2021-06-26 03:27:21,045]\u001b[0m Trial 366 pruned. \u001b[0m\n",
      "\u001b[32m[I 2021-06-26 03:27:21,625]\u001b[0m Trial 367 pruned. \u001b[0m\n",
      "\u001b[32m[I 2021-06-26 03:27:21,749]\u001b[0m Trial 368 pruned. \u001b[0m\n",
      "\u001b[32m[I 2021-06-26 03:27:22,097]\u001b[0m Trial 369 pruned. \u001b[0m\n",
      "\u001b[32m[I 2021-06-26 03:27:22,871]\u001b[0m Trial 370 pruned. \u001b[0m\n",
      "\u001b[32m[I 2021-06-26 03:27:23,131]\u001b[0m Trial 371 pruned. \u001b[0m\n",
      "\u001b[32m[I 2021-06-26 03:27:24,352]\u001b[0m Trial 372 pruned. \u001b[0m\n",
      "\u001b[32m[I 2021-06-26 03:27:24,830]\u001b[0m Trial 373 pruned. \u001b[0m\n",
      "\u001b[32m[I 2021-06-26 03:27:24,942]\u001b[0m Trial 374 pruned. \u001b[0m\n",
      "\u001b[32m[I 2021-06-26 03:27:25,640]\u001b[0m Trial 375 pruned. \u001b[0m\n",
      "\u001b[32m[I 2021-06-26 03:27:25,921]\u001b[0m Trial 376 pruned. \u001b[0m\n",
      "\u001b[32m[I 2021-06-26 03:27:26,676]\u001b[0m Trial 377 pruned. \u001b[0m\n",
      "\u001b[32m[I 2021-06-26 03:27:27,262]\u001b[0m Trial 378 pruned. \u001b[0m\n",
      "\u001b[32m[I 2021-06-26 03:27:27,627]\u001b[0m Trial 379 pruned. \u001b[0m\n",
      "\u001b[32m[I 2021-06-26 03:27:27,773]\u001b[0m Trial 380 pruned. \u001b[0m\n",
      "\u001b[32m[I 2021-06-26 03:27:28,834]\u001b[0m Trial 381 pruned. \u001b[0m\n",
      "\u001b[32m[I 2021-06-26 03:27:29,365]\u001b[0m Trial 382 pruned. \u001b[0m\n",
      "\u001b[32m[I 2021-06-26 03:27:29,549]\u001b[0m Trial 383 pruned. \u001b[0m\n",
      "\u001b[32m[I 2021-06-26 03:27:31,033]\u001b[0m Trial 384 pruned. \u001b[0m\n",
      "\u001b[32m[I 2021-06-26 03:27:31,461]\u001b[0m Trial 385 pruned. \u001b[0m\n",
      "\u001b[32m[I 2021-06-26 03:27:31,573]\u001b[0m Trial 386 pruned. \u001b[0m\n",
      "\u001b[32m[I 2021-06-26 03:27:32,227]\u001b[0m Trial 387 pruned. \u001b[0m\n",
      "\u001b[32m[I 2021-06-26 03:27:32,574]\u001b[0m Trial 388 pruned. \u001b[0m\n",
      "\u001b[32m[I 2021-06-26 03:27:33,157]\u001b[0m Trial 389 pruned. \u001b[0m\n",
      "\u001b[32m[I 2021-06-26 03:27:33,564]\u001b[0m Trial 390 pruned. \u001b[0m\n",
      "\u001b[32m[I 2021-06-26 03:27:34,230]\u001b[0m Trial 391 pruned. \u001b[0m\n",
      "\u001b[32m[I 2021-06-26 03:27:34,301]\u001b[0m Trial 392 pruned. \u001b[0m\n",
      "\u001b[32m[I 2021-06-26 03:27:34,389]\u001b[0m Trial 393 pruned. \u001b[0m\n",
      "\u001b[32m[I 2021-06-26 03:27:34,809]\u001b[0m Trial 394 pruned. \u001b[0m\n",
      "\u001b[32m[I 2021-06-26 03:27:35,675]\u001b[0m Trial 395 pruned. \u001b[0m\n",
      "\u001b[32m[I 2021-06-26 03:27:36,069]\u001b[0m Trial 396 pruned. \u001b[0m\n",
      "\u001b[32m[I 2021-06-26 03:27:36,751]\u001b[0m Trial 397 pruned. \u001b[0m\n",
      "\u001b[32m[I 2021-06-26 03:27:36,889]\u001b[0m Trial 398 pruned. \u001b[0m\n",
      "\u001b[32m[I 2021-06-26 03:27:37,250]\u001b[0m Trial 399 pruned. \u001b[0m\n",
      "\u001b[32m[I 2021-06-26 03:27:38,023]\u001b[0m Trial 400 pruned. \u001b[0m\n",
      "\u001b[32m[I 2021-06-26 03:27:38,300]\u001b[0m Trial 401 pruned. \u001b[0m\n",
      "\u001b[32m[I 2021-06-26 03:27:39,039]\u001b[0m Trial 402 pruned. \u001b[0m\n",
      "\u001b[32m[I 2021-06-26 03:27:39,507]\u001b[0m Trial 403 pruned. \u001b[0m\n",
      "\u001b[32m[I 2021-06-26 03:27:39,639]\u001b[0m Trial 404 pruned. \u001b[0m\n",
      "\u001b[32m[I 2021-06-26 03:27:40,312]\u001b[0m Trial 405 pruned. \u001b[0m\n",
      "\u001b[32m[I 2021-06-26 03:27:40,772]\u001b[0m Trial 406 pruned. \u001b[0m\n",
      "\u001b[32m[I 2021-06-26 03:27:41,276]\u001b[0m Trial 407 pruned. \u001b[0m\n",
      "\u001b[32m[I 2021-06-26 03:27:42,062]\u001b[0m Trial 408 pruned. \u001b[0m\n",
      "\u001b[32m[I 2021-06-26 03:27:42,498]\u001b[0m Trial 409 pruned. \u001b[0m\n",
      "\u001b[32m[I 2021-06-26 03:27:42,606]\u001b[0m Trial 410 pruned. \u001b[0m\n",
      "\u001b[32m[I 2021-06-26 03:27:44,189]\u001b[0m Trial 411 pruned. \u001b[0m\n",
      "\u001b[32m[I 2021-06-26 03:27:44,695]\u001b[0m Trial 412 pruned. \u001b[0m\n",
      "\u001b[32m[I 2021-06-26 03:27:45,197]\u001b[0m Trial 413 pruned. \u001b[0m\n",
      "\u001b[32m[I 2021-06-26 03:27:45,458]\u001b[0m Trial 414 pruned. \u001b[0m\n",
      "\u001b[32m[I 2021-06-26 03:27:45,848]\u001b[0m Trial 415 pruned. \u001b[0m\n",
      "\u001b[32m[I 2021-06-26 03:27:45,999]\u001b[0m Trial 416 pruned. \u001b[0m\n",
      "\u001b[32m[I 2021-06-26 03:27:47,132]\u001b[0m Trial 417 pruned. \u001b[0m\n",
      "\u001b[32m[I 2021-06-26 03:27:47,759]\u001b[0m Trial 418 pruned. \u001b[0m\n",
      "\u001b[32m[I 2021-06-26 03:28:00,213]\u001b[0m Trial 419 finished with value: 0.010487028397619724 and parameters: {'Look Back': 50, 'Batch Size': 4, 'Hidden Dim': 64, 'N layers': 2, 'Learning Rate': 0.0012711184761572422, 'Factor': 0.8500000000000001}. Best is trial 4 with value: 0.008704914711415768.\u001b[0m\n",
      "\u001b[32m[I 2021-06-26 03:28:12,983]\u001b[0m Trial 420 finished with value: 0.010585851036012173 and parameters: {'Look Back': 50, 'Batch Size': 4, 'Hidden Dim': 64, 'N layers': 2, 'Learning Rate': 0.0012031240381747666, 'Factor': 0.8500000000000001}. Best is trial 4 with value: 0.008704914711415768.\u001b[0m\n"
     ]
    },
    {
     "name": "stderr",
     "output_type": "stream",
     "text": [
      "\u001b[32m[I 2021-06-26 03:28:25,203]\u001b[0m Trial 421 finished with value: 0.011334573850035667 and parameters: {'Look Back': 50, 'Batch Size': 4, 'Hidden Dim': 64, 'N layers': 2, 'Learning Rate': 0.00127385338441132, 'Factor': 0.8500000000000001}. Best is trial 4 with value: 0.008704914711415768.\u001b[0m\n",
      "\u001b[32m[I 2021-06-26 03:28:26,409]\u001b[0m Trial 422 pruned. \u001b[0m\n",
      "\u001b[32m[I 2021-06-26 03:28:26,756]\u001b[0m Trial 423 pruned. \u001b[0m\n",
      "\u001b[32m[I 2021-06-26 03:28:39,023]\u001b[0m Trial 424 finished with value: 0.011639419011771679 and parameters: {'Look Back': 50, 'Batch Size': 4, 'Hidden Dim': 64, 'N layers': 2, 'Learning Rate': 0.0015141867396273893, 'Factor': 0.8500000000000001}. Best is trial 4 with value: 0.008704914711415768.\u001b[0m\n",
      "\u001b[32m[I 2021-06-26 03:28:39,146]\u001b[0m Trial 425 pruned. \u001b[0m\n",
      "\u001b[32m[I 2021-06-26 03:28:39,485]\u001b[0m Trial 426 pruned. \u001b[0m\n",
      "\u001b[32m[I 2021-06-26 03:28:40,099]\u001b[0m Trial 427 pruned. \u001b[0m\n",
      "\u001b[32m[I 2021-06-26 03:28:40,182]\u001b[0m Trial 428 pruned. \u001b[0m\n",
      "\u001b[32m[I 2021-06-26 03:28:40,517]\u001b[0m Trial 429 pruned. \u001b[0m\n",
      "\u001b[32m[I 2021-06-26 03:28:41,704]\u001b[0m Trial 430 pruned. \u001b[0m\n",
      "\u001b[32m[I 2021-06-26 03:28:53,431]\u001b[0m Trial 431 finished with value: 0.011294321157038212 and parameters: {'Look Back': 45, 'Batch Size': 4, 'Hidden Dim': 64, 'N layers': 2, 'Learning Rate': 0.001293318420603423, 'Factor': 0.8500000000000001}. Best is trial 4 with value: 0.008704914711415768.\u001b[0m\n",
      "\u001b[32m[I 2021-06-26 03:28:53,748]\u001b[0m Trial 432 pruned. \u001b[0m\n",
      "\u001b[32m[I 2021-06-26 03:28:53,872]\u001b[0m Trial 433 pruned. \u001b[0m\n",
      "\u001b[32m[I 2021-06-26 03:29:05,646]\u001b[0m Trial 434 finished with value: 0.012283426709473133 and parameters: {'Look Back': 45, 'Batch Size': 4, 'Hidden Dim': 64, 'N layers': 2, 'Learning Rate': 0.001282448139822987, 'Factor': 0.8500000000000001}. Best is trial 4 with value: 0.008704914711415768.\u001b[0m\n",
      "\u001b[32m[I 2021-06-26 03:29:05,991]\u001b[0m Trial 435 pruned. \u001b[0m\n",
      "\u001b[32m[I 2021-06-26 03:29:17,267]\u001b[0m Trial 436 finished with value: 0.01277167722582817 and parameters: {'Look Back': 40, 'Batch Size': 4, 'Hidden Dim': 64, 'N layers': 2, 'Learning Rate': 0.0011232885404725164, 'Factor': 0.8500000000000001}. Best is trial 4 with value: 0.008704914711415768.\u001b[0m\n",
      "\u001b[32m[I 2021-06-26 03:29:17,596]\u001b[0m Trial 437 pruned. \u001b[0m\n",
      "\u001b[32m[I 2021-06-26 03:29:18,214]\u001b[0m Trial 438 pruned. \u001b[0m\n",
      "\u001b[32m[I 2021-06-26 03:29:18,331]\u001b[0m Trial 439 pruned. \u001b[0m\n",
      "\u001b[32m[I 2021-06-26 03:29:18,719]\u001b[0m Trial 440 pruned. \u001b[0m\n",
      "\u001b[32m[I 2021-06-26 03:29:19,951]\u001b[0m Trial 441 pruned. \u001b[0m\n",
      "\u001b[32m[I 2021-06-26 03:29:20,303]\u001b[0m Trial 442 pruned. \u001b[0m\n",
      "\u001b[32m[I 2021-06-26 03:29:32,602]\u001b[0m Trial 443 finished with value: 0.02458609826862812 and parameters: {'Look Back': 50, 'Batch Size': 4, 'Hidden Dim': 64, 'N layers': 2, 'Learning Rate': 0.0010035258456912949, 'Factor': 0.8500000000000001}. Best is trial 4 with value: 0.008704914711415768.\u001b[0m\n",
      "\u001b[32m[I 2021-06-26 03:29:32,723]\u001b[0m Trial 444 pruned. \u001b[0m\n",
      "\u001b[32m[I 2021-06-26 03:29:44,837]\u001b[0m Trial 445 finished with value: 0.013005387037992477 and parameters: {'Look Back': 45, 'Batch Size': 4, 'Hidden Dim': 64, 'N layers': 2, 'Learning Rate': 0.0011662490551724368, 'Factor': 0.55}. Best is trial 4 with value: 0.008704914711415768.\u001b[0m\n",
      "\u001b[32m[I 2021-06-26 03:29:45,107]\u001b[0m Trial 446 pruned. \u001b[0m\n",
      "\u001b[32m[I 2021-06-26 03:29:45,746]\u001b[0m Trial 447 pruned. \u001b[0m\n",
      "\u001b[32m[I 2021-06-26 03:29:46,072]\u001b[0m Trial 448 pruned. \u001b[0m\n",
      "\u001b[32m[I 2021-06-26 03:29:46,275]\u001b[0m Trial 449 pruned. \u001b[0m\n",
      "\u001b[32m[I 2021-06-26 03:29:47,248]\u001b[0m Trial 450 pruned. \u001b[0m\n",
      "\u001b[32m[I 2021-06-26 03:29:47,370]\u001b[0m Trial 451 pruned. \u001b[0m\n",
      "\u001b[32m[I 2021-06-26 03:29:47,707]\u001b[0m Trial 452 pruned. \u001b[0m\n",
      "\u001b[32m[I 2021-06-26 03:29:48,916]\u001b[0m Trial 453 pruned. \u001b[0m\n",
      "\u001b[32m[I 2021-06-26 03:29:49,186]\u001b[0m Trial 454 pruned. \u001b[0m\n",
      "\u001b[32m[I 2021-06-26 03:30:01,439]\u001b[0m Trial 455 finished with value: 0.01047928910702467 and parameters: {'Look Back': 50, 'Batch Size': 4, 'Hidden Dim': 64, 'N layers': 2, 'Learning Rate': 0.0015199738824892325, 'Factor': 0.55}. Best is trial 4 with value: 0.008704914711415768.\u001b[0m\n",
      "\u001b[32m[I 2021-06-26 03:30:06,474]\u001b[0m Trial 456 pruned. \u001b[0m\n",
      "\u001b[32m[I 2021-06-26 03:30:06,570]\u001b[0m Trial 457 pruned. \u001b[0m\n",
      "\u001b[32m[I 2021-06-26 03:30:06,915]\u001b[0m Trial 458 pruned. \u001b[0m\n",
      "\u001b[32m[I 2021-06-26 03:30:07,000]\u001b[0m Trial 459 pruned. \u001b[0m\n",
      "\u001b[32m[I 2021-06-26 03:30:18,725]\u001b[0m Trial 460 finished with value: 0.013140984810888767 and parameters: {'Look Back': 45, 'Batch Size': 4, 'Hidden Dim': 64, 'N layers': 2, 'Learning Rate': 0.0018566536450882363, 'Factor': 0.55}. Best is trial 4 with value: 0.008704914711415768.\u001b[0m\n",
      "\u001b[32m[I 2021-06-26 03:30:19,027]\u001b[0m Trial 461 pruned. \u001b[0m\n",
      "\u001b[32m[I 2021-06-26 03:30:19,996]\u001b[0m Trial 462 pruned. \u001b[0m\n",
      "\u001b[32m[I 2021-06-26 03:30:20,343]\u001b[0m Trial 463 pruned. \u001b[0m\n",
      "\u001b[32m[I 2021-06-26 03:30:20,471]\u001b[0m Trial 464 pruned. \u001b[0m\n",
      "\u001b[32m[I 2021-06-26 03:30:21,102]\u001b[0m Trial 465 pruned. \u001b[0m\n",
      "\u001b[32m[I 2021-06-26 03:30:33,420]\u001b[0m Trial 466 finished with value: 0.009050018154084682 and parameters: {'Look Back': 45, 'Batch Size': 8, 'Hidden Dim': 64, 'N layers': 2, 'Learning Rate': 0.0021359366891247904, 'Factor': 0.55}. Best is trial 4 with value: 0.008704914711415768.\u001b[0m\n",
      "\u001b[32m[I 2021-06-26 03:30:45,171]\u001b[0m Trial 467 finished with value: 0.008730173110961914 and parameters: {'Look Back': 40, 'Batch Size': 8, 'Hidden Dim': 64, 'N layers': 2, 'Learning Rate': 0.0021768551150865754, 'Factor': 0.55}. Best is trial 4 with value: 0.008704914711415768.\u001b[0m\n",
      "\u001b[32m[I 2021-06-26 03:30:45,483]\u001b[0m Trial 468 pruned. \u001b[0m\n",
      "\u001b[32m[I 2021-06-26 03:30:45,792]\u001b[0m Trial 469 pruned. \u001b[0m\n",
      "\u001b[32m[I 2021-06-26 03:30:46,115]\u001b[0m Trial 470 pruned. \u001b[0m\n",
      "\u001b[32m[I 2021-06-26 03:30:46,438]\u001b[0m Trial 471 pruned. \u001b[0m\n",
      "\u001b[32m[I 2021-06-26 03:30:46,757]\u001b[0m Trial 472 pruned. \u001b[0m\n",
      "\u001b[32m[I 2021-06-26 03:30:47,077]\u001b[0m Trial 473 pruned. \u001b[0m\n",
      "\u001b[32m[I 2021-06-26 03:30:47,411]\u001b[0m Trial 474 pruned. \u001b[0m\n",
      "\u001b[32m[I 2021-06-26 03:30:47,725]\u001b[0m Trial 475 pruned. \u001b[0m\n",
      "\u001b[32m[I 2021-06-26 03:30:48,044]\u001b[0m Trial 476 pruned. \u001b[0m\n",
      "\u001b[32m[I 2021-06-26 03:30:59,765]\u001b[0m Trial 477 finished with value: 0.008816570974886417 and parameters: {'Look Back': 40, 'Batch Size': 8, 'Hidden Dim': 64, 'N layers': 2, 'Learning Rate': 0.002522304941104574, 'Factor': 0.55}. Best is trial 4 with value: 0.008704914711415768.\u001b[0m\n",
      "\u001b[32m[I 2021-06-26 03:31:00,076]\u001b[0m Trial 478 pruned. \u001b[0m\n",
      "\u001b[32m[I 2021-06-26 03:31:11,812]\u001b[0m Trial 479 finished with value: 0.008690886199474335 and parameters: {'Look Back': 40, 'Batch Size': 8, 'Hidden Dim': 64, 'N layers': 2, 'Learning Rate': 0.0029725123988907027, 'Factor': 0.55}. Best is trial 479 with value: 0.008690886199474335.\u001b[0m\n",
      "\u001b[32m[I 2021-06-26 03:31:23,596]\u001b[0m Trial 480 finished with value: 0.00860828347504139 and parameters: {'Look Back': 40, 'Batch Size': 8, 'Hidden Dim': 64, 'N layers': 2, 'Learning Rate': 0.0031859923602114257, 'Factor': 0.55}. Best is trial 480 with value: 0.00860828347504139.\u001b[0m\n",
      "\u001b[32m[I 2021-06-26 03:31:35,311]\u001b[0m Trial 481 finished with value: 0.008766778744757175 and parameters: {'Look Back': 40, 'Batch Size': 8, 'Hidden Dim': 64, 'N layers': 2, 'Learning Rate': 0.003085965275231235, 'Factor': 0.55}. Best is trial 480 with value: 0.00860828347504139.\u001b[0m\n",
      "\u001b[32m[I 2021-06-26 03:31:35,898]\u001b[0m Trial 482 pruned. \u001b[0m\n",
      "\u001b[32m[I 2021-06-26 03:31:47,756]\u001b[0m Trial 483 finished with value: 0.00865216739475727 and parameters: {'Look Back': 40, 'Batch Size': 8, 'Hidden Dim': 64, 'N layers': 2, 'Learning Rate': 0.003302783400838695, 'Factor': 0.55}. Best is trial 480 with value: 0.00860828347504139.\u001b[0m\n",
      "\u001b[32m[I 2021-06-26 03:31:48,073]\u001b[0m Trial 484 pruned. \u001b[0m\n",
      "\u001b[32m[I 2021-06-26 03:32:00,042]\u001b[0m Trial 485 finished with value: 0.008645597845315933 and parameters: {'Look Back': 40, 'Batch Size': 8, 'Hidden Dim': 64, 'N layers': 2, 'Learning Rate': 0.00323166563498492, 'Factor': 0.55}. Best is trial 480 with value: 0.00860828347504139.\u001b[0m\n",
      "\u001b[32m[I 2021-06-26 03:32:11,898]\u001b[0m Trial 486 finished with value: 0.008787807077169418 and parameters: {'Look Back': 40, 'Batch Size': 8, 'Hidden Dim': 64, 'N layers': 2, 'Learning Rate': 0.002887983919399507, 'Factor': 0.55}. Best is trial 480 with value: 0.00860828347504139.\u001b[0m\n",
      "\u001b[32m[I 2021-06-26 03:32:23,610]\u001b[0m Trial 487 finished with value: 0.008764131926000118 and parameters: {'Look Back': 40, 'Batch Size': 8, 'Hidden Dim': 64, 'N layers': 2, 'Learning Rate': 0.003012804136603578, 'Factor': 0.55}. Best is trial 480 with value: 0.00860828347504139.\u001b[0m\n"
     ]
    },
    {
     "name": "stderr",
     "output_type": "stream",
     "text": [
      "\u001b[32m[I 2021-06-26 03:32:35,322]\u001b[0m Trial 488 finished with value: 0.00876096822321415 and parameters: {'Look Back': 40, 'Batch Size': 8, 'Hidden Dim': 64, 'N layers': 2, 'Learning Rate': 0.0028373020867893564, 'Factor': 0.55}. Best is trial 480 with value: 0.00860828347504139.\u001b[0m\n",
      "\u001b[32m[I 2021-06-26 03:32:47,090]\u001b[0m Trial 489 pruned. \u001b[0m\n",
      "\u001b[32m[I 2021-06-26 03:32:47,418]\u001b[0m Trial 490 pruned. \u001b[0m\n",
      "\u001b[32m[I 2021-06-26 03:32:59,428]\u001b[0m Trial 491 finished with value: 0.00876835361123085 and parameters: {'Look Back': 40, 'Batch Size': 8, 'Hidden Dim': 64, 'N layers': 2, 'Learning Rate': 0.0031018873123577905, 'Factor': 0.55}. Best is trial 480 with value: 0.00860828347504139.\u001b[0m\n",
      "\u001b[32m[I 2021-06-26 03:33:12,240]\u001b[0m Trial 492 pruned. \u001b[0m\n",
      "\u001b[32m[I 2021-06-26 03:33:25,549]\u001b[0m Trial 493 finished with value: 0.008708239533007145 and parameters: {'Look Back': 40, 'Batch Size': 8, 'Hidden Dim': 64, 'N layers': 2, 'Learning Rate': 0.003322988139972545, 'Factor': 0.55}. Best is trial 480 with value: 0.00860828347504139.\u001b[0m\n",
      "\u001b[32m[I 2021-06-26 03:33:40,822]\u001b[0m Trial 494 finished with value: 0.00875760056078434 and parameters: {'Look Back': 40, 'Batch Size': 8, 'Hidden Dim': 64, 'N layers': 2, 'Learning Rate': 0.0031182579090844264, 'Factor': 0.55}. Best is trial 480 with value: 0.00860828347504139.\u001b[0m\n",
      "\u001b[32m[I 2021-06-26 03:33:41,248]\u001b[0m Trial 495 pruned. \u001b[0m\n",
      "\u001b[32m[I 2021-06-26 03:33:41,651]\u001b[0m Trial 496 pruned. \u001b[0m\n",
      "\u001b[32m[I 2021-06-26 03:33:55,049]\u001b[0m Trial 497 pruned. \u001b[0m\n",
      "\u001b[32m[I 2021-06-26 03:34:01,234]\u001b[0m Trial 498 pruned. \u001b[0m\n",
      "\u001b[32m[I 2021-06-26 03:34:01,560]\u001b[0m Trial 499 pruned. \u001b[0m\n"
     ]
    },
    {
     "name": "stdout",
     "output_type": "stream",
     "text": [
      "Study statistics: \n",
      "  Number of finished trials:  500\n",
      "  Number of pruned trials:  444\n",
      "  Number of complete trials:  56\n"
     ]
    }
   ],
   "source": [
    "nasdaq, scaled, scaler1, scaler2  = load_nasdaq()  \n",
    "input_dim = 2\n",
    "study_lstm = conduct_study ('LSTM', 'LSTM', n_trials)"
   ]
  },
  {
   "cell_type": "code",
   "execution_count": 1212,
   "id": "2cab9a12",
   "metadata": {},
   "outputs": [
    {
     "name": "stderr",
     "output_type": "stream",
     "text": [
      "\u001b[32m[I 2021-06-26 03:34:01,762]\u001b[0m A new study created in memory with name: GRU NO FED\u001b[0m\n",
      "\u001b[32m[I 2021-06-26 03:34:10,729]\u001b[0m Trial 0 finished with value: 0.035666294395923615 and parameters: {'Look Back': 15, 'Batch Size': 4, 'Hidden Dim': 16, 'N layers': 2, 'Learning Rate': 0.029667251951985624, 'Factor': 0.55}. Best is trial 0 with value: 0.035666294395923615.\u001b[0m\n",
      "\u001b[32m[I 2021-06-26 03:34:18,637]\u001b[0m Trial 1 finished with value: 0.013219897635281086 and parameters: {'Look Back': 30, 'Batch Size': 16, 'Hidden Dim': 32, 'N layers': 1, 'Learning Rate': 0.0001539890376268593, 'Factor': 0.65}. Best is trial 1 with value: 0.013219897635281086.\u001b[0m\n",
      "\u001b[32m[I 2021-06-26 03:34:26,099]\u001b[0m Trial 2 finished with value: 0.00965938065201044 and parameters: {'Look Back': 30, 'Batch Size': 32, 'Hidden Dim': 64, 'N layers': 2, 'Learning Rate': 0.012595049817764848, 'Factor': 0.75}. Best is trial 2 with value: 0.00965938065201044.\u001b[0m\n",
      "\u001b[32m[I 2021-06-26 03:34:35,033]\u001b[0m Trial 3 finished with value: 0.011561368592083454 and parameters: {'Look Back': 25, 'Batch Size': 16, 'Hidden Dim': 256, 'N layers': 1, 'Learning Rate': 0.0004242780219291311, 'Factor': 0.65}. Best is trial 2 with value: 0.00965938065201044.\u001b[0m\n",
      "\u001b[32m[I 2021-06-26 03:34:42,044]\u001b[0m Trial 4 finished with value: 0.012135209515690804 and parameters: {'Look Back': 15, 'Batch Size': 16, 'Hidden Dim': 32, 'N layers': 1, 'Learning Rate': 0.0023657580411276225, 'Factor': 0.95}. Best is trial 2 with value: 0.00965938065201044.\u001b[0m\n",
      "\u001b[32m[I 2021-06-26 03:34:42,081]\u001b[0m Trial 5 pruned. \u001b[0m\n",
      "\u001b[32m[I 2021-06-26 03:34:42,266]\u001b[0m Trial 6 pruned. \u001b[0m\n",
      "\u001b[32m[I 2021-06-26 03:34:42,553]\u001b[0m Trial 7 pruned. \u001b[0m\n",
      "\u001b[32m[I 2021-06-26 03:34:51,692]\u001b[0m Trial 8 finished with value: 0.010180877521634102 and parameters: {'Look Back': 15, 'Batch Size': 4, 'Hidden Dim': 16, 'N layers': 2, 'Learning Rate': 0.012834660766126877, 'Factor': 0.55}. Best is trial 2 with value: 0.00965938065201044.\u001b[0m\n",
      "\u001b[32m[I 2021-06-26 03:34:51,759]\u001b[0m Trial 9 pruned. \u001b[0m\n",
      "\u001b[32m[I 2021-06-26 03:34:51,889]\u001b[0m Trial 10 pruned. \u001b[0m\n",
      "\u001b[32m[I 2021-06-26 03:34:53,145]\u001b[0m Trial 11 pruned. \u001b[0m\n",
      "\u001b[32m[I 2021-06-26 03:34:53,241]\u001b[0m Trial 12 pruned. \u001b[0m\n",
      "\u001b[32m[I 2021-06-26 03:34:53,740]\u001b[0m Trial 13 pruned. \u001b[0m\n",
      "\u001b[32m[I 2021-06-26 03:34:53,833]\u001b[0m Trial 14 pruned. \u001b[0m\n",
      "\u001b[32m[I 2021-06-26 03:34:53,938]\u001b[0m Trial 15 pruned. \u001b[0m\n",
      "\u001b[32m[I 2021-06-26 03:34:54,437]\u001b[0m Trial 16 pruned. \u001b[0m\n",
      "\u001b[32m[I 2021-06-26 03:34:54,975]\u001b[0m Trial 17 pruned. \u001b[0m\n",
      "\u001b[32m[I 2021-06-26 03:34:55,067]\u001b[0m Trial 18 pruned. \u001b[0m\n",
      "\u001b[32m[I 2021-06-26 03:35:03,314]\u001b[0m Trial 19 pruned. \u001b[0m\n",
      "\u001b[32m[I 2021-06-26 03:35:03,385]\u001b[0m Trial 20 pruned. \u001b[0m\n",
      "\u001b[32m[I 2021-06-26 03:35:03,585]\u001b[0m Trial 21 pruned. \u001b[0m\n",
      "\u001b[32m[I 2021-06-26 03:35:03,710]\u001b[0m Trial 22 pruned. \u001b[0m\n",
      "\u001b[32m[I 2021-06-26 03:35:16,598]\u001b[0m Trial 23 finished with value: 0.010688328184187412 and parameters: {'Look Back': 25, 'Batch Size': 8, 'Hidden Dim': 256, 'N layers': 2, 'Learning Rate': 0.0007232485352851198, 'Factor': 0.55}. Best is trial 2 with value: 0.00965938065201044.\u001b[0m\n",
      "\u001b[32m[I 2021-06-26 03:35:30,553]\u001b[0m Trial 24 finished with value: 0.009696888737380505 and parameters: {'Look Back': 30, 'Batch Size': 8, 'Hidden Dim': 256, 'N layers': 2, 'Learning Rate': 0.0012262219306425457, 'Factor': 0.55}. Best is trial 2 with value: 0.00965938065201044.\u001b[0m\n",
      "\u001b[32m[I 2021-06-26 03:35:42,045]\u001b[0m Trial 25 finished with value: 0.009612113237380981 and parameters: {'Look Back': 30, 'Batch Size': 8, 'Hidden Dim': 128, 'N layers': 2, 'Learning Rate': 0.004397167002964591, 'Factor': 0.55}. Best is trial 25 with value: 0.009612113237380981.\u001b[0m\n",
      "\u001b[32m[I 2021-06-26 03:35:42,354]\u001b[0m Trial 26 pruned. \u001b[0m\n",
      "\u001b[32m[I 2021-06-26 03:35:42,672]\u001b[0m Trial 27 pruned. \u001b[0m\n",
      "\u001b[32m[I 2021-06-26 03:35:43,072]\u001b[0m Trial 28 pruned. \u001b[0m\n",
      "\u001b[32m[I 2021-06-26 03:35:44,281]\u001b[0m Trial 29 pruned. \u001b[0m\n",
      "\u001b[32m[I 2021-06-26 03:35:44,580]\u001b[0m Trial 30 pruned. \u001b[0m\n",
      "\u001b[32m[I 2021-06-26 03:35:45,156]\u001b[0m Trial 31 pruned. \u001b[0m\n",
      "\u001b[32m[I 2021-06-26 03:35:45,417]\u001b[0m Trial 32 pruned. \u001b[0m\n",
      "\u001b[32m[I 2021-06-26 03:35:45,550]\u001b[0m Trial 33 pruned. \u001b[0m\n",
      "\u001b[32m[I 2021-06-26 03:35:46,054]\u001b[0m Trial 34 pruned. \u001b[0m\n",
      "\u001b[32m[I 2021-06-26 03:35:46,300]\u001b[0m Trial 35 pruned. \u001b[0m\n",
      "\u001b[32m[I 2021-06-26 03:35:46,373]\u001b[0m Trial 36 pruned. \u001b[0m\n",
      "\u001b[32m[I 2021-06-26 03:35:56,184]\u001b[0m Trial 37 finished with value: 0.009786183945834637 and parameters: {'Look Back': 25, 'Batch Size': 4, 'Hidden Dim': 16, 'N layers': 2, 'Learning Rate': 0.003035834233548394, 'Factor': 0.65}. Best is trial 25 with value: 0.009612113237380981.\u001b[0m\n",
      "\u001b[32m[I 2021-06-26 03:35:56,281]\u001b[0m Trial 38 pruned. \u001b[0m\n",
      "\u001b[32m[I 2021-06-26 03:35:56,500]\u001b[0m Trial 39 pruned. \u001b[0m\n",
      "\u001b[32m[I 2021-06-26 03:35:56,770]\u001b[0m Trial 40 pruned. \u001b[0m\n",
      "\u001b[32m[I 2021-06-26 03:35:57,253]\u001b[0m Trial 41 pruned. \u001b[0m\n",
      "\u001b[32m[I 2021-06-26 03:35:57,753]\u001b[0m Trial 42 pruned. \u001b[0m\n",
      "\u001b[32m[I 2021-06-26 03:35:58,196]\u001b[0m Trial 43 pruned. \u001b[0m\n",
      "\u001b[32m[I 2021-06-26 03:35:58,632]\u001b[0m Trial 44 pruned. \u001b[0m\n",
      "\u001b[32m[I 2021-06-26 03:35:58,965]\u001b[0m Trial 45 pruned. \u001b[0m\n",
      "\u001b[32m[I 2021-06-26 03:36:00,304]\u001b[0m Trial 46 pruned. \u001b[0m\n",
      "\u001b[32m[I 2021-06-26 03:36:00,398]\u001b[0m Trial 47 pruned. \u001b[0m\n",
      "\u001b[32m[I 2021-06-26 03:36:01,106]\u001b[0m Trial 48 pruned. \u001b[0m\n",
      "\u001b[32m[I 2021-06-26 03:36:01,272]\u001b[0m Trial 49 pruned. \u001b[0m\n",
      "\u001b[32m[I 2021-06-26 03:36:01,341]\u001b[0m Trial 50 pruned. \u001b[0m\n",
      "\u001b[32m[I 2021-06-26 03:36:01,667]\u001b[0m Trial 51 pruned. \u001b[0m\n",
      "\u001b[32m[I 2021-06-26 03:36:02,033]\u001b[0m Trial 52 pruned. \u001b[0m\n",
      "\u001b[32m[I 2021-06-26 03:36:02,369]\u001b[0m Trial 53 pruned. \u001b[0m\n",
      "\u001b[32m[I 2021-06-26 03:36:02,708]\u001b[0m Trial 54 pruned. \u001b[0m\n",
      "\u001b[32m[I 2021-06-26 03:36:02,822]\u001b[0m Trial 55 pruned. \u001b[0m\n",
      "\u001b[32m[I 2021-06-26 03:36:03,084]\u001b[0m Trial 56 pruned. \u001b[0m\n",
      "\u001b[32m[I 2021-06-26 03:36:03,578]\u001b[0m Trial 57 pruned. \u001b[0m\n",
      "\u001b[32m[I 2021-06-26 03:36:18,766]\u001b[0m Trial 58 finished with value: 0.010973460040986538 and parameters: {'Look Back': 35, 'Batch Size': 8, 'Hidden Dim': 256, 'N layers': 2, 'Learning Rate': 0.0014734438824801836, 'Factor': 0.8500000000000001}. Best is trial 25 with value: 0.009612113237380981.\u001b[0m\n",
      "\u001b[32m[I 2021-06-26 03:36:18,948]\u001b[0m Trial 59 pruned. \u001b[0m\n",
      "\u001b[32m[I 2021-06-26 03:36:19,449]\u001b[0m Trial 60 pruned. \u001b[0m\n",
      "\u001b[32m[I 2021-06-26 03:36:19,847]\u001b[0m Trial 61 pruned. \u001b[0m\n",
      "\u001b[32m[I 2021-06-26 03:36:20,238]\u001b[0m Trial 62 pruned. \u001b[0m\n",
      "\u001b[32m[I 2021-06-26 03:36:20,647]\u001b[0m Trial 63 pruned. \u001b[0m\n",
      "\u001b[32m[I 2021-06-26 03:36:21,004]\u001b[0m Trial 64 pruned. \u001b[0m\n",
      "\u001b[32m[I 2021-06-26 03:36:21,361]\u001b[0m Trial 65 pruned. \u001b[0m\n",
      "\u001b[32m[I 2021-06-26 03:36:21,463]\u001b[0m Trial 66 pruned. \u001b[0m\n",
      "\u001b[32m[I 2021-06-26 03:36:36,651]\u001b[0m Trial 67 finished with value: 0.008859395980834961 and parameters: {'Look Back': 35, 'Batch Size': 8, 'Hidden Dim': 256, 'N layers': 2, 'Learning Rate': 0.002293011541296087, 'Factor': 0.55}. Best is trial 67 with value: 0.008859395980834961.\u001b[0m\n",
      "\u001b[32m[I 2021-06-26 03:36:36,934]\u001b[0m Trial 68 pruned. \u001b[0m\n",
      "\u001b[32m[I 2021-06-26 03:36:36,992]\u001b[0m Trial 69 pruned. \u001b[0m\n",
      "\u001b[32m[I 2021-06-26 03:36:37,606]\u001b[0m Trial 70 pruned. \u001b[0m\n",
      "\u001b[32m[I 2021-06-26 03:36:38,009]\u001b[0m Trial 71 pruned. \u001b[0m\n",
      "\u001b[32m[I 2021-06-26 03:36:38,397]\u001b[0m Trial 72 pruned. \u001b[0m\n",
      "\u001b[32m[I 2021-06-26 03:36:38,773]\u001b[0m Trial 73 pruned. \u001b[0m\n",
      "\u001b[32m[I 2021-06-26 03:36:39,222]\u001b[0m Trial 74 pruned. \u001b[0m\n",
      "\u001b[32m[I 2021-06-26 03:36:39,478]\u001b[0m Trial 75 pruned. \u001b[0m\n",
      "\u001b[32m[I 2021-06-26 03:36:39,612]\u001b[0m Trial 76 pruned. \u001b[0m\n",
      "\u001b[32m[I 2021-06-26 03:36:39,918]\u001b[0m Trial 77 pruned. \u001b[0m\n",
      "\u001b[32m[I 2021-06-26 03:36:48,182]\u001b[0m Trial 78 pruned. \u001b[0m\n",
      "\u001b[32m[I 2021-06-26 03:36:48,502]\u001b[0m Trial 79 pruned. \u001b[0m\n",
      "\u001b[32m[I 2021-06-26 03:36:48,690]\u001b[0m Trial 80 pruned. \u001b[0m\n",
      "\u001b[32m[I 2021-06-26 03:36:48,818]\u001b[0m Trial 81 pruned. \u001b[0m\n",
      "\u001b[32m[I 2021-06-26 03:36:49,004]\u001b[0m Trial 82 pruned. \u001b[0m\n",
      "\u001b[32m[I 2021-06-26 03:36:49,122]\u001b[0m Trial 83 pruned. \u001b[0m\n",
      "\u001b[32m[I 2021-06-26 03:36:49,612]\u001b[0m Trial 84 pruned. \u001b[0m\n",
      "\u001b[32m[I 2021-06-26 03:37:00,592]\u001b[0m Trial 85 finished with value: 0.008753963746130466 and parameters: {'Look Back': 30, 'Batch Size': 16, 'Hidden Dim': 64, 'N layers': 2, 'Learning Rate': 0.0020333146336851695, 'Factor': 0.55}. Best is trial 85 with value: 0.008753963746130466.\u001b[0m\n",
      "\u001b[32m[I 2021-06-26 03:37:00,681]\u001b[0m Trial 86 pruned. \u001b[0m\n",
      "\u001b[32m[I 2021-06-26 03:37:04,673]\u001b[0m Trial 87 pruned. \u001b[0m\n"
     ]
    },
    {
     "name": "stderr",
     "output_type": "stream",
     "text": [
      "\u001b[32m[I 2021-06-26 03:37:04,832]\u001b[0m Trial 88 pruned. \u001b[0m\n",
      "\u001b[32m[I 2021-06-26 03:37:05,103]\u001b[0m Trial 89 pruned. \u001b[0m\n",
      "\u001b[32m[I 2021-06-26 03:37:05,629]\u001b[0m Trial 90 pruned. \u001b[0m\n",
      "\u001b[32m[I 2021-06-26 03:37:05,812]\u001b[0m Trial 91 pruned. \u001b[0m\n",
      "\u001b[32m[I 2021-06-26 03:37:05,966]\u001b[0m Trial 92 pruned. \u001b[0m\n",
      "\u001b[32m[I 2021-06-26 03:37:06,118]\u001b[0m Trial 93 pruned. \u001b[0m\n",
      "\u001b[32m[I 2021-06-26 03:37:06,308]\u001b[0m Trial 94 pruned. \u001b[0m\n",
      "\u001b[32m[I 2021-06-26 03:37:06,417]\u001b[0m Trial 95 pruned. \u001b[0m\n",
      "\u001b[32m[I 2021-06-26 03:37:10,737]\u001b[0m Trial 96 pruned. \u001b[0m\n",
      "\u001b[32m[I 2021-06-26 03:37:10,818]\u001b[0m Trial 97 pruned. \u001b[0m\n",
      "\u001b[32m[I 2021-06-26 03:37:11,189]\u001b[0m Trial 98 pruned. \u001b[0m\n",
      "\u001b[32m[I 2021-06-26 03:37:11,457]\u001b[0m Trial 99 pruned. \u001b[0m\n",
      "\u001b[32m[I 2021-06-26 03:37:11,678]\u001b[0m Trial 100 pruned. \u001b[0m\n",
      "\u001b[32m[I 2021-06-26 03:37:11,791]\u001b[0m Trial 101 pruned. \u001b[0m\n",
      "\u001b[32m[I 2021-06-26 03:37:11,897]\u001b[0m Trial 102 pruned. \u001b[0m\n",
      "\u001b[32m[I 2021-06-26 03:37:12,027]\u001b[0m Trial 103 pruned. \u001b[0m\n",
      "\u001b[32m[I 2021-06-26 03:37:12,211]\u001b[0m Trial 104 pruned. \u001b[0m\n",
      "\u001b[32m[I 2021-06-26 03:37:12,313]\u001b[0m Trial 105 pruned. \u001b[0m\n",
      "\u001b[32m[I 2021-06-26 03:37:12,878]\u001b[0m Trial 106 pruned. \u001b[0m\n",
      "\u001b[32m[I 2021-06-26 03:37:13,154]\u001b[0m Trial 107 pruned. \u001b[0m\n",
      "\u001b[32m[I 2021-06-26 03:37:13,249]\u001b[0m Trial 108 pruned. \u001b[0m\n",
      "\u001b[32m[I 2021-06-26 03:37:13,549]\u001b[0m Trial 109 pruned. \u001b[0m\n",
      "\u001b[32m[I 2021-06-26 03:37:14,018]\u001b[0m Trial 110 pruned. \u001b[0m\n",
      "\u001b[32m[I 2021-06-26 03:37:14,127]\u001b[0m Trial 111 pruned. \u001b[0m\n",
      "\u001b[32m[I 2021-06-26 03:37:14,241]\u001b[0m Trial 112 pruned. \u001b[0m\n",
      "\u001b[32m[I 2021-06-26 03:37:14,346]\u001b[0m Trial 113 pruned. \u001b[0m\n",
      "\u001b[32m[I 2021-06-26 03:37:22,266]\u001b[0m Trial 114 finished with value: 0.008759559132158756 and parameters: {'Look Back': 35, 'Batch Size': 16, 'Hidden Dim': 32, 'N layers': 1, 'Learning Rate': 0.011513557310077924, 'Factor': 0.65}. Best is trial 85 with value: 0.008753963746130466.\u001b[0m\n",
      "\u001b[32m[I 2021-06-26 03:37:22,383]\u001b[0m Trial 115 pruned. \u001b[0m\n",
      "\u001b[32m[I 2021-06-26 03:37:31,224]\u001b[0m Trial 116 finished with value: 0.008528511971235275 and parameters: {'Look Back': 35, 'Batch Size': 8, 'Hidden Dim': 256, 'N layers': 1, 'Learning Rate': 0.009169062994878229, 'Factor': 0.55}. Best is trial 116 with value: 0.008528511971235275.\u001b[0m\n",
      "\u001b[32m[I 2021-06-26 03:37:31,460]\u001b[0m Trial 117 pruned. \u001b[0m\n",
      "\u001b[32m[I 2021-06-26 03:37:31,827]\u001b[0m Trial 118 pruned. \u001b[0m\n",
      "\u001b[32m[I 2021-06-26 03:37:32,240]\u001b[0m Trial 119 pruned. \u001b[0m\n",
      "\u001b[32m[I 2021-06-26 03:37:32,634]\u001b[0m Trial 120 pruned. \u001b[0m\n",
      "\u001b[32m[I 2021-06-26 03:37:32,867]\u001b[0m Trial 121 pruned. \u001b[0m\n",
      "\u001b[32m[I 2021-06-26 03:37:33,006]\u001b[0m Trial 122 pruned. \u001b[0m\n",
      "\u001b[32m[I 2021-06-26 03:37:33,064]\u001b[0m Trial 123 pruned. \u001b[0m\n",
      "\u001b[32m[I 2021-06-26 03:37:33,303]\u001b[0m Trial 124 pruned. \u001b[0m\n",
      "\u001b[32m[I 2021-06-26 03:37:33,385]\u001b[0m Trial 125 pruned. \u001b[0m\n",
      "\u001b[32m[I 2021-06-26 03:37:40,940]\u001b[0m Trial 126 finished with value: 0.009206713177263737 and parameters: {'Look Back': 35, 'Batch Size': 4, 'Hidden Dim': 32, 'N layers': 1, 'Learning Rate': 0.00881610193908086, 'Factor': 0.55}. Best is trial 116 with value: 0.008528511971235275.\u001b[0m\n",
      "\u001b[32m[I 2021-06-26 03:37:48,670]\u001b[0m Trial 127 finished with value: 0.00910678505897522 and parameters: {'Look Back': 35, 'Batch Size': 4, 'Hidden Dim': 32, 'N layers': 1, 'Learning Rate': 0.008404070489785274, 'Factor': 0.55}. Best is trial 116 with value: 0.008528511971235275.\u001b[0m\n",
      "\u001b[32m[I 2021-06-26 03:37:57,383]\u001b[0m Trial 128 finished with value: 0.010212592780590057 and parameters: {'Look Back': 35, 'Batch Size': 4, 'Hidden Dim': 32, 'N layers': 1, 'Learning Rate': 0.008597017745243296, 'Factor': 0.55}. Best is trial 116 with value: 0.008528511971235275.\u001b[0m\n",
      "\u001b[32m[I 2021-06-26 03:37:57,775]\u001b[0m Trial 129 pruned. \u001b[0m\n",
      "\u001b[32m[I 2021-06-26 03:37:58,167]\u001b[0m Trial 130 pruned. \u001b[0m\n",
      "\u001b[32m[I 2021-06-26 03:37:58,548]\u001b[0m Trial 131 pruned. \u001b[0m\n",
      "\u001b[32m[I 2021-06-26 03:37:58,951]\u001b[0m Trial 132 pruned. \u001b[0m\n",
      "\u001b[32m[I 2021-06-26 03:37:59,361]\u001b[0m Trial 133 pruned. \u001b[0m\n",
      "\u001b[32m[I 2021-06-26 03:37:59,736]\u001b[0m Trial 134 pruned. \u001b[0m\n",
      "\u001b[32m[I 2021-06-26 03:38:00,283]\u001b[0m Trial 135 pruned. \u001b[0m\n",
      "\u001b[32m[I 2021-06-26 03:38:00,831]\u001b[0m Trial 136 pruned. \u001b[0m\n",
      "\u001b[32m[I 2021-06-26 03:38:01,221]\u001b[0m Trial 137 pruned. \u001b[0m\n",
      "\u001b[32m[I 2021-06-26 03:38:01,795]\u001b[0m Trial 138 pruned. \u001b[0m\n",
      "\u001b[32m[I 2021-06-26 03:38:02,306]\u001b[0m Trial 139 pruned. \u001b[0m\n",
      "\u001b[32m[I 2021-06-26 03:38:02,813]\u001b[0m Trial 140 pruned. \u001b[0m\n",
      "\u001b[32m[I 2021-06-26 03:38:03,044]\u001b[0m Trial 141 pruned. \u001b[0m\n",
      "\u001b[32m[I 2021-06-26 03:38:11,385]\u001b[0m Trial 142 finished with value: 0.009537340141832829 and parameters: {'Look Back': 35, 'Batch Size': 4, 'Hidden Dim': 256, 'N layers': 1, 'Learning Rate': 0.006821890556198273, 'Factor': 0.55}. Best is trial 116 with value: 0.008528511971235275.\u001b[0m\n",
      "\u001b[32m[I 2021-06-26 03:38:11,815]\u001b[0m Trial 143 pruned. \u001b[0m\n",
      "\u001b[32m[I 2021-06-26 03:38:12,232]\u001b[0m Trial 144 pruned. \u001b[0m\n",
      "\u001b[32m[I 2021-06-26 03:38:12,586]\u001b[0m Trial 145 pruned. \u001b[0m\n",
      "\u001b[32m[I 2021-06-26 03:38:20,116]\u001b[0m Trial 146 finished with value: 0.009299554862082005 and parameters: {'Look Back': 35, 'Batch Size': 4, 'Hidden Dim': 64, 'N layers': 1, 'Learning Rate': 0.00991075985271851, 'Factor': 0.55}. Best is trial 116 with value: 0.008528511971235275.\u001b[0m\n",
      "\u001b[32m[I 2021-06-26 03:38:20,492]\u001b[0m Trial 147 pruned. \u001b[0m\n",
      "\u001b[32m[I 2021-06-26 03:38:20,832]\u001b[0m Trial 148 pruned. \u001b[0m\n",
      "\u001b[32m[I 2021-06-26 03:38:21,221]\u001b[0m Trial 149 pruned. \u001b[0m\n",
      "\u001b[32m[I 2021-06-26 03:38:28,186]\u001b[0m Trial 150 finished with value: 0.00900873914361 and parameters: {'Look Back': 35, 'Batch Size': 4, 'Hidden Dim': 64, 'N layers': 1, 'Learning Rate': 0.01060619679724359, 'Factor': 0.55}. Best is trial 116 with value: 0.008528511971235275.\u001b[0m\n",
      "\u001b[32m[I 2021-06-26 03:38:28,548]\u001b[0m Trial 151 pruned. \u001b[0m\n",
      "\u001b[32m[I 2021-06-26 03:38:28,922]\u001b[0m Trial 152 pruned. \u001b[0m\n",
      "\u001b[32m[I 2021-06-26 03:38:29,275]\u001b[0m Trial 153 pruned. \u001b[0m\n",
      "\u001b[32m[I 2021-06-26 03:38:29,632]\u001b[0m Trial 154 pruned. \u001b[0m\n",
      "\u001b[32m[I 2021-06-26 03:38:29,986]\u001b[0m Trial 155 pruned. \u001b[0m\n",
      "\u001b[32m[I 2021-06-26 03:38:30,345]\u001b[0m Trial 156 pruned. \u001b[0m\n",
      "\u001b[32m[I 2021-06-26 03:38:30,750]\u001b[0m Trial 157 pruned. \u001b[0m\n",
      "\u001b[32m[I 2021-06-26 03:38:30,828]\u001b[0m Trial 158 pruned. \u001b[0m\n",
      "\u001b[32m[I 2021-06-26 03:38:31,201]\u001b[0m Trial 159 pruned. \u001b[0m\n",
      "\u001b[32m[I 2021-06-26 03:38:31,578]\u001b[0m Trial 160 pruned. \u001b[0m\n",
      "\u001b[32m[I 2021-06-26 03:38:38,673]\u001b[0m Trial 161 pruned. \u001b[0m\n",
      "\u001b[32m[I 2021-06-26 03:38:39,056]\u001b[0m Trial 162 pruned. \u001b[0m\n",
      "\u001b[32m[I 2021-06-26 03:38:39,431]\u001b[0m Trial 163 pruned. \u001b[0m\n",
      "\u001b[32m[I 2021-06-26 03:38:39,691]\u001b[0m Trial 164 pruned. \u001b[0m\n",
      "\u001b[32m[I 2021-06-26 03:38:40,053]\u001b[0m Trial 165 pruned. \u001b[0m\n",
      "\u001b[32m[I 2021-06-26 03:38:40,530]\u001b[0m Trial 166 pruned. \u001b[0m\n",
      "\u001b[32m[I 2021-06-26 03:38:40,792]\u001b[0m Trial 167 pruned. \u001b[0m\n",
      "\u001b[32m[I 2021-06-26 03:38:40,858]\u001b[0m Trial 168 pruned. \u001b[0m\n",
      "\u001b[32m[I 2021-06-26 03:38:40,968]\u001b[0m Trial 169 pruned. \u001b[0m\n",
      "\u001b[32m[I 2021-06-26 03:38:41,338]\u001b[0m Trial 170 pruned. \u001b[0m\n",
      "\u001b[32m[I 2021-06-26 03:38:41,497]\u001b[0m Trial 171 pruned. \u001b[0m\n",
      "\u001b[32m[I 2021-06-26 03:38:41,719]\u001b[0m Trial 172 pruned. \u001b[0m\n",
      "\u001b[32m[I 2021-06-26 03:38:41,868]\u001b[0m Trial 173 pruned. \u001b[0m\n",
      "\u001b[32m[I 2021-06-26 03:38:42,301]\u001b[0m Trial 174 pruned. \u001b[0m\n",
      "\u001b[32m[I 2021-06-26 03:38:42,524]\u001b[0m Trial 175 pruned. \u001b[0m\n",
      "\u001b[32m[I 2021-06-26 03:38:43,069]\u001b[0m Trial 176 pruned. \u001b[0m\n",
      "\u001b[32m[I 2021-06-26 03:38:43,263]\u001b[0m Trial 177 pruned. \u001b[0m\n",
      "\u001b[32m[I 2021-06-26 03:38:43,421]\u001b[0m Trial 178 pruned. \u001b[0m\n",
      "\u001b[32m[I 2021-06-26 03:38:44,028]\u001b[0m Trial 179 pruned. \u001b[0m\n",
      "\u001b[32m[I 2021-06-26 03:38:44,128]\u001b[0m Trial 180 pruned. \u001b[0m\n",
      "\u001b[32m[I 2021-06-26 03:38:44,234]\u001b[0m Trial 181 pruned. \u001b[0m\n",
      "\u001b[32m[I 2021-06-26 03:38:44,338]\u001b[0m Trial 182 pruned. \u001b[0m\n",
      "\u001b[32m[I 2021-06-26 03:38:44,436]\u001b[0m Trial 183 pruned. \u001b[0m\n",
      "\u001b[32m[I 2021-06-26 03:38:44,547]\u001b[0m Trial 184 pruned. \u001b[0m\n",
      "\u001b[32m[I 2021-06-26 03:38:44,744]\u001b[0m Trial 185 pruned. \u001b[0m\n",
      "\u001b[32m[I 2021-06-26 03:38:45,260]\u001b[0m Trial 186 pruned. \u001b[0m\n",
      "\u001b[32m[I 2021-06-26 03:38:45,366]\u001b[0m Trial 187 pruned. \u001b[0m\n",
      "\u001b[32m[I 2021-06-26 03:38:45,849]\u001b[0m Trial 188 pruned. \u001b[0m\n",
      "\u001b[32m[I 2021-06-26 03:38:46,068]\u001b[0m Trial 189 pruned. \u001b[0m\n",
      "\u001b[32m[I 2021-06-26 03:38:46,551]\u001b[0m Trial 190 pruned. \u001b[0m\n",
      "\u001b[32m[I 2021-06-26 03:38:46,658]\u001b[0m Trial 191 pruned. \u001b[0m\n",
      "\u001b[32m[I 2021-06-26 03:38:46,756]\u001b[0m Trial 192 pruned. \u001b[0m\n",
      "\u001b[32m[I 2021-06-26 03:38:46,859]\u001b[0m Trial 193 pruned. \u001b[0m\n",
      "\u001b[32m[I 2021-06-26 03:38:46,971]\u001b[0m Trial 194 pruned. \u001b[0m\n"
     ]
    },
    {
     "name": "stderr",
     "output_type": "stream",
     "text": [
      "\u001b[32m[I 2021-06-26 03:38:47,091]\u001b[0m Trial 195 pruned. \u001b[0m\n",
      "\u001b[32m[I 2021-06-26 03:38:55,266]\u001b[0m Trial 196 finished with value: 0.009066667407751083 and parameters: {'Look Back': 30, 'Batch Size': 8, 'Hidden Dim': 256, 'N layers': 1, 'Learning Rate': 0.00822069889525257, 'Factor': 0.55}. Best is trial 116 with value: 0.008528511971235275.\u001b[0m\n",
      "\u001b[32m[I 2021-06-26 03:39:03,352]\u001b[0m Trial 197 finished with value: 0.008765200152993202 and parameters: {'Look Back': 30, 'Batch Size': 8, 'Hidden Dim': 256, 'N layers': 1, 'Learning Rate': 0.00896256645603077, 'Factor': 0.55}. Best is trial 116 with value: 0.008528511971235275.\u001b[0m\n",
      "\u001b[32m[I 2021-06-26 03:39:03,693]\u001b[0m Trial 198 pruned. \u001b[0m\n",
      "\u001b[32m[I 2021-06-26 03:39:03,907]\u001b[0m Trial 199 pruned. \u001b[0m\n",
      "\u001b[32m[I 2021-06-26 03:39:04,125]\u001b[0m Trial 200 pruned. \u001b[0m\n",
      "\u001b[32m[I 2021-06-26 03:39:04,344]\u001b[0m Trial 201 pruned. \u001b[0m\n",
      "\u001b[32m[I 2021-06-26 03:39:04,552]\u001b[0m Trial 202 pruned. \u001b[0m\n",
      "\u001b[32m[I 2021-06-26 03:39:04,788]\u001b[0m Trial 203 pruned. \u001b[0m\n",
      "\u001b[32m[I 2021-06-26 03:39:04,992]\u001b[0m Trial 204 pruned. \u001b[0m\n",
      "\u001b[32m[I 2021-06-26 03:39:05,365]\u001b[0m Trial 205 pruned. \u001b[0m\n",
      "\u001b[32m[I 2021-06-26 03:39:05,595]\u001b[0m Trial 206 pruned. \u001b[0m\n",
      "\u001b[32m[I 2021-06-26 03:39:05,976]\u001b[0m Trial 207 pruned. \u001b[0m\n",
      "\u001b[32m[I 2021-06-26 03:39:06,279]\u001b[0m Trial 208 pruned. \u001b[0m\n",
      "\u001b[32m[I 2021-06-26 03:39:06,640]\u001b[0m Trial 209 pruned. \u001b[0m\n",
      "\u001b[32m[I 2021-06-26 03:39:06,782]\u001b[0m Trial 210 pruned. \u001b[0m\n",
      "\u001b[32m[I 2021-06-26 03:39:06,910]\u001b[0m Trial 211 pruned. \u001b[0m\n",
      "\u001b[32m[I 2021-06-26 03:39:06,970]\u001b[0m Trial 212 pruned. \u001b[0m\n",
      "\u001b[32m[I 2021-06-26 03:39:07,152]\u001b[0m Trial 213 pruned. \u001b[0m\n",
      "\u001b[32m[I 2021-06-26 03:39:07,560]\u001b[0m Trial 214 pruned. \u001b[0m\n",
      "\u001b[32m[I 2021-06-26 03:39:07,925]\u001b[0m Trial 215 pruned. \u001b[0m\n",
      "\u001b[32m[I 2021-06-26 03:39:08,322]\u001b[0m Trial 216 pruned. \u001b[0m\n",
      "\u001b[32m[I 2021-06-26 03:39:08,455]\u001b[0m Trial 217 pruned. \u001b[0m\n",
      "\u001b[32m[I 2021-06-26 03:39:08,708]\u001b[0m Trial 218 pruned. \u001b[0m\n",
      "\u001b[32m[I 2021-06-26 03:39:15,459]\u001b[0m Trial 219 finished with value: 0.009557617828249931 and parameters: {'Look Back': 25, 'Batch Size': 4, 'Hidden Dim': 64, 'N layers': 1, 'Learning Rate': 0.012010803511796496, 'Factor': 0.65}. Best is trial 116 with value: 0.008528511971235275.\u001b[0m\n",
      "\u001b[32m[I 2021-06-26 03:39:15,805]\u001b[0m Trial 220 pruned. \u001b[0m\n",
      "\u001b[32m[I 2021-06-26 03:39:16,134]\u001b[0m Trial 221 pruned. \u001b[0m\n",
      "\u001b[32m[I 2021-06-26 03:39:16,479]\u001b[0m Trial 222 pruned. \u001b[0m\n",
      "\u001b[32m[I 2021-06-26 03:39:16,805]\u001b[0m Trial 223 pruned. \u001b[0m\n",
      "\u001b[32m[I 2021-06-26 03:39:21,797]\u001b[0m Trial 224 pruned. \u001b[0m\n",
      "\u001b[32m[I 2021-06-26 03:39:22,162]\u001b[0m Trial 225 pruned. \u001b[0m\n",
      "\u001b[32m[I 2021-06-26 03:39:22,329]\u001b[0m Trial 226 pruned. \u001b[0m\n",
      "\u001b[32m[I 2021-06-26 03:39:22,516]\u001b[0m Trial 227 pruned. \u001b[0m\n",
      "\u001b[32m[I 2021-06-26 03:39:23,032]\u001b[0m Trial 228 pruned. \u001b[0m\n",
      "\u001b[32m[I 2021-06-26 03:39:23,114]\u001b[0m Trial 229 pruned. \u001b[0m\n",
      "\u001b[32m[I 2021-06-26 03:39:23,494]\u001b[0m Trial 230 pruned. \u001b[0m\n",
      "\u001b[32m[I 2021-06-26 03:39:23,931]\u001b[0m Trial 231 pruned. \u001b[0m\n",
      "\u001b[32m[I 2021-06-26 03:39:24,356]\u001b[0m Trial 232 pruned. \u001b[0m\n",
      "\u001b[32m[I 2021-06-26 03:39:24,776]\u001b[0m Trial 233 pruned. \u001b[0m\n",
      "\u001b[32m[I 2021-06-26 03:39:25,204]\u001b[0m Trial 234 pruned. \u001b[0m\n",
      "\u001b[32m[I 2021-06-26 03:39:25,341]\u001b[0m Trial 235 pruned. \u001b[0m\n",
      "\u001b[32m[I 2021-06-26 03:39:25,712]\u001b[0m Trial 236 pruned. \u001b[0m\n",
      "\u001b[32m[I 2021-06-26 03:39:35,507]\u001b[0m Trial 237 finished with value: 0.009256078861653805 and parameters: {'Look Back': 30, 'Batch Size': 8, 'Hidden Dim': 64, 'N layers': 2, 'Learning Rate': 0.006573616792730148, 'Factor': 0.55}. Best is trial 116 with value: 0.008528511971235275.\u001b[0m\n",
      "\u001b[32m[I 2021-06-26 03:39:35,704]\u001b[0m Trial 238 pruned. \u001b[0m\n",
      "\u001b[32m[I 2021-06-26 03:39:35,983]\u001b[0m Trial 239 pruned. \u001b[0m\n",
      "\u001b[32m[I 2021-06-26 03:39:36,255]\u001b[0m Trial 240 pruned. \u001b[0m\n",
      "\u001b[32m[I 2021-06-26 03:39:36,485]\u001b[0m Trial 241 pruned. \u001b[0m\n",
      "\u001b[32m[I 2021-06-26 03:39:36,753]\u001b[0m Trial 242 pruned. \u001b[0m\n",
      "\u001b[32m[I 2021-06-26 03:39:37,292]\u001b[0m Trial 243 pruned. \u001b[0m\n",
      "\u001b[32m[I 2021-06-26 03:39:37,461]\u001b[0m Trial 244 pruned. \u001b[0m\n",
      "\u001b[32m[I 2021-06-26 03:39:37,980]\u001b[0m Trial 245 pruned. \u001b[0m\n",
      "\u001b[32m[I 2021-06-26 03:39:38,361]\u001b[0m Trial 246 pruned. \u001b[0m\n",
      "\u001b[32m[I 2021-06-26 03:39:38,624]\u001b[0m Trial 247 pruned. \u001b[0m\n",
      "\u001b[32m[I 2021-06-26 03:39:38,724]\u001b[0m Trial 248 pruned. \u001b[0m\n",
      "\u001b[32m[I 2021-06-26 03:39:39,276]\u001b[0m Trial 249 pruned. \u001b[0m\n",
      "\u001b[32m[I 2021-06-26 03:39:43,819]\u001b[0m Trial 250 pruned. \u001b[0m\n",
      "\u001b[32m[I 2021-06-26 03:39:43,965]\u001b[0m Trial 251 pruned. \u001b[0m\n",
      "\u001b[32m[I 2021-06-26 03:39:44,352]\u001b[0m Trial 252 pruned. \u001b[0m\n",
      "\u001b[32m[I 2021-06-26 03:39:44,496]\u001b[0m Trial 253 pruned. \u001b[0m\n",
      "\u001b[32m[I 2021-06-26 03:39:44,720]\u001b[0m Trial 254 pruned. \u001b[0m\n",
      "\u001b[32m[I 2021-06-26 03:39:45,070]\u001b[0m Trial 255 pruned. \u001b[0m\n",
      "\u001b[32m[I 2021-06-26 03:39:45,323]\u001b[0m Trial 256 pruned. \u001b[0m\n",
      "\u001b[32m[I 2021-06-26 03:39:45,686]\u001b[0m Trial 257 pruned. \u001b[0m\n",
      "\u001b[32m[I 2021-06-26 03:39:45,855]\u001b[0m Trial 258 pruned. \u001b[0m\n",
      "\u001b[32m[I 2021-06-26 03:39:45,912]\u001b[0m Trial 259 pruned. \u001b[0m\n",
      "\u001b[32m[I 2021-06-26 03:39:46,277]\u001b[0m Trial 260 pruned. \u001b[0m\n",
      "\u001b[32m[I 2021-06-26 03:39:51,152]\u001b[0m Trial 261 pruned. \u001b[0m\n",
      "\u001b[32m[I 2021-06-26 03:39:51,727]\u001b[0m Trial 262 pruned. \u001b[0m\n",
      "\u001b[32m[I 2021-06-26 03:39:51,945]\u001b[0m Trial 263 pruned. \u001b[0m\n",
      "\u001b[32m[I 2021-06-26 03:39:52,047]\u001b[0m Trial 264 pruned. \u001b[0m\n",
      "\u001b[32m[I 2021-06-26 03:39:52,522]\u001b[0m Trial 265 pruned. \u001b[0m\n",
      "\u001b[32m[I 2021-06-26 03:39:52,737]\u001b[0m Trial 266 pruned. \u001b[0m\n",
      "\u001b[32m[I 2021-06-26 03:39:52,839]\u001b[0m Trial 267 pruned. \u001b[0m\n",
      "\u001b[32m[I 2021-06-26 03:39:53,191]\u001b[0m Trial 268 pruned. \u001b[0m\n",
      "\u001b[32m[I 2021-06-26 03:39:53,337]\u001b[0m Trial 269 pruned. \u001b[0m\n",
      "\u001b[32m[I 2021-06-26 03:39:56,949]\u001b[0m Trial 270 pruned. \u001b[0m\n",
      "\u001b[32m[I 2021-06-26 03:39:57,289]\u001b[0m Trial 271 pruned. \u001b[0m\n",
      "\u001b[32m[I 2021-06-26 03:39:57,585]\u001b[0m Trial 272 pruned. \u001b[0m\n",
      "\u001b[32m[I 2021-06-26 03:39:57,749]\u001b[0m Trial 273 pruned. \u001b[0m\n",
      "\u001b[32m[I 2021-06-26 03:39:58,090]\u001b[0m Trial 274 pruned. \u001b[0m\n",
      "\u001b[32m[I 2021-06-26 03:39:58,305]\u001b[0m Trial 275 pruned. \u001b[0m\n",
      "\u001b[32m[I 2021-06-26 03:39:58,803]\u001b[0m Trial 276 pruned. \u001b[0m\n",
      "\u001b[32m[I 2021-06-26 03:39:59,153]\u001b[0m Trial 277 pruned. \u001b[0m\n",
      "\u001b[32m[I 2021-06-26 03:39:59,297]\u001b[0m Trial 278 pruned. \u001b[0m\n",
      "\u001b[32m[I 2021-06-26 03:39:59,707]\u001b[0m Trial 279 pruned. \u001b[0m\n",
      "\u001b[32m[I 2021-06-26 03:39:59,967]\u001b[0m Trial 280 pruned. \u001b[0m\n",
      "\u001b[32m[I 2021-06-26 03:40:00,367]\u001b[0m Trial 281 pruned. \u001b[0m\n",
      "\u001b[32m[I 2021-06-26 03:40:00,461]\u001b[0m Trial 282 pruned. \u001b[0m\n",
      "\u001b[32m[I 2021-06-26 03:40:00,676]\u001b[0m Trial 283 pruned. \u001b[0m\n",
      "\u001b[32m[I 2021-06-26 03:40:04,396]\u001b[0m Trial 284 pruned. \u001b[0m\n",
      "\u001b[32m[I 2021-06-26 03:40:04,948]\u001b[0m Trial 285 pruned. \u001b[0m\n",
      "\u001b[32m[I 2021-06-26 03:40:05,018]\u001b[0m Trial 286 pruned. \u001b[0m\n",
      "\u001b[32m[I 2021-06-26 03:40:05,285]\u001b[0m Trial 287 pruned. \u001b[0m\n",
      "\u001b[32m[I 2021-06-26 03:40:05,665]\u001b[0m Trial 288 pruned. \u001b[0m\n",
      "\u001b[32m[I 2021-06-26 03:40:05,810]\u001b[0m Trial 289 pruned. \u001b[0m\n",
      "\u001b[32m[I 2021-06-26 03:40:06,170]\u001b[0m Trial 290 pruned. \u001b[0m\n",
      "\u001b[32m[I 2021-06-26 03:40:06,386]\u001b[0m Trial 291 pruned. \u001b[0m\n",
      "\u001b[32m[I 2021-06-26 03:40:06,976]\u001b[0m Trial 292 pruned. \u001b[0m\n",
      "\u001b[32m[I 2021-06-26 03:40:07,239]\u001b[0m Trial 293 pruned. \u001b[0m\n",
      "\u001b[32m[I 2021-06-26 03:40:07,358]\u001b[0m Trial 294 pruned. \u001b[0m\n",
      "\u001b[32m[I 2021-06-26 03:40:07,674]\u001b[0m Trial 295 pruned. \u001b[0m\n",
      "\u001b[32m[I 2021-06-26 03:40:08,008]\u001b[0m Trial 296 pruned. \u001b[0m\n",
      "\u001b[32m[I 2021-06-26 03:40:08,083]\u001b[0m Trial 297 pruned. \u001b[0m\n",
      "\u001b[32m[I 2021-06-26 03:40:08,667]\u001b[0m Trial 298 pruned. \u001b[0m\n",
      "\u001b[32m[I 2021-06-26 03:40:08,792]\u001b[0m Trial 299 pruned. \u001b[0m\n",
      "\u001b[32m[I 2021-06-26 03:40:09,017]\u001b[0m Trial 300 pruned. \u001b[0m\n",
      "\u001b[32m[I 2021-06-26 03:40:09,382]\u001b[0m Trial 301 pruned. \u001b[0m\n",
      "\u001b[32m[I 2021-06-26 03:40:09,772]\u001b[0m Trial 302 pruned. \u001b[0m\n",
      "\u001b[32m[I 2021-06-26 03:40:10,115]\u001b[0m Trial 303 pruned. \u001b[0m\n",
      "\u001b[32m[I 2021-06-26 03:40:10,261]\u001b[0m Trial 304 pruned. \u001b[0m\n",
      "\u001b[32m[I 2021-06-26 03:40:10,474]\u001b[0m Trial 305 pruned. \u001b[0m\n",
      "\u001b[32m[I 2021-06-26 03:40:10,967]\u001b[0m Trial 306 pruned. \u001b[0m\n",
      "\u001b[32m[I 2021-06-26 03:40:11,183]\u001b[0m Trial 307 pruned. \u001b[0m\n",
      "\u001b[32m[I 2021-06-26 03:40:11,359]\u001b[0m Trial 308 pruned. \u001b[0m\n",
      "\u001b[32m[I 2021-06-26 03:40:11,697]\u001b[0m Trial 309 pruned. \u001b[0m\n",
      "\u001b[32m[I 2021-06-26 03:40:11,900]\u001b[0m Trial 310 pruned. \u001b[0m\n",
      "\u001b[32m[I 2021-06-26 03:40:12,375]\u001b[0m Trial 311 pruned. \u001b[0m\n",
      "\u001b[32m[I 2021-06-26 03:40:12,455]\u001b[0m Trial 312 pruned. \u001b[0m\n",
      "\u001b[32m[I 2021-06-26 03:40:12,656]\u001b[0m Trial 313 pruned. \u001b[0m\n",
      "\u001b[32m[I 2021-06-26 03:40:12,879]\u001b[0m Trial 314 pruned. \u001b[0m\n",
      "\u001b[32m[I 2021-06-26 03:40:13,340]\u001b[0m Trial 315 pruned. \u001b[0m\n",
      "\u001b[32m[I 2021-06-26 03:40:13,527]\u001b[0m Trial 316 pruned. \u001b[0m\n"
     ]
    },
    {
     "name": "stderr",
     "output_type": "stream",
     "text": [
      "\u001b[32m[I 2021-06-26 03:40:13,882]\u001b[0m Trial 317 pruned. \u001b[0m\n",
      "\u001b[32m[I 2021-06-26 03:40:13,984]\u001b[0m Trial 318 pruned. \u001b[0m\n",
      "\u001b[32m[I 2021-06-26 03:40:21,288]\u001b[0m Trial 319 finished with value: 0.008720563724637032 and parameters: {'Look Back': 35, 'Batch Size': 16, 'Hidden Dim': 32, 'N layers': 1, 'Learning Rate': 0.01223788252356964, 'Factor': 0.55}. Best is trial 116 with value: 0.008528511971235275.\u001b[0m\n",
      "\u001b[32m[I 2021-06-26 03:40:21,404]\u001b[0m Trial 320 pruned. \u001b[0m\n",
      "\u001b[32m[I 2021-06-26 03:40:21,521]\u001b[0m Trial 321 pruned. \u001b[0m\n",
      "\u001b[32m[I 2021-06-26 03:40:21,639]\u001b[0m Trial 322 pruned. \u001b[0m\n",
      "\u001b[32m[I 2021-06-26 03:40:21,753]\u001b[0m Trial 323 pruned. \u001b[0m\n",
      "\u001b[32m[I 2021-06-26 03:40:21,862]\u001b[0m Trial 324 pruned. \u001b[0m\n",
      "\u001b[32m[I 2021-06-26 03:40:21,969]\u001b[0m Trial 325 pruned. \u001b[0m\n",
      "\u001b[32m[I 2021-06-26 03:40:22,198]\u001b[0m Trial 326 pruned. \u001b[0m\n",
      "\u001b[32m[I 2021-06-26 03:40:22,325]\u001b[0m Trial 327 pruned. \u001b[0m\n",
      "\u001b[32m[I 2021-06-26 03:40:22,532]\u001b[0m Trial 328 pruned. \u001b[0m\n",
      "\u001b[32m[I 2021-06-26 03:40:22,653]\u001b[0m Trial 329 pruned. \u001b[0m\n",
      "\u001b[32m[I 2021-06-26 03:40:22,872]\u001b[0m Trial 330 pruned. \u001b[0m\n",
      "\u001b[32m[I 2021-06-26 03:40:22,942]\u001b[0m Trial 331 pruned. \u001b[0m\n",
      "\u001b[32m[I 2021-06-26 03:40:23,172]\u001b[0m Trial 332 pruned. \u001b[0m\n",
      "\u001b[32m[I 2021-06-26 03:40:23,315]\u001b[0m Trial 333 pruned. \u001b[0m\n",
      "\u001b[32m[I 2021-06-26 03:40:23,513]\u001b[0m Trial 334 pruned. \u001b[0m\n",
      "\u001b[32m[I 2021-06-26 03:40:23,629]\u001b[0m Trial 335 pruned. \u001b[0m\n",
      "\u001b[32m[I 2021-06-26 03:40:23,995]\u001b[0m Trial 336 pruned. \u001b[0m\n",
      "\u001b[32m[I 2021-06-26 03:40:24,374]\u001b[0m Trial 337 pruned. \u001b[0m\n",
      "\u001b[32m[I 2021-06-26 03:40:24,631]\u001b[0m Trial 338 pruned. \u001b[0m\n",
      "\u001b[32m[I 2021-06-26 03:40:25,005]\u001b[0m Trial 339 pruned. \u001b[0m\n",
      "\u001b[32m[I 2021-06-26 03:40:25,229]\u001b[0m Trial 340 pruned. \u001b[0m\n",
      "\u001b[32m[I 2021-06-26 03:40:25,431]\u001b[0m Trial 341 pruned. \u001b[0m\n",
      "\u001b[32m[I 2021-06-26 03:40:25,834]\u001b[0m Trial 342 pruned. \u001b[0m\n",
      "\u001b[32m[I 2021-06-26 03:40:25,934]\u001b[0m Trial 343 pruned. \u001b[0m\n",
      "\u001b[32m[I 2021-06-26 03:40:26,298]\u001b[0m Trial 344 pruned. \u001b[0m\n",
      "\u001b[32m[I 2021-06-26 03:40:26,577]\u001b[0m Trial 345 pruned. \u001b[0m\n",
      "\u001b[32m[I 2021-06-26 03:40:26,693]\u001b[0m Trial 346 pruned. \u001b[0m\n",
      "\u001b[32m[I 2021-06-26 03:40:27,317]\u001b[0m Trial 347 pruned. \u001b[0m\n",
      "\u001b[32m[I 2021-06-26 03:40:27,659]\u001b[0m Trial 348 pruned. \u001b[0m\n",
      "\u001b[32m[I 2021-06-26 03:40:27,768]\u001b[0m Trial 349 pruned. \u001b[0m\n",
      "\u001b[32m[I 2021-06-26 03:40:27,871]\u001b[0m Trial 350 pruned. \u001b[0m\n",
      "\u001b[32m[I 2021-06-26 03:40:28,251]\u001b[0m Trial 351 pruned. \u001b[0m\n",
      "\u001b[32m[I 2021-06-26 03:40:28,490]\u001b[0m Trial 352 pruned. \u001b[0m\n",
      "\u001b[32m[I 2021-06-26 03:40:28,843]\u001b[0m Trial 353 pruned. \u001b[0m\n",
      "\u001b[32m[I 2021-06-26 03:40:29,058]\u001b[0m Trial 354 pruned. \u001b[0m\n",
      "\u001b[32m[I 2021-06-26 03:40:29,242]\u001b[0m Trial 355 pruned. \u001b[0m\n",
      "\u001b[32m[I 2021-06-26 03:40:29,626]\u001b[0m Trial 356 pruned. \u001b[0m\n",
      "\u001b[32m[I 2021-06-26 03:40:36,098]\u001b[0m Trial 357 pruned. \u001b[0m\n",
      "\u001b[32m[I 2021-06-26 03:40:36,234]\u001b[0m Trial 358 pruned. \u001b[0m\n",
      "\u001b[32m[I 2021-06-26 03:40:36,605]\u001b[0m Trial 359 pruned. \u001b[0m\n",
      "\u001b[32m[I 2021-06-26 03:40:36,754]\u001b[0m Trial 360 pruned. \u001b[0m\n",
      "\u001b[32m[I 2021-06-26 03:40:36,974]\u001b[0m Trial 361 pruned. \u001b[0m\n",
      "\u001b[32m[I 2021-06-26 03:40:37,314]\u001b[0m Trial 362 pruned. \u001b[0m\n",
      "\u001b[32m[I 2021-06-26 03:40:37,538]\u001b[0m Trial 363 pruned. \u001b[0m\n",
      "\u001b[32m[I 2021-06-26 03:40:37,731]\u001b[0m Trial 364 pruned. \u001b[0m\n",
      "\u001b[32m[I 2021-06-26 03:40:38,211]\u001b[0m Trial 365 pruned. \u001b[0m\n",
      "\u001b[32m[I 2021-06-26 03:40:38,404]\u001b[0m Trial 366 pruned. \u001b[0m\n",
      "\u001b[32m[I 2021-06-26 03:40:38,628]\u001b[0m Trial 367 pruned. \u001b[0m\n",
      "\u001b[32m[I 2021-06-26 03:40:39,001]\u001b[0m Trial 368 pruned. \u001b[0m\n",
      "\u001b[32m[I 2021-06-26 03:40:39,216]\u001b[0m Trial 369 pruned. \u001b[0m\n",
      "\u001b[32m[I 2021-06-26 03:40:39,355]\u001b[0m Trial 370 pruned. \u001b[0m\n",
      "\u001b[32m[I 2021-06-26 03:40:39,688]\u001b[0m Trial 371 pruned. \u001b[0m\n",
      "\u001b[32m[I 2021-06-26 03:40:39,983]\u001b[0m Trial 372 pruned. \u001b[0m\n",
      "\u001b[32m[I 2021-06-26 03:40:40,348]\u001b[0m Trial 373 pruned. \u001b[0m\n",
      "\u001b[32m[I 2021-06-26 03:40:40,437]\u001b[0m Trial 374 pruned. \u001b[0m\n",
      "\u001b[32m[I 2021-06-26 03:40:40,638]\u001b[0m Trial 375 pruned. \u001b[0m\n",
      "\u001b[32m[I 2021-06-26 03:40:40,797]\u001b[0m Trial 376 pruned. \u001b[0m\n",
      "\u001b[32m[I 2021-06-26 03:40:41,159]\u001b[0m Trial 377 pruned. \u001b[0m\n",
      "\u001b[32m[I 2021-06-26 03:40:41,377]\u001b[0m Trial 378 pruned. \u001b[0m\n",
      "\u001b[32m[I 2021-06-26 03:40:41,526]\u001b[0m Trial 379 pruned. \u001b[0m\n",
      "\u001b[32m[I 2021-06-26 03:40:41,890]\u001b[0m Trial 380 pruned. \u001b[0m\n",
      "\u001b[32m[I 2021-06-26 03:40:42,235]\u001b[0m Trial 381 pruned. \u001b[0m\n",
      "\u001b[32m[I 2021-06-26 03:40:48,926]\u001b[0m Trial 382 finished with value: 0.009219003841280937 and parameters: {'Look Back': 30, 'Batch Size': 4, 'Hidden Dim': 64, 'N layers': 1, 'Learning Rate': 0.011535196424697369, 'Factor': 0.55}. Best is trial 116 with value: 0.008528511971235275.\u001b[0m\n",
      "\u001b[32m[I 2021-06-26 03:40:49,285]\u001b[0m Trial 383 pruned. \u001b[0m\n",
      "\u001b[32m[I 2021-06-26 03:40:49,708]\u001b[0m Trial 384 pruned. \u001b[0m\n",
      "\u001b[32m[I 2021-06-26 03:40:56,342]\u001b[0m Trial 385 finished with value: 0.00997968204319477 and parameters: {'Look Back': 25, 'Batch Size': 4, 'Hidden Dim': 64, 'N layers': 1, 'Learning Rate': 0.012416999577157495, 'Factor': 0.55}. Best is trial 116 with value: 0.008528511971235275.\u001b[0m\n",
      "\u001b[32m[I 2021-06-26 03:40:56,665]\u001b[0m Trial 386 pruned. \u001b[0m\n",
      "\u001b[32m[I 2021-06-26 03:40:57,016]\u001b[0m Trial 387 pruned. \u001b[0m\n",
      "\u001b[32m[I 2021-06-26 03:40:57,502]\u001b[0m Trial 388 pruned. \u001b[0m\n",
      "\u001b[32m[I 2021-06-26 03:40:57,856]\u001b[0m Trial 389 pruned. \u001b[0m\n",
      "\u001b[32m[I 2021-06-26 03:40:58,330]\u001b[0m Trial 390 pruned. \u001b[0m\n",
      "\u001b[32m[I 2021-06-26 03:40:58,683]\u001b[0m Trial 391 pruned. \u001b[0m\n",
      "\u001b[32m[I 2021-06-26 03:40:59,035]\u001b[0m Trial 392 pruned. \u001b[0m\n",
      "\u001b[32m[I 2021-06-26 03:40:59,520]\u001b[0m Trial 393 pruned. \u001b[0m\n",
      "\u001b[32m[I 2021-06-26 03:40:59,883]\u001b[0m Trial 394 pruned. \u001b[0m\n",
      "\u001b[32m[I 2021-06-26 03:41:00,389]\u001b[0m Trial 395 pruned. \u001b[0m\n",
      "\u001b[32m[I 2021-06-26 03:41:07,521]\u001b[0m Trial 396 finished with value: 0.009028904139995575 and parameters: {'Look Back': 35, 'Batch Size': 4, 'Hidden Dim': 64, 'N layers': 1, 'Learning Rate': 0.00831267027824284, 'Factor': 0.55}. Best is trial 116 with value: 0.008528511971235275.\u001b[0m\n",
      "\u001b[32m[I 2021-06-26 03:41:07,911]\u001b[0m Trial 397 pruned. \u001b[0m\n",
      "\u001b[32m[I 2021-06-26 03:41:08,283]\u001b[0m Trial 398 pruned. \u001b[0m\n",
      "\u001b[32m[I 2021-06-26 03:41:08,646]\u001b[0m Trial 399 pruned. \u001b[0m\n",
      "\u001b[32m[I 2021-06-26 03:41:09,177]\u001b[0m Trial 400 pruned. \u001b[0m\n",
      "\u001b[32m[I 2021-06-26 03:41:09,538]\u001b[0m Trial 401 pruned. \u001b[0m\n",
      "\u001b[32m[I 2021-06-26 03:41:10,043]\u001b[0m Trial 402 pruned. \u001b[0m\n",
      "\u001b[32m[I 2021-06-26 03:41:10,428]\u001b[0m Trial 403 pruned. \u001b[0m\n",
      "\u001b[32m[I 2021-06-26 03:41:10,497]\u001b[0m Trial 404 pruned. \u001b[0m\n",
      "\u001b[32m[I 2021-06-26 03:41:10,866]\u001b[0m Trial 405 pruned. \u001b[0m\n",
      "\u001b[32m[I 2021-06-26 03:41:11,143]\u001b[0m Trial 406 pruned. \u001b[0m\n",
      "\u001b[32m[I 2021-06-26 03:41:11,512]\u001b[0m Trial 407 pruned. \u001b[0m\n",
      "\u001b[32m[I 2021-06-26 03:41:11,712]\u001b[0m Trial 408 pruned. \u001b[0m\n",
      "\u001b[32m[I 2021-06-26 03:41:12,231]\u001b[0m Trial 409 pruned. \u001b[0m\n",
      "\u001b[32m[I 2021-06-26 03:41:12,529]\u001b[0m Trial 410 pruned. \u001b[0m\n",
      "\u001b[32m[I 2021-06-26 03:41:12,622]\u001b[0m Trial 411 pruned. \u001b[0m\n",
      "\u001b[32m[I 2021-06-26 03:41:12,984]\u001b[0m Trial 412 pruned. \u001b[0m\n",
      "\u001b[32m[I 2021-06-26 03:41:13,258]\u001b[0m Trial 413 pruned. \u001b[0m\n",
      "\u001b[32m[I 2021-06-26 03:41:13,628]\u001b[0m Trial 414 pruned. \u001b[0m\n",
      "\u001b[32m[I 2021-06-26 03:41:13,839]\u001b[0m Trial 415 pruned. \u001b[0m\n",
      "\u001b[32m[I 2021-06-26 03:41:14,342]\u001b[0m Trial 416 pruned. \u001b[0m\n",
      "\u001b[32m[I 2021-06-26 03:41:14,572]\u001b[0m Trial 417 pruned. \u001b[0m\n",
      "\u001b[32m[I 2021-06-26 03:41:14,940]\u001b[0m Trial 418 pruned. \u001b[0m\n",
      "\u001b[32m[I 2021-06-26 03:41:15,446]\u001b[0m Trial 419 pruned. \u001b[0m\n",
      "\u001b[32m[I 2021-06-26 03:41:15,679]\u001b[0m Trial 420 pruned. \u001b[0m\n",
      "\u001b[32m[I 2021-06-26 03:41:16,205]\u001b[0m Trial 421 pruned. \u001b[0m\n",
      "\u001b[32m[I 2021-06-26 03:41:16,465]\u001b[0m Trial 422 pruned. \u001b[0m\n",
      "\u001b[32m[I 2021-06-26 03:41:16,961]\u001b[0m Trial 423 pruned. \u001b[0m\n",
      "\u001b[32m[I 2021-06-26 03:41:17,035]\u001b[0m Trial 424 pruned. \u001b[0m\n",
      "\u001b[32m[I 2021-06-26 03:41:17,329]\u001b[0m Trial 425 pruned. \u001b[0m\n",
      "\u001b[32m[I 2021-06-26 03:41:17,702]\u001b[0m Trial 426 pruned. \u001b[0m\n",
      "\u001b[32m[I 2021-06-26 03:41:18,060]\u001b[0m Trial 427 pruned. \u001b[0m\n",
      "\u001b[32m[I 2021-06-26 03:41:18,351]\u001b[0m Trial 428 pruned. \u001b[0m\n",
      "\u001b[32m[I 2021-06-26 03:41:18,728]\u001b[0m Trial 429 pruned. \u001b[0m\n",
      "\u001b[32m[I 2021-06-26 03:41:18,938]\u001b[0m Trial 430 pruned. \u001b[0m\n",
      "\u001b[32m[I 2021-06-26 03:41:18,999]\u001b[0m Trial 431 pruned. \u001b[0m\n",
      "\u001b[32m[I 2021-06-26 03:41:19,377]\u001b[0m Trial 432 pruned. \u001b[0m\n",
      "\u001b[32m[I 2021-06-26 03:41:19,657]\u001b[0m Trial 433 pruned. \u001b[0m\n",
      "\u001b[32m[I 2021-06-26 03:41:26,601]\u001b[0m Trial 434 finished with value: 0.009202971123158932 and parameters: {'Look Back': 35, 'Batch Size': 4, 'Hidden Dim': 64, 'N layers': 1, 'Learning Rate': 0.015626471121674857, 'Factor': 0.55}. Best is trial 116 with value: 0.008528511971235275.\u001b[0m\n"
     ]
    },
    {
     "name": "stderr",
     "output_type": "stream",
     "text": [
      "\u001b[32m[I 2021-06-26 03:41:26,968]\u001b[0m Trial 435 pruned. \u001b[0m\n",
      "\u001b[32m[I 2021-06-26 03:41:27,332]\u001b[0m Trial 436 pruned. \u001b[0m\n",
      "\u001b[32m[I 2021-06-26 03:41:27,699]\u001b[0m Trial 437 pruned. \u001b[0m\n",
      "\u001b[32m[I 2021-06-26 03:41:34,360]\u001b[0m Trial 438 finished with value: 0.02451862394809723 and parameters: {'Look Back': 30, 'Batch Size': 4, 'Hidden Dim': 64, 'N layers': 1, 'Learning Rate': 0.014767509276640355, 'Factor': 0.75}. Best is trial 116 with value: 0.008528511971235275.\u001b[0m\n",
      "\u001b[32m[I 2021-06-26 03:41:34,706]\u001b[0m Trial 439 pruned. \u001b[0m\n",
      "\u001b[32m[I 2021-06-26 03:41:35,069]\u001b[0m Trial 440 pruned. \u001b[0m\n",
      "\u001b[32m[I 2021-06-26 03:41:35,428]\u001b[0m Trial 441 pruned. \u001b[0m\n",
      "\u001b[32m[I 2021-06-26 03:41:35,814]\u001b[0m Trial 442 pruned. \u001b[0m\n",
      "\u001b[32m[I 2021-06-26 03:41:36,199]\u001b[0m Trial 443 pruned. \u001b[0m\n",
      "\u001b[32m[I 2021-06-26 03:41:36,277]\u001b[0m Trial 444 pruned. \u001b[0m\n",
      "\u001b[32m[I 2021-06-26 03:41:36,640]\u001b[0m Trial 445 pruned. \u001b[0m\n",
      "\u001b[32m[I 2021-06-26 03:41:36,992]\u001b[0m Trial 446 pruned. \u001b[0m\n",
      "\u001b[32m[I 2021-06-26 03:41:37,370]\u001b[0m Trial 447 pruned. \u001b[0m\n",
      "\u001b[32m[I 2021-06-26 03:41:37,750]\u001b[0m Trial 448 pruned. \u001b[0m\n",
      "\u001b[32m[I 2021-06-26 03:41:38,094]\u001b[0m Trial 449 pruned. \u001b[0m\n",
      "\u001b[32m[I 2021-06-26 03:41:44,724]\u001b[0m Trial 450 pruned. \u001b[0m\n",
      "\u001b[32m[I 2021-06-26 03:41:45,104]\u001b[0m Trial 451 pruned. \u001b[0m\n",
      "\u001b[32m[I 2021-06-26 03:41:52,040]\u001b[0m Trial 452 finished with value: 0.009548275731503963 and parameters: {'Look Back': 35, 'Batch Size': 4, 'Hidden Dim': 16, 'N layers': 1, 'Learning Rate': 0.007333048330521232, 'Factor': 0.55}. Best is trial 116 with value: 0.008528511971235275.\u001b[0m\n",
      "\u001b[32m[I 2021-06-26 03:41:52,393]\u001b[0m Trial 453 pruned. \u001b[0m\n",
      "\u001b[32m[I 2021-06-26 03:41:52,741]\u001b[0m Trial 454 pruned. \u001b[0m\n",
      "\u001b[32m[I 2021-06-26 03:41:53,098]\u001b[0m Trial 455 pruned. \u001b[0m\n",
      "\u001b[32m[I 2021-06-26 03:41:53,446]\u001b[0m Trial 456 pruned. \u001b[0m\n",
      "\u001b[32m[I 2021-06-26 03:41:53,796]\u001b[0m Trial 457 pruned. \u001b[0m\n",
      "\u001b[32m[I 2021-06-26 03:41:54,139]\u001b[0m Trial 458 pruned. \u001b[0m\n",
      "\u001b[32m[I 2021-06-26 03:41:54,481]\u001b[0m Trial 459 pruned. \u001b[0m\n",
      "\u001b[32m[I 2021-06-26 03:41:54,558]\u001b[0m Trial 460 pruned. \u001b[0m\n",
      "\u001b[32m[I 2021-06-26 03:41:59,437]\u001b[0m Trial 461 pruned. \u001b[0m\n",
      "\u001b[32m[I 2021-06-26 03:41:59,810]\u001b[0m Trial 462 pruned. \u001b[0m\n",
      "\u001b[32m[I 2021-06-26 03:42:00,173]\u001b[0m Trial 463 pruned. \u001b[0m\n",
      "\u001b[32m[I 2021-06-26 03:42:00,504]\u001b[0m Trial 464 pruned. \u001b[0m\n",
      "\u001b[32m[I 2021-06-26 03:42:00,559]\u001b[0m Trial 465 pruned. \u001b[0m\n",
      "\u001b[32m[I 2021-06-26 03:42:00,910]\u001b[0m Trial 466 pruned. \u001b[0m\n",
      "\u001b[32m[I 2021-06-26 03:42:01,286]\u001b[0m Trial 467 pruned. \u001b[0m\n",
      "\u001b[32m[I 2021-06-26 03:42:01,638]\u001b[0m Trial 468 pruned. \u001b[0m\n",
      "\u001b[32m[I 2021-06-26 03:42:02,021]\u001b[0m Trial 469 pruned. \u001b[0m\n",
      "\u001b[32m[I 2021-06-26 03:42:02,103]\u001b[0m Trial 470 pruned. \u001b[0m\n",
      "\u001b[32m[I 2021-06-26 03:42:08,992]\u001b[0m Trial 471 finished with value: 0.008912935853004456 and parameters: {'Look Back': 35, 'Batch Size': 4, 'Hidden Dim': 16, 'N layers': 1, 'Learning Rate': 0.009665200350209267, 'Factor': 0.55}. Best is trial 116 with value: 0.008528511971235275.\u001b[0m\n",
      "\u001b[32m[I 2021-06-26 03:42:09,350]\u001b[0m Trial 472 pruned. \u001b[0m\n",
      "\u001b[32m[I 2021-06-26 03:42:09,693]\u001b[0m Trial 473 pruned. \u001b[0m\n",
      "\u001b[32m[I 2021-06-26 03:42:16,601]\u001b[0m Trial 474 finished with value: 0.00954168476164341 and parameters: {'Look Back': 35, 'Batch Size': 4, 'Hidden Dim': 16, 'N layers': 1, 'Learning Rate': 0.013944185102760125, 'Factor': 0.55}. Best is trial 116 with value: 0.008528511971235275.\u001b[0m\n",
      "\u001b[32m[I 2021-06-26 03:42:16,964]\u001b[0m Trial 475 pruned. \u001b[0m\n",
      "\u001b[32m[I 2021-06-26 03:42:17,340]\u001b[0m Trial 476 pruned. \u001b[0m\n",
      "\u001b[32m[I 2021-06-26 03:42:17,690]\u001b[0m Trial 477 pruned. \u001b[0m\n",
      "\u001b[32m[I 2021-06-26 03:42:18,052]\u001b[0m Trial 478 pruned. \u001b[0m\n",
      "\u001b[32m[I 2021-06-26 03:42:18,392]\u001b[0m Trial 479 pruned. \u001b[0m\n",
      "\u001b[32m[I 2021-06-26 03:42:18,469]\u001b[0m Trial 480 pruned. \u001b[0m\n",
      "\u001b[32m[I 2021-06-26 03:42:18,814]\u001b[0m Trial 481 pruned. \u001b[0m\n",
      "\u001b[32m[I 2021-06-26 03:42:19,005]\u001b[0m Trial 482 pruned. \u001b[0m\n",
      "\u001b[32m[I 2021-06-26 03:42:19,347]\u001b[0m Trial 483 pruned. \u001b[0m\n",
      "\u001b[32m[I 2021-06-26 03:42:19,548]\u001b[0m Trial 484 pruned. \u001b[0m\n",
      "\u001b[32m[I 2021-06-26 03:42:19,902]\u001b[0m Trial 485 pruned. \u001b[0m\n",
      "\u001b[32m[I 2021-06-26 03:42:20,257]\u001b[0m Trial 486 pruned. \u001b[0m\n",
      "\u001b[32m[I 2021-06-26 03:42:20,446]\u001b[0m Trial 487 pruned. \u001b[0m\n",
      "\u001b[32m[I 2021-06-26 03:42:20,502]\u001b[0m Trial 488 pruned. \u001b[0m\n",
      "\u001b[32m[I 2021-06-26 03:42:20,856]\u001b[0m Trial 489 pruned. \u001b[0m\n",
      "\u001b[32m[I 2021-06-26 03:42:27,736]\u001b[0m Trial 490 finished with value: 0.009088902734220028 and parameters: {'Look Back': 35, 'Batch Size': 4, 'Hidden Dim': 16, 'N layers': 1, 'Learning Rate': 0.01324897300473784, 'Factor': 0.55}. Best is trial 116 with value: 0.008528511971235275.\u001b[0m\n",
      "\u001b[32m[I 2021-06-26 03:42:27,928]\u001b[0m Trial 491 pruned. \u001b[0m\n",
      "\u001b[32m[I 2021-06-26 03:42:28,294]\u001b[0m Trial 492 pruned. \u001b[0m\n",
      "\u001b[32m[I 2021-06-26 03:42:28,643]\u001b[0m Trial 493 pruned. \u001b[0m\n",
      "\u001b[32m[I 2021-06-26 03:42:28,717]\u001b[0m Trial 494 pruned. \u001b[0m\n",
      "\u001b[32m[I 2021-06-26 03:42:28,913]\u001b[0m Trial 495 pruned. \u001b[0m\n",
      "\u001b[32m[I 2021-06-26 03:42:35,779]\u001b[0m Trial 496 finished with value: 0.009081337600946426 and parameters: {'Look Back': 35, 'Batch Size': 4, 'Hidden Dim': 16, 'N layers': 1, 'Learning Rate': 0.01664929952768765, 'Factor': 0.55}. Best is trial 116 with value: 0.008528511971235275.\u001b[0m\n",
      "\u001b[32m[I 2021-06-26 03:42:36,144]\u001b[0m Trial 497 pruned. \u001b[0m\n",
      "\u001b[32m[I 2021-06-26 03:42:36,497]\u001b[0m Trial 498 pruned. \u001b[0m\n",
      "\u001b[32m[I 2021-06-26 03:42:36,699]\u001b[0m Trial 499 pruned. \u001b[0m\n"
     ]
    },
    {
     "name": "stdout",
     "output_type": "stream",
     "text": [
      "Study statistics: \n",
      "  Number of finished trials:  500\n",
      "  Number of pruned trials:  464\n",
      "  Number of complete trials:  36\n"
     ]
    }
   ],
   "source": [
    "nasdaq, scaled, scaler1, scaler2  = load_nasdaq(use_fed_data = False)\n",
    "input_dim = 1\n",
    "study_gru_no_fed = conduct_study ('GRU NO FED', 'GRU', n_trials)"
   ]
  },
  {
   "cell_type": "code",
   "execution_count": 1213,
   "id": "b0ae0af7",
   "metadata": {},
   "outputs": [
    {
     "name": "stderr",
     "output_type": "stream",
     "text": [
      "\u001b[32m[I 2021-06-26 03:42:36,887]\u001b[0m A new study created in memory with name: LSTM NO FED\u001b[0m\n",
      "\u001b[32m[I 2021-06-26 03:42:57,730]\u001b[0m Trial 0 finished with value: 0.01285311859101057 and parameters: {'Look Back': 50, 'Batch Size': 16, 'Hidden Dim': 256, 'N layers': 2, 'Learning Rate': 0.002424187616150743, 'Factor': 0.8500000000000001}. Best is trial 0 with value: 0.01285311859101057.\u001b[0m\n",
      "\u001b[32m[I 2021-06-26 03:43:08,991]\u001b[0m Trial 1 finished with value: 0.016184812411665916 and parameters: {'Look Back': 20, 'Batch Size': 8, 'Hidden Dim': 16, 'N layers': 3, 'Learning Rate': 0.00014521043718193275, 'Factor': 0.8500000000000001}. Best is trial 0 with value: 0.01285311859101057.\u001b[0m\n",
      "\u001b[32m[I 2021-06-26 03:43:14,455]\u001b[0m Trial 2 finished with value: 0.009081525728106499 and parameters: {'Look Back': 45, 'Batch Size': 64, 'Hidden Dim': 256, 'N layers': 1, 'Learning Rate': 0.00322991137100462, 'Factor': 0.8500000000000001}. Best is trial 2 with value: 0.009081525728106499.\u001b[0m\n",
      "\u001b[32m[I 2021-06-26 03:43:21,124]\u001b[0m Trial 3 finished with value: 0.015676820650696754 and parameters: {'Look Back': 25, 'Batch Size': 4, 'Hidden Dim': 128, 'N layers': 1, 'Learning Rate': 0.01538296415566217, 'Factor': 0.95}. Best is trial 2 with value: 0.009081525728106499.\u001b[0m\n",
      "\u001b[32m[I 2021-06-26 03:43:32,053]\u001b[0m Trial 4 finished with value: 0.044282857328653336 and parameters: {'Look Back': 45, 'Batch Size': 8, 'Hidden Dim': 32, 'N layers': 2, 'Learning Rate': 0.07841036275570633, 'Factor': 0.55}. Best is trial 2 with value: 0.009081525728106499.\u001b[0m\n",
      "\u001b[32m[I 2021-06-26 03:43:32,108]\u001b[0m Trial 5 pruned. \u001b[0m\n",
      "\u001b[32m[I 2021-06-26 03:43:32,166]\u001b[0m Trial 6 pruned. \u001b[0m\n",
      "\u001b[32m[I 2021-06-26 03:43:32,421]\u001b[0m Trial 7 pruned. \u001b[0m\n",
      "\u001b[32m[I 2021-06-26 03:43:44,380]\u001b[0m Trial 8 finished with value: 0.009987629018723965 and parameters: {'Look Back': 35, 'Batch Size': 32, 'Hidden Dim': 256, 'N layers': 2, 'Learning Rate': 0.001231675615982212, 'Factor': 0.8500000000000001}. Best is trial 2 with value: 0.009081525728106499.\u001b[0m\n",
      "\u001b[32m[I 2021-06-26 03:43:52,518]\u001b[0m Trial 9 finished with value: 0.009282467886805534 and parameters: {'Look Back': 10, 'Batch Size': 8, 'Hidden Dim': 32, 'N layers': 2, 'Learning Rate': 0.002461269857826874, 'Factor': 0.65}. Best is trial 2 with value: 0.009081525728106499.\u001b[0m\n",
      "\u001b[32m[I 2021-06-26 03:43:52,594]\u001b[0m Trial 10 pruned. \u001b[0m\n",
      "\u001b[32m[I 2021-06-26 03:43:52,633]\u001b[0m Trial 11 pruned. \u001b[0m\n",
      "\u001b[32m[I 2021-06-26 03:43:52,716]\u001b[0m Trial 12 pruned. \u001b[0m\n",
      "\u001b[32m[I 2021-06-26 03:44:06,011]\u001b[0m Trial 13 finished with value: 0.009303820319473743 and parameters: {'Look Back': 30, 'Batch Size': 8, 'Hidden Dim': 256, 'N layers': 2, 'Learning Rate': 0.0005978165421737711, 'Factor': 0.65}. Best is trial 2 with value: 0.009081525728106499.\u001b[0m\n",
      "\u001b[32m[I 2021-06-26 03:44:06,065]\u001b[0m Trial 14 pruned. \u001b[0m\n",
      "\u001b[32m[I 2021-06-26 03:44:10,384]\u001b[0m Trial 15 pruned. \u001b[0m\n",
      "\u001b[32m[I 2021-06-26 03:44:12,393]\u001b[0m Trial 16 pruned. \u001b[0m\n",
      "\u001b[32m[I 2021-06-26 03:44:12,464]\u001b[0m Trial 17 pruned. \u001b[0m\n",
      "\u001b[32m[I 2021-06-26 03:44:13,164]\u001b[0m Trial 18 pruned. \u001b[0m\n",
      "\u001b[32m[I 2021-06-26 03:44:13,216]\u001b[0m Trial 19 pruned. \u001b[0m\n",
      "\u001b[32m[I 2021-06-26 03:44:26,896]\u001b[0m Trial 20 finished with value: 0.010326108895242214 and parameters: {'Look Back': 25, 'Batch Size': 16, 'Hidden Dim': 256, 'N layers': 2, 'Learning Rate': 0.001318980871762547, 'Factor': 0.65}. Best is trial 2 with value: 0.009081525728106499.\u001b[0m\n",
      "\u001b[32m[I 2021-06-26 03:44:27,859]\u001b[0m Trial 21 pruned. \u001b[0m\n",
      "\u001b[32m[I 2021-06-26 03:44:30,613]\u001b[0m Trial 22 pruned. \u001b[0m\n",
      "\u001b[32m[I 2021-06-26 03:44:41,976]\u001b[0m Trial 23 finished with value: 0.0113748200237751 and parameters: {'Look Back': 15, 'Batch Size': 8, 'Hidden Dim': 256, 'N layers': 2, 'Learning Rate': 0.001924355945253757, 'Factor': 0.55}. Best is trial 2 with value: 0.009081525728106499.\u001b[0m\n",
      "\u001b[32m[I 2021-06-26 03:44:42,621]\u001b[0m Trial 24 pruned. \u001b[0m\n",
      "\u001b[32m[I 2021-06-26 03:44:47,979]\u001b[0m Trial 25 pruned. \u001b[0m\n",
      "\u001b[32m[I 2021-06-26 03:44:48,227]\u001b[0m Trial 26 pruned. \u001b[0m\n",
      "\u001b[32m[I 2021-06-26 03:44:56,858]\u001b[0m Trial 27 finished with value: 0.008739616721868515 and parameters: {'Look Back': 30, 'Batch Size': 8, 'Hidden Dim': 256, 'N layers': 1, 'Learning Rate': 0.001101941173945039, 'Factor': 0.75}. Best is trial 27 with value: 0.008739616721868515.\u001b[0m\n",
      "\u001b[32m[I 2021-06-26 03:44:56,915]\u001b[0m Trial 28 pruned. \u001b[0m\n",
      "\u001b[32m[I 2021-06-26 03:44:57,288]\u001b[0m Trial 29 pruned. \u001b[0m\n",
      "\u001b[32m[I 2021-06-26 03:45:05,953]\u001b[0m Trial 30 pruned. \u001b[0m\n",
      "\u001b[32m[I 2021-06-26 03:45:08,721]\u001b[0m Trial 31 pruned. \u001b[0m\n",
      "\u001b[32m[I 2021-06-26 03:45:21,749]\u001b[0m Trial 32 finished with value: 0.009323231875896454 and parameters: {'Look Back': 25, 'Batch Size': 8, 'Hidden Dim': 256, 'N layers': 2, 'Learning Rate': 0.0010367750598944817, 'Factor': 0.75}. Best is trial 27 with value: 0.008739616721868515.\u001b[0m\n",
      "\u001b[32m[I 2021-06-26 03:45:21,990]\u001b[0m Trial 33 pruned. \u001b[0m\n",
      "\u001b[32m[I 2021-06-26 03:45:22,248]\u001b[0m Trial 34 pruned. \u001b[0m\n",
      "\u001b[32m[I 2021-06-26 03:45:23,026]\u001b[0m Trial 35 pruned. \u001b[0m\n",
      "\u001b[32m[I 2021-06-26 03:45:30,536]\u001b[0m Trial 36 pruned. \u001b[0m\n",
      "\u001b[32m[I 2021-06-26 03:45:30,688]\u001b[0m Trial 37 pruned. \u001b[0m\n",
      "\u001b[32m[I 2021-06-26 03:45:32,803]\u001b[0m Trial 38 pruned. \u001b[0m\n",
      "\u001b[32m[I 2021-06-26 03:45:39,385]\u001b[0m Trial 39 finished with value: 0.00938614271581173 and parameters: {'Look Back': 10, 'Batch Size': 8, 'Hidden Dim': 32, 'N layers': 1, 'Learning Rate': 0.008128411242564967, 'Factor': 0.65}. Best is trial 27 with value: 0.008739616721868515.\u001b[0m\n",
      "\u001b[32m[I 2021-06-26 03:45:39,647]\u001b[0m Trial 40 pruned. \u001b[0m\n",
      "\u001b[32m[I 2021-06-26 03:45:52,710]\u001b[0m Trial 41 finished with value: 0.010191505774855614 and parameters: {'Look Back': 25, 'Batch Size': 8, 'Hidden Dim': 256, 'N layers': 2, 'Learning Rate': 0.0010002341717447712, 'Factor': 0.75}. Best is trial 27 with value: 0.008739616721868515.\u001b[0m\n",
      "\u001b[32m[I 2021-06-26 03:46:04,532]\u001b[0m Trial 42 pruned. \u001b[0m\n",
      "\u001b[32m[I 2021-06-26 03:46:04,841]\u001b[0m Trial 43 pruned. \u001b[0m\n",
      "\u001b[32m[I 2021-06-26 03:46:04,946]\u001b[0m Trial 44 pruned. \u001b[0m\n",
      "\u001b[32m[I 2021-06-26 03:46:06,489]\u001b[0m Trial 45 pruned. \u001b[0m\n",
      "\u001b[32m[I 2021-06-26 03:46:06,724]\u001b[0m Trial 46 pruned. \u001b[0m\n",
      "\u001b[32m[I 2021-06-26 03:46:06,789]\u001b[0m Trial 47 pruned. \u001b[0m\n",
      "\u001b[32m[I 2021-06-26 03:46:06,974]\u001b[0m Trial 48 pruned. \u001b[0m\n",
      "\u001b[32m[I 2021-06-26 03:46:07,492]\u001b[0m Trial 49 pruned. \u001b[0m\n",
      "\u001b[32m[I 2021-06-26 03:46:07,548]\u001b[0m Trial 50 pruned. \u001b[0m\n",
      "\u001b[32m[I 2021-06-26 03:46:14,162]\u001b[0m Trial 51 finished with value: 0.010478339157998562 and parameters: {'Look Back': 10, 'Batch Size': 8, 'Hidden Dim': 32, 'N layers': 1, 'Learning Rate': 0.009557257559939334, 'Factor': 0.65}. Best is trial 27 with value: 0.008739616721868515.\u001b[0m\n",
      "\u001b[32m[I 2021-06-26 03:46:14,344]\u001b[0m Trial 52 pruned. \u001b[0m\n",
      "\u001b[32m[I 2021-06-26 03:46:14,531]\u001b[0m Trial 53 pruned. \u001b[0m\n",
      "\u001b[32m[I 2021-06-26 03:46:21,065]\u001b[0m Trial 54 finished with value: 0.009338976815342903 and parameters: {'Look Back': 10, 'Batch Size': 8, 'Hidden Dim': 32, 'N layers': 1, 'Learning Rate': 0.006368400457761268, 'Factor': 0.55}. Best is trial 27 with value: 0.008739616721868515.\u001b[0m\n",
      "\u001b[32m[I 2021-06-26 03:46:26,606]\u001b[0m Trial 55 pruned. \u001b[0m\n",
      "\u001b[32m[I 2021-06-26 03:46:27,019]\u001b[0m Trial 56 pruned. \u001b[0m\n",
      "\u001b[32m[I 2021-06-26 03:46:27,141]\u001b[0m Trial 57 pruned. \u001b[0m\n",
      "\u001b[32m[I 2021-06-26 03:46:27,196]\u001b[0m Trial 58 pruned. \u001b[0m\n",
      "\u001b[32m[I 2021-06-26 03:46:27,504]\u001b[0m Trial 59 pruned. \u001b[0m\n",
      "\u001b[32m[I 2021-06-26 03:46:27,745]\u001b[0m Trial 60 pruned. \u001b[0m\n",
      "\u001b[32m[I 2021-06-26 03:46:27,947]\u001b[0m Trial 61 pruned. \u001b[0m\n",
      "\u001b[32m[I 2021-06-26 03:46:34,539]\u001b[0m Trial 62 finished with value: 0.01025339961051941 and parameters: {'Look Back': 10, 'Batch Size': 8, 'Hidden Dim': 32, 'N layers': 1, 'Learning Rate': 0.005673572740703206, 'Factor': 0.65}. Best is trial 27 with value: 0.008739616721868515.\u001b[0m\n",
      "\u001b[32m[I 2021-06-26 03:46:38,137]\u001b[0m Trial 63 pruned. \u001b[0m\n",
      "\u001b[32m[I 2021-06-26 03:46:39,099]\u001b[0m Trial 64 pruned. \u001b[0m\n",
      "\u001b[32m[I 2021-06-26 03:46:39,274]\u001b[0m Trial 65 pruned. \u001b[0m\n",
      "\u001b[32m[I 2021-06-26 03:46:39,493]\u001b[0m Trial 66 pruned. \u001b[0m\n",
      "\u001b[32m[I 2021-06-26 03:46:39,670]\u001b[0m Trial 67 pruned. \u001b[0m\n",
      "\u001b[32m[I 2021-06-26 03:46:39,716]\u001b[0m Trial 68 pruned. \u001b[0m\n",
      "\u001b[32m[I 2021-06-26 03:46:40,176]\u001b[0m Trial 69 pruned. \u001b[0m\n",
      "\u001b[32m[I 2021-06-26 03:46:43,089]\u001b[0m Trial 70 pruned. \u001b[0m\n",
      "\u001b[32m[I 2021-06-26 03:46:43,241]\u001b[0m Trial 71 pruned. \u001b[0m\n"
     ]
    },
    {
     "name": "stderr",
     "output_type": "stream",
     "text": [
      "\u001b[32m[I 2021-06-26 03:46:43,376]\u001b[0m Trial 72 pruned. \u001b[0m\n",
      "\u001b[32m[I 2021-06-26 03:46:43,501]\u001b[0m Trial 73 pruned. \u001b[0m\n",
      "\u001b[32m[I 2021-06-26 03:46:43,649]\u001b[0m Trial 74 pruned. \u001b[0m\n",
      "\u001b[32m[I 2021-06-26 03:46:44,272]\u001b[0m Trial 75 pruned. \u001b[0m\n",
      "\u001b[32m[I 2021-06-26 03:46:44,389]\u001b[0m Trial 76 pruned. \u001b[0m\n",
      "\u001b[32m[I 2021-06-26 03:46:44,770]\u001b[0m Trial 77 pruned. \u001b[0m\n",
      "\u001b[32m[I 2021-06-26 03:46:44,836]\u001b[0m Trial 78 pruned. \u001b[0m\n",
      "\u001b[32m[I 2021-06-26 03:46:45,590]\u001b[0m Trial 79 pruned. \u001b[0m\n",
      "\u001b[32m[I 2021-06-26 03:46:45,814]\u001b[0m Trial 80 pruned. \u001b[0m\n",
      "\u001b[32m[I 2021-06-26 03:46:46,753]\u001b[0m Trial 81 pruned. \u001b[0m\n",
      "\u001b[32m[I 2021-06-26 03:46:47,079]\u001b[0m Trial 82 pruned. \u001b[0m\n",
      "\u001b[32m[I 2021-06-26 03:46:47,415]\u001b[0m Trial 83 pruned. \u001b[0m\n",
      "\u001b[32m[I 2021-06-26 03:46:48,118]\u001b[0m Trial 84 pruned. \u001b[0m\n",
      "\u001b[32m[I 2021-06-26 03:46:48,546]\u001b[0m Trial 85 pruned. \u001b[0m\n",
      "\u001b[32m[I 2021-06-26 03:46:48,600]\u001b[0m Trial 86 pruned. \u001b[0m\n",
      "\u001b[32m[I 2021-06-26 03:46:48,796]\u001b[0m Trial 87 pruned. \u001b[0m\n",
      "\u001b[32m[I 2021-06-26 03:46:49,064]\u001b[0m Trial 88 pruned. \u001b[0m\n",
      "\u001b[32m[I 2021-06-26 03:46:50,290]\u001b[0m Trial 89 pruned. \u001b[0m\n",
      "\u001b[32m[I 2021-06-26 03:46:56,861]\u001b[0m Trial 90 finished with value: 0.009516425430774689 and parameters: {'Look Back': 10, 'Batch Size': 8, 'Hidden Dim': 32, 'N layers': 1, 'Learning Rate': 0.0076692003432162, 'Factor': 0.65}. Best is trial 27 with value: 0.008739616721868515.\u001b[0m\n",
      "\u001b[32m[I 2021-06-26 03:46:57,047]\u001b[0m Trial 91 pruned. \u001b[0m\n",
      "\u001b[32m[I 2021-06-26 03:46:57,232]\u001b[0m Trial 92 pruned. \u001b[0m\n",
      "\u001b[32m[I 2021-06-26 03:46:57,416]\u001b[0m Trial 93 pruned. \u001b[0m\n",
      "\u001b[32m[I 2021-06-26 03:46:57,594]\u001b[0m Trial 94 pruned. \u001b[0m\n",
      "\u001b[32m[I 2021-06-26 03:47:02,743]\u001b[0m Trial 95 pruned. \u001b[0m\n",
      "\u001b[32m[I 2021-06-26 03:47:02,932]\u001b[0m Trial 96 pruned. \u001b[0m\n",
      "\u001b[32m[I 2021-06-26 03:47:03,217]\u001b[0m Trial 97 pruned. \u001b[0m\n",
      "\u001b[32m[I 2021-06-26 03:47:03,328]\u001b[0m Trial 98 pruned. \u001b[0m\n",
      "\u001b[32m[I 2021-06-26 03:47:03,395]\u001b[0m Trial 99 pruned. \u001b[0m\n",
      "\u001b[32m[I 2021-06-26 03:47:10,715]\u001b[0m Trial 100 finished with value: 0.009543937630951405 and parameters: {'Look Back': 10, 'Batch Size': 8, 'Hidden Dim': 256, 'N layers': 1, 'Learning Rate': 0.012342315826616788, 'Factor': 0.65}. Best is trial 27 with value: 0.008739616721868515.\u001b[0m\n",
      "\u001b[32m[I 2021-06-26 03:47:10,918]\u001b[0m Trial 101 pruned. \u001b[0m\n",
      "\u001b[32m[I 2021-06-26 03:47:11,117]\u001b[0m Trial 102 pruned. \u001b[0m\n",
      "\u001b[32m[I 2021-06-26 03:47:11,310]\u001b[0m Trial 103 pruned. \u001b[0m\n",
      "\u001b[32m[I 2021-06-26 03:47:11,501]\u001b[0m Trial 104 pruned. \u001b[0m\n",
      "\u001b[32m[I 2021-06-26 03:47:11,700]\u001b[0m Trial 105 pruned. \u001b[0m\n",
      "\u001b[32m[I 2021-06-26 03:47:11,893]\u001b[0m Trial 106 pruned. \u001b[0m\n",
      "\u001b[32m[I 2021-06-26 03:47:12,123]\u001b[0m Trial 107 pruned. \u001b[0m\n",
      "\u001b[32m[I 2021-06-26 03:47:13,436]\u001b[0m Trial 108 pruned. \u001b[0m\n",
      "\u001b[32m[I 2021-06-26 03:47:13,517]\u001b[0m Trial 109 pruned. \u001b[0m\n",
      "\u001b[32m[I 2021-06-26 03:47:13,588]\u001b[0m Trial 110 pruned. \u001b[0m\n",
      "\u001b[32m[I 2021-06-26 03:47:14,089]\u001b[0m Trial 111 pruned. \u001b[0m\n",
      "\u001b[32m[I 2021-06-26 03:47:19,752]\u001b[0m Trial 112 pruned. \u001b[0m\n",
      "\u001b[32m[I 2021-06-26 03:47:26,305]\u001b[0m Trial 113 finished with value: 0.010647236369550228 and parameters: {'Look Back': 10, 'Batch Size': 8, 'Hidden Dim': 32, 'N layers': 1, 'Learning Rate': 0.008972550961775785, 'Factor': 0.65}. Best is trial 27 with value: 0.008739616721868515.\u001b[0m\n",
      "\u001b[32m[I 2021-06-26 03:47:29,924]\u001b[0m Trial 114 pruned. \u001b[0m\n",
      "\u001b[32m[I 2021-06-26 03:47:30,106]\u001b[0m Trial 115 pruned. \u001b[0m\n",
      "\u001b[32m[I 2021-06-26 03:47:30,229]\u001b[0m Trial 116 pruned. \u001b[0m\n",
      "\u001b[32m[I 2021-06-26 03:47:30,503]\u001b[0m Trial 117 pruned. \u001b[0m\n",
      "\u001b[32m[I 2021-06-26 03:47:30,690]\u001b[0m Trial 118 pruned. \u001b[0m\n",
      "\u001b[32m[I 2021-06-26 03:47:31,357]\u001b[0m Trial 119 pruned. \u001b[0m\n",
      "\u001b[32m[I 2021-06-26 03:47:31,611]\u001b[0m Trial 120 pruned. \u001b[0m\n",
      "\u001b[32m[I 2021-06-26 03:47:31,795]\u001b[0m Trial 121 pruned. \u001b[0m\n",
      "\u001b[32m[I 2021-06-26 03:47:32,008]\u001b[0m Trial 122 pruned. \u001b[0m\n",
      "\u001b[32m[I 2021-06-26 03:47:32,132]\u001b[0m Trial 123 pruned. \u001b[0m\n",
      "\u001b[32m[I 2021-06-26 03:47:32,344]\u001b[0m Trial 124 pruned. \u001b[0m\n",
      "\u001b[32m[I 2021-06-26 03:47:38,771]\u001b[0m Trial 125 pruned. \u001b[0m\n",
      "\u001b[32m[I 2021-06-26 03:47:39,051]\u001b[0m Trial 126 pruned. \u001b[0m\n",
      "\u001b[32m[I 2021-06-26 03:47:39,123]\u001b[0m Trial 127 pruned. \u001b[0m\n",
      "\u001b[32m[I 2021-06-26 03:47:39,366]\u001b[0m Trial 128 pruned. \u001b[0m\n",
      "\u001b[32m[I 2021-06-26 03:47:43,193]\u001b[0m Trial 129 pruned. \u001b[0m\n",
      "\u001b[32m[I 2021-06-26 03:47:43,388]\u001b[0m Trial 130 pruned. \u001b[0m\n",
      "\u001b[32m[I 2021-06-26 03:47:50,031]\u001b[0m Trial 131 finished with value: 0.009598949924111366 and parameters: {'Look Back': 10, 'Batch Size': 8, 'Hidden Dim': 32, 'N layers': 1, 'Learning Rate': 0.009375745892079183, 'Factor': 0.65}. Best is trial 27 with value: 0.008739616721868515.\u001b[0m\n",
      "\u001b[32m[I 2021-06-26 03:47:50,203]\u001b[0m Trial 132 pruned. \u001b[0m\n",
      "\u001b[32m[I 2021-06-26 03:47:56,787]\u001b[0m Trial 133 finished with value: 0.010166789405047894 and parameters: {'Look Back': 10, 'Batch Size': 8, 'Hidden Dim': 32, 'N layers': 1, 'Learning Rate': 0.010185659664386263, 'Factor': 0.65}. Best is trial 27 with value: 0.008739616721868515.\u001b[0m\n",
      "\u001b[32m[I 2021-06-26 03:48:03,331]\u001b[0m Trial 134 finished with value: 0.009544191882014275 and parameters: {'Look Back': 10, 'Batch Size': 8, 'Hidden Dim': 32, 'N layers': 1, 'Learning Rate': 0.011498532717619511, 'Factor': 0.65}. Best is trial 27 with value: 0.008739616721868515.\u001b[0m\n",
      "\u001b[32m[I 2021-06-26 03:48:03,519]\u001b[0m Trial 135 pruned. \u001b[0m\n",
      "\u001b[32m[I 2021-06-26 03:48:03,697]\u001b[0m Trial 136 pruned. \u001b[0m\n",
      "\u001b[32m[I 2021-06-26 03:48:10,519]\u001b[0m Trial 137 finished with value: 0.015794415026903152 and parameters: {'Look Back': 15, 'Batch Size': 8, 'Hidden Dim': 32, 'N layers': 1, 'Learning Rate': 0.01611685710744865, 'Factor': 0.95}. Best is trial 27 with value: 0.008739616721868515.\u001b[0m\n",
      "\u001b[32m[I 2021-06-26 03:48:10,704]\u001b[0m Trial 138 pruned. \u001b[0m\n",
      "\u001b[32m[I 2021-06-26 03:48:17,330]\u001b[0m Trial 139 finished with value: 0.009946752339601517 and parameters: {'Look Back': 10, 'Batch Size': 8, 'Hidden Dim': 32, 'N layers': 1, 'Learning Rate': 0.00998611458513989, 'Factor': 0.65}. Best is trial 27 with value: 0.008739616721868515.\u001b[0m\n",
      "\u001b[32m[I 2021-06-26 03:48:17,510]\u001b[0m Trial 140 pruned. \u001b[0m\n",
      "\u001b[32m[I 2021-06-26 03:48:24,104]\u001b[0m Trial 141 finished with value: 0.0096572982147336 and parameters: {'Look Back': 10, 'Batch Size': 8, 'Hidden Dim': 32, 'N layers': 1, 'Learning Rate': 0.00991826787546141, 'Factor': 0.65}. Best is trial 27 with value: 0.008739616721868515.\u001b[0m\n",
      "\u001b[32m[I 2021-06-26 03:48:24,286]\u001b[0m Trial 142 pruned. \u001b[0m\n",
      "\u001b[32m[I 2021-06-26 03:48:24,465]\u001b[0m Trial 143 pruned. \u001b[0m\n",
      "\u001b[32m[I 2021-06-26 03:48:31,114]\u001b[0m Trial 144 finished with value: 0.009673741646111012 and parameters: {'Look Back': 10, 'Batch Size': 8, 'Hidden Dim': 32, 'N layers': 1, 'Learning Rate': 0.020661845112633675, 'Factor': 0.65}. Best is trial 27 with value: 0.008739616721868515.\u001b[0m\n",
      "\u001b[32m[I 2021-06-26 03:48:31,316]\u001b[0m Trial 145 pruned. \u001b[0m\n",
      "\u001b[32m[I 2021-06-26 03:48:38,215]\u001b[0m Trial 146 finished with value: 0.01057937927544117 and parameters: {'Look Back': 10, 'Batch Size': 8, 'Hidden Dim': 32, 'N layers': 1, 'Learning Rate': 0.018837493140539792, 'Factor': 0.65}. Best is trial 27 with value: 0.008739616721868515.\u001b[0m\n",
      "\u001b[32m[I 2021-06-26 03:48:39,695]\u001b[0m Trial 147 pruned. \u001b[0m\n",
      "\u001b[32m[I 2021-06-26 03:48:39,871]\u001b[0m Trial 148 pruned. \u001b[0m\n",
      "\u001b[32m[I 2021-06-26 03:48:46,424]\u001b[0m Trial 149 finished with value: 0.010257754474878311 and parameters: {'Look Back': 10, 'Batch Size': 8, 'Hidden Dim': 32, 'N layers': 1, 'Learning Rate': 0.006650539220997817, 'Factor': 0.65}. Best is trial 27 with value: 0.008739616721868515.\u001b[0m\n",
      "\u001b[32m[I 2021-06-26 03:48:46,491]\u001b[0m Trial 150 pruned. \u001b[0m\n",
      "\u001b[32m[I 2021-06-26 03:48:46,672]\u001b[0m Trial 151 pruned. \u001b[0m\n",
      "\u001b[32m[I 2021-06-26 03:48:46,860]\u001b[0m Trial 152 pruned. \u001b[0m\n",
      "\u001b[32m[I 2021-06-26 03:48:47,041]\u001b[0m Trial 153 pruned. \u001b[0m\n",
      "\u001b[32m[I 2021-06-26 03:48:47,223]\u001b[0m Trial 154 pruned. \u001b[0m\n",
      "\u001b[32m[I 2021-06-26 03:48:48,382]\u001b[0m Trial 155 pruned. \u001b[0m\n",
      "\u001b[32m[I 2021-06-26 03:48:48,558]\u001b[0m Trial 156 pruned. \u001b[0m\n",
      "\u001b[32m[I 2021-06-26 03:48:48,610]\u001b[0m Trial 157 pruned. \u001b[0m\n",
      "\u001b[32m[I 2021-06-26 03:48:48,790]\u001b[0m Trial 158 pruned. \u001b[0m\n",
      "\u001b[32m[I 2021-06-26 03:48:48,970]\u001b[0m Trial 159 pruned. \u001b[0m\n",
      "\u001b[32m[I 2021-06-26 03:48:56,819]\u001b[0m Trial 160 finished with value: 0.008591758087277412 and parameters: {'Look Back': 35, 'Batch Size': 8, 'Hidden Dim': 32, 'N layers': 1, 'Learning Rate': 0.007669153465919796, 'Factor': 0.65}. Best is trial 160 with value: 0.008591758087277412.\u001b[0m\n"
     ]
    },
    {
     "name": "stderr",
     "output_type": "stream",
     "text": [
      "\u001b[32m[I 2021-06-26 03:49:04,573]\u001b[0m Trial 161 finished with value: 0.008998299017548561 and parameters: {'Look Back': 35, 'Batch Size': 8, 'Hidden Dim': 32, 'N layers': 1, 'Learning Rate': 0.006588733693396447, 'Factor': 0.65}. Best is trial 160 with value: 0.008591758087277412.\u001b[0m\n",
      "\u001b[32m[I 2021-06-26 03:49:04,784]\u001b[0m Trial 162 pruned. \u001b[0m\n",
      "\u001b[32m[I 2021-06-26 03:49:12,472]\u001b[0m Trial 163 finished with value: 0.00894757267087698 and parameters: {'Look Back': 35, 'Batch Size': 8, 'Hidden Dim': 32, 'N layers': 1, 'Learning Rate': 0.006387595503565011, 'Factor': 0.65}. Best is trial 160 with value: 0.008591758087277412.\u001b[0m\n",
      "\u001b[32m[I 2021-06-26 03:49:12,673]\u001b[0m Trial 164 pruned. \u001b[0m\n",
      "\u001b[32m[I 2021-06-26 03:49:12,882]\u001b[0m Trial 165 pruned. \u001b[0m\n",
      "\u001b[32m[I 2021-06-26 03:49:13,093]\u001b[0m Trial 166 pruned. \u001b[0m\n",
      "\u001b[32m[I 2021-06-26 03:49:14,696]\u001b[0m Trial 167 pruned. \u001b[0m\n",
      "\u001b[32m[I 2021-06-26 03:49:19,208]\u001b[0m Trial 168 pruned. \u001b[0m\n",
      "\u001b[32m[I 2021-06-26 03:49:19,429]\u001b[0m Trial 169 pruned. \u001b[0m\n",
      "\u001b[32m[I 2021-06-26 03:49:19,614]\u001b[0m Trial 170 pruned. \u001b[0m\n",
      "\u001b[32m[I 2021-06-26 03:49:26,399]\u001b[0m Trial 171 finished with value: 0.008924228139221668 and parameters: {'Look Back': 35, 'Batch Size': 4, 'Hidden Dim': 16, 'N layers': 1, 'Learning Rate': 0.006466337738490734, 'Factor': 0.8500000000000001}. Best is trial 160 with value: 0.008591758087277412.\u001b[0m\n",
      "\u001b[32m[I 2021-06-26 03:49:34,256]\u001b[0m Trial 172 finished with value: 0.009099102579057217 and parameters: {'Look Back': 35, 'Batch Size': 4, 'Hidden Dim': 16, 'N layers': 1, 'Learning Rate': 0.006121998104473578, 'Factor': 0.65}. Best is trial 160 with value: 0.008591758087277412.\u001b[0m\n",
      "\u001b[32m[I 2021-06-26 03:49:41,843]\u001b[0m Trial 173 finished with value: 0.008716112934052944 and parameters: {'Look Back': 35, 'Batch Size': 4, 'Hidden Dim': 16, 'N layers': 1, 'Learning Rate': 0.006239001377985078, 'Factor': 0.65}. Best is trial 160 with value: 0.008591758087277412.\u001b[0m\n",
      "\u001b[32m[I 2021-06-26 03:49:42,227]\u001b[0m Trial 174 pruned. \u001b[0m\n",
      "\u001b[32m[I 2021-06-26 03:49:42,614]\u001b[0m Trial 175 pruned. \u001b[0m\n",
      "\u001b[32m[I 2021-06-26 03:49:50,236]\u001b[0m Trial 176 finished with value: 0.00946897268295288 and parameters: {'Look Back': 35, 'Batch Size': 4, 'Hidden Dim': 16, 'N layers': 1, 'Learning Rate': 0.00629698632521039, 'Factor': 0.8500000000000001}. Best is trial 160 with value: 0.008591758087277412.\u001b[0m\n",
      "\u001b[32m[I 2021-06-26 03:49:50,605]\u001b[0m Trial 177 pruned. \u001b[0m\n",
      "\u001b[32m[I 2021-06-26 03:49:50,972]\u001b[0m Trial 178 pruned. \u001b[0m\n",
      "\u001b[32m[I 2021-06-26 03:49:58,602]\u001b[0m Trial 179 finished with value: 0.00968967191874981 and parameters: {'Look Back': 35, 'Batch Size': 4, 'Hidden Dim': 16, 'N layers': 1, 'Learning Rate': 0.007310866187688049, 'Factor': 0.8500000000000001}. Best is trial 160 with value: 0.008591758087277412.\u001b[0m\n",
      "\u001b[32m[I 2021-06-26 03:50:06,254]\u001b[0m Trial 180 finished with value: 0.009215598925948143 and parameters: {'Look Back': 35, 'Batch Size': 4, 'Hidden Dim': 16, 'N layers': 1, 'Learning Rate': 0.0036358474725807703, 'Factor': 0.8500000000000001}. Best is trial 160 with value: 0.008591758087277412.\u001b[0m\n",
      "\u001b[32m[I 2021-06-26 03:50:06,635]\u001b[0m Trial 181 pruned. \u001b[0m\n",
      "\u001b[32m[I 2021-06-26 03:50:14,210]\u001b[0m Trial 182 finished with value: 0.008720966055989265 and parameters: {'Look Back': 35, 'Batch Size': 4, 'Hidden Dim': 16, 'N layers': 1, 'Learning Rate': 0.005527544573929181, 'Factor': 0.8500000000000001}. Best is trial 160 with value: 0.008591758087277412.\u001b[0m\n",
      "\u001b[32m[I 2021-06-26 03:50:14,598]\u001b[0m Trial 183 pruned. \u001b[0m\n",
      "\u001b[32m[I 2021-06-26 03:50:22,147]\u001b[0m Trial 184 finished with value: 0.008958922699093819 and parameters: {'Look Back': 35, 'Batch Size': 4, 'Hidden Dim': 16, 'N layers': 1, 'Learning Rate': 0.005480044402902182, 'Factor': 0.8500000000000001}. Best is trial 160 with value: 0.008591758087277412.\u001b[0m\n",
      "\u001b[32m[I 2021-06-26 03:50:22,540]\u001b[0m Trial 185 pruned. \u001b[0m\n",
      "\u001b[32m[I 2021-06-26 03:50:22,926]\u001b[0m Trial 186 pruned. \u001b[0m\n",
      "\u001b[32m[I 2021-06-26 03:50:30,556]\u001b[0m Trial 187 finished with value: 0.009316069073975086 and parameters: {'Look Back': 35, 'Batch Size': 4, 'Hidden Dim': 16, 'N layers': 1, 'Learning Rate': 0.006417696197861352, 'Factor': 0.8500000000000001}. Best is trial 160 with value: 0.008591758087277412.\u001b[0m\n",
      "\u001b[32m[I 2021-06-26 03:50:38,197]\u001b[0m Trial 188 finished with value: 0.009469936601817608 and parameters: {'Look Back': 35, 'Batch Size': 4, 'Hidden Dim': 16, 'N layers': 1, 'Learning Rate': 0.006516000454146622, 'Factor': 0.8500000000000001}. Best is trial 160 with value: 0.008591758087277412.\u001b[0m\n",
      "\u001b[32m[I 2021-06-26 03:50:45,753]\u001b[0m Trial 189 finished with value: 0.009071656502783298 and parameters: {'Look Back': 35, 'Batch Size': 4, 'Hidden Dim': 16, 'N layers': 1, 'Learning Rate': 0.006390775375979919, 'Factor': 0.8500000000000001}. Best is trial 160 with value: 0.008591758087277412.\u001b[0m\n",
      "\u001b[32m[I 2021-06-26 03:50:46,137]\u001b[0m Trial 190 pruned. \u001b[0m\n",
      "\u001b[32m[I 2021-06-26 03:50:46,520]\u001b[0m Trial 191 pruned. \u001b[0m\n",
      "\u001b[32m[I 2021-06-26 03:50:46,915]\u001b[0m Trial 192 pruned. \u001b[0m\n",
      "\u001b[32m[I 2021-06-26 03:50:47,296]\u001b[0m Trial 193 pruned. \u001b[0m\n",
      "\u001b[32m[I 2021-06-26 03:50:47,682]\u001b[0m Trial 194 pruned. \u001b[0m\n",
      "\u001b[32m[I 2021-06-26 03:50:48,063]\u001b[0m Trial 195 pruned. \u001b[0m\n",
      "\u001b[32m[I 2021-06-26 03:50:55,552]\u001b[0m Trial 196 finished with value: 0.008886548690497875 and parameters: {'Look Back': 35, 'Batch Size': 4, 'Hidden Dim': 16, 'N layers': 1, 'Learning Rate': 0.004892922780754114, 'Factor': 0.8500000000000001}. Best is trial 160 with value: 0.008591758087277412.\u001b[0m\n",
      "\u001b[32m[I 2021-06-26 03:50:55,937]\u001b[0m Trial 197 pruned. \u001b[0m\n",
      "\u001b[32m[I 2021-06-26 03:50:56,329]\u001b[0m Trial 198 pruned. \u001b[0m\n",
      "\u001b[32m[I 2021-06-26 03:50:56,712]\u001b[0m Trial 199 pruned. \u001b[0m\n",
      "\u001b[32m[I 2021-06-26 03:50:57,097]\u001b[0m Trial 200 pruned. \u001b[0m\n",
      "\u001b[32m[I 2021-06-26 03:50:57,460]\u001b[0m Trial 201 pruned. \u001b[0m\n",
      "\u001b[32m[I 2021-06-26 03:51:05,033]\u001b[0m Trial 202 finished with value: 0.009242711588740349 and parameters: {'Look Back': 35, 'Batch Size': 4, 'Hidden Dim': 16, 'N layers': 1, 'Learning Rate': 0.007299487714601923, 'Factor': 0.8500000000000001}. Best is trial 160 with value: 0.008591758087277412.\u001b[0m\n",
      "\u001b[32m[I 2021-06-26 03:51:12,804]\u001b[0m Trial 203 finished with value: 0.009204236790537834 and parameters: {'Look Back': 35, 'Batch Size': 4, 'Hidden Dim': 16, 'N layers': 1, 'Learning Rate': 0.007808602288581577, 'Factor': 0.8500000000000001}. Best is trial 160 with value: 0.008591758087277412.\u001b[0m\n",
      "\u001b[32m[I 2021-06-26 03:51:13,177]\u001b[0m Trial 204 pruned. \u001b[0m\n",
      "\u001b[32m[I 2021-06-26 03:51:13,544]\u001b[0m Trial 205 pruned. \u001b[0m\n",
      "\u001b[32m[I 2021-06-26 03:51:21,195]\u001b[0m Trial 206 finished with value: 0.009075221605598927 and parameters: {'Look Back': 35, 'Batch Size': 4, 'Hidden Dim': 16, 'N layers': 1, 'Learning Rate': 0.007296612717828225, 'Factor': 0.8500000000000001}. Best is trial 160 with value: 0.008591758087277412.\u001b[0m\n",
      "\u001b[32m[I 2021-06-26 03:51:28,281]\u001b[0m Trial 207 pruned. \u001b[0m\n",
      "\u001b[32m[I 2021-06-26 03:51:35,957]\u001b[0m Trial 208 finished with value: 0.009205578826367855 and parameters: {'Look Back': 35, 'Batch Size': 4, 'Hidden Dim': 16, 'N layers': 1, 'Learning Rate': 0.00495818301695016, 'Factor': 0.8500000000000001}. Best is trial 160 with value: 0.008591758087277412.\u001b[0m\n",
      "\u001b[32m[I 2021-06-26 03:51:36,337]\u001b[0m Trial 209 pruned. \u001b[0m\n",
      "\u001b[32m[I 2021-06-26 03:51:36,717]\u001b[0m Trial 210 pruned. \u001b[0m\n",
      "\u001b[32m[I 2021-06-26 03:51:37,102]\u001b[0m Trial 211 pruned. \u001b[0m\n",
      "\u001b[32m[I 2021-06-26 03:51:44,741]\u001b[0m Trial 212 finished with value: 0.009998342953622341 and parameters: {'Look Back': 35, 'Batch Size': 4, 'Hidden Dim': 16, 'N layers': 1, 'Learning Rate': 0.007039804175911202, 'Factor': 0.8500000000000001}. Best is trial 160 with value: 0.008591758087277412.\u001b[0m\n",
      "\u001b[32m[I 2021-06-26 03:51:45,128]\u001b[0m Trial 213 pruned. \u001b[0m\n",
      "\u001b[32m[I 2021-06-26 03:51:45,519]\u001b[0m Trial 214 pruned. \u001b[0m\n",
      "\u001b[32m[I 2021-06-26 03:51:45,893]\u001b[0m Trial 215 pruned. \u001b[0m\n",
      "\u001b[32m[I 2021-06-26 03:51:53,684]\u001b[0m Trial 216 finished with value: 0.009333575144410133 and parameters: {'Look Back': 35, 'Batch Size': 4, 'Hidden Dim': 16, 'N layers': 1, 'Learning Rate': 0.00819266703573499, 'Factor': 0.8500000000000001}. Best is trial 160 with value: 0.008591758087277412.\u001b[0m\n",
      "\u001b[32m[I 2021-06-26 03:51:54,094]\u001b[0m Trial 217 pruned. \u001b[0m\n",
      "\u001b[32m[I 2021-06-26 03:51:54,487]\u001b[0m Trial 218 pruned. \u001b[0m\n"
     ]
    },
    {
     "name": "stderr",
     "output_type": "stream",
     "text": [
      "\u001b[32m[I 2021-06-26 03:51:54,903]\u001b[0m Trial 219 pruned. \u001b[0m\n",
      "\u001b[32m[I 2021-06-26 03:51:55,287]\u001b[0m Trial 220 pruned. \u001b[0m\n",
      "\u001b[32m[I 2021-06-26 03:51:55,681]\u001b[0m Trial 221 pruned. \u001b[0m\n",
      "\u001b[32m[I 2021-06-26 03:51:56,106]\u001b[0m Trial 222 pruned. \u001b[0m\n",
      "\u001b[32m[I 2021-06-26 03:52:03,947]\u001b[0m Trial 223 finished with value: 0.009010927751660347 and parameters: {'Look Back': 35, 'Batch Size': 4, 'Hidden Dim': 16, 'N layers': 1, 'Learning Rate': 0.008426392001360332, 'Factor': 0.8500000000000001}. Best is trial 160 with value: 0.008591758087277412.\u001b[0m\n",
      "\u001b[32m[I 2021-06-26 03:52:04,336]\u001b[0m Trial 224 pruned. \u001b[0m\n",
      "\u001b[32m[I 2021-06-26 03:52:04,711]\u001b[0m Trial 225 pruned. \u001b[0m\n",
      "\u001b[32m[I 2021-06-26 03:52:05,084]\u001b[0m Trial 226 pruned. \u001b[0m\n",
      "\u001b[32m[I 2021-06-26 03:52:05,462]\u001b[0m Trial 227 pruned. \u001b[0m\n",
      "\u001b[32m[I 2021-06-26 03:52:13,008]\u001b[0m Trial 228 finished with value: 0.009177617728710175 and parameters: {'Look Back': 35, 'Batch Size': 4, 'Hidden Dim': 16, 'N layers': 1, 'Learning Rate': 0.00655414202144711, 'Factor': 0.8500000000000001}. Best is trial 160 with value: 0.008591758087277412.\u001b[0m\n",
      "\u001b[32m[I 2021-06-26 03:52:13,384]\u001b[0m Trial 229 pruned. \u001b[0m\n",
      "\u001b[32m[I 2021-06-26 03:52:13,767]\u001b[0m Trial 230 pruned. \u001b[0m\n",
      "\u001b[32m[I 2021-06-26 03:52:14,151]\u001b[0m Trial 231 pruned. \u001b[0m\n",
      "\u001b[32m[I 2021-06-26 03:52:21,719]\u001b[0m Trial 232 finished with value: 0.008869017474353313 and parameters: {'Look Back': 35, 'Batch Size': 4, 'Hidden Dim': 16, 'N layers': 1, 'Learning Rate': 0.005733890824206116, 'Factor': 0.8500000000000001}. Best is trial 160 with value: 0.008591758087277412.\u001b[0m\n",
      "\u001b[32m[I 2021-06-26 03:52:22,096]\u001b[0m Trial 233 pruned. \u001b[0m\n",
      "\u001b[32m[I 2021-06-26 03:52:22,492]\u001b[0m Trial 234 pruned. \u001b[0m\n",
      "\u001b[32m[I 2021-06-26 03:52:22,873]\u001b[0m Trial 235 pruned. \u001b[0m\n",
      "\u001b[32m[I 2021-06-26 03:52:23,255]\u001b[0m Trial 236 pruned. \u001b[0m\n",
      "\u001b[32m[I 2021-06-26 03:52:23,615]\u001b[0m Trial 237 pruned. \u001b[0m\n",
      "\u001b[32m[I 2021-06-26 03:52:23,994]\u001b[0m Trial 238 pruned. \u001b[0m\n",
      "\u001b[32m[I 2021-06-26 03:52:24,045]\u001b[0m Trial 239 pruned. \u001b[0m\n",
      "\u001b[32m[I 2021-06-26 03:52:24,434]\u001b[0m Trial 240 pruned. \u001b[0m\n",
      "\u001b[32m[I 2021-06-26 03:52:24,822]\u001b[0m Trial 241 pruned. \u001b[0m\n",
      "\u001b[32m[I 2021-06-26 03:52:25,219]\u001b[0m Trial 242 pruned. \u001b[0m\n",
      "\u001b[32m[I 2021-06-26 03:52:32,771]\u001b[0m Trial 243 finished with value: 0.009714102372527122 and parameters: {'Look Back': 35, 'Batch Size': 4, 'Hidden Dim': 16, 'N layers': 1, 'Learning Rate': 0.007390598345146967, 'Factor': 0.8500000000000001}. Best is trial 160 with value: 0.008591758087277412.\u001b[0m\n",
      "\u001b[32m[I 2021-06-26 03:52:33,160]\u001b[0m Trial 244 pruned. \u001b[0m\n",
      "\u001b[32m[I 2021-06-26 03:52:33,544]\u001b[0m Trial 245 pruned. \u001b[0m\n",
      "\u001b[32m[I 2021-06-26 03:52:33,928]\u001b[0m Trial 246 pruned. \u001b[0m\n",
      "\u001b[32m[I 2021-06-26 03:52:34,318]\u001b[0m Trial 247 pruned. \u001b[0m\n",
      "\u001b[32m[I 2021-06-26 03:52:34,698]\u001b[0m Trial 248 pruned. \u001b[0m\n",
      "\u001b[32m[I 2021-06-26 03:52:35,085]\u001b[0m Trial 249 pruned. \u001b[0m\n",
      "\u001b[32m[I 2021-06-26 03:52:35,452]\u001b[0m Trial 250 pruned. \u001b[0m\n",
      "\u001b[32m[I 2021-06-26 03:52:35,833]\u001b[0m Trial 251 pruned. \u001b[0m\n",
      "\u001b[32m[I 2021-06-26 03:52:36,190]\u001b[0m Trial 252 pruned. \u001b[0m\n",
      "\u001b[32m[I 2021-06-26 03:52:36,244]\u001b[0m Trial 253 pruned. \u001b[0m\n",
      "\u001b[32m[I 2021-06-26 03:52:36,643]\u001b[0m Trial 254 pruned. \u001b[0m\n",
      "\u001b[32m[I 2021-06-26 03:52:38,550]\u001b[0m Trial 255 pruned. \u001b[0m\n",
      "\u001b[32m[I 2021-06-26 03:52:38,923]\u001b[0m Trial 256 pruned. \u001b[0m\n",
      "\u001b[32m[I 2021-06-26 03:52:39,306]\u001b[0m Trial 257 pruned. \u001b[0m\n",
      "\u001b[32m[I 2021-06-26 03:52:39,671]\u001b[0m Trial 258 pruned. \u001b[0m\n",
      "\u001b[32m[I 2021-06-26 03:52:40,046]\u001b[0m Trial 259 pruned. \u001b[0m\n",
      "\u001b[32m[I 2021-06-26 03:52:40,437]\u001b[0m Trial 260 pruned. \u001b[0m\n",
      "\u001b[32m[I 2021-06-26 03:52:40,829]\u001b[0m Trial 261 pruned. \u001b[0m\n",
      "\u001b[32m[I 2021-06-26 03:52:40,881]\u001b[0m Trial 262 pruned. \u001b[0m\n",
      "\u001b[32m[I 2021-06-26 03:52:48,458]\u001b[0m Trial 263 finished with value: 0.00980259571224451 and parameters: {'Look Back': 35, 'Batch Size': 4, 'Hidden Dim': 16, 'N layers': 1, 'Learning Rate': 0.004263802336238657, 'Factor': 0.8500000000000001}. Best is trial 160 with value: 0.008591758087277412.\u001b[0m\n",
      "\u001b[32m[I 2021-06-26 03:52:48,837]\u001b[0m Trial 264 pruned. \u001b[0m\n",
      "\u001b[32m[I 2021-06-26 03:52:49,235]\u001b[0m Trial 265 pruned. \u001b[0m\n",
      "\u001b[32m[I 2021-06-26 03:52:49,740]\u001b[0m Trial 266 pruned. \u001b[0m\n",
      "\u001b[32m[I 2021-06-26 03:52:50,127]\u001b[0m Trial 267 pruned. \u001b[0m\n",
      "\u001b[32m[I 2021-06-26 03:52:50,966]\u001b[0m Trial 268 pruned. \u001b[0m\n",
      "\u001b[32m[I 2021-06-26 03:52:51,360]\u001b[0m Trial 269 pruned. \u001b[0m\n",
      "\u001b[32m[I 2021-06-26 03:52:51,724]\u001b[0m Trial 270 pruned. \u001b[0m\n",
      "\u001b[32m[I 2021-06-26 03:52:56,564]\u001b[0m Trial 271 pruned. \u001b[0m\n",
      "\u001b[32m[I 2021-06-26 03:52:56,952]\u001b[0m Trial 272 pruned. \u001b[0m\n",
      "\u001b[32m[I 2021-06-26 03:52:57,066]\u001b[0m Trial 273 pruned. \u001b[0m\n",
      "\u001b[32m[I 2021-06-26 03:52:57,458]\u001b[0m Trial 274 pruned. \u001b[0m\n",
      "\u001b[32m[I 2021-06-26 03:53:04,865]\u001b[0m Trial 275 finished with value: 0.010301812551915646 and parameters: {'Look Back': 35, 'Batch Size': 4, 'Hidden Dim': 16, 'N layers': 1, 'Learning Rate': 0.007284706148623017, 'Factor': 0.8500000000000001}. Best is trial 160 with value: 0.008591758087277412.\u001b[0m\n",
      "\u001b[32m[I 2021-06-26 03:53:05,242]\u001b[0m Trial 276 pruned. \u001b[0m\n",
      "\u001b[32m[I 2021-06-26 03:53:05,646]\u001b[0m Trial 277 pruned. \u001b[0m\n",
      "\u001b[32m[I 2021-06-26 03:53:13,421]\u001b[0m Trial 278 finished with value: 0.009401693940162659 and parameters: {'Look Back': 35, 'Batch Size': 4, 'Hidden Dim': 16, 'N layers': 1, 'Learning Rate': 0.004960221795597839, 'Factor': 0.8500000000000001}. Best is trial 160 with value: 0.008591758087277412.\u001b[0m\n",
      "\u001b[32m[I 2021-06-26 03:53:13,813]\u001b[0m Trial 279 pruned. \u001b[0m\n",
      "\u001b[32m[I 2021-06-26 03:53:14,320]\u001b[0m Trial 280 pruned. \u001b[0m\n",
      "\u001b[32m[I 2021-06-26 03:53:14,698]\u001b[0m Trial 281 pruned. \u001b[0m\n",
      "\u001b[32m[I 2021-06-26 03:53:15,107]\u001b[0m Trial 282 pruned. \u001b[0m\n",
      "\u001b[32m[I 2021-06-26 03:53:15,508]\u001b[0m Trial 283 pruned. \u001b[0m\n",
      "\u001b[32m[I 2021-06-26 03:53:15,562]\u001b[0m Trial 284 pruned. \u001b[0m\n",
      "\u001b[32m[I 2021-06-26 03:53:23,065]\u001b[0m Trial 285 finished with value: 0.008888491429388523 and parameters: {'Look Back': 35, 'Batch Size': 4, 'Hidden Dim': 16, 'N layers': 1, 'Learning Rate': 0.006441489428582671, 'Factor': 0.75}. Best is trial 160 with value: 0.008591758087277412.\u001b[0m\n",
      "\u001b[32m[I 2021-06-26 03:53:31,234]\u001b[0m Trial 286 finished with value: 0.0087217902764678 and parameters: {'Look Back': 35, 'Batch Size': 4, 'Hidden Dim': 256, 'N layers': 1, 'Learning Rate': 0.00657440989923853, 'Factor': 0.75}. Best is trial 160 with value: 0.008591758087277412.\u001b[0m\n",
      "\u001b[32m[I 2021-06-26 03:53:31,612]\u001b[0m Trial 287 pruned. \u001b[0m\n",
      "\u001b[32m[I 2021-06-26 03:53:33,557]\u001b[0m Trial 288 pruned. \u001b[0m\n",
      "\u001b[32m[I 2021-06-26 03:53:41,162]\u001b[0m Trial 289 finished with value: 0.009705938398838043 and parameters: {'Look Back': 35, 'Batch Size': 4, 'Hidden Dim': 16, 'N layers': 1, 'Learning Rate': 0.005854073293711027, 'Factor': 0.75}. Best is trial 160 with value: 0.008591758087277412.\u001b[0m\n",
      "\u001b[32m[I 2021-06-26 03:53:48,551]\u001b[0m Trial 290 finished with value: 0.00940738245844841 and parameters: {'Look Back': 35, 'Batch Size': 4, 'Hidden Dim': 16, 'N layers': 1, 'Learning Rate': 0.006685684586834609, 'Factor': 0.75}. Best is trial 160 with value: 0.008591758087277412.\u001b[0m\n",
      "\u001b[32m[I 2021-06-26 03:53:48,941]\u001b[0m Trial 291 pruned. \u001b[0m\n",
      "\u001b[32m[I 2021-06-26 03:53:49,328]\u001b[0m Trial 292 pruned. \u001b[0m\n",
      "\u001b[32m[I 2021-06-26 03:53:49,715]\u001b[0m Trial 293 pruned. \u001b[0m\n",
      "\u001b[32m[I 2021-06-26 03:53:52,452]\u001b[0m Trial 294 pruned. \u001b[0m\n",
      "\u001b[32m[I 2021-06-26 03:53:52,847]\u001b[0m Trial 295 pruned. \u001b[0m\n",
      "\u001b[32m[I 2021-06-26 03:53:53,216]\u001b[0m Trial 296 pruned. \u001b[0m\n",
      "\u001b[32m[I 2021-06-26 03:53:53,610]\u001b[0m Trial 297 pruned. \u001b[0m\n",
      "\u001b[32m[I 2021-06-26 03:53:54,002]\u001b[0m Trial 298 pruned. \u001b[0m\n",
      "\u001b[32m[I 2021-06-26 03:53:54,087]\u001b[0m Trial 299 pruned. \u001b[0m\n",
      "\u001b[32m[I 2021-06-26 03:53:54,151]\u001b[0m Trial 300 pruned. \u001b[0m\n",
      "\u001b[32m[I 2021-06-26 03:53:54,532]\u001b[0m Trial 301 pruned. \u001b[0m\n",
      "\u001b[32m[I 2021-06-26 03:53:54,907]\u001b[0m Trial 302 pruned. \u001b[0m\n",
      "\u001b[32m[I 2021-06-26 03:54:02,362]\u001b[0m Trial 303 finished with value: 0.009143954142928123 and parameters: {'Look Back': 35, 'Batch Size': 4, 'Hidden Dim': 16, 'N layers': 1, 'Learning Rate': 0.008672653436602956, 'Factor': 0.8500000000000001}. Best is trial 160 with value: 0.008591758087277412.\u001b[0m\n",
      "\u001b[32m[I 2021-06-26 03:54:02,776]\u001b[0m Trial 304 pruned. \u001b[0m\n",
      "\u001b[32m[I 2021-06-26 03:54:02,909]\u001b[0m Trial 305 pruned. \u001b[0m\n",
      "\u001b[32m[I 2021-06-26 03:54:03,299]\u001b[0m Trial 306 pruned. \u001b[0m\n",
      "\u001b[32m[I 2021-06-26 03:54:03,679]\u001b[0m Trial 307 pruned. \u001b[0m\n",
      "\u001b[32m[I 2021-06-26 03:54:04,046]\u001b[0m Trial 308 pruned. \u001b[0m\n"
     ]
    },
    {
     "name": "stderr",
     "output_type": "stream",
     "text": [
      "\u001b[32m[I 2021-06-26 03:54:04,434]\u001b[0m Trial 309 pruned. \u001b[0m\n",
      "\u001b[32m[I 2021-06-26 03:54:04,823]\u001b[0m Trial 310 pruned. \u001b[0m\n",
      "\u001b[32m[I 2021-06-26 03:54:05,200]\u001b[0m Trial 311 pruned. \u001b[0m\n",
      "\u001b[32m[I 2021-06-26 03:54:05,252]\u001b[0m Trial 312 pruned. \u001b[0m\n",
      "\u001b[32m[I 2021-06-26 03:54:05,663]\u001b[0m Trial 313 pruned. \u001b[0m\n",
      "\u001b[32m[I 2021-06-26 03:54:06,059]\u001b[0m Trial 314 pruned. \u001b[0m\n",
      "\u001b[32m[I 2021-06-26 03:54:13,625]\u001b[0m Trial 315 finished with value: 0.009125360287725925 and parameters: {'Look Back': 35, 'Batch Size': 4, 'Hidden Dim': 16, 'N layers': 1, 'Learning Rate': 0.0044189179167451334, 'Factor': 0.8500000000000001}. Best is trial 160 with value: 0.008591758087277412.\u001b[0m\n",
      "\u001b[32m[I 2021-06-26 03:54:21,215]\u001b[0m Trial 316 finished with value: 0.008835169486701488 and parameters: {'Look Back': 35, 'Batch Size': 4, 'Hidden Dim': 16, 'N layers': 1, 'Learning Rate': 0.004726198669179427, 'Factor': 0.8500000000000001}. Best is trial 160 with value: 0.008591758087277412.\u001b[0m\n",
      "\u001b[32m[I 2021-06-26 03:54:21,601]\u001b[0m Trial 317 pruned. \u001b[0m\n",
      "\u001b[32m[I 2021-06-26 03:54:29,199]\u001b[0m Trial 318 finished with value: 0.009084359742701054 and parameters: {'Look Back': 35, 'Batch Size': 4, 'Hidden Dim': 16, 'N layers': 1, 'Learning Rate': 0.004554876537412741, 'Factor': 0.8500000000000001}. Best is trial 160 with value: 0.008591758087277412.\u001b[0m\n",
      "\u001b[32m[I 2021-06-26 03:54:29,589]\u001b[0m Trial 319 pruned. \u001b[0m\n",
      "\u001b[32m[I 2021-06-26 03:54:29,982]\u001b[0m Trial 320 pruned. \u001b[0m\n",
      "\u001b[32m[I 2021-06-26 03:54:30,378]\u001b[0m Trial 321 pruned. \u001b[0m\n",
      "\u001b[32m[I 2021-06-26 03:54:30,793]\u001b[0m Trial 322 pruned. \u001b[0m\n",
      "\u001b[32m[I 2021-06-26 03:54:31,177]\u001b[0m Trial 323 pruned. \u001b[0m\n",
      "\u001b[32m[I 2021-06-26 03:54:31,564]\u001b[0m Trial 324 pruned. \u001b[0m\n",
      "\u001b[32m[I 2021-06-26 03:54:31,949]\u001b[0m Trial 325 pruned. \u001b[0m\n",
      "\u001b[32m[I 2021-06-26 03:54:32,351]\u001b[0m Trial 326 pruned. \u001b[0m\n",
      "\u001b[32m[I 2021-06-26 03:54:32,736]\u001b[0m Trial 327 pruned. \u001b[0m\n",
      "\u001b[32m[I 2021-06-26 03:54:33,121]\u001b[0m Trial 328 pruned. \u001b[0m\n",
      "\u001b[32m[I 2021-06-26 03:54:33,503]\u001b[0m Trial 329 pruned. \u001b[0m\n",
      "\u001b[32m[I 2021-06-26 03:54:33,884]\u001b[0m Trial 330 pruned. \u001b[0m\n",
      "\u001b[32m[I 2021-06-26 03:54:41,819]\u001b[0m Trial 331 finished with value: 0.011132283136248589 and parameters: {'Look Back': 35, 'Batch Size': 4, 'Hidden Dim': 128, 'N layers': 1, 'Learning Rate': 0.004732150957856264, 'Factor': 0.8500000000000001}. Best is trial 160 with value: 0.008591758087277412.\u001b[0m\n",
      "\u001b[32m[I 2021-06-26 03:54:42,211]\u001b[0m Trial 332 pruned. \u001b[0m\n",
      "\u001b[32m[I 2021-06-26 03:54:42,587]\u001b[0m Trial 333 pruned. \u001b[0m\n",
      "\u001b[32m[I 2021-06-26 03:54:42,986]\u001b[0m Trial 334 pruned. \u001b[0m\n",
      "\u001b[32m[I 2021-06-26 03:54:43,362]\u001b[0m Trial 335 pruned. \u001b[0m\n",
      "\u001b[32m[I 2021-06-26 03:54:43,440]\u001b[0m Trial 336 pruned. \u001b[0m\n",
      "\u001b[32m[I 2021-06-26 03:54:43,495]\u001b[0m Trial 337 pruned. \u001b[0m\n",
      "\u001b[32m[I 2021-06-26 03:54:43,883]\u001b[0m Trial 338 pruned. \u001b[0m\n",
      "\u001b[32m[I 2021-06-26 03:54:44,008]\u001b[0m Trial 339 pruned. \u001b[0m\n",
      "\u001b[32m[I 2021-06-26 03:54:44,395]\u001b[0m Trial 340 pruned. \u001b[0m\n",
      "\u001b[32m[I 2021-06-26 03:54:51,871]\u001b[0m Trial 341 finished with value: 0.009143805131316185 and parameters: {'Look Back': 35, 'Batch Size': 4, 'Hidden Dim': 16, 'N layers': 1, 'Learning Rate': 0.008498459887175477, 'Factor': 0.75}. Best is trial 160 with value: 0.008591758087277412.\u001b[0m\n",
      "\u001b[32m[I 2021-06-26 03:54:52,263]\u001b[0m Trial 342 pruned. \u001b[0m\n",
      "\u001b[32m[I 2021-06-26 03:54:52,644]\u001b[0m Trial 343 pruned. \u001b[0m\n",
      "\u001b[32m[I 2021-06-26 03:54:53,012]\u001b[0m Trial 344 pruned. \u001b[0m\n",
      "\u001b[32m[I 2021-06-26 03:55:00,759]\u001b[0m Trial 345 finished with value: 0.009118246845901012 and parameters: {'Look Back': 35, 'Batch Size': 4, 'Hidden Dim': 16, 'N layers': 1, 'Learning Rate': 0.007419865828763726, 'Factor': 0.75}. Best is trial 160 with value: 0.008591758087277412.\u001b[0m\n",
      "\u001b[32m[I 2021-06-26 03:55:01,148]\u001b[0m Trial 346 pruned. \u001b[0m\n",
      "\u001b[32m[I 2021-06-26 03:55:08,819]\u001b[0m Trial 347 finished with value: 0.008795037865638733 and parameters: {'Look Back': 35, 'Batch Size': 4, 'Hidden Dim': 16, 'N layers': 1, 'Learning Rate': 0.007338188952915372, 'Factor': 0.75}. Best is trial 160 with value: 0.008591758087277412.\u001b[0m\n",
      "\u001b[32m[I 2021-06-26 03:55:09,206]\u001b[0m Trial 348 pruned. \u001b[0m\n",
      "\u001b[32m[I 2021-06-26 03:55:09,582]\u001b[0m Trial 349 pruned. \u001b[0m\n",
      "\u001b[32m[I 2021-06-26 03:55:09,638]\u001b[0m Trial 350 pruned. \u001b[0m\n",
      "\u001b[32m[I 2021-06-26 03:55:10,017]\u001b[0m Trial 351 pruned. \u001b[0m\n",
      "\u001b[32m[I 2021-06-26 03:55:17,612]\u001b[0m Trial 352 finished with value: 0.009486310184001923 and parameters: {'Look Back': 35, 'Batch Size': 4, 'Hidden Dim': 16, 'N layers': 1, 'Learning Rate': 0.006109099670666266, 'Factor': 0.75}. Best is trial 160 with value: 0.008591758087277412.\u001b[0m\n",
      "\u001b[32m[I 2021-06-26 03:55:18,016]\u001b[0m Trial 353 pruned. \u001b[0m\n",
      "\u001b[32m[I 2021-06-26 03:55:18,402]\u001b[0m Trial 354 pruned. \u001b[0m\n",
      "\u001b[32m[I 2021-06-26 03:55:18,807]\u001b[0m Trial 355 pruned. \u001b[0m\n",
      "\u001b[32m[I 2021-06-26 03:55:26,389]\u001b[0m Trial 356 finished with value: 0.011035068891942501 and parameters: {'Look Back': 35, 'Batch Size': 4, 'Hidden Dim': 16, 'N layers': 1, 'Learning Rate': 0.008153282604112208, 'Factor': 0.75}. Best is trial 160 with value: 0.008591758087277412.\u001b[0m\n",
      "\u001b[32m[I 2021-06-26 03:55:26,772]\u001b[0m Trial 357 pruned. \u001b[0m\n",
      "\u001b[32m[I 2021-06-26 03:55:34,357]\u001b[0m Trial 358 finished with value: 0.008676798082888126 and parameters: {'Look Back': 35, 'Batch Size': 4, 'Hidden Dim': 16, 'N layers': 1, 'Learning Rate': 0.006609849941910137, 'Factor': 0.75}. Best is trial 160 with value: 0.008591758087277412.\u001b[0m\n",
      "\u001b[32m[I 2021-06-26 03:55:34,758]\u001b[0m Trial 359 pruned. \u001b[0m\n",
      "\u001b[32m[I 2021-06-26 03:55:35,165]\u001b[0m Trial 360 pruned. \u001b[0m\n",
      "\u001b[32m[I 2021-06-26 03:55:42,819]\u001b[0m Trial 361 finished with value: 0.010040399618446827 and parameters: {'Look Back': 35, 'Batch Size': 4, 'Hidden Dim': 64, 'N layers': 1, 'Learning Rate': 0.005391848722785798, 'Factor': 0.75}. Best is trial 160 with value: 0.008591758087277412.\u001b[0m\n",
      "\u001b[32m[I 2021-06-26 03:55:42,879]\u001b[0m Trial 362 pruned. \u001b[0m\n",
      "\u001b[32m[I 2021-06-26 03:55:43,274]\u001b[0m Trial 363 pruned. \u001b[0m\n",
      "\u001b[32m[I 2021-06-26 03:55:43,354]\u001b[0m Trial 364 pruned. \u001b[0m\n",
      "\u001b[32m[I 2021-06-26 03:55:50,907]\u001b[0m Trial 365 pruned. \u001b[0m\n",
      "\u001b[32m[I 2021-06-26 03:55:51,305]\u001b[0m Trial 366 pruned. \u001b[0m\n",
      "\u001b[32m[I 2021-06-26 03:55:51,706]\u001b[0m Trial 367 pruned. \u001b[0m\n",
      "\u001b[32m[I 2021-06-26 03:55:52,075]\u001b[0m Trial 368 pruned. \u001b[0m\n",
      "\u001b[32m[I 2021-06-26 03:55:59,654]\u001b[0m Trial 369 finished with value: 0.008998253382742405 and parameters: {'Look Back': 35, 'Batch Size': 4, 'Hidden Dim': 16, 'N layers': 1, 'Learning Rate': 0.007521195297499991, 'Factor': 0.75}. Best is trial 160 with value: 0.008591758087277412.\u001b[0m\n",
      "\u001b[32m[I 2021-06-26 03:55:59,801]\u001b[0m Trial 370 pruned. \u001b[0m\n",
      "\u001b[32m[I 2021-06-26 03:56:00,227]\u001b[0m Trial 371 pruned. \u001b[0m\n",
      "\u001b[32m[I 2021-06-26 03:56:00,624]\u001b[0m Trial 372 pruned. \u001b[0m\n",
      "\u001b[32m[I 2021-06-26 03:56:00,988]\u001b[0m Trial 373 pruned. \u001b[0m\n",
      "\u001b[32m[I 2021-06-26 03:56:01,441]\u001b[0m Trial 374 pruned. \u001b[0m\n",
      "\u001b[32m[I 2021-06-26 03:56:01,872]\u001b[0m Trial 375 pruned. \u001b[0m\n",
      "\u001b[32m[I 2021-06-26 03:56:01,934]\u001b[0m Trial 376 pruned. \u001b[0m\n",
      "\u001b[32m[I 2021-06-26 03:56:10,453]\u001b[0m Trial 377 finished with value: 0.010317805223166943 and parameters: {'Look Back': 35, 'Batch Size': 4, 'Hidden Dim': 256, 'N layers': 1, 'Learning Rate': 0.007677245474106536, 'Factor': 0.75}. Best is trial 160 with value: 0.008591758087277412.\u001b[0m\n",
      "\u001b[32m[I 2021-06-26 03:56:11,182]\u001b[0m Trial 378 pruned. \u001b[0m\n",
      "\u001b[32m[I 2021-06-26 03:56:13,909]\u001b[0m Trial 379 pruned. \u001b[0m\n",
      "\u001b[32m[I 2021-06-26 03:56:14,296]\u001b[0m Trial 380 pruned. \u001b[0m\n",
      "\u001b[32m[I 2021-06-26 03:56:21,861]\u001b[0m Trial 381 finished with value: 0.009116035886108875 and parameters: {'Look Back': 35, 'Batch Size': 4, 'Hidden Dim': 16, 'N layers': 1, 'Learning Rate': 0.008343918295940944, 'Factor': 0.75}. Best is trial 160 with value: 0.008591758087277412.\u001b[0m\n",
      "\u001b[32m[I 2021-06-26 03:56:22,111]\u001b[0m Trial 382 pruned. \u001b[0m\n",
      "\u001b[32m[I 2021-06-26 03:56:22,515]\u001b[0m Trial 383 pruned. \u001b[0m\n",
      "\u001b[32m[I 2021-06-26 03:56:22,902]\u001b[0m Trial 384 pruned. \u001b[0m\n",
      "\u001b[32m[I 2021-06-26 03:56:23,312]\u001b[0m Trial 385 pruned. \u001b[0m\n",
      "\u001b[32m[I 2021-06-26 03:56:23,723]\u001b[0m Trial 386 pruned. \u001b[0m\n",
      "\u001b[32m[I 2021-06-26 03:56:23,934]\u001b[0m Trial 387 pruned. \u001b[0m\n",
      "\u001b[32m[I 2021-06-26 03:56:31,540]\u001b[0m Trial 388 finished with value: 0.00898414384573698 and parameters: {'Look Back': 35, 'Batch Size': 4, 'Hidden Dim': 32, 'N layers': 1, 'Learning Rate': 0.00989337307814151, 'Factor': 0.75}. Best is trial 160 with value: 0.008591758087277412.\u001b[0m\n"
     ]
    },
    {
     "name": "stderr",
     "output_type": "stream",
     "text": [
      "\u001b[32m[I 2021-06-26 03:56:31,928]\u001b[0m Trial 389 pruned. \u001b[0m\n",
      "\u001b[32m[I 2021-06-26 03:56:31,989]\u001b[0m Trial 390 pruned. \u001b[0m\n",
      "\u001b[32m[I 2021-06-26 03:56:32,370]\u001b[0m Trial 391 pruned. \u001b[0m\n",
      "\u001b[32m[I 2021-06-26 03:56:32,451]\u001b[0m Trial 392 pruned. \u001b[0m\n",
      "\u001b[32m[I 2021-06-26 03:56:32,840]\u001b[0m Trial 393 pruned. \u001b[0m\n",
      "\u001b[32m[I 2021-06-26 03:56:33,045]\u001b[0m Trial 394 pruned. \u001b[0m\n",
      "\u001b[32m[I 2021-06-26 03:56:41,315]\u001b[0m Trial 395 finished with value: 0.008895584382116795 and parameters: {'Look Back': 35, 'Batch Size': 16, 'Hidden Dim': 32, 'N layers': 1, 'Learning Rate': 0.011078454143649101, 'Factor': 0.75}. Best is trial 160 with value: 0.008591758087277412.\u001b[0m\n",
      "\u001b[32m[I 2021-06-26 03:56:41,446]\u001b[0m Trial 396 pruned. \u001b[0m\n",
      "\u001b[32m[I 2021-06-26 03:56:41,571]\u001b[0m Trial 397 pruned. \u001b[0m\n",
      "\u001b[32m[I 2021-06-26 03:56:49,870]\u001b[0m Trial 398 finished with value: 0.0087519446387887 and parameters: {'Look Back': 35, 'Batch Size': 16, 'Hidden Dim': 32, 'N layers': 1, 'Learning Rate': 0.011633832498978387, 'Factor': 0.65}. Best is trial 160 with value: 0.008591758087277412.\u001b[0m\n",
      "\u001b[32m[I 2021-06-26 03:56:50,081]\u001b[0m Trial 399 pruned. \u001b[0m\n",
      "\u001b[32m[I 2021-06-26 03:56:50,202]\u001b[0m Trial 400 pruned. \u001b[0m\n",
      "\u001b[32m[I 2021-06-26 03:56:50,903]\u001b[0m Trial 401 pruned. \u001b[0m\n",
      "\u001b[32m[I 2021-06-26 03:56:59,189]\u001b[0m Trial 402 finished with value: 0.00872829370200634 and parameters: {'Look Back': 35, 'Batch Size': 16, 'Hidden Dim': 32, 'N layers': 1, 'Learning Rate': 0.011538245995294436, 'Factor': 0.65}. Best is trial 160 with value: 0.008591758087277412.\u001b[0m\n",
      "\u001b[32m[I 2021-06-26 03:56:59,311]\u001b[0m Trial 403 pruned. \u001b[0m\n",
      "\u001b[32m[I 2021-06-26 03:56:59,435]\u001b[0m Trial 404 pruned. \u001b[0m\n",
      "\u001b[32m[I 2021-06-26 03:56:59,564]\u001b[0m Trial 405 pruned. \u001b[0m\n",
      "\u001b[32m[I 2021-06-26 03:56:59,689]\u001b[0m Trial 406 pruned. \u001b[0m\n",
      "\u001b[32m[I 2021-06-26 03:57:08,029]\u001b[0m Trial 407 finished with value: 0.008752998895943165 and parameters: {'Look Back': 35, 'Batch Size': 16, 'Hidden Dim': 32, 'N layers': 1, 'Learning Rate': 0.011220921990836978, 'Factor': 0.65}. Best is trial 160 with value: 0.008591758087277412.\u001b[0m\n",
      "\u001b[32m[I 2021-06-26 03:57:08,238]\u001b[0m Trial 408 pruned. \u001b[0m\n",
      "\u001b[32m[I 2021-06-26 03:57:08,370]\u001b[0m Trial 409 pruned. \u001b[0m\n",
      "\u001b[32m[I 2021-06-26 03:57:08,491]\u001b[0m Trial 410 pruned. \u001b[0m\n",
      "\u001b[32m[I 2021-06-26 03:57:16,832]\u001b[0m Trial 411 finished with value: 0.008789368905127048 and parameters: {'Look Back': 35, 'Batch Size': 16, 'Hidden Dim': 32, 'N layers': 1, 'Learning Rate': 0.010926811353071319, 'Factor': 0.65}. Best is trial 160 with value: 0.008591758087277412.\u001b[0m\n",
      "\u001b[32m[I 2021-06-26 03:57:16,954]\u001b[0m Trial 412 pruned. \u001b[0m\n",
      "\u001b[32m[I 2021-06-26 03:57:25,282]\u001b[0m Trial 413 finished with value: 0.008744832128286362 and parameters: {'Look Back': 35, 'Batch Size': 16, 'Hidden Dim': 32, 'N layers': 1, 'Learning Rate': 0.012381976556925807, 'Factor': 0.65}. Best is trial 160 with value: 0.008591758087277412.\u001b[0m\n",
      "\u001b[32m[I 2021-06-26 03:57:33,695]\u001b[0m Trial 414 finished with value: 0.008749080821871758 and parameters: {'Look Back': 35, 'Batch Size': 16, 'Hidden Dim': 32, 'N layers': 1, 'Learning Rate': 0.011603290501846362, 'Factor': 0.65}. Best is trial 160 with value: 0.008591758087277412.\u001b[0m\n",
      "\u001b[32m[I 2021-06-26 03:57:41,861]\u001b[0m Trial 415 finished with value: 0.008760376833379269 and parameters: {'Look Back': 35, 'Batch Size': 16, 'Hidden Dim': 32, 'N layers': 1, 'Learning Rate': 0.011868238801893305, 'Factor': 0.65}. Best is trial 160 with value: 0.008591758087277412.\u001b[0m\n",
      "\u001b[32m[I 2021-06-26 03:57:50,088]\u001b[0m Trial 416 finished with value: 0.008709322661161423 and parameters: {'Look Back': 35, 'Batch Size': 16, 'Hidden Dim': 32, 'N layers': 1, 'Learning Rate': 0.01535801372599502, 'Factor': 0.65}. Best is trial 160 with value: 0.008591758087277412.\u001b[0m\n",
      "\u001b[32m[I 2021-06-26 03:57:50,212]\u001b[0m Trial 417 pruned. \u001b[0m\n",
      "\u001b[32m[I 2021-06-26 03:57:50,337]\u001b[0m Trial 418 pruned. \u001b[0m\n",
      "\u001b[32m[I 2021-06-26 03:57:50,457]\u001b[0m Trial 419 pruned. \u001b[0m\n",
      "\u001b[32m[I 2021-06-26 03:57:50,576]\u001b[0m Trial 420 pruned. \u001b[0m\n",
      "\u001b[32m[I 2021-06-26 03:57:58,804]\u001b[0m Trial 421 finished with value: 0.008733781054615974 and parameters: {'Look Back': 35, 'Batch Size': 16, 'Hidden Dim': 32, 'N layers': 1, 'Learning Rate': 0.011765550829088329, 'Factor': 0.65}. Best is trial 160 with value: 0.008591758087277412.\u001b[0m\n",
      "\u001b[32m[I 2021-06-26 03:57:58,928]\u001b[0m Trial 422 pruned. \u001b[0m\n",
      "\u001b[32m[I 2021-06-26 03:57:59,049]\u001b[0m Trial 423 pruned. \u001b[0m\n",
      "\u001b[32m[I 2021-06-26 03:57:59,178]\u001b[0m Trial 424 pruned. \u001b[0m\n",
      "\u001b[32m[I 2021-06-26 03:58:06,024]\u001b[0m Trial 425 pruned. \u001b[0m\n",
      "\u001b[32m[I 2021-06-26 03:58:14,268]\u001b[0m Trial 426 finished with value: 0.00872692372649908 and parameters: {'Look Back': 35, 'Batch Size': 16, 'Hidden Dim': 32, 'N layers': 1, 'Learning Rate': 0.013327071992022911, 'Factor': 0.65}. Best is trial 160 with value: 0.008591758087277412.\u001b[0m\n",
      "\u001b[32m[I 2021-06-26 03:58:14,388]\u001b[0m Trial 427 pruned. \u001b[0m\n",
      "\u001b[32m[I 2021-06-26 03:58:14,512]\u001b[0m Trial 428 pruned. \u001b[0m\n",
      "\u001b[32m[I 2021-06-26 03:58:14,630]\u001b[0m Trial 429 pruned. \u001b[0m\n",
      "\u001b[32m[I 2021-06-26 03:58:20,670]\u001b[0m Trial 430 pruned. \u001b[0m\n",
      "\u001b[32m[I 2021-06-26 03:58:20,807]\u001b[0m Trial 431 pruned. \u001b[0m\n",
      "\u001b[32m[I 2021-06-26 03:58:20,934]\u001b[0m Trial 432 pruned. \u001b[0m\n",
      "\u001b[32m[I 2021-06-26 03:58:21,064]\u001b[0m Trial 433 pruned. \u001b[0m\n",
      "\u001b[32m[I 2021-06-26 03:58:21,963]\u001b[0m Trial 434 pruned. \u001b[0m\n",
      "\u001b[32m[I 2021-06-26 03:58:22,087]\u001b[0m Trial 435 pruned. \u001b[0m\n",
      "\u001b[32m[I 2021-06-26 03:58:22,204]\u001b[0m Trial 436 pruned. \u001b[0m\n",
      "\u001b[32m[I 2021-06-26 03:58:22,334]\u001b[0m Trial 437 pruned. \u001b[0m\n",
      "\u001b[32m[I 2021-06-26 03:58:22,461]\u001b[0m Trial 438 pruned. \u001b[0m\n",
      "\u001b[32m[I 2021-06-26 03:58:27,763]\u001b[0m Trial 439 pruned. \u001b[0m\n",
      "\u001b[32m[I 2021-06-26 03:58:33,378]\u001b[0m Trial 440 pruned. \u001b[0m\n",
      "\u001b[32m[I 2021-06-26 03:58:41,680]\u001b[0m Trial 441 finished with value: 0.0087246373295784 and parameters: {'Look Back': 35, 'Batch Size': 16, 'Hidden Dim': 32, 'N layers': 1, 'Learning Rate': 0.011092319153642179, 'Factor': 0.65}. Best is trial 160 with value: 0.008591758087277412.\u001b[0m\n",
      "\u001b[32m[I 2021-06-26 03:58:41,812]\u001b[0m Trial 442 pruned. \u001b[0m\n",
      "\u001b[32m[I 2021-06-26 03:58:41,936]\u001b[0m Trial 443 pruned. \u001b[0m\n",
      "\u001b[32m[I 2021-06-26 03:58:42,065]\u001b[0m Trial 444 pruned. \u001b[0m\n",
      "\u001b[32m[I 2021-06-26 03:58:42,193]\u001b[0m Trial 445 pruned. \u001b[0m\n",
      "\u001b[32m[I 2021-06-26 03:58:42,319]\u001b[0m Trial 446 pruned. \u001b[0m\n",
      "\u001b[32m[I 2021-06-26 03:58:42,442]\u001b[0m Trial 447 pruned. \u001b[0m\n",
      "\u001b[32m[I 2021-06-26 03:58:42,568]\u001b[0m Trial 448 pruned. \u001b[0m\n",
      "\u001b[32m[I 2021-06-26 03:58:42,694]\u001b[0m Trial 449 pruned. \u001b[0m\n",
      "\u001b[32m[I 2021-06-26 03:58:48,357]\u001b[0m Trial 450 pruned. \u001b[0m\n",
      "\u001b[32m[I 2021-06-26 03:58:48,487]\u001b[0m Trial 451 pruned. \u001b[0m\n",
      "\u001b[32m[I 2021-06-26 03:58:48,610]\u001b[0m Trial 452 pruned. \u001b[0m\n",
      "\u001b[32m[I 2021-06-26 03:58:48,741]\u001b[0m Trial 453 pruned. \u001b[0m\n",
      "\u001b[32m[I 2021-06-26 03:58:48,865]\u001b[0m Trial 454 pruned. \u001b[0m\n",
      "\u001b[32m[I 2021-06-26 03:58:48,987]\u001b[0m Trial 455 pruned. \u001b[0m\n",
      "\u001b[32m[I 2021-06-26 03:58:49,105]\u001b[0m Trial 456 pruned. \u001b[0m\n",
      "\u001b[32m[I 2021-06-26 03:58:49,242]\u001b[0m Trial 457 pruned. \u001b[0m\n",
      "\u001b[32m[I 2021-06-26 03:58:57,470]\u001b[0m Trial 458 finished with value: 0.00874155294150114 and parameters: {'Look Back': 35, 'Batch Size': 16, 'Hidden Dim': 32, 'N layers': 1, 'Learning Rate': 0.011028676012470547, 'Factor': 0.65}. Best is trial 160 with value: 0.008591758087277412.\u001b[0m\n",
      "\u001b[32m[I 2021-06-26 03:58:57,613]\u001b[0m Trial 459 pruned. \u001b[0m\n",
      "\u001b[32m[I 2021-06-26 03:58:58,414]\u001b[0m Trial 460 pruned. \u001b[0m\n",
      "\u001b[32m[I 2021-06-26 03:58:58,541]\u001b[0m Trial 461 pruned. \u001b[0m\n",
      "\u001b[32m[I 2021-06-26 03:58:58,671]\u001b[0m Trial 462 pruned. \u001b[0m\n",
      "\u001b[32m[I 2021-06-26 03:58:58,802]\u001b[0m Trial 463 pruned. \u001b[0m\n",
      "\u001b[32m[I 2021-06-26 03:58:58,934]\u001b[0m Trial 464 pruned. \u001b[0m\n",
      "\u001b[32m[I 2021-06-26 03:59:03,934]\u001b[0m Trial 465 pruned. \u001b[0m\n",
      "\u001b[32m[I 2021-06-26 03:59:04,058]\u001b[0m Trial 466 pruned. \u001b[0m\n",
      "\u001b[32m[I 2021-06-26 03:59:04,197]\u001b[0m Trial 467 pruned. \u001b[0m\n",
      "\u001b[32m[I 2021-06-26 03:59:04,333]\u001b[0m Trial 468 pruned. \u001b[0m\n",
      "\u001b[32m[I 2021-06-26 03:59:04,457]\u001b[0m Trial 469 pruned. \u001b[0m\n",
      "\u001b[32m[I 2021-06-26 03:59:04,582]\u001b[0m Trial 470 pruned. \u001b[0m\n",
      "\u001b[32m[I 2021-06-26 03:59:04,719]\u001b[0m Trial 471 pruned. \u001b[0m\n",
      "\u001b[32m[I 2021-06-26 03:59:04,846]\u001b[0m Trial 472 pruned. \u001b[0m\n",
      "\u001b[32m[I 2021-06-26 03:59:04,974]\u001b[0m Trial 473 pruned. \u001b[0m\n",
      "\u001b[32m[I 2021-06-26 03:59:05,106]\u001b[0m Trial 474 pruned. \u001b[0m\n",
      "\u001b[32m[I 2021-06-26 03:59:05,234]\u001b[0m Trial 475 pruned. \u001b[0m\n",
      "\u001b[32m[I 2021-06-26 03:59:05,360]\u001b[0m Trial 476 pruned. \u001b[0m\n"
     ]
    },
    {
     "name": "stderr",
     "output_type": "stream",
     "text": [
      "\u001b[32m[I 2021-06-26 03:59:13,668]\u001b[0m Trial 477 finished with value: 0.008740381337702274 and parameters: {'Look Back': 35, 'Batch Size': 16, 'Hidden Dim': 32, 'N layers': 1, 'Learning Rate': 0.011810114741763326, 'Factor': 0.65}. Best is trial 160 with value: 0.008591758087277412.\u001b[0m\n",
      "\u001b[32m[I 2021-06-26 03:59:13,801]\u001b[0m Trial 478 pruned. \u001b[0m\n",
      "\u001b[32m[I 2021-06-26 03:59:14,804]\u001b[0m Trial 479 pruned. \u001b[0m\n",
      "\u001b[32m[I 2021-06-26 03:59:14,929]\u001b[0m Trial 480 pruned. \u001b[0m\n",
      "\u001b[32m[I 2021-06-26 03:59:15,054]\u001b[0m Trial 481 pruned. \u001b[0m\n",
      "\u001b[32m[I 2021-06-26 03:59:15,179]\u001b[0m Trial 482 pruned. \u001b[0m\n",
      "\u001b[32m[I 2021-06-26 03:59:15,306]\u001b[0m Trial 483 pruned. \u001b[0m\n",
      "\u001b[32m[I 2021-06-26 03:59:15,427]\u001b[0m Trial 484 pruned. \u001b[0m\n",
      "\u001b[32m[I 2021-06-26 03:59:22,669]\u001b[0m Trial 485 pruned. \u001b[0m\n",
      "\u001b[32m[I 2021-06-26 03:59:22,807]\u001b[0m Trial 486 pruned. \u001b[0m\n",
      "\u001b[32m[I 2021-06-26 03:59:22,934]\u001b[0m Trial 487 pruned. \u001b[0m\n",
      "\u001b[32m[I 2021-06-26 03:59:23,054]\u001b[0m Trial 488 pruned. \u001b[0m\n",
      "\u001b[32m[I 2021-06-26 03:59:28,621]\u001b[0m Trial 489 pruned. \u001b[0m\n",
      "\u001b[32m[I 2021-06-26 03:59:28,757]\u001b[0m Trial 490 pruned. \u001b[0m\n",
      "\u001b[32m[I 2021-06-26 03:59:28,884]\u001b[0m Trial 491 pruned. \u001b[0m\n",
      "\u001b[32m[I 2021-06-26 03:59:29,012]\u001b[0m Trial 492 pruned. \u001b[0m\n",
      "\u001b[32m[I 2021-06-26 03:59:29,143]\u001b[0m Trial 493 pruned. \u001b[0m\n",
      "\u001b[32m[I 2021-06-26 03:59:29,274]\u001b[0m Trial 494 pruned. \u001b[0m\n",
      "\u001b[32m[I 2021-06-26 03:59:30,193]\u001b[0m Trial 495 pruned. \u001b[0m\n",
      "\u001b[32m[I 2021-06-26 03:59:30,319]\u001b[0m Trial 496 pruned. \u001b[0m\n",
      "\u001b[32m[I 2021-06-26 03:59:30,442]\u001b[0m Trial 497 pruned. \u001b[0m\n",
      "\u001b[32m[I 2021-06-26 03:59:30,569]\u001b[0m Trial 498 pruned. \u001b[0m\n",
      "\u001b[32m[I 2021-06-26 03:59:30,702]\u001b[0m Trial 499 pruned. \u001b[0m\n"
     ]
    },
    {
     "name": "stdout",
     "output_type": "stream",
     "text": [
      "Study statistics: \n",
      "  Number of finished trials:  500\n",
      "  Number of pruned trials:  409\n",
      "  Number of complete trials:  91\n"
     ]
    }
   ],
   "source": [
    "nasdaq, scaled, scaler1, scaler2  = load_nasdaq(use_fed_data = False)\n",
    "input_dim = 1\n",
    "study_lstm_no_fed = conduct_study('LSTM NO FED', 'LSTM', n_trials)"
   ]
  },
  {
   "cell_type": "markdown",
   "id": "ab52413e",
   "metadata": {},
   "source": [
    "# Prediction with GRU"
   ]
  },
  {
   "cell_type": "code",
   "execution_count": 1214,
   "id": "be183216",
   "metadata": {},
   "outputs": [
    {
     "data": {
      "application/vnd.plotly.v1+json": {
       "config": {
        "plotlyServerURL": "https://plot.ly"
       },
       "data": [
        {
         "cliponaxis": false,
         "hovertemplate": [
          "N layers (IntUniformDistribution): 0.005743378780535609<extra></extra>",
          "Factor (DiscreteUniformDistribution): 0.014985824305715304<extra></extra>",
          "Hidden Dim (CategoricalDistribution): 0.039112639937162255<extra></extra>",
          "Batch Size (CategoricalDistribution): 0.08183351363940129<extra></extra>",
          "Look Back (IntUniformDistribution): 0.2001527827947301<extra></extra>",
          "Learning Rate (LogUniformDistribution): 0.6581718605424555<extra></extra>"
         ],
         "marker": {
          "color": "rgb(66,146,198)"
         },
         "orientation": "h",
         "text": [
          "0.005743378780535609",
          "0.014985824305715304",
          "0.039112639937162255",
          "0.08183351363940129",
          "0.2001527827947301",
          "0.6581718605424555"
         ],
         "textposition": "outside",
         "texttemplate": "%{text:.2f}",
         "type": "bar",
         "x": [
          0.005743378780535609,
          0.014985824305715304,
          0.039112639937162255,
          0.08183351363940129,
          0.2001527827947301,
          0.6581718605424555
         ],
         "y": [
          "N layers",
          "Factor",
          "Hidden Dim",
          "Batch Size",
          "Look Back",
          "Learning Rate"
         ]
        }
       ],
       "layout": {
        "showlegend": false,
        "template": {
         "data": {
          "bar": [
           {
            "error_x": {
             "color": "#2a3f5f"
            },
            "error_y": {
             "color": "#2a3f5f"
            },
            "marker": {
             "line": {
              "color": "#E5ECF6",
              "width": 0.5
             }
            },
            "type": "bar"
           }
          ],
          "barpolar": [
           {
            "marker": {
             "line": {
              "color": "#E5ECF6",
              "width": 0.5
             }
            },
            "type": "barpolar"
           }
          ],
          "carpet": [
           {
            "aaxis": {
             "endlinecolor": "#2a3f5f",
             "gridcolor": "white",
             "linecolor": "white",
             "minorgridcolor": "white",
             "startlinecolor": "#2a3f5f"
            },
            "baxis": {
             "endlinecolor": "#2a3f5f",
             "gridcolor": "white",
             "linecolor": "white",
             "minorgridcolor": "white",
             "startlinecolor": "#2a3f5f"
            },
            "type": "carpet"
           }
          ],
          "choropleth": [
           {
            "colorbar": {
             "outlinewidth": 0,
             "ticks": ""
            },
            "type": "choropleth"
           }
          ],
          "contour": [
           {
            "colorbar": {
             "outlinewidth": 0,
             "ticks": ""
            },
            "colorscale": [
             [
              0,
              "#0d0887"
             ],
             [
              0.1111111111111111,
              "#46039f"
             ],
             [
              0.2222222222222222,
              "#7201a8"
             ],
             [
              0.3333333333333333,
              "#9c179e"
             ],
             [
              0.4444444444444444,
              "#bd3786"
             ],
             [
              0.5555555555555556,
              "#d8576b"
             ],
             [
              0.6666666666666666,
              "#ed7953"
             ],
             [
              0.7777777777777778,
              "#fb9f3a"
             ],
             [
              0.8888888888888888,
              "#fdca26"
             ],
             [
              1,
              "#f0f921"
             ]
            ],
            "type": "contour"
           }
          ],
          "contourcarpet": [
           {
            "colorbar": {
             "outlinewidth": 0,
             "ticks": ""
            },
            "type": "contourcarpet"
           }
          ],
          "heatmap": [
           {
            "colorbar": {
             "outlinewidth": 0,
             "ticks": ""
            },
            "colorscale": [
             [
              0,
              "#0d0887"
             ],
             [
              0.1111111111111111,
              "#46039f"
             ],
             [
              0.2222222222222222,
              "#7201a8"
             ],
             [
              0.3333333333333333,
              "#9c179e"
             ],
             [
              0.4444444444444444,
              "#bd3786"
             ],
             [
              0.5555555555555556,
              "#d8576b"
             ],
             [
              0.6666666666666666,
              "#ed7953"
             ],
             [
              0.7777777777777778,
              "#fb9f3a"
             ],
             [
              0.8888888888888888,
              "#fdca26"
             ],
             [
              1,
              "#f0f921"
             ]
            ],
            "type": "heatmap"
           }
          ],
          "heatmapgl": [
           {
            "colorbar": {
             "outlinewidth": 0,
             "ticks": ""
            },
            "colorscale": [
             [
              0,
              "#0d0887"
             ],
             [
              0.1111111111111111,
              "#46039f"
             ],
             [
              0.2222222222222222,
              "#7201a8"
             ],
             [
              0.3333333333333333,
              "#9c179e"
             ],
             [
              0.4444444444444444,
              "#bd3786"
             ],
             [
              0.5555555555555556,
              "#d8576b"
             ],
             [
              0.6666666666666666,
              "#ed7953"
             ],
             [
              0.7777777777777778,
              "#fb9f3a"
             ],
             [
              0.8888888888888888,
              "#fdca26"
             ],
             [
              1,
              "#f0f921"
             ]
            ],
            "type": "heatmapgl"
           }
          ],
          "histogram": [
           {
            "marker": {
             "colorbar": {
              "outlinewidth": 0,
              "ticks": ""
             }
            },
            "type": "histogram"
           }
          ],
          "histogram2d": [
           {
            "colorbar": {
             "outlinewidth": 0,
             "ticks": ""
            },
            "colorscale": [
             [
              0,
              "#0d0887"
             ],
             [
              0.1111111111111111,
              "#46039f"
             ],
             [
              0.2222222222222222,
              "#7201a8"
             ],
             [
              0.3333333333333333,
              "#9c179e"
             ],
             [
              0.4444444444444444,
              "#bd3786"
             ],
             [
              0.5555555555555556,
              "#d8576b"
             ],
             [
              0.6666666666666666,
              "#ed7953"
             ],
             [
              0.7777777777777778,
              "#fb9f3a"
             ],
             [
              0.8888888888888888,
              "#fdca26"
             ],
             [
              1,
              "#f0f921"
             ]
            ],
            "type": "histogram2d"
           }
          ],
          "histogram2dcontour": [
           {
            "colorbar": {
             "outlinewidth": 0,
             "ticks": ""
            },
            "colorscale": [
             [
              0,
              "#0d0887"
             ],
             [
              0.1111111111111111,
              "#46039f"
             ],
             [
              0.2222222222222222,
              "#7201a8"
             ],
             [
              0.3333333333333333,
              "#9c179e"
             ],
             [
              0.4444444444444444,
              "#bd3786"
             ],
             [
              0.5555555555555556,
              "#d8576b"
             ],
             [
              0.6666666666666666,
              "#ed7953"
             ],
             [
              0.7777777777777778,
              "#fb9f3a"
             ],
             [
              0.8888888888888888,
              "#fdca26"
             ],
             [
              1,
              "#f0f921"
             ]
            ],
            "type": "histogram2dcontour"
           }
          ],
          "mesh3d": [
           {
            "colorbar": {
             "outlinewidth": 0,
             "ticks": ""
            },
            "type": "mesh3d"
           }
          ],
          "parcoords": [
           {
            "line": {
             "colorbar": {
              "outlinewidth": 0,
              "ticks": ""
             }
            },
            "type": "parcoords"
           }
          ],
          "pie": [
           {
            "automargin": true,
            "type": "pie"
           }
          ],
          "scatter": [
           {
            "marker": {
             "colorbar": {
              "outlinewidth": 0,
              "ticks": ""
             }
            },
            "type": "scatter"
           }
          ],
          "scatter3d": [
           {
            "line": {
             "colorbar": {
              "outlinewidth": 0,
              "ticks": ""
             }
            },
            "marker": {
             "colorbar": {
              "outlinewidth": 0,
              "ticks": ""
             }
            },
            "type": "scatter3d"
           }
          ],
          "scattercarpet": [
           {
            "marker": {
             "colorbar": {
              "outlinewidth": 0,
              "ticks": ""
             }
            },
            "type": "scattercarpet"
           }
          ],
          "scattergeo": [
           {
            "marker": {
             "colorbar": {
              "outlinewidth": 0,
              "ticks": ""
             }
            },
            "type": "scattergeo"
           }
          ],
          "scattergl": [
           {
            "marker": {
             "colorbar": {
              "outlinewidth": 0,
              "ticks": ""
             }
            },
            "type": "scattergl"
           }
          ],
          "scattermapbox": [
           {
            "marker": {
             "colorbar": {
              "outlinewidth": 0,
              "ticks": ""
             }
            },
            "type": "scattermapbox"
           }
          ],
          "scatterpolar": [
           {
            "marker": {
             "colorbar": {
              "outlinewidth": 0,
              "ticks": ""
             }
            },
            "type": "scatterpolar"
           }
          ],
          "scatterpolargl": [
           {
            "marker": {
             "colorbar": {
              "outlinewidth": 0,
              "ticks": ""
             }
            },
            "type": "scatterpolargl"
           }
          ],
          "scatterternary": [
           {
            "marker": {
             "colorbar": {
              "outlinewidth": 0,
              "ticks": ""
             }
            },
            "type": "scatterternary"
           }
          ],
          "surface": [
           {
            "colorbar": {
             "outlinewidth": 0,
             "ticks": ""
            },
            "colorscale": [
             [
              0,
              "#0d0887"
             ],
             [
              0.1111111111111111,
              "#46039f"
             ],
             [
              0.2222222222222222,
              "#7201a8"
             ],
             [
              0.3333333333333333,
              "#9c179e"
             ],
             [
              0.4444444444444444,
              "#bd3786"
             ],
             [
              0.5555555555555556,
              "#d8576b"
             ],
             [
              0.6666666666666666,
              "#ed7953"
             ],
             [
              0.7777777777777778,
              "#fb9f3a"
             ],
             [
              0.8888888888888888,
              "#fdca26"
             ],
             [
              1,
              "#f0f921"
             ]
            ],
            "type": "surface"
           }
          ],
          "table": [
           {
            "cells": {
             "fill": {
              "color": "#EBF0F8"
             },
             "line": {
              "color": "white"
             }
            },
            "header": {
             "fill": {
              "color": "#C8D4E3"
             },
             "line": {
              "color": "white"
             }
            },
            "type": "table"
           }
          ]
         },
         "layout": {
          "annotationdefaults": {
           "arrowcolor": "#2a3f5f",
           "arrowhead": 0,
           "arrowwidth": 1
          },
          "autotypenumbers": "strict",
          "coloraxis": {
           "colorbar": {
            "outlinewidth": 0,
            "ticks": ""
           }
          },
          "colorscale": {
           "diverging": [
            [
             0,
             "#8e0152"
            ],
            [
             0.1,
             "#c51b7d"
            ],
            [
             0.2,
             "#de77ae"
            ],
            [
             0.3,
             "#f1b6da"
            ],
            [
             0.4,
             "#fde0ef"
            ],
            [
             0.5,
             "#f7f7f7"
            ],
            [
             0.6,
             "#e6f5d0"
            ],
            [
             0.7,
             "#b8e186"
            ],
            [
             0.8,
             "#7fbc41"
            ],
            [
             0.9,
             "#4d9221"
            ],
            [
             1,
             "#276419"
            ]
           ],
           "sequential": [
            [
             0,
             "#0d0887"
            ],
            [
             0.1111111111111111,
             "#46039f"
            ],
            [
             0.2222222222222222,
             "#7201a8"
            ],
            [
             0.3333333333333333,
             "#9c179e"
            ],
            [
             0.4444444444444444,
             "#bd3786"
            ],
            [
             0.5555555555555556,
             "#d8576b"
            ],
            [
             0.6666666666666666,
             "#ed7953"
            ],
            [
             0.7777777777777778,
             "#fb9f3a"
            ],
            [
             0.8888888888888888,
             "#fdca26"
            ],
            [
             1,
             "#f0f921"
            ]
           ],
           "sequentialminus": [
            [
             0,
             "#0d0887"
            ],
            [
             0.1111111111111111,
             "#46039f"
            ],
            [
             0.2222222222222222,
             "#7201a8"
            ],
            [
             0.3333333333333333,
             "#9c179e"
            ],
            [
             0.4444444444444444,
             "#bd3786"
            ],
            [
             0.5555555555555556,
             "#d8576b"
            ],
            [
             0.6666666666666666,
             "#ed7953"
            ],
            [
             0.7777777777777778,
             "#fb9f3a"
            ],
            [
             0.8888888888888888,
             "#fdca26"
            ],
            [
             1,
             "#f0f921"
            ]
           ]
          },
          "colorway": [
           "#636efa",
           "#EF553B",
           "#00cc96",
           "#ab63fa",
           "#FFA15A",
           "#19d3f3",
           "#FF6692",
           "#B6E880",
           "#FF97FF",
           "#FECB52"
          ],
          "font": {
           "color": "#2a3f5f"
          },
          "geo": {
           "bgcolor": "white",
           "lakecolor": "white",
           "landcolor": "#E5ECF6",
           "showlakes": true,
           "showland": true,
           "subunitcolor": "white"
          },
          "hoverlabel": {
           "align": "left"
          },
          "hovermode": "closest",
          "mapbox": {
           "style": "light"
          },
          "paper_bgcolor": "white",
          "plot_bgcolor": "#E5ECF6",
          "polar": {
           "angularaxis": {
            "gridcolor": "white",
            "linecolor": "white",
            "ticks": ""
           },
           "bgcolor": "#E5ECF6",
           "radialaxis": {
            "gridcolor": "white",
            "linecolor": "white",
            "ticks": ""
           }
          },
          "scene": {
           "xaxis": {
            "backgroundcolor": "#E5ECF6",
            "gridcolor": "white",
            "gridwidth": 2,
            "linecolor": "white",
            "showbackground": true,
            "ticks": "",
            "zerolinecolor": "white"
           },
           "yaxis": {
            "backgroundcolor": "#E5ECF6",
            "gridcolor": "white",
            "gridwidth": 2,
            "linecolor": "white",
            "showbackground": true,
            "ticks": "",
            "zerolinecolor": "white"
           },
           "zaxis": {
            "backgroundcolor": "#E5ECF6",
            "gridcolor": "white",
            "gridwidth": 2,
            "linecolor": "white",
            "showbackground": true,
            "ticks": "",
            "zerolinecolor": "white"
           }
          },
          "shapedefaults": {
           "line": {
            "color": "#2a3f5f"
           }
          },
          "ternary": {
           "aaxis": {
            "gridcolor": "white",
            "linecolor": "white",
            "ticks": ""
           },
           "baxis": {
            "gridcolor": "white",
            "linecolor": "white",
            "ticks": ""
           },
           "bgcolor": "#E5ECF6",
           "caxis": {
            "gridcolor": "white",
            "linecolor": "white",
            "ticks": ""
           }
          },
          "title": {
           "x": 0.05
          },
          "xaxis": {
           "automargin": true,
           "gridcolor": "white",
           "linecolor": "white",
           "ticks": "",
           "title": {
            "standoff": 15
           },
           "zerolinecolor": "white",
           "zerolinewidth": 2
          },
          "yaxis": {
           "automargin": true,
           "gridcolor": "white",
           "linecolor": "white",
           "ticks": "",
           "title": {
            "standoff": 15
           },
           "zerolinecolor": "white",
           "zerolinewidth": 2
          }
         }
        },
        "title": {
         "text": "Hyperparameter Importances"
        },
        "xaxis": {
         "title": {
          "text": "Importance for Objective Value"
         }
        },
        "yaxis": {
         "title": {
          "text": "Hyperparameter"
         }
        }
       }
      },
      "text/html": [
       "<div>                            <div id=\"ddd833a6-9065-40c0-bfb5-1d99b41a0e13\" class=\"plotly-graph-div\" style=\"height:525px; width:100%;\"></div>            <script type=\"text/javascript\">                require([\"plotly\"], function(Plotly) {                    window.PLOTLYENV=window.PLOTLYENV || {};                                    if (document.getElementById(\"ddd833a6-9065-40c0-bfb5-1d99b41a0e13\")) {                    Plotly.newPlot(                        \"ddd833a6-9065-40c0-bfb5-1d99b41a0e13\",                        [{\"cliponaxis\": false, \"hovertemplate\": [\"N layers (IntUniformDistribution): 0.005743378780535609<extra></extra>\", \"Factor (DiscreteUniformDistribution): 0.014985824305715304<extra></extra>\", \"Hidden Dim (CategoricalDistribution): 0.039112639937162255<extra></extra>\", \"Batch Size (CategoricalDistribution): 0.08183351363940129<extra></extra>\", \"Look Back (IntUniformDistribution): 0.2001527827947301<extra></extra>\", \"Learning Rate (LogUniformDistribution): 0.6581718605424555<extra></extra>\"], \"marker\": {\"color\": \"rgb(66,146,198)\"}, \"orientation\": \"h\", \"text\": [\"0.005743378780535609\", \"0.014985824305715304\", \"0.039112639937162255\", \"0.08183351363940129\", \"0.2001527827947301\", \"0.6581718605424555\"], \"textposition\": \"outside\", \"texttemplate\": \"%{text:.2f}\", \"type\": \"bar\", \"x\": [0.005743378780535609, 0.014985824305715304, 0.039112639937162255, 0.08183351363940129, 0.2001527827947301, 0.6581718605424555], \"y\": [\"N layers\", \"Factor\", \"Hidden Dim\", \"Batch Size\", \"Look Back\", \"Learning Rate\"]}],                        {\"showlegend\": false, \"template\": {\"data\": {\"bar\": [{\"error_x\": {\"color\": \"#2a3f5f\"}, \"error_y\": {\"color\": \"#2a3f5f\"}, \"marker\": {\"line\": {\"color\": \"#E5ECF6\", \"width\": 0.5}}, \"type\": \"bar\"}], \"barpolar\": [{\"marker\": {\"line\": {\"color\": \"#E5ECF6\", \"width\": 0.5}}, \"type\": \"barpolar\"}], \"carpet\": [{\"aaxis\": {\"endlinecolor\": \"#2a3f5f\", \"gridcolor\": \"white\", \"linecolor\": \"white\", \"minorgridcolor\": \"white\", \"startlinecolor\": \"#2a3f5f\"}, \"baxis\": {\"endlinecolor\": \"#2a3f5f\", \"gridcolor\": \"white\", \"linecolor\": \"white\", \"minorgridcolor\": \"white\", \"startlinecolor\": \"#2a3f5f\"}, \"type\": \"carpet\"}], \"choropleth\": [{\"colorbar\": {\"outlinewidth\": 0, \"ticks\": \"\"}, \"type\": \"choropleth\"}], \"contour\": [{\"colorbar\": {\"outlinewidth\": 0, \"ticks\": \"\"}, \"colorscale\": [[0.0, \"#0d0887\"], [0.1111111111111111, \"#46039f\"], [0.2222222222222222, \"#7201a8\"], [0.3333333333333333, \"#9c179e\"], [0.4444444444444444, \"#bd3786\"], [0.5555555555555556, \"#d8576b\"], [0.6666666666666666, \"#ed7953\"], [0.7777777777777778, \"#fb9f3a\"], [0.8888888888888888, \"#fdca26\"], [1.0, \"#f0f921\"]], \"type\": \"contour\"}], \"contourcarpet\": [{\"colorbar\": {\"outlinewidth\": 0, \"ticks\": \"\"}, \"type\": \"contourcarpet\"}], \"heatmap\": [{\"colorbar\": {\"outlinewidth\": 0, \"ticks\": \"\"}, \"colorscale\": [[0.0, \"#0d0887\"], [0.1111111111111111, \"#46039f\"], [0.2222222222222222, \"#7201a8\"], [0.3333333333333333, \"#9c179e\"], [0.4444444444444444, \"#bd3786\"], [0.5555555555555556, \"#d8576b\"], [0.6666666666666666, \"#ed7953\"], [0.7777777777777778, \"#fb9f3a\"], [0.8888888888888888, \"#fdca26\"], [1.0, \"#f0f921\"]], \"type\": \"heatmap\"}], \"heatmapgl\": [{\"colorbar\": {\"outlinewidth\": 0, \"ticks\": \"\"}, \"colorscale\": [[0.0, \"#0d0887\"], [0.1111111111111111, \"#46039f\"], [0.2222222222222222, \"#7201a8\"], [0.3333333333333333, \"#9c179e\"], [0.4444444444444444, \"#bd3786\"], [0.5555555555555556, \"#d8576b\"], [0.6666666666666666, \"#ed7953\"], [0.7777777777777778, \"#fb9f3a\"], [0.8888888888888888, \"#fdca26\"], [1.0, \"#f0f921\"]], \"type\": \"heatmapgl\"}], \"histogram\": [{\"marker\": {\"colorbar\": {\"outlinewidth\": 0, \"ticks\": \"\"}}, \"type\": \"histogram\"}], \"histogram2d\": [{\"colorbar\": {\"outlinewidth\": 0, \"ticks\": \"\"}, \"colorscale\": [[0.0, \"#0d0887\"], [0.1111111111111111, \"#46039f\"], [0.2222222222222222, \"#7201a8\"], [0.3333333333333333, \"#9c179e\"], [0.4444444444444444, \"#bd3786\"], [0.5555555555555556, \"#d8576b\"], [0.6666666666666666, \"#ed7953\"], [0.7777777777777778, \"#fb9f3a\"], [0.8888888888888888, \"#fdca26\"], [1.0, \"#f0f921\"]], \"type\": \"histogram2d\"}], \"histogram2dcontour\": [{\"colorbar\": {\"outlinewidth\": 0, \"ticks\": \"\"}, \"colorscale\": [[0.0, \"#0d0887\"], [0.1111111111111111, \"#46039f\"], [0.2222222222222222, \"#7201a8\"], [0.3333333333333333, \"#9c179e\"], [0.4444444444444444, \"#bd3786\"], [0.5555555555555556, \"#d8576b\"], [0.6666666666666666, \"#ed7953\"], [0.7777777777777778, \"#fb9f3a\"], [0.8888888888888888, \"#fdca26\"], [1.0, \"#f0f921\"]], \"type\": \"histogram2dcontour\"}], \"mesh3d\": [{\"colorbar\": {\"outlinewidth\": 0, \"ticks\": \"\"}, \"type\": \"mesh3d\"}], \"parcoords\": [{\"line\": {\"colorbar\": {\"outlinewidth\": 0, \"ticks\": \"\"}}, \"type\": \"parcoords\"}], \"pie\": [{\"automargin\": true, \"type\": \"pie\"}], \"scatter\": [{\"marker\": {\"colorbar\": {\"outlinewidth\": 0, \"ticks\": \"\"}}, \"type\": \"scatter\"}], \"scatter3d\": [{\"line\": {\"colorbar\": {\"outlinewidth\": 0, \"ticks\": \"\"}}, \"marker\": {\"colorbar\": {\"outlinewidth\": 0, \"ticks\": \"\"}}, \"type\": \"scatter3d\"}], \"scattercarpet\": [{\"marker\": {\"colorbar\": {\"outlinewidth\": 0, \"ticks\": \"\"}}, \"type\": \"scattercarpet\"}], \"scattergeo\": [{\"marker\": {\"colorbar\": {\"outlinewidth\": 0, \"ticks\": \"\"}}, \"type\": \"scattergeo\"}], \"scattergl\": [{\"marker\": {\"colorbar\": {\"outlinewidth\": 0, \"ticks\": \"\"}}, \"type\": \"scattergl\"}], \"scattermapbox\": [{\"marker\": {\"colorbar\": {\"outlinewidth\": 0, \"ticks\": \"\"}}, \"type\": \"scattermapbox\"}], \"scatterpolar\": [{\"marker\": {\"colorbar\": {\"outlinewidth\": 0, \"ticks\": \"\"}}, \"type\": \"scatterpolar\"}], \"scatterpolargl\": [{\"marker\": {\"colorbar\": {\"outlinewidth\": 0, \"ticks\": \"\"}}, \"type\": \"scatterpolargl\"}], \"scatterternary\": [{\"marker\": {\"colorbar\": {\"outlinewidth\": 0, \"ticks\": \"\"}}, \"type\": \"scatterternary\"}], \"surface\": [{\"colorbar\": {\"outlinewidth\": 0, \"ticks\": \"\"}, \"colorscale\": [[0.0, \"#0d0887\"], [0.1111111111111111, \"#46039f\"], [0.2222222222222222, \"#7201a8\"], [0.3333333333333333, \"#9c179e\"], [0.4444444444444444, \"#bd3786\"], [0.5555555555555556, \"#d8576b\"], [0.6666666666666666, \"#ed7953\"], [0.7777777777777778, \"#fb9f3a\"], [0.8888888888888888, \"#fdca26\"], [1.0, \"#f0f921\"]], \"type\": \"surface\"}], \"table\": [{\"cells\": {\"fill\": {\"color\": \"#EBF0F8\"}, \"line\": {\"color\": \"white\"}}, \"header\": {\"fill\": {\"color\": \"#C8D4E3\"}, \"line\": {\"color\": \"white\"}}, \"type\": \"table\"}]}, \"layout\": {\"annotationdefaults\": {\"arrowcolor\": \"#2a3f5f\", \"arrowhead\": 0, \"arrowwidth\": 1}, \"autotypenumbers\": \"strict\", \"coloraxis\": {\"colorbar\": {\"outlinewidth\": 0, \"ticks\": \"\"}}, \"colorscale\": {\"diverging\": [[0, \"#8e0152\"], [0.1, \"#c51b7d\"], [0.2, \"#de77ae\"], [0.3, \"#f1b6da\"], [0.4, \"#fde0ef\"], [0.5, \"#f7f7f7\"], [0.6, \"#e6f5d0\"], [0.7, \"#b8e186\"], [0.8, \"#7fbc41\"], [0.9, \"#4d9221\"], [1, \"#276419\"]], \"sequential\": [[0.0, \"#0d0887\"], [0.1111111111111111, \"#46039f\"], [0.2222222222222222, \"#7201a8\"], [0.3333333333333333, \"#9c179e\"], [0.4444444444444444, \"#bd3786\"], [0.5555555555555556, \"#d8576b\"], [0.6666666666666666, \"#ed7953\"], [0.7777777777777778, \"#fb9f3a\"], [0.8888888888888888, \"#fdca26\"], [1.0, \"#f0f921\"]], \"sequentialminus\": [[0.0, \"#0d0887\"], [0.1111111111111111, \"#46039f\"], [0.2222222222222222, \"#7201a8\"], [0.3333333333333333, \"#9c179e\"], [0.4444444444444444, \"#bd3786\"], [0.5555555555555556, \"#d8576b\"], [0.6666666666666666, \"#ed7953\"], [0.7777777777777778, \"#fb9f3a\"], [0.8888888888888888, \"#fdca26\"], [1.0, \"#f0f921\"]]}, \"colorway\": [\"#636efa\", \"#EF553B\", \"#00cc96\", \"#ab63fa\", \"#FFA15A\", \"#19d3f3\", \"#FF6692\", \"#B6E880\", \"#FF97FF\", \"#FECB52\"], \"font\": {\"color\": \"#2a3f5f\"}, \"geo\": {\"bgcolor\": \"white\", \"lakecolor\": \"white\", \"landcolor\": \"#E5ECF6\", \"showlakes\": true, \"showland\": true, \"subunitcolor\": \"white\"}, \"hoverlabel\": {\"align\": \"left\"}, \"hovermode\": \"closest\", \"mapbox\": {\"style\": \"light\"}, \"paper_bgcolor\": \"white\", \"plot_bgcolor\": \"#E5ECF6\", \"polar\": {\"angularaxis\": {\"gridcolor\": \"white\", \"linecolor\": \"white\", \"ticks\": \"\"}, \"bgcolor\": \"#E5ECF6\", \"radialaxis\": {\"gridcolor\": \"white\", \"linecolor\": \"white\", \"ticks\": \"\"}}, \"scene\": {\"xaxis\": {\"backgroundcolor\": \"#E5ECF6\", \"gridcolor\": \"white\", \"gridwidth\": 2, \"linecolor\": \"white\", \"showbackground\": true, \"ticks\": \"\", \"zerolinecolor\": \"white\"}, \"yaxis\": {\"backgroundcolor\": \"#E5ECF6\", \"gridcolor\": \"white\", \"gridwidth\": 2, \"linecolor\": \"white\", \"showbackground\": true, \"ticks\": \"\", \"zerolinecolor\": \"white\"}, \"zaxis\": {\"backgroundcolor\": \"#E5ECF6\", \"gridcolor\": \"white\", \"gridwidth\": 2, \"linecolor\": \"white\", \"showbackground\": true, \"ticks\": \"\", \"zerolinecolor\": \"white\"}}, \"shapedefaults\": {\"line\": {\"color\": \"#2a3f5f\"}}, \"ternary\": {\"aaxis\": {\"gridcolor\": \"white\", \"linecolor\": \"white\", \"ticks\": \"\"}, \"baxis\": {\"gridcolor\": \"white\", \"linecolor\": \"white\", \"ticks\": \"\"}, \"bgcolor\": \"#E5ECF6\", \"caxis\": {\"gridcolor\": \"white\", \"linecolor\": \"white\", \"ticks\": \"\"}}, \"title\": {\"x\": 0.05}, \"xaxis\": {\"automargin\": true, \"gridcolor\": \"white\", \"linecolor\": \"white\", \"ticks\": \"\", \"title\": {\"standoff\": 15}, \"zerolinecolor\": \"white\", \"zerolinewidth\": 2}, \"yaxis\": {\"automargin\": true, \"gridcolor\": \"white\", \"linecolor\": \"white\", \"ticks\": \"\", \"title\": {\"standoff\": 15}, \"zerolinecolor\": \"white\", \"zerolinewidth\": 2}}}, \"title\": {\"text\": \"Hyperparameter Importances\"}, \"xaxis\": {\"title\": {\"text\": \"Importance for Objective Value\"}}, \"yaxis\": {\"title\": {\"text\": \"Hyperparameter\"}}},                        {\"responsive\": true}                    ).then(function(){\n",
       "                            \n",
       "var gd = document.getElementById('ddd833a6-9065-40c0-bfb5-1d99b41a0e13');\n",
       "var x = new MutationObserver(function (mutations, observer) {{\n",
       "        var display = window.getComputedStyle(gd).display;\n",
       "        if (!display || display === 'none') {{\n",
       "            console.log([gd, 'removed!']);\n",
       "            Plotly.purge(gd);\n",
       "            observer.disconnect();\n",
       "        }}\n",
       "}});\n",
       "\n",
       "// Listen for the removal of the full notebook cells\n",
       "var notebookContainer = gd.closest('#notebook-container');\n",
       "if (notebookContainer) {{\n",
       "    x.observe(notebookContainer, {childList: true});\n",
       "}}\n",
       "\n",
       "// Listen for the clearing of the current output cell\n",
       "var outputEl = gd.closest('.output');\n",
       "if (outputEl) {{\n",
       "    x.observe(outputEl, {childList: true});\n",
       "}}\n",
       "\n",
       "                        })                };                });            </script>        </div>"
      ]
     },
     "metadata": {},
     "output_type": "display_data"
    }
   ],
   "source": [
    "optuna.visualization.plot_param_importances(study_gru)"
   ]
  },
  {
   "cell_type": "code",
   "execution_count": 1215,
   "id": "d66b350b",
   "metadata": {},
   "outputs": [
    {
     "name": "stdout",
     "output_type": "stream",
     "text": [
      "Best trial:\n",
      "Validation Loss:  0.00843887496739626\n",
      "{'Look Back': 35, 'Batch Size': 16, 'Hidden Dim': 32, 'N layers': 3, 'Learning Rate': 0.005717693567618212, 'Factor': 0.75}\n",
      "\n",
      "Training Loss:\n",
      "Last Epoch 84 MSE:  0.008820995306773726\n"
     ]
    },
    {
     "data": {
      "image/png": "[encoded data removed]",
      "text/plain": [
       "<Figure size 432x288 with 1 Axes>"
      ]
     },
     "metadata": {
      "needs_background": "light"
     },
     "output_type": "display_data"
    },
    {
     "name": "stdout",
     "output_type": "stream",
     "text": [
      "\n",
      "\n",
      "Model Train Score: 120.79 RMSE\n",
      "Model Validation Score: 120.46 RMSE\n",
      "Model Test Score: 169.43 RMSE\n",
      "\n",
      "\n",
      "Aggregated Score: 131.88 RMSE\n",
      "\n",
      "\n"
     ]
    },
    {
     "data": {
      "image/png": "[encoded data removed]",
      "text/plain": [
       "<Figure size 1080x432 with 1 Axes>"
      ]
     },
     "metadata": {
      "needs_background": "light"
     },
     "output_type": "display_data"
    },
    {
     "data": {
      "image/png": "[encoded data removed]",
      "text/plain": [
       "<Figure size 1080x432 with 1 Axes>"
      ]
     },
     "metadata": {
      "needs_background": "light"
     },
     "output_type": "display_data"
    },
    {
     "data": {
      "image/png": "[encoded data removed]",
      "text/plain": [
       "<Figure size 1080x432 with 1 Axes>"
      ]
     },
     "metadata": {
      "needs_background": "light"
     },
     "output_type": "display_data"
    },
    {
     "name": "stdout",
     "output_type": "stream",
     "text": [
      "[14102.8251953125, 13988.7470703125, 13932.3984375, 13883.07421875, 13853.205078125]\n"
     ]
    }
   ],
   "source": [
    "nasdaq, scaled, scaler1, scaler2  = load_nasdaq()  \n",
    "input_dim = 2\n",
    "study_results(study_gru,'GRU')"
   ]
  },
  {
   "cell_type": "markdown",
   "id": "6f201489",
   "metadata": {},
   "source": [
    "# Prediction with LSTM"
   ]
  },
  {
   "cell_type": "code",
   "execution_count": 1216,
   "id": "57a26710",
   "metadata": {},
   "outputs": [
    {
     "data": {
      "application/vnd.plotly.v1+json": {
       "config": {
        "plotlyServerURL": "https://plot.ly"
       },
       "data": [
        {
         "cliponaxis": false,
         "hovertemplate": [
          "N layers (IntUniformDistribution): 0.007376343223523837<extra></extra>",
          "Look Back (IntUniformDistribution): 0.008892565805057604<extra></extra>",
          "Hidden Dim (CategoricalDistribution): 0.07557092120390618<extra></extra>",
          "Factor (DiscreteUniformDistribution): 0.15658447157247785<extra></extra>",
          "Learning Rate (LogUniformDistribution): 0.20204922314509027<extra></extra>",
          "Batch Size (CategoricalDistribution): 0.5495264750499443<extra></extra>"
         ],
         "marker": {
          "color": "rgb(66,146,198)"
         },
         "orientation": "h",
         "text": [
          "0.007376343223523837",
          "0.008892565805057604",
          "0.07557092120390618",
          "0.15658447157247785",
          "0.20204922314509027",
          "0.5495264750499443"
         ],
         "textposition": "outside",
         "texttemplate": "%{text:.2f}",
         "type": "bar",
         "x": [
          0.007376343223523837,
          0.008892565805057604,
          0.07557092120390618,
          0.15658447157247785,
          0.20204922314509027,
          0.5495264750499443
         ],
         "y": [
          "N layers",
          "Look Back",
          "Hidden Dim",
          "Factor",
          "Learning Rate",
          "Batch Size"
         ]
        }
       ],
       "layout": {
        "showlegend": false,
        "template": {
         "data": {
          "bar": [
           {
            "error_x": {
             "color": "#2a3f5f"
            },
            "error_y": {
             "color": "#2a3f5f"
            },
            "marker": {
             "line": {
              "color": "#E5ECF6",
              "width": 0.5
             }
            },
            "type": "bar"
           }
          ],
          "barpolar": [
           {
            "marker": {
             "line": {
              "color": "#E5ECF6",
              "width": 0.5
             }
            },
            "type": "barpolar"
           }
          ],
          "carpet": [
           {
            "aaxis": {
             "endlinecolor": "#2a3f5f",
             "gridcolor": "white",
             "linecolor": "white",
             "minorgridcolor": "white",
             "startlinecolor": "#2a3f5f"
            },
            "baxis": {
             "endlinecolor": "#2a3f5f",
             "gridcolor": "white",
             "linecolor": "white",
             "minorgridcolor": "white",
             "startlinecolor": "#2a3f5f"
            },
            "type": "carpet"
           }
          ],
          "choropleth": [
           {
            "colorbar": {
             "outlinewidth": 0,
             "ticks": ""
            },
            "type": "choropleth"
           }
          ],
          "contour": [
           {
            "colorbar": {
             "outlinewidth": 0,
             "ticks": ""
            },
            "colorscale": [
             [
              0,
              "#0d0887"
             ],
             [
              0.1111111111111111,
              "#46039f"
             ],
             [
              0.2222222222222222,
              "#7201a8"
             ],
             [
              0.3333333333333333,
              "#9c179e"
             ],
             [
              0.4444444444444444,
              "#bd3786"
             ],
             [
              0.5555555555555556,
              "#d8576b"
             ],
             [
              0.6666666666666666,
              "#ed7953"
             ],
             [
              0.7777777777777778,
              "#fb9f3a"
             ],
             [
              0.8888888888888888,
              "#fdca26"
             ],
             [
              1,
              "#f0f921"
             ]
            ],
            "type": "contour"
           }
          ],
          "contourcarpet": [
           {
            "colorbar": {
             "outlinewidth": 0,
             "ticks": ""
            },
            "type": "contourcarpet"
           }
          ],
          "heatmap": [
           {
            "colorbar": {
             "outlinewidth": 0,
             "ticks": ""
            },
            "colorscale": [
             [
              0,
              "#0d0887"
             ],
             [
              0.1111111111111111,
              "#46039f"
             ],
             [
              0.2222222222222222,
              "#7201a8"
             ],
             [
              0.3333333333333333,
              "#9c179e"
             ],
             [
              0.4444444444444444,
              "#bd3786"
             ],
             [
              0.5555555555555556,
              "#d8576b"
             ],
             [
              0.6666666666666666,
              "#ed7953"
             ],
             [
              0.7777777777777778,
              "#fb9f3a"
             ],
             [
              0.8888888888888888,
              "#fdca26"
             ],
             [
              1,
              "#f0f921"
             ]
            ],
            "type": "heatmap"
           }
          ],
          "heatmapgl": [
           {
            "colorbar": {
             "outlinewidth": 0,
             "ticks": ""
            },
            "colorscale": [
             [
              0,
              "#0d0887"
             ],
             [
              0.1111111111111111,
              "#46039f"
             ],
             [
              0.2222222222222222,
              "#7201a8"
             ],
             [
              0.3333333333333333,
              "#9c179e"
             ],
             [
              0.4444444444444444,
              "#bd3786"
             ],
             [
              0.5555555555555556,
              "#d8576b"
             ],
             [
              0.6666666666666666,
              "#ed7953"
             ],
             [
              0.7777777777777778,
              "#fb9f3a"
             ],
             [
              0.8888888888888888,
              "#fdca26"
             ],
             [
              1,
              "#f0f921"
             ]
            ],
            "type": "heatmapgl"
           }
          ],
          "histogram": [
           {
            "marker": {
             "colorbar": {
              "outlinewidth": 0,
              "ticks": ""
             }
            },
            "type": "histogram"
           }
          ],
          "histogram2d": [
           {
            "colorbar": {
             "outlinewidth": 0,
             "ticks": ""
            },
            "colorscale": [
             [
              0,
              "#0d0887"
             ],
             [
              0.1111111111111111,
              "#46039f"
             ],
             [
              0.2222222222222222,
              "#7201a8"
             ],
             [
              0.3333333333333333,
              "#9c179e"
             ],
             [
              0.4444444444444444,
              "#bd3786"
             ],
             [
              0.5555555555555556,
              "#d8576b"
             ],
             [
              0.6666666666666666,
              "#ed7953"
             ],
             [
              0.7777777777777778,
              "#fb9f3a"
             ],
             [
              0.8888888888888888,
              "#fdca26"
             ],
             [
              1,
              "#f0f921"
             ]
            ],
            "type": "histogram2d"
           }
          ],
          "histogram2dcontour": [
           {
            "colorbar": {
             "outlinewidth": 0,
             "ticks": ""
            },
            "colorscale": [
             [
              0,
              "#0d0887"
             ],
             [
              0.1111111111111111,
              "#46039f"
             ],
             [
              0.2222222222222222,
              "#7201a8"
             ],
             [
              0.3333333333333333,
              "#9c179e"
             ],
             [
              0.4444444444444444,
              "#bd3786"
             ],
             [
              0.5555555555555556,
              "#d8576b"
             ],
             [
              0.6666666666666666,
              "#ed7953"
             ],
             [
              0.7777777777777778,
              "#fb9f3a"
             ],
             [
              0.8888888888888888,
              "#fdca26"
             ],
             [
              1,
              "#f0f921"
             ]
            ],
            "type": "histogram2dcontour"
           }
          ],
          "mesh3d": [
           {
            "colorbar": {
             "outlinewidth": 0,
             "ticks": ""
            },
            "type": "mesh3d"
           }
          ],
          "parcoords": [
           {
            "line": {
             "colorbar": {
              "outlinewidth": 0,
              "ticks": ""
             }
            },
            "type": "parcoords"
           }
          ],
          "pie": [
           {
            "automargin": true,
            "type": "pie"
           }
          ],
          "scatter": [
           {
            "marker": {
             "colorbar": {
              "outlinewidth": 0,
              "ticks": ""
             }
            },
            "type": "scatter"
           }
          ],
          "scatter3d": [
           {
            "line": {
             "colorbar": {
              "outlinewidth": 0,
              "ticks": ""
             }
            },
            "marker": {
             "colorbar": {
              "outlinewidth": 0,
              "ticks": ""
             }
            },
            "type": "scatter3d"
           }
          ],
          "scattercarpet": [
           {
            "marker": {
             "colorbar": {
              "outlinewidth": 0,
              "ticks": ""
             }
            },
            "type": "scattercarpet"
           }
          ],
          "scattergeo": [
           {
            "marker": {
             "colorbar": {
              "outlinewidth": 0,
              "ticks": ""
             }
            },
            "type": "scattergeo"
           }
          ],
          "scattergl": [
           {
            "marker": {
             "colorbar": {
              "outlinewidth": 0,
              "ticks": ""
             }
            },
            "type": "scattergl"
           }
          ],
          "scattermapbox": [
           {
            "marker": {
             "colorbar": {
              "outlinewidth": 0,
              "ticks": ""
             }
            },
            "type": "scattermapbox"
           }
          ],
          "scatterpolar": [
           {
            "marker": {
             "colorbar": {
              "outlinewidth": 0,
              "ticks": ""
             }
            },
            "type": "scatterpolar"
           }
          ],
          "scatterpolargl": [
           {
            "marker": {
             "colorbar": {
              "outlinewidth": 0,
              "ticks": ""
             }
            },
            "type": "scatterpolargl"
           }
          ],
          "scatterternary": [
           {
            "marker": {
             "colorbar": {
              "outlinewidth": 0,
              "ticks": ""
             }
            },
            "type": "scatterternary"
           }
          ],
          "surface": [
           {
            "colorbar": {
             "outlinewidth": 0,
             "ticks": ""
            },
            "colorscale": [
             [
              0,
              "#0d0887"
             ],
             [
              0.1111111111111111,
              "#46039f"
             ],
             [
              0.2222222222222222,
              "#7201a8"
             ],
             [
              0.3333333333333333,
              "#9c179e"
             ],
             [
              0.4444444444444444,
              "#bd3786"
             ],
             [
              0.5555555555555556,
              "#d8576b"
             ],
             [
              0.6666666666666666,
              "#ed7953"
             ],
             [
              0.7777777777777778,
              "#fb9f3a"
             ],
             [
              0.8888888888888888,
              "#fdca26"
             ],
             [
              1,
              "#f0f921"
             ]
            ],
            "type": "surface"
           }
          ],
          "table": [
           {
            "cells": {
             "fill": {
              "color": "#EBF0F8"
             },
             "line": {
              "color": "white"
             }
            },
            "header": {
             "fill": {
              "color": "#C8D4E3"
             },
             "line": {
              "color": "white"
             }
            },
            "type": "table"
           }
          ]
         },
         "layout": {
          "annotationdefaults": {
           "arrowcolor": "#2a3f5f",
           "arrowhead": 0,
           "arrowwidth": 1
          },
          "autotypenumbers": "strict",
          "coloraxis": {
           "colorbar": {
            "outlinewidth": 0,
            "ticks": ""
           }
          },
          "colorscale": {
           "diverging": [
            [
             0,
             "#8e0152"
            ],
            [
             0.1,
             "#c51b7d"
            ],
            [
             0.2,
             "#de77ae"
            ],
            [
             0.3,
             "#f1b6da"
            ],
            [
             0.4,
             "#fde0ef"
            ],
            [
             0.5,
             "#f7f7f7"
            ],
            [
             0.6,
             "#e6f5d0"
            ],
            [
             0.7,
             "#b8e186"
            ],
            [
             0.8,
             "#7fbc41"
            ],
            [
             0.9,
             "#4d9221"
            ],
            [
             1,
             "#276419"
            ]
           ],
           "sequential": [
            [
             0,
             "#0d0887"
            ],
            [
             0.1111111111111111,
             "#46039f"
            ],
            [
             0.2222222222222222,
             "#7201a8"
            ],
            [
             0.3333333333333333,
             "#9c179e"
            ],
            [
             0.4444444444444444,
             "#bd3786"
            ],
            [
             0.5555555555555556,
             "#d8576b"
            ],
            [
             0.6666666666666666,
             "#ed7953"
            ],
            [
             0.7777777777777778,
             "#fb9f3a"
            ],
            [
             0.8888888888888888,
             "#fdca26"
            ],
            [
             1,
             "#f0f921"
            ]
           ],
           "sequentialminus": [
            [
             0,
             "#0d0887"
            ],
            [
             0.1111111111111111,
             "#46039f"
            ],
            [
             0.2222222222222222,
             "#7201a8"
            ],
            [
             0.3333333333333333,
             "#9c179e"
            ],
            [
             0.4444444444444444,
             "#bd3786"
            ],
            [
             0.5555555555555556,
             "#d8576b"
            ],
            [
             0.6666666666666666,
             "#ed7953"
            ],
            [
             0.7777777777777778,
             "#fb9f3a"
            ],
            [
             0.8888888888888888,
             "#fdca26"
            ],
            [
             1,
             "#f0f921"
            ]
           ]
          },
          "colorway": [
           "#636efa",
           "#EF553B",
           "#00cc96",
           "#ab63fa",
           "#FFA15A",
           "#19d3f3",
           "#FF6692",
           "#B6E880",
           "#FF97FF",
           "#FECB52"
          ],
          "font": {
           "color": "#2a3f5f"
          },
          "geo": {
           "bgcolor": "white",
           "lakecolor": "white",
           "landcolor": "#E5ECF6",
           "showlakes": true,
           "showland": true,
           "subunitcolor": "white"
          },
          "hoverlabel": {
           "align": "left"
          },
          "hovermode": "closest",
          "mapbox": {
           "style": "light"
          },
          "paper_bgcolor": "white",
          "plot_bgcolor": "#E5ECF6",
          "polar": {
           "angularaxis": {
            "gridcolor": "white",
            "linecolor": "white",
            "ticks": ""
           },
           "bgcolor": "#E5ECF6",
           "radialaxis": {
            "gridcolor": "white",
            "linecolor": "white",
            "ticks": ""
           }
          },
          "scene": {
           "xaxis": {
            "backgroundcolor": "#E5ECF6",
            "gridcolor": "white",
            "gridwidth": 2,
            "linecolor": "white",
            "showbackground": true,
            "ticks": "",
            "zerolinecolor": "white"
           },
           "yaxis": {
            "backgroundcolor": "#E5ECF6",
            "gridcolor": "white",
            "gridwidth": 2,
            "linecolor": "white",
            "showbackground": true,
            "ticks": "",
            "zerolinecolor": "white"
           },
           "zaxis": {
            "backgroundcolor": "#E5ECF6",
            "gridcolor": "white",
            "gridwidth": 2,
            "linecolor": "white",
            "showbackground": true,
            "ticks": "",
            "zerolinecolor": "white"
           }
          },
          "shapedefaults": {
           "line": {
            "color": "#2a3f5f"
           }
          },
          "ternary": {
           "aaxis": {
            "gridcolor": "white",
            "linecolor": "white",
            "ticks": ""
           },
           "baxis": {
            "gridcolor": "white",
            "linecolor": "white",
            "ticks": ""
           },
           "bgcolor": "#E5ECF6",
           "caxis": {
            "gridcolor": "white",
            "linecolor": "white",
            "ticks": ""
           }
          },
          "title": {
           "x": 0.05
          },
          "xaxis": {
           "automargin": true,
           "gridcolor": "white",
           "linecolor": "white",
           "ticks": "",
           "title": {
            "standoff": 15
           },
           "zerolinecolor": "white",
           "zerolinewidth": 2
          },
          "yaxis": {
           "automargin": true,
           "gridcolor": "white",
           "linecolor": "white",
           "ticks": "",
           "title": {
            "standoff": 15
           },
           "zerolinecolor": "white",
           "zerolinewidth": 2
          }
         }
        },
        "title": {
         "text": "Hyperparameter Importances"
        },
        "xaxis": {
         "title": {
          "text": "Importance for Objective Value"
         }
        },
        "yaxis": {
         "title": {
          "text": "Hyperparameter"
         }
        }
       }
      },
      "text/html": [
       "<div>                            <div id=\"ddec1b6a-f5e2-4141-bb20-14e3b6e82954\" class=\"plotly-graph-div\" style=\"height:525px; width:100%;\"></div>            <script type=\"text/javascript\">                require([\"plotly\"], function(Plotly) {                    window.PLOTLYENV=window.PLOTLYENV || {};                                    if (document.getElementById(\"ddec1b6a-f5e2-4141-bb20-14e3b6e82954\")) {                    Plotly.newPlot(                        \"ddec1b6a-f5e2-4141-bb20-14e3b6e82954\",                        [{\"cliponaxis\": false, \"hovertemplate\": [\"N layers (IntUniformDistribution): 0.007376343223523837<extra></extra>\", \"Look Back (IntUniformDistribution): 0.008892565805057604<extra></extra>\", \"Hidden Dim (CategoricalDistribution): 0.07557092120390618<extra></extra>\", \"Factor (DiscreteUniformDistribution): 0.15658447157247785<extra></extra>\", \"Learning Rate (LogUniformDistribution): 0.20204922314509027<extra></extra>\", \"Batch Size (CategoricalDistribution): 0.5495264750499443<extra></extra>\"], \"marker\": {\"color\": \"rgb(66,146,198)\"}, \"orientation\": \"h\", \"text\": [\"0.007376343223523837\", \"0.008892565805057604\", \"0.07557092120390618\", \"0.15658447157247785\", \"0.20204922314509027\", \"0.5495264750499443\"], \"textposition\": \"outside\", \"texttemplate\": \"%{text:.2f}\", \"type\": \"bar\", \"x\": [0.007376343223523837, 0.008892565805057604, 0.07557092120390618, 0.15658447157247785, 0.20204922314509027, 0.5495264750499443], \"y\": [\"N layers\", \"Look Back\", \"Hidden Dim\", \"Factor\", \"Learning Rate\", \"Batch Size\"]}],                        {\"showlegend\": false, \"template\": {\"data\": {\"bar\": [{\"error_x\": {\"color\": \"#2a3f5f\"}, \"error_y\": {\"color\": \"#2a3f5f\"}, \"marker\": {\"line\": {\"color\": \"#E5ECF6\", \"width\": 0.5}}, \"type\": \"bar\"}], \"barpolar\": [{\"marker\": {\"line\": {\"color\": \"#E5ECF6\", \"width\": 0.5}}, \"type\": \"barpolar\"}], \"carpet\": [{\"aaxis\": {\"endlinecolor\": \"#2a3f5f\", \"gridcolor\": \"white\", \"linecolor\": \"white\", \"minorgridcolor\": \"white\", \"startlinecolor\": \"#2a3f5f\"}, \"baxis\": {\"endlinecolor\": \"#2a3f5f\", \"gridcolor\": \"white\", \"linecolor\": \"white\", \"minorgridcolor\": \"white\", \"startlinecolor\": \"#2a3f5f\"}, \"type\": \"carpet\"}], \"choropleth\": [{\"colorbar\": {\"outlinewidth\": 0, \"ticks\": \"\"}, \"type\": \"choropleth\"}], \"contour\": [{\"colorbar\": {\"outlinewidth\": 0, \"ticks\": \"\"}, \"colorscale\": [[0.0, \"#0d0887\"], [0.1111111111111111, \"#46039f\"], [0.2222222222222222, \"#7201a8\"], [0.3333333333333333, \"#9c179e\"], [0.4444444444444444, \"#bd3786\"], [0.5555555555555556, \"#d8576b\"], [0.6666666666666666, \"#ed7953\"], [0.7777777777777778, \"#fb9f3a\"], [0.8888888888888888, \"#fdca26\"], [1.0, \"#f0f921\"]], \"type\": \"contour\"}], \"contourcarpet\": [{\"colorbar\": {\"outlinewidth\": 0, \"ticks\": \"\"}, \"type\": \"contourcarpet\"}], \"heatmap\": [{\"colorbar\": {\"outlinewidth\": 0, \"ticks\": \"\"}, \"colorscale\": [[0.0, \"#0d0887\"], [0.1111111111111111, \"#46039f\"], [0.2222222222222222, \"#7201a8\"], [0.3333333333333333, \"#9c179e\"], [0.4444444444444444, \"#bd3786\"], [0.5555555555555556, \"#d8576b\"], [0.6666666666666666, \"#ed7953\"], [0.7777777777777778, \"#fb9f3a\"], [0.8888888888888888, \"#fdca26\"], [1.0, \"#f0f921\"]], \"type\": \"heatmap\"}], \"heatmapgl\": [{\"colorbar\": {\"outlinewidth\": 0, \"ticks\": \"\"}, \"colorscale\": [[0.0, \"#0d0887\"], [0.1111111111111111, \"#46039f\"], [0.2222222222222222, \"#7201a8\"], [0.3333333333333333, \"#9c179e\"], [0.4444444444444444, \"#bd3786\"], [0.5555555555555556, \"#d8576b\"], [0.6666666666666666, \"#ed7953\"], [0.7777777777777778, \"#fb9f3a\"], [0.8888888888888888, \"#fdca26\"], [1.0, \"#f0f921\"]], \"type\": \"heatmapgl\"}], \"histogram\": [{\"marker\": {\"colorbar\": {\"outlinewidth\": 0, \"ticks\": \"\"}}, \"type\": \"histogram\"}], \"histogram2d\": [{\"colorbar\": {\"outlinewidth\": 0, \"ticks\": \"\"}, \"colorscale\": [[0.0, \"#0d0887\"], [0.1111111111111111, \"#46039f\"], [0.2222222222222222, \"#7201a8\"], [0.3333333333333333, \"#9c179e\"], [0.4444444444444444, \"#bd3786\"], [0.5555555555555556, \"#d8576b\"], [0.6666666666666666, \"#ed7953\"], [0.7777777777777778, \"#fb9f3a\"], [0.8888888888888888, \"#fdca26\"], [1.0, \"#f0f921\"]], \"type\": \"histogram2d\"}], \"histogram2dcontour\": [{\"colorbar\": {\"outlinewidth\": 0, \"ticks\": \"\"}, \"colorscale\": [[0.0, \"#0d0887\"], [0.1111111111111111, \"#46039f\"], [0.2222222222222222, \"#7201a8\"], [0.3333333333333333, \"#9c179e\"], [0.4444444444444444, \"#bd3786\"], [0.5555555555555556, \"#d8576b\"], [0.6666666666666666, \"#ed7953\"], [0.7777777777777778, \"#fb9f3a\"], [0.8888888888888888, \"#fdca26\"], [1.0, \"#f0f921\"]], \"type\": \"histogram2dcontour\"}], \"mesh3d\": [{\"colorbar\": {\"outlinewidth\": 0, \"ticks\": \"\"}, \"type\": \"mesh3d\"}], \"parcoords\": [{\"line\": {\"colorbar\": {\"outlinewidth\": 0, \"ticks\": \"\"}}, \"type\": \"parcoords\"}], \"pie\": [{\"automargin\": true, \"type\": \"pie\"}], \"scatter\": [{\"marker\": {\"colorbar\": {\"outlinewidth\": 0, \"ticks\": \"\"}}, \"type\": \"scatter\"}], \"scatter3d\": [{\"line\": {\"colorbar\": {\"outlinewidth\": 0, \"ticks\": \"\"}}, \"marker\": {\"colorbar\": {\"outlinewidth\": 0, \"ticks\": \"\"}}, \"type\": \"scatter3d\"}], \"scattercarpet\": [{\"marker\": {\"colorbar\": {\"outlinewidth\": 0, \"ticks\": \"\"}}, \"type\": \"scattercarpet\"}], \"scattergeo\": [{\"marker\": {\"colorbar\": {\"outlinewidth\": 0, \"ticks\": \"\"}}, \"type\": \"scattergeo\"}], \"scattergl\": [{\"marker\": {\"colorbar\": {\"outlinewidth\": 0, \"ticks\": \"\"}}, \"type\": \"scattergl\"}], \"scattermapbox\": [{\"marker\": {\"colorbar\": {\"outlinewidth\": 0, \"ticks\": \"\"}}, \"type\": \"scattermapbox\"}], \"scatterpolar\": [{\"marker\": {\"colorbar\": {\"outlinewidth\": 0, \"ticks\": \"\"}}, \"type\": \"scatterpolar\"}], \"scatterpolargl\": [{\"marker\": {\"colorbar\": {\"outlinewidth\": 0, \"ticks\": \"\"}}, \"type\": \"scatterpolargl\"}], \"scatterternary\": [{\"marker\": {\"colorbar\": {\"outlinewidth\": 0, \"ticks\": \"\"}}, \"type\": \"scatterternary\"}], \"surface\": [{\"colorbar\": {\"outlinewidth\": 0, \"ticks\": \"\"}, \"colorscale\": [[0.0, \"#0d0887\"], [0.1111111111111111, \"#46039f\"], [0.2222222222222222, \"#7201a8\"], [0.3333333333333333, \"#9c179e\"], [0.4444444444444444, \"#bd3786\"], [0.5555555555555556, \"#d8576b\"], [0.6666666666666666, \"#ed7953\"], [0.7777777777777778, \"#fb9f3a\"], [0.8888888888888888, \"#fdca26\"], [1.0, \"#f0f921\"]], \"type\": \"surface\"}], \"table\": [{\"cells\": {\"fill\": {\"color\": \"#EBF0F8\"}, \"line\": {\"color\": \"white\"}}, \"header\": {\"fill\": {\"color\": \"#C8D4E3\"}, \"line\": {\"color\": \"white\"}}, \"type\": \"table\"}]}, \"layout\": {\"annotationdefaults\": {\"arrowcolor\": \"#2a3f5f\", \"arrowhead\": 0, \"arrowwidth\": 1}, \"autotypenumbers\": \"strict\", \"coloraxis\": {\"colorbar\": {\"outlinewidth\": 0, \"ticks\": \"\"}}, \"colorscale\": {\"diverging\": [[0, \"#8e0152\"], [0.1, \"#c51b7d\"], [0.2, \"#de77ae\"], [0.3, \"#f1b6da\"], [0.4, \"#fde0ef\"], [0.5, \"#f7f7f7\"], [0.6, \"#e6f5d0\"], [0.7, \"#b8e186\"], [0.8, \"#7fbc41\"], [0.9, \"#4d9221\"], [1, \"#276419\"]], \"sequential\": [[0.0, \"#0d0887\"], [0.1111111111111111, \"#46039f\"], [0.2222222222222222, \"#7201a8\"], [0.3333333333333333, \"#9c179e\"], [0.4444444444444444, \"#bd3786\"], [0.5555555555555556, \"#d8576b\"], [0.6666666666666666, \"#ed7953\"], [0.7777777777777778, \"#fb9f3a\"], [0.8888888888888888, \"#fdca26\"], [1.0, \"#f0f921\"]], \"sequentialminus\": [[0.0, \"#0d0887\"], [0.1111111111111111, \"#46039f\"], [0.2222222222222222, \"#7201a8\"], [0.3333333333333333, \"#9c179e\"], [0.4444444444444444, \"#bd3786\"], [0.5555555555555556, \"#d8576b\"], [0.6666666666666666, \"#ed7953\"], [0.7777777777777778, \"#fb9f3a\"], [0.8888888888888888, \"#fdca26\"], [1.0, \"#f0f921\"]]}, \"colorway\": [\"#636efa\", \"#EF553B\", \"#00cc96\", \"#ab63fa\", \"#FFA15A\", \"#19d3f3\", \"#FF6692\", \"#B6E880\", \"#FF97FF\", \"#FECB52\"], \"font\": {\"color\": \"#2a3f5f\"}, \"geo\": {\"bgcolor\": \"white\", \"lakecolor\": \"white\", \"landcolor\": \"#E5ECF6\", \"showlakes\": true, \"showland\": true, \"subunitcolor\": \"white\"}, \"hoverlabel\": {\"align\": \"left\"}, \"hovermode\": \"closest\", \"mapbox\": {\"style\": \"light\"}, \"paper_bgcolor\": \"white\", \"plot_bgcolor\": \"#E5ECF6\", \"polar\": {\"angularaxis\": {\"gridcolor\": \"white\", \"linecolor\": \"white\", \"ticks\": \"\"}, \"bgcolor\": \"#E5ECF6\", \"radialaxis\": {\"gridcolor\": \"white\", \"linecolor\": \"white\", \"ticks\": \"\"}}, \"scene\": {\"xaxis\": {\"backgroundcolor\": \"#E5ECF6\", \"gridcolor\": \"white\", \"gridwidth\": 2, \"linecolor\": \"white\", \"showbackground\": true, \"ticks\": \"\", \"zerolinecolor\": \"white\"}, \"yaxis\": {\"backgroundcolor\": \"#E5ECF6\", \"gridcolor\": \"white\", \"gridwidth\": 2, \"linecolor\": \"white\", \"showbackground\": true, \"ticks\": \"\", \"zerolinecolor\": \"white\"}, \"zaxis\": {\"backgroundcolor\": \"#E5ECF6\", \"gridcolor\": \"white\", \"gridwidth\": 2, \"linecolor\": \"white\", \"showbackground\": true, \"ticks\": \"\", \"zerolinecolor\": \"white\"}}, \"shapedefaults\": {\"line\": {\"color\": \"#2a3f5f\"}}, \"ternary\": {\"aaxis\": {\"gridcolor\": \"white\", \"linecolor\": \"white\", \"ticks\": \"\"}, \"baxis\": {\"gridcolor\": \"white\", \"linecolor\": \"white\", \"ticks\": \"\"}, \"bgcolor\": \"#E5ECF6\", \"caxis\": {\"gridcolor\": \"white\", \"linecolor\": \"white\", \"ticks\": \"\"}}, \"title\": {\"x\": 0.05}, \"xaxis\": {\"automargin\": true, \"gridcolor\": \"white\", \"linecolor\": \"white\", \"ticks\": \"\", \"title\": {\"standoff\": 15}, \"zerolinecolor\": \"white\", \"zerolinewidth\": 2}, \"yaxis\": {\"automargin\": true, \"gridcolor\": \"white\", \"linecolor\": \"white\", \"ticks\": \"\", \"title\": {\"standoff\": 15}, \"zerolinecolor\": \"white\", \"zerolinewidth\": 2}}}, \"title\": {\"text\": \"Hyperparameter Importances\"}, \"xaxis\": {\"title\": {\"text\": \"Importance for Objective Value\"}}, \"yaxis\": {\"title\": {\"text\": \"Hyperparameter\"}}},                        {\"responsive\": true}                    ).then(function(){\n",
       "                            \n",
       "var gd = document.getElementById('ddec1b6a-f5e2-4141-bb20-14e3b6e82954');\n",
       "var x = new MutationObserver(function (mutations, observer) {{\n",
       "        var display = window.getComputedStyle(gd).display;\n",
       "        if (!display || display === 'none') {{\n",
       "            console.log([gd, 'removed!']);\n",
       "            Plotly.purge(gd);\n",
       "            observer.disconnect();\n",
       "        }}\n",
       "}});\n",
       "\n",
       "// Listen for the removal of the full notebook cells\n",
       "var notebookContainer = gd.closest('#notebook-container');\n",
       "if (notebookContainer) {{\n",
       "    x.observe(notebookContainer, {childList: true});\n",
       "}}\n",
       "\n",
       "// Listen for the clearing of the current output cell\n",
       "var outputEl = gd.closest('.output');\n",
       "if (outputEl) {{\n",
       "    x.observe(outputEl, {childList: true});\n",
       "}}\n",
       "\n",
       "                        })                };                });            </script>        </div>"
      ]
     },
     "metadata": {},
     "output_type": "display_data"
    }
   ],
   "source": [
    "optuna.visualization.plot_param_importances(study_lstm)"
   ]
  },
  {
   "cell_type": "code",
   "execution_count": 1217,
   "id": "b17ee1ff",
   "metadata": {},
   "outputs": [
    {
     "name": "stdout",
     "output_type": "stream",
     "text": [
      "Best trial:\n",
      "Validation Loss:  0.00860828347504139\n",
      "{'Look Back': 40, 'Batch Size': 8, 'Hidden Dim': 64, 'N layers': 2, 'Learning Rate': 0.0031859923602114257, 'Factor': 0.55}\n",
      "\n",
      "Training Loss:\n",
      "Last Epoch 42 MSE:  0.009897887951881642\n"
     ]
    },
    {
     "data": {
      "image/png": "[encoded data removed]",
      "text/plain": [
       "<Figure size 432x288 with 1 Axes>"
      ]
     },
     "metadata": {
      "needs_background": "light"
     },
     "output_type": "display_data"
    },
    {
     "name": "stdout",
     "output_type": "stream",
     "text": [
      "\n",
      "\n",
      "Model Train Score: 126.58 RMSE\n",
      "Model Validation Score: 124.63 RMSE\n",
      "Model Test Score: 150.54 RMSE\n",
      "\n",
      "\n",
      "Aggregated Score: 131.33 RMSE\n",
      "\n",
      "\n"
     ]
    },
    {
     "data": {
      "image/png": "[encoded data removed]",
      "text/plain": [
       "<Figure size 1080x432 with 1 Axes>"
      ]
     },
     "metadata": {
      "needs_background": "light"
     },
     "output_type": "display_data"
    },
    {
     "data": {
      "image/png": "[encoded data removed]",
      "text/plain": [
       "<Figure size 1080x432 with 1 Axes>"
      ]
     },
     "metadata": {
      "needs_background": "light"
     },
     "output_type": "display_data"
    },
    {
     "data": {
      "image/png": "[encoded data removed]",
      "text/plain": [
       "<Figure size 1080x432 with 1 Axes>"
      ]
     },
     "metadata": {
      "needs_background": "light"
     },
     "output_type": "display_data"
    },
    {
     "name": "stdout",
     "output_type": "stream",
     "text": [
      "[14082.365234375, 13874.50390625, 13742.419921875, 13671.357421875, 13660.126953125]\n"
     ]
    }
   ],
   "source": [
    "nasdaq, scaled, scaler1, scaler2  = load_nasdaq()  \n",
    "input_dim = 2\n",
    "study_results(study_lstm,'LSTM')"
   ]
  },
  {
   "cell_type": "markdown",
   "id": "90faea34",
   "metadata": {},
   "source": [
    "# Prediction with GRU without Fed Data"
   ]
  },
  {
   "cell_type": "code",
   "execution_count": 1218,
   "id": "9ec1edfc",
   "metadata": {},
   "outputs": [
    {
     "data": {
      "application/vnd.plotly.v1+json": {
       "config": {
        "plotlyServerURL": "https://plot.ly"
       },
       "data": [
        {
         "cliponaxis": false,
         "hovertemplate": [
          "N layers (IntUniformDistribution): 0.010705950991389025<extra></extra>",
          "Hidden Dim (CategoricalDistribution): 0.013132630282041206<extra></extra>",
          "Batch Size (CategoricalDistribution): 0.03259663875979532<extra></extra>",
          "Look Back (IntUniformDistribution): 0.11092974941550557<extra></extra>",
          "Factor (DiscreteUniformDistribution): 0.1346922252641687<extra></extra>",
          "Learning Rate (LogUniformDistribution): 0.6979428052871002<extra></extra>"
         ],
         "marker": {
          "color": "rgb(66,146,198)"
         },
         "orientation": "h",
         "text": [
          "0.010705950991389025",
          "0.013132630282041206",
          "0.03259663875979532",
          "0.11092974941550557",
          "0.1346922252641687",
          "0.6979428052871002"
         ],
         "textposition": "outside",
         "texttemplate": "%{text:.2f}",
         "type": "bar",
         "x": [
          0.010705950991389025,
          0.013132630282041206,
          0.03259663875979532,
          0.11092974941550557,
          0.1346922252641687,
          0.6979428052871002
         ],
         "y": [
          "N layers",
          "Hidden Dim",
          "Batch Size",
          "Look Back",
          "Factor",
          "Learning Rate"
         ]
        }
       ],
       "layout": {
        "showlegend": false,
        "template": {
         "data": {
          "bar": [
           {
            "error_x": {
             "color": "#2a3f5f"
            },
            "error_y": {
             "color": "#2a3f5f"
            },
            "marker": {
             "line": {
              "color": "#E5ECF6",
              "width": 0.5
             }
            },
            "type": "bar"
           }
          ],
          "barpolar": [
           {
            "marker": {
             "line": {
              "color": "#E5ECF6",
              "width": 0.5
             }
            },
            "type": "barpolar"
           }
          ],
          "carpet": [
           {
            "aaxis": {
             "endlinecolor": "#2a3f5f",
             "gridcolor": "white",
             "linecolor": "white",
             "minorgridcolor": "white",
             "startlinecolor": "#2a3f5f"
            },
            "baxis": {
             "endlinecolor": "#2a3f5f",
             "gridcolor": "white",
             "linecolor": "white",
             "minorgridcolor": "white",
             "startlinecolor": "#2a3f5f"
            },
            "type": "carpet"
           }
          ],
          "choropleth": [
           {
            "colorbar": {
             "outlinewidth": 0,
             "ticks": ""
            },
            "type": "choropleth"
           }
          ],
          "contour": [
           {
            "colorbar": {
             "outlinewidth": 0,
             "ticks": ""
            },
            "colorscale": [
             [
              0,
              "#0d0887"
             ],
             [
              0.1111111111111111,
              "#46039f"
             ],
             [
              0.2222222222222222,
              "#7201a8"
             ],
             [
              0.3333333333333333,
              "#9c179e"
             ],
             [
              0.4444444444444444,
              "#bd3786"
             ],
             [
              0.5555555555555556,
              "#d8576b"
             ],
             [
              0.6666666666666666,
              "#ed7953"
             ],
             [
              0.7777777777777778,
              "#fb9f3a"
             ],
             [
              0.8888888888888888,
              "#fdca26"
             ],
             [
              1,
              "#f0f921"
             ]
            ],
            "type": "contour"
           }
          ],
          "contourcarpet": [
           {
            "colorbar": {
             "outlinewidth": 0,
             "ticks": ""
            },
            "type": "contourcarpet"
           }
          ],
          "heatmap": [
           {
            "colorbar": {
             "outlinewidth": 0,
             "ticks": ""
            },
            "colorscale": [
             [
              0,
              "#0d0887"
             ],
             [
              0.1111111111111111,
              "#46039f"
             ],
             [
              0.2222222222222222,
              "#7201a8"
             ],
             [
              0.3333333333333333,
              "#9c179e"
             ],
             [
              0.4444444444444444,
              "#bd3786"
             ],
             [
              0.5555555555555556,
              "#d8576b"
             ],
             [
              0.6666666666666666,
              "#ed7953"
             ],
             [
              0.7777777777777778,
              "#fb9f3a"
             ],
             [
              0.8888888888888888,
              "#fdca26"
             ],
             [
              1,
              "#f0f921"
             ]
            ],
            "type": "heatmap"
           }
          ],
          "heatmapgl": [
           {
            "colorbar": {
             "outlinewidth": 0,
             "ticks": ""
            },
            "colorscale": [
             [
              0,
              "#0d0887"
             ],
             [
              0.1111111111111111,
              "#46039f"
             ],
             [
              0.2222222222222222,
              "#7201a8"
             ],
             [
              0.3333333333333333,
              "#9c179e"
             ],
             [
              0.4444444444444444,
              "#bd3786"
             ],
             [
              0.5555555555555556,
              "#d8576b"
             ],
             [
              0.6666666666666666,
              "#ed7953"
             ],
             [
              0.7777777777777778,
              "#fb9f3a"
             ],
             [
              0.8888888888888888,
              "#fdca26"
             ],
             [
              1,
              "#f0f921"
             ]
            ],
            "type": "heatmapgl"
           }
          ],
          "histogram": [
           {
            "marker": {
             "colorbar": {
              "outlinewidth": 0,
              "ticks": ""
             }
            },
            "type": "histogram"
           }
          ],
          "histogram2d": [
           {
            "colorbar": {
             "outlinewidth": 0,
             "ticks": ""
            },
            "colorscale": [
             [
              0,
              "#0d0887"
             ],
             [
              0.1111111111111111,
              "#46039f"
             ],
             [
              0.2222222222222222,
              "#7201a8"
             ],
             [
              0.3333333333333333,
              "#9c179e"
             ],
             [
              0.4444444444444444,
              "#bd3786"
             ],
             [
              0.5555555555555556,
              "#d8576b"
             ],
             [
              0.6666666666666666,
              "#ed7953"
             ],
             [
              0.7777777777777778,
              "#fb9f3a"
             ],
             [
              0.8888888888888888,
              "#fdca26"
             ],
             [
              1,
              "#f0f921"
             ]
            ],
            "type": "histogram2d"
           }
          ],
          "histogram2dcontour": [
           {
            "colorbar": {
             "outlinewidth": 0,
             "ticks": ""
            },
            "colorscale": [
             [
              0,
              "#0d0887"
             ],
             [
              0.1111111111111111,
              "#46039f"
             ],
             [
              0.2222222222222222,
              "#7201a8"
             ],
             [
              0.3333333333333333,
              "#9c179e"
             ],
             [
              0.4444444444444444,
              "#bd3786"
             ],
             [
              0.5555555555555556,
              "#d8576b"
             ],
             [
              0.6666666666666666,
              "#ed7953"
             ],
             [
              0.7777777777777778,
              "#fb9f3a"
             ],
             [
              0.8888888888888888,
              "#fdca26"
             ],
             [
              1,
              "#f0f921"
             ]
            ],
            "type": "histogram2dcontour"
           }
          ],
          "mesh3d": [
           {
            "colorbar": {
             "outlinewidth": 0,
             "ticks": ""
            },
            "type": "mesh3d"
           }
          ],
          "parcoords": [
           {
            "line": {
             "colorbar": {
              "outlinewidth": 0,
              "ticks": ""
             }
            },
            "type": "parcoords"
           }
          ],
          "pie": [
           {
            "automargin": true,
            "type": "pie"
           }
          ],
          "scatter": [
           {
            "marker": {
             "colorbar": {
              "outlinewidth": 0,
              "ticks": ""
             }
            },
            "type": "scatter"
           }
          ],
          "scatter3d": [
           {
            "line": {
             "colorbar": {
              "outlinewidth": 0,
              "ticks": ""
             }
            },
            "marker": {
             "colorbar": {
              "outlinewidth": 0,
              "ticks": ""
             }
            },
            "type": "scatter3d"
           }
          ],
          "scattercarpet": [
           {
            "marker": {
             "colorbar": {
              "outlinewidth": 0,
              "ticks": ""
             }
            },
            "type": "scattercarpet"
           }
          ],
          "scattergeo": [
           {
            "marker": {
             "colorbar": {
              "outlinewidth": 0,
              "ticks": ""
             }
            },
            "type": "scattergeo"
           }
          ],
          "scattergl": [
           {
            "marker": {
             "colorbar": {
              "outlinewidth": 0,
              "ticks": ""
             }
            },
            "type": "scattergl"
           }
          ],
          "scattermapbox": [
           {
            "marker": {
             "colorbar": {
              "outlinewidth": 0,
              "ticks": ""
             }
            },
            "type": "scattermapbox"
           }
          ],
          "scatterpolar": [
           {
            "marker": {
             "colorbar": {
              "outlinewidth": 0,
              "ticks": ""
             }
            },
            "type": "scatterpolar"
           }
          ],
          "scatterpolargl": [
           {
            "marker": {
             "colorbar": {
              "outlinewidth": 0,
              "ticks": ""
             }
            },
            "type": "scatterpolargl"
           }
          ],
          "scatterternary": [
           {
            "marker": {
             "colorbar": {
              "outlinewidth": 0,
              "ticks": ""
             }
            },
            "type": "scatterternary"
           }
          ],
          "surface": [
           {
            "colorbar": {
             "outlinewidth": 0,
             "ticks": ""
            },
            "colorscale": [
             [
              0,
              "#0d0887"
             ],
             [
              0.1111111111111111,
              "#46039f"
             ],
             [
              0.2222222222222222,
              "#7201a8"
             ],
             [
              0.3333333333333333,
              "#9c179e"
             ],
             [
              0.4444444444444444,
              "#bd3786"
             ],
             [
              0.5555555555555556,
              "#d8576b"
             ],
             [
              0.6666666666666666,
              "#ed7953"
             ],
             [
              0.7777777777777778,
              "#fb9f3a"
             ],
             [
              0.8888888888888888,
              "#fdca26"
             ],
             [
              1,
              "#f0f921"
             ]
            ],
            "type": "surface"
           }
          ],
          "table": [
           {
            "cells": {
             "fill": {
              "color": "#EBF0F8"
             },
             "line": {
              "color": "white"
             }
            },
            "header": {
             "fill": {
              "color": "#C8D4E3"
             },
             "line": {
              "color": "white"
             }
            },
            "type": "table"
           }
          ]
         },
         "layout": {
          "annotationdefaults": {
           "arrowcolor": "#2a3f5f",
           "arrowhead": 0,
           "arrowwidth": 1
          },
          "autotypenumbers": "strict",
          "coloraxis": {
           "colorbar": {
            "outlinewidth": 0,
            "ticks": ""
           }
          },
          "colorscale": {
           "diverging": [
            [
             0,
             "#8e0152"
            ],
            [
             0.1,
             "#c51b7d"
            ],
            [
             0.2,
             "#de77ae"
            ],
            [
             0.3,
             "#f1b6da"
            ],
            [
             0.4,
             "#fde0ef"
            ],
            [
             0.5,
             "#f7f7f7"
            ],
            [
             0.6,
             "#e6f5d0"
            ],
            [
             0.7,
             "#b8e186"
            ],
            [
             0.8,
             "#7fbc41"
            ],
            [
             0.9,
             "#4d9221"
            ],
            [
             1,
             "#276419"
            ]
           ],
           "sequential": [
            [
             0,
             "#0d0887"
            ],
            [
             0.1111111111111111,
             "#46039f"
            ],
            [
             0.2222222222222222,
             "#7201a8"
            ],
            [
             0.3333333333333333,
             "#9c179e"
            ],
            [
             0.4444444444444444,
             "#bd3786"
            ],
            [
             0.5555555555555556,
             "#d8576b"
            ],
            [
             0.6666666666666666,
             "#ed7953"
            ],
            [
             0.7777777777777778,
             "#fb9f3a"
            ],
            [
             0.8888888888888888,
             "#fdca26"
            ],
            [
             1,
             "#f0f921"
            ]
           ],
           "sequentialminus": [
            [
             0,
             "#0d0887"
            ],
            [
             0.1111111111111111,
             "#46039f"
            ],
            [
             0.2222222222222222,
             "#7201a8"
            ],
            [
             0.3333333333333333,
             "#9c179e"
            ],
            [
             0.4444444444444444,
             "#bd3786"
            ],
            [
             0.5555555555555556,
             "#d8576b"
            ],
            [
             0.6666666666666666,
             "#ed7953"
            ],
            [
             0.7777777777777778,
             "#fb9f3a"
            ],
            [
             0.8888888888888888,
             "#fdca26"
            ],
            [
             1,
             "#f0f921"
            ]
           ]
          },
          "colorway": [
           "#636efa",
           "#EF553B",
           "#00cc96",
           "#ab63fa",
           "#FFA15A",
           "#19d3f3",
           "#FF6692",
           "#B6E880",
           "#FF97FF",
           "#FECB52"
          ],
          "font": {
           "color": "#2a3f5f"
          },
          "geo": {
           "bgcolor": "white",
           "lakecolor": "white",
           "landcolor": "#E5ECF6",
           "showlakes": true,
           "showland": true,
           "subunitcolor": "white"
          },
          "hoverlabel": {
           "align": "left"
          },
          "hovermode": "closest",
          "mapbox": {
           "style": "light"
          },
          "paper_bgcolor": "white",
          "plot_bgcolor": "#E5ECF6",
          "polar": {
           "angularaxis": {
            "gridcolor": "white",
            "linecolor": "white",
            "ticks": ""
           },
           "bgcolor": "#E5ECF6",
           "radialaxis": {
            "gridcolor": "white",
            "linecolor": "white",
            "ticks": ""
           }
          },
          "scene": {
           "xaxis": {
            "backgroundcolor": "#E5ECF6",
            "gridcolor": "white",
            "gridwidth": 2,
            "linecolor": "white",
            "showbackground": true,
            "ticks": "",
            "zerolinecolor": "white"
           },
           "yaxis": {
            "backgroundcolor": "#E5ECF6",
            "gridcolor": "white",
            "gridwidth": 2,
            "linecolor": "white",
            "showbackground": true,
            "ticks": "",
            "zerolinecolor": "white"
           },
           "zaxis": {
            "backgroundcolor": "#E5ECF6",
            "gridcolor": "white",
            "gridwidth": 2,
            "linecolor": "white",
            "showbackground": true,
            "ticks": "",
            "zerolinecolor": "white"
           }
          },
          "shapedefaults": {
           "line": {
            "color": "#2a3f5f"
           }
          },
          "ternary": {
           "aaxis": {
            "gridcolor": "white",
            "linecolor": "white",
            "ticks": ""
           },
           "baxis": {
            "gridcolor": "white",
            "linecolor": "white",
            "ticks": ""
           },
           "bgcolor": "#E5ECF6",
           "caxis": {
            "gridcolor": "white",
            "linecolor": "white",
            "ticks": ""
           }
          },
          "title": {
           "x": 0.05
          },
          "xaxis": {
           "automargin": true,
           "gridcolor": "white",
           "linecolor": "white",
           "ticks": "",
           "title": {
            "standoff": 15
           },
           "zerolinecolor": "white",
           "zerolinewidth": 2
          },
          "yaxis": {
           "automargin": true,
           "gridcolor": "white",
           "linecolor": "white",
           "ticks": "",
           "title": {
            "standoff": 15
           },
           "zerolinecolor": "white",
           "zerolinewidth": 2
          }
         }
        },
        "title": {
         "text": "Hyperparameter Importances"
        },
        "xaxis": {
         "title": {
          "text": "Importance for Objective Value"
         }
        },
        "yaxis": {
         "title": {
          "text": "Hyperparameter"
         }
        }
       }
      },
      "text/html": [
       "<div>                            <div id=\"f018a371-c0e5-42d2-80a9-2d3bd1bcb1e6\" class=\"plotly-graph-div\" style=\"height:525px; width:100%;\"></div>            <script type=\"text/javascript\">                require([\"plotly\"], function(Plotly) {                    window.PLOTLYENV=window.PLOTLYENV || {};                                    if (document.getElementById(\"f018a371-c0e5-42d2-80a9-2d3bd1bcb1e6\")) {                    Plotly.newPlot(                        \"f018a371-c0e5-42d2-80a9-2d3bd1bcb1e6\",                        [{\"cliponaxis\": false, \"hovertemplate\": [\"N layers (IntUniformDistribution): 0.010705950991389025<extra></extra>\", \"Hidden Dim (CategoricalDistribution): 0.013132630282041206<extra></extra>\", \"Batch Size (CategoricalDistribution): 0.03259663875979532<extra></extra>\", \"Look Back (IntUniformDistribution): 0.11092974941550557<extra></extra>\", \"Factor (DiscreteUniformDistribution): 0.1346922252641687<extra></extra>\", \"Learning Rate (LogUniformDistribution): 0.6979428052871002<extra></extra>\"], \"marker\": {\"color\": \"rgb(66,146,198)\"}, \"orientation\": \"h\", \"text\": [\"0.010705950991389025\", \"0.013132630282041206\", \"0.03259663875979532\", \"0.11092974941550557\", \"0.1346922252641687\", \"0.6979428052871002\"], \"textposition\": \"outside\", \"texttemplate\": \"%{text:.2f}\", \"type\": \"bar\", \"x\": [0.010705950991389025, 0.013132630282041206, 0.03259663875979532, 0.11092974941550557, 0.1346922252641687, 0.6979428052871002], \"y\": [\"N layers\", \"Hidden Dim\", \"Batch Size\", \"Look Back\", \"Factor\", \"Learning Rate\"]}],                        {\"showlegend\": false, \"template\": {\"data\": {\"bar\": [{\"error_x\": {\"color\": \"#2a3f5f\"}, \"error_y\": {\"color\": \"#2a3f5f\"}, \"marker\": {\"line\": {\"color\": \"#E5ECF6\", \"width\": 0.5}}, \"type\": \"bar\"}], \"barpolar\": [{\"marker\": {\"line\": {\"color\": \"#E5ECF6\", \"width\": 0.5}}, \"type\": \"barpolar\"}], \"carpet\": [{\"aaxis\": {\"endlinecolor\": \"#2a3f5f\", \"gridcolor\": \"white\", \"linecolor\": \"white\", \"minorgridcolor\": \"white\", \"startlinecolor\": \"#2a3f5f\"}, \"baxis\": {\"endlinecolor\": \"#2a3f5f\", \"gridcolor\": \"white\", \"linecolor\": \"white\", \"minorgridcolor\": \"white\", \"startlinecolor\": \"#2a3f5f\"}, \"type\": \"carpet\"}], \"choropleth\": [{\"colorbar\": {\"outlinewidth\": 0, \"ticks\": \"\"}, \"type\": \"choropleth\"}], \"contour\": [{\"colorbar\": {\"outlinewidth\": 0, \"ticks\": \"\"}, \"colorscale\": [[0.0, \"#0d0887\"], [0.1111111111111111, \"#46039f\"], [0.2222222222222222, \"#7201a8\"], [0.3333333333333333, \"#9c179e\"], [0.4444444444444444, \"#bd3786\"], [0.5555555555555556, \"#d8576b\"], [0.6666666666666666, \"#ed7953\"], [0.7777777777777778, \"#fb9f3a\"], [0.8888888888888888, \"#fdca26\"], [1.0, \"#f0f921\"]], \"type\": \"contour\"}], \"contourcarpet\": [{\"colorbar\": {\"outlinewidth\": 0, \"ticks\": \"\"}, \"type\": \"contourcarpet\"}], \"heatmap\": [{\"colorbar\": {\"outlinewidth\": 0, \"ticks\": \"\"}, \"colorscale\": [[0.0, \"#0d0887\"], [0.1111111111111111, \"#46039f\"], [0.2222222222222222, \"#7201a8\"], [0.3333333333333333, \"#9c179e\"], [0.4444444444444444, \"#bd3786\"], [0.5555555555555556, \"#d8576b\"], [0.6666666666666666, \"#ed7953\"], [0.7777777777777778, \"#fb9f3a\"], [0.8888888888888888, \"#fdca26\"], [1.0, \"#f0f921\"]], \"type\": \"heatmap\"}], \"heatmapgl\": [{\"colorbar\": {\"outlinewidth\": 0, \"ticks\": \"\"}, \"colorscale\": [[0.0, \"#0d0887\"], [0.1111111111111111, \"#46039f\"], [0.2222222222222222, \"#7201a8\"], [0.3333333333333333, \"#9c179e\"], [0.4444444444444444, \"#bd3786\"], [0.5555555555555556, \"#d8576b\"], [0.6666666666666666, \"#ed7953\"], [0.7777777777777778, \"#fb9f3a\"], [0.8888888888888888, \"#fdca26\"], [1.0, \"#f0f921\"]], \"type\": \"heatmapgl\"}], \"histogram\": [{\"marker\": {\"colorbar\": {\"outlinewidth\": 0, \"ticks\": \"\"}}, \"type\": \"histogram\"}], \"histogram2d\": [{\"colorbar\": {\"outlinewidth\": 0, \"ticks\": \"\"}, \"colorscale\": [[0.0, \"#0d0887\"], [0.1111111111111111, \"#46039f\"], [0.2222222222222222, \"#7201a8\"], [0.3333333333333333, \"#9c179e\"], [0.4444444444444444, \"#bd3786\"], [0.5555555555555556, \"#d8576b\"], [0.6666666666666666, \"#ed7953\"], [0.7777777777777778, \"#fb9f3a\"], [0.8888888888888888, \"#fdca26\"], [1.0, \"#f0f921\"]], \"type\": \"histogram2d\"}], \"histogram2dcontour\": [{\"colorbar\": {\"outlinewidth\": 0, \"ticks\": \"\"}, \"colorscale\": [[0.0, \"#0d0887\"], [0.1111111111111111, \"#46039f\"], [0.2222222222222222, \"#7201a8\"], [0.3333333333333333, \"#9c179e\"], [0.4444444444444444, \"#bd3786\"], [0.5555555555555556, \"#d8576b\"], [0.6666666666666666, \"#ed7953\"], [0.7777777777777778, \"#fb9f3a\"], [0.8888888888888888, \"#fdca26\"], [1.0, \"#f0f921\"]], \"type\": \"histogram2dcontour\"}], \"mesh3d\": [{\"colorbar\": {\"outlinewidth\": 0, \"ticks\": \"\"}, \"type\": \"mesh3d\"}], \"parcoords\": [{\"line\": {\"colorbar\": {\"outlinewidth\": 0, \"ticks\": \"\"}}, \"type\": \"parcoords\"}], \"pie\": [{\"automargin\": true, \"type\": \"pie\"}], \"scatter\": [{\"marker\": {\"colorbar\": {\"outlinewidth\": 0, \"ticks\": \"\"}}, \"type\": \"scatter\"}], \"scatter3d\": [{\"line\": {\"colorbar\": {\"outlinewidth\": 0, \"ticks\": \"\"}}, \"marker\": {\"colorbar\": {\"outlinewidth\": 0, \"ticks\": \"\"}}, \"type\": \"scatter3d\"}], \"scattercarpet\": [{\"marker\": {\"colorbar\": {\"outlinewidth\": 0, \"ticks\": \"\"}}, \"type\": \"scattercarpet\"}], \"scattergeo\": [{\"marker\": {\"colorbar\": {\"outlinewidth\": 0, \"ticks\": \"\"}}, \"type\": \"scattergeo\"}], \"scattergl\": [{\"marker\": {\"colorbar\": {\"outlinewidth\": 0, \"ticks\": \"\"}}, \"type\": \"scattergl\"}], \"scattermapbox\": [{\"marker\": {\"colorbar\": {\"outlinewidth\": 0, \"ticks\": \"\"}}, \"type\": \"scattermapbox\"}], \"scatterpolar\": [{\"marker\": {\"colorbar\": {\"outlinewidth\": 0, \"ticks\": \"\"}}, \"type\": \"scatterpolar\"}], \"scatterpolargl\": [{\"marker\": {\"colorbar\": {\"outlinewidth\": 0, \"ticks\": \"\"}}, \"type\": \"scatterpolargl\"}], \"scatterternary\": [{\"marker\": {\"colorbar\": {\"outlinewidth\": 0, \"ticks\": \"\"}}, \"type\": \"scatterternary\"}], \"surface\": [{\"colorbar\": {\"outlinewidth\": 0, \"ticks\": \"\"}, \"colorscale\": [[0.0, \"#0d0887\"], [0.1111111111111111, \"#46039f\"], [0.2222222222222222, \"#7201a8\"], [0.3333333333333333, \"#9c179e\"], [0.4444444444444444, \"#bd3786\"], [0.5555555555555556, \"#d8576b\"], [0.6666666666666666, \"#ed7953\"], [0.7777777777777778, \"#fb9f3a\"], [0.8888888888888888, \"#fdca26\"], [1.0, \"#f0f921\"]], \"type\": \"surface\"}], \"table\": [{\"cells\": {\"fill\": {\"color\": \"#EBF0F8\"}, \"line\": {\"color\": \"white\"}}, \"header\": {\"fill\": {\"color\": \"#C8D4E3\"}, \"line\": {\"color\": \"white\"}}, \"type\": \"table\"}]}, \"layout\": {\"annotationdefaults\": {\"arrowcolor\": \"#2a3f5f\", \"arrowhead\": 0, \"arrowwidth\": 1}, \"autotypenumbers\": \"strict\", \"coloraxis\": {\"colorbar\": {\"outlinewidth\": 0, \"ticks\": \"\"}}, \"colorscale\": {\"diverging\": [[0, \"#8e0152\"], [0.1, \"#c51b7d\"], [0.2, \"#de77ae\"], [0.3, \"#f1b6da\"], [0.4, \"#fde0ef\"], [0.5, \"#f7f7f7\"], [0.6, \"#e6f5d0\"], [0.7, \"#b8e186\"], [0.8, \"#7fbc41\"], [0.9, \"#4d9221\"], [1, \"#276419\"]], \"sequential\": [[0.0, \"#0d0887\"], [0.1111111111111111, \"#46039f\"], [0.2222222222222222, \"#7201a8\"], [0.3333333333333333, \"#9c179e\"], [0.4444444444444444, \"#bd3786\"], [0.5555555555555556, \"#d8576b\"], [0.6666666666666666, \"#ed7953\"], [0.7777777777777778, \"#fb9f3a\"], [0.8888888888888888, \"#fdca26\"], [1.0, \"#f0f921\"]], \"sequentialminus\": [[0.0, \"#0d0887\"], [0.1111111111111111, \"#46039f\"], [0.2222222222222222, \"#7201a8\"], [0.3333333333333333, \"#9c179e\"], [0.4444444444444444, \"#bd3786\"], [0.5555555555555556, \"#d8576b\"], [0.6666666666666666, \"#ed7953\"], [0.7777777777777778, \"#fb9f3a\"], [0.8888888888888888, \"#fdca26\"], [1.0, \"#f0f921\"]]}, \"colorway\": [\"#636efa\", \"#EF553B\", \"#00cc96\", \"#ab63fa\", \"#FFA15A\", \"#19d3f3\", \"#FF6692\", \"#B6E880\", \"#FF97FF\", \"#FECB52\"], \"font\": {\"color\": \"#2a3f5f\"}, \"geo\": {\"bgcolor\": \"white\", \"lakecolor\": \"white\", \"landcolor\": \"#E5ECF6\", \"showlakes\": true, \"showland\": true, \"subunitcolor\": \"white\"}, \"hoverlabel\": {\"align\": \"left\"}, \"hovermode\": \"closest\", \"mapbox\": {\"style\": \"light\"}, \"paper_bgcolor\": \"white\", \"plot_bgcolor\": \"#E5ECF6\", \"polar\": {\"angularaxis\": {\"gridcolor\": \"white\", \"linecolor\": \"white\", \"ticks\": \"\"}, \"bgcolor\": \"#E5ECF6\", \"radialaxis\": {\"gridcolor\": \"white\", \"linecolor\": \"white\", \"ticks\": \"\"}}, \"scene\": {\"xaxis\": {\"backgroundcolor\": \"#E5ECF6\", \"gridcolor\": \"white\", \"gridwidth\": 2, \"linecolor\": \"white\", \"showbackground\": true, \"ticks\": \"\", \"zerolinecolor\": \"white\"}, \"yaxis\": {\"backgroundcolor\": \"#E5ECF6\", \"gridcolor\": \"white\", \"gridwidth\": 2, \"linecolor\": \"white\", \"showbackground\": true, \"ticks\": \"\", \"zerolinecolor\": \"white\"}, \"zaxis\": {\"backgroundcolor\": \"#E5ECF6\", \"gridcolor\": \"white\", \"gridwidth\": 2, \"linecolor\": \"white\", \"showbackground\": true, \"ticks\": \"\", \"zerolinecolor\": \"white\"}}, \"shapedefaults\": {\"line\": {\"color\": \"#2a3f5f\"}}, \"ternary\": {\"aaxis\": {\"gridcolor\": \"white\", \"linecolor\": \"white\", \"ticks\": \"\"}, \"baxis\": {\"gridcolor\": \"white\", \"linecolor\": \"white\", \"ticks\": \"\"}, \"bgcolor\": \"#E5ECF6\", \"caxis\": {\"gridcolor\": \"white\", \"linecolor\": \"white\", \"ticks\": \"\"}}, \"title\": {\"x\": 0.05}, \"xaxis\": {\"automargin\": true, \"gridcolor\": \"white\", \"linecolor\": \"white\", \"ticks\": \"\", \"title\": {\"standoff\": 15}, \"zerolinecolor\": \"white\", \"zerolinewidth\": 2}, \"yaxis\": {\"automargin\": true, \"gridcolor\": \"white\", \"linecolor\": \"white\", \"ticks\": \"\", \"title\": {\"standoff\": 15}, \"zerolinecolor\": \"white\", \"zerolinewidth\": 2}}}, \"title\": {\"text\": \"Hyperparameter Importances\"}, \"xaxis\": {\"title\": {\"text\": \"Importance for Objective Value\"}}, \"yaxis\": {\"title\": {\"text\": \"Hyperparameter\"}}},                        {\"responsive\": true}                    ).then(function(){\n",
       "                            \n",
       "var gd = document.getElementById('f018a371-c0e5-42d2-80a9-2d3bd1bcb1e6');\n",
       "var x = new MutationObserver(function (mutations, observer) {{\n",
       "        var display = window.getComputedStyle(gd).display;\n",
       "        if (!display || display === 'none') {{\n",
       "            console.log([gd, 'removed!']);\n",
       "            Plotly.purge(gd);\n",
       "            observer.disconnect();\n",
       "        }}\n",
       "}});\n",
       "\n",
       "// Listen for the removal of the full notebook cells\n",
       "var notebookContainer = gd.closest('#notebook-container');\n",
       "if (notebookContainer) {{\n",
       "    x.observe(notebookContainer, {childList: true});\n",
       "}}\n",
       "\n",
       "// Listen for the clearing of the current output cell\n",
       "var outputEl = gd.closest('.output');\n",
       "if (outputEl) {{\n",
       "    x.observe(outputEl, {childList: true});\n",
       "}}\n",
       "\n",
       "                        })                };                });            </script>        </div>"
      ]
     },
     "metadata": {},
     "output_type": "display_data"
    }
   ],
   "source": [
    "optuna.visualization.plot_param_importances(study_gru_no_fed)"
   ]
  },
  {
   "cell_type": "code",
   "execution_count": 1219,
   "id": "1cea7d9b",
   "metadata": {},
   "outputs": [
    {
     "name": "stdout",
     "output_type": "stream",
     "text": [
      "Best trial:\n",
      "Validation Loss:  0.008528511971235275\n",
      "{'Look Back': 35, 'Batch Size': 8, 'Hidden Dim': 256, 'N layers': 1, 'Learning Rate': 0.009169062994878229, 'Factor': 0.55}\n",
      "\n",
      "Training Loss:\n",
      "Last Epoch 41 MSE:  0.008922838843808178\n"
     ]
    },
    {
     "data": {
      "image/png": "[encoded data removed]",
      "text/plain": [
       "<Figure size 432x288 with 1 Axes>"
      ]
     },
     "metadata": {
      "needs_background": "light"
     },
     "output_type": "display_data"
    },
    {
     "name": "stdout",
     "output_type": "stream",
     "text": [
      "\n",
      "\n",
      "Model Train Score: 121.63 RMSE\n",
      "Model Validation Score: 121.74 RMSE\n",
      "Model Test Score: 172.82 RMSE\n",
      "\n",
      "\n",
      "Aggregated Score: 133.44 RMSE\n",
      "\n",
      "\n"
     ]
    },
    {
     "data": {
      "image/png": "[encoded data removed]",
      "text/plain": [
       "<Figure size 1080x432 with 1 Axes>"
      ]
     },
     "metadata": {
      "needs_background": "light"
     },
     "output_type": "display_data"
    },
    {
     "data": {
      "image/png": "[encoded data removed]",
      "text/plain": [
       "<Figure size 1080x432 with 1 Axes>"
      ]
     },
     "metadata": {
      "needs_background": "light"
     },
     "output_type": "display_data"
    },
    {
     "data": {
      "image/png": "[encoded data removed]",
      "text/plain": [
       "<Figure size 1080x432 with 1 Axes>"
      ]
     },
     "metadata": {
      "needs_background": "light"
     },
     "output_type": "display_data"
    },
    {
     "name": "stdout",
     "output_type": "stream",
     "text": [
      "[14275.2490234375, 14293.6474609375, 14313.763671875, 14336.02734375, 14360.4609375]\n"
     ]
    }
   ],
   "source": [
    "nasdaq, scaled, scaler1, scaler2  = load_nasdaq(use_fed_data = False)\n",
    "input_dim = 1\n",
    "study_results(study_gru_no_fed,'GRU')"
   ]
  },
  {
   "cell_type": "markdown",
   "id": "95913c16",
   "metadata": {},
   "source": [
    "# Prediction with LSTM without Fed Data"
   ]
  },
  {
   "cell_type": "code",
   "execution_count": 1220,
   "id": "688c48ed",
   "metadata": {},
   "outputs": [
    {
     "data": {
      "application/vnd.plotly.v1+json": {
       "config": {
        "plotlyServerURL": "https://plot.ly"
       },
       "data": [
        {
         "cliponaxis": false,
         "hovertemplate": [
          "Batch Size (CategoricalDistribution): 0.00011803666488181296<extra></extra>",
          "Hidden Dim (CategoricalDistribution): 0.023692969956948206<extra></extra>",
          "Look Back (IntUniformDistribution): 0.051510770483100266<extra></extra>",
          "N layers (IntUniformDistribution): 0.10427873473832518<extra></extra>",
          "Factor (DiscreteUniformDistribution): 0.197140650280834<extra></extra>",
          "Learning Rate (LogUniformDistribution): 0.6232588378759106<extra></extra>"
         ],
         "marker": {
          "color": "rgb(66,146,198)"
         },
         "orientation": "h",
         "text": [
          "0.00011803666488181296",
          "0.023692969956948206",
          "0.051510770483100266",
          "0.10427873473832518",
          "0.197140650280834",
          "0.6232588378759106"
         ],
         "textposition": "outside",
         "texttemplate": "%{text:.2f}",
         "type": "bar",
         "x": [
          0.00011803666488181296,
          0.023692969956948206,
          0.051510770483100266,
          0.10427873473832518,
          0.197140650280834,
          0.6232588378759106
         ],
         "y": [
          "Batch Size",
          "Hidden Dim",
          "Look Back",
          "N layers",
          "Factor",
          "Learning Rate"
         ]
        }
       ],
       "layout": {
        "showlegend": false,
        "template": {
         "data": {
          "bar": [
           {
            "error_x": {
             "color": "#2a3f5f"
            },
            "error_y": {
             "color": "#2a3f5f"
            },
            "marker": {
             "line": {
              "color": "#E5ECF6",
              "width": 0.5
             }
            },
            "type": "bar"
           }
          ],
          "barpolar": [
           {
            "marker": {
             "line": {
              "color": "#E5ECF6",
              "width": 0.5
             }
            },
            "type": "barpolar"
           }
          ],
          "carpet": [
           {
            "aaxis": {
             "endlinecolor": "#2a3f5f",
             "gridcolor": "white",
             "linecolor": "white",
             "minorgridcolor": "white",
             "startlinecolor": "#2a3f5f"
            },
            "baxis": {
             "endlinecolor": "#2a3f5f",
             "gridcolor": "white",
             "linecolor": "white",
             "minorgridcolor": "white",
             "startlinecolor": "#2a3f5f"
            },
            "type": "carpet"
           }
          ],
          "choropleth": [
           {
            "colorbar": {
             "outlinewidth": 0,
             "ticks": ""
            },
            "type": "choropleth"
           }
          ],
          "contour": [
           {
            "colorbar": {
             "outlinewidth": 0,
             "ticks": ""
            },
            "colorscale": [
             [
              0,
              "#0d0887"
             ],
             [
              0.1111111111111111,
              "#46039f"
             ],
             [
              0.2222222222222222,
              "#7201a8"
             ],
             [
              0.3333333333333333,
              "#9c179e"
             ],
             [
              0.4444444444444444,
              "#bd3786"
             ],
             [
              0.5555555555555556,
              "#d8576b"
             ],
             [
              0.6666666666666666,
              "#ed7953"
             ],
             [
              0.7777777777777778,
              "#fb9f3a"
             ],
             [
              0.8888888888888888,
              "#fdca26"
             ],
             [
              1,
              "#f0f921"
             ]
            ],
            "type": "contour"
           }
          ],
          "contourcarpet": [
           {
            "colorbar": {
             "outlinewidth": 0,
             "ticks": ""
            },
            "type": "contourcarpet"
           }
          ],
          "heatmap": [
           {
            "colorbar": {
             "outlinewidth": 0,
             "ticks": ""
            },
            "colorscale": [
             [
              0,
              "#0d0887"
             ],
             [
              0.1111111111111111,
              "#46039f"
             ],
             [
              0.2222222222222222,
              "#7201a8"
             ],
             [
              0.3333333333333333,
              "#9c179e"
             ],
             [
              0.4444444444444444,
              "#bd3786"
             ],
             [
              0.5555555555555556,
              "#d8576b"
             ],
             [
              0.6666666666666666,
              "#ed7953"
             ],
             [
              0.7777777777777778,
              "#fb9f3a"
             ],
             [
              0.8888888888888888,
              "#fdca26"
             ],
             [
              1,
              "#f0f921"
             ]
            ],
            "type": "heatmap"
           }
          ],
          "heatmapgl": [
           {
            "colorbar": {
             "outlinewidth": 0,
             "ticks": ""
            },
            "colorscale": [
             [
              0,
              "#0d0887"
             ],
             [
              0.1111111111111111,
              "#46039f"
             ],
             [
              0.2222222222222222,
              "#7201a8"
             ],
             [
              0.3333333333333333,
              "#9c179e"
             ],
             [
              0.4444444444444444,
              "#bd3786"
             ],
             [
              0.5555555555555556,
              "#d8576b"
             ],
             [
              0.6666666666666666,
              "#ed7953"
             ],
             [
              0.7777777777777778,
              "#fb9f3a"
             ],
             [
              0.8888888888888888,
              "#fdca26"
             ],
             [
              1,
              "#f0f921"
             ]
            ],
            "type": "heatmapgl"
           }
          ],
          "histogram": [
           {
            "marker": {
             "colorbar": {
              "outlinewidth": 0,
              "ticks": ""
             }
            },
            "type": "histogram"
           }
          ],
          "histogram2d": [
           {
            "colorbar": {
             "outlinewidth": 0,
             "ticks": ""
            },
            "colorscale": [
             [
              0,
              "#0d0887"
             ],
             [
              0.1111111111111111,
              "#46039f"
             ],
             [
              0.2222222222222222,
              "#7201a8"
             ],
             [
              0.3333333333333333,
              "#9c179e"
             ],
             [
              0.4444444444444444,
              "#bd3786"
             ],
             [
              0.5555555555555556,
              "#d8576b"
             ],
             [
              0.6666666666666666,
              "#ed7953"
             ],
             [
              0.7777777777777778,
              "#fb9f3a"
             ],
             [
              0.8888888888888888,
              "#fdca26"
             ],
             [
              1,
              "#f0f921"
             ]
            ],
            "type": "histogram2d"
           }
          ],
          "histogram2dcontour": [
           {
            "colorbar": {
             "outlinewidth": 0,
             "ticks": ""
            },
            "colorscale": [
             [
              0,
              "#0d0887"
             ],
             [
              0.1111111111111111,
              "#46039f"
             ],
             [
              0.2222222222222222,
              "#7201a8"
             ],
             [
              0.3333333333333333,
              "#9c179e"
             ],
             [
              0.4444444444444444,
              "#bd3786"
             ],
             [
              0.5555555555555556,
              "#d8576b"
             ],
             [
              0.6666666666666666,
              "#ed7953"
             ],
             [
              0.7777777777777778,
              "#fb9f3a"
             ],
             [
              0.8888888888888888,
              "#fdca26"
             ],
             [
              1,
              "#f0f921"
             ]
            ],
            "type": "histogram2dcontour"
           }
          ],
          "mesh3d": [
           {
            "colorbar": {
             "outlinewidth": 0,
             "ticks": ""
            },
            "type": "mesh3d"
           }
          ],
          "parcoords": [
           {
            "line": {
             "colorbar": {
              "outlinewidth": 0,
              "ticks": ""
             }
            },
            "type": "parcoords"
           }
          ],
          "pie": [
           {
            "automargin": true,
            "type": "pie"
           }
          ],
          "scatter": [
           {
            "marker": {
             "colorbar": {
              "outlinewidth": 0,
              "ticks": ""
             }
            },
            "type": "scatter"
           }
          ],
          "scatter3d": [
           {
            "line": {
             "colorbar": {
              "outlinewidth": 0,
              "ticks": ""
             }
            },
            "marker": {
             "colorbar": {
              "outlinewidth": 0,
              "ticks": ""
             }
            },
            "type": "scatter3d"
           }
          ],
          "scattercarpet": [
           {
            "marker": {
             "colorbar": {
              "outlinewidth": 0,
              "ticks": ""
             }
            },
            "type": "scattercarpet"
           }
          ],
          "scattergeo": [
           {
            "marker": {
             "colorbar": {
              "outlinewidth": 0,
              "ticks": ""
             }
            },
            "type": "scattergeo"
           }
          ],
          "scattergl": [
           {
            "marker": {
             "colorbar": {
              "outlinewidth": 0,
              "ticks": ""
             }
            },
            "type": "scattergl"
           }
          ],
          "scattermapbox": [
           {
            "marker": {
             "colorbar": {
              "outlinewidth": 0,
              "ticks": ""
             }
            },
            "type": "scattermapbox"
           }
          ],
          "scatterpolar": [
           {
            "marker": {
             "colorbar": {
              "outlinewidth": 0,
              "ticks": ""
             }
            },
            "type": "scatterpolar"
           }
          ],
          "scatterpolargl": [
           {
            "marker": {
             "colorbar": {
              "outlinewidth": 0,
              "ticks": ""
             }
            },
            "type": "scatterpolargl"
           }
          ],
          "scatterternary": [
           {
            "marker": {
             "colorbar": {
              "outlinewidth": 0,
              "ticks": ""
             }
            },
            "type": "scatterternary"
           }
          ],
          "surface": [
           {
            "colorbar": {
             "outlinewidth": 0,
             "ticks": ""
            },
            "colorscale": [
             [
              0,
              "#0d0887"
             ],
             [
              0.1111111111111111,
              "#46039f"
             ],
             [
              0.2222222222222222,
              "#7201a8"
             ],
             [
              0.3333333333333333,
              "#9c179e"
             ],
             [
              0.4444444444444444,
              "#bd3786"
             ],
             [
              0.5555555555555556,
              "#d8576b"
             ],
             [
              0.6666666666666666,
              "#ed7953"
             ],
             [
              0.7777777777777778,
              "#fb9f3a"
             ],
             [
              0.8888888888888888,
              "#fdca26"
             ],
             [
              1,
              "#f0f921"
             ]
            ],
            "type": "surface"
           }
          ],
          "table": [
           {
            "cells": {
             "fill": {
              "color": "#EBF0F8"
             },
             "line": {
              "color": "white"
             }
            },
            "header": {
             "fill": {
              "color": "#C8D4E3"
             },
             "line": {
              "color": "white"
             }
            },
            "type": "table"
           }
          ]
         },
         "layout": {
          "annotationdefaults": {
           "arrowcolor": "#2a3f5f",
           "arrowhead": 0,
           "arrowwidth": 1
          },
          "autotypenumbers": "strict",
          "coloraxis": {
           "colorbar": {
            "outlinewidth": 0,
            "ticks": ""
           }
          },
          "colorscale": {
           "diverging": [
            [
             0,
             "#8e0152"
            ],
            [
             0.1,
             "#c51b7d"
            ],
            [
             0.2,
             "#de77ae"
            ],
            [
             0.3,
             "#f1b6da"
            ],
            [
             0.4,
             "#fde0ef"
            ],
            [
             0.5,
             "#f7f7f7"
            ],
            [
             0.6,
             "#e6f5d0"
            ],
            [
             0.7,
             "#b8e186"
            ],
            [
             0.8,
             "#7fbc41"
            ],
            [
             0.9,
             "#4d9221"
            ],
            [
             1,
             "#276419"
            ]
           ],
           "sequential": [
            [
             0,
             "#0d0887"
            ],
            [
             0.1111111111111111,
             "#46039f"
            ],
            [
             0.2222222222222222,
             "#7201a8"
            ],
            [
             0.3333333333333333,
             "#9c179e"
            ],
            [
             0.4444444444444444,
             "#bd3786"
            ],
            [
             0.5555555555555556,
             "#d8576b"
            ],
            [
             0.6666666666666666,
             "#ed7953"
            ],
            [
             0.7777777777777778,
             "#fb9f3a"
            ],
            [
             0.8888888888888888,
             "#fdca26"
            ],
            [
             1,
             "#f0f921"
            ]
           ],
           "sequentialminus": [
            [
             0,
             "#0d0887"
            ],
            [
             0.1111111111111111,
             "#46039f"
            ],
            [
             0.2222222222222222,
             "#7201a8"
            ],
            [
             0.3333333333333333,
             "#9c179e"
            ],
            [
             0.4444444444444444,
             "#bd3786"
            ],
            [
             0.5555555555555556,
             "#d8576b"
            ],
            [
             0.6666666666666666,
             "#ed7953"
            ],
            [
             0.7777777777777778,
             "#fb9f3a"
            ],
            [
             0.8888888888888888,
             "#fdca26"
            ],
            [
             1,
             "#f0f921"
            ]
           ]
          },
          "colorway": [
           "#636efa",
           "#EF553B",
           "#00cc96",
           "#ab63fa",
           "#FFA15A",
           "#19d3f3",
           "#FF6692",
           "#B6E880",
           "#FF97FF",
           "#FECB52"
          ],
          "font": {
           "color": "#2a3f5f"
          },
          "geo": {
           "bgcolor": "white",
           "lakecolor": "white",
           "landcolor": "#E5ECF6",
           "showlakes": true,
           "showland": true,
           "subunitcolor": "white"
          },
          "hoverlabel": {
           "align": "left"
          },
          "hovermode": "closest",
          "mapbox": {
           "style": "light"
          },
          "paper_bgcolor": "white",
          "plot_bgcolor": "#E5ECF6",
          "polar": {
           "angularaxis": {
            "gridcolor": "white",
            "linecolor": "white",
            "ticks": ""
           },
           "bgcolor": "#E5ECF6",
           "radialaxis": {
            "gridcolor": "white",
            "linecolor": "white",
            "ticks": ""
           }
          },
          "scene": {
           "xaxis": {
            "backgroundcolor": "#E5ECF6",
            "gridcolor": "white",
            "gridwidth": 2,
            "linecolor": "white",
            "showbackground": true,
            "ticks": "",
            "zerolinecolor": "white"
           },
           "yaxis": {
            "backgroundcolor": "#E5ECF6",
            "gridcolor": "white",
            "gridwidth": 2,
            "linecolor": "white",
            "showbackground": true,
            "ticks": "",
            "zerolinecolor": "white"
           },
           "zaxis": {
            "backgroundcolor": "#E5ECF6",
            "gridcolor": "white",
            "gridwidth": 2,
            "linecolor": "white",
            "showbackground": true,
            "ticks": "",
            "zerolinecolor": "white"
           }
          },
          "shapedefaults": {
           "line": {
            "color": "#2a3f5f"
           }
          },
          "ternary": {
           "aaxis": {
            "gridcolor": "white",
            "linecolor": "white",
            "ticks": ""
           },
           "baxis": {
            "gridcolor": "white",
            "linecolor": "white",
            "ticks": ""
           },
           "bgcolor": "#E5ECF6",
           "caxis": {
            "gridcolor": "white",
            "linecolor": "white",
            "ticks": ""
           }
          },
          "title": {
           "x": 0.05
          },
          "xaxis": {
           "automargin": true,
           "gridcolor": "white",
           "linecolor": "white",
           "ticks": "",
           "title": {
            "standoff": 15
           },
           "zerolinecolor": "white",
           "zerolinewidth": 2
          },
          "yaxis": {
           "automargin": true,
           "gridcolor": "white",
           "linecolor": "white",
           "ticks": "",
           "title": {
            "standoff": 15
           },
           "zerolinecolor": "white",
           "zerolinewidth": 2
          }
         }
        },
        "title": {
         "text": "Hyperparameter Importances"
        },
        "xaxis": {
         "title": {
          "text": "Importance for Objective Value"
         }
        },
        "yaxis": {
         "title": {
          "text": "Hyperparameter"
         }
        }
       }
      },
      "text/html": [
       "<div>                            <div id=\"831d86a6-bc63-4f09-925e-cedc99f22774\" class=\"plotly-graph-div\" style=\"height:525px; width:100%;\"></div>            <script type=\"text/javascript\">                require([\"plotly\"], function(Plotly) {                    window.PLOTLYENV=window.PLOTLYENV || {};                                    if (document.getElementById(\"831d86a6-bc63-4f09-925e-cedc99f22774\")) {                    Plotly.newPlot(                        \"831d86a6-bc63-4f09-925e-cedc99f22774\",                        [{\"cliponaxis\": false, \"hovertemplate\": [\"Batch Size (CategoricalDistribution): 0.00011803666488181296<extra></extra>\", \"Hidden Dim (CategoricalDistribution): 0.023692969956948206<extra></extra>\", \"Look Back (IntUniformDistribution): 0.051510770483100266<extra></extra>\", \"N layers (IntUniformDistribution): 0.10427873473832518<extra></extra>\", \"Factor (DiscreteUniformDistribution): 0.197140650280834<extra></extra>\", \"Learning Rate (LogUniformDistribution): 0.6232588378759106<extra></extra>\"], \"marker\": {\"color\": \"rgb(66,146,198)\"}, \"orientation\": \"h\", \"text\": [\"0.00011803666488181296\", \"0.023692969956948206\", \"0.051510770483100266\", \"0.10427873473832518\", \"0.197140650280834\", \"0.6232588378759106\"], \"textposition\": \"outside\", \"texttemplate\": \"%{text:.2f}\", \"type\": \"bar\", \"x\": [0.00011803666488181296, 0.023692969956948206, 0.051510770483100266, 0.10427873473832518, 0.197140650280834, 0.6232588378759106], \"y\": [\"Batch Size\", \"Hidden Dim\", \"Look Back\", \"N layers\", \"Factor\", \"Learning Rate\"]}],                        {\"showlegend\": false, \"template\": {\"data\": {\"bar\": [{\"error_x\": {\"color\": \"#2a3f5f\"}, \"error_y\": {\"color\": \"#2a3f5f\"}, \"marker\": {\"line\": {\"color\": \"#E5ECF6\", \"width\": 0.5}}, \"type\": \"bar\"}], \"barpolar\": [{\"marker\": {\"line\": {\"color\": \"#E5ECF6\", \"width\": 0.5}}, \"type\": \"barpolar\"}], \"carpet\": [{\"aaxis\": {\"endlinecolor\": \"#2a3f5f\", \"gridcolor\": \"white\", \"linecolor\": \"white\", \"minorgridcolor\": \"white\", \"startlinecolor\": \"#2a3f5f\"}, \"baxis\": {\"endlinecolor\": \"#2a3f5f\", \"gridcolor\": \"white\", \"linecolor\": \"white\", \"minorgridcolor\": \"white\", \"startlinecolor\": \"#2a3f5f\"}, \"type\": \"carpet\"}], \"choropleth\": [{\"colorbar\": {\"outlinewidth\": 0, \"ticks\": \"\"}, \"type\": \"choropleth\"}], \"contour\": [{\"colorbar\": {\"outlinewidth\": 0, \"ticks\": \"\"}, \"colorscale\": [[0.0, \"#0d0887\"], [0.1111111111111111, \"#46039f\"], [0.2222222222222222, \"#7201a8\"], [0.3333333333333333, \"#9c179e\"], [0.4444444444444444, \"#bd3786\"], [0.5555555555555556, \"#d8576b\"], [0.6666666666666666, \"#ed7953\"], [0.7777777777777778, \"#fb9f3a\"], [0.8888888888888888, \"#fdca26\"], [1.0, \"#f0f921\"]], \"type\": \"contour\"}], \"contourcarpet\": [{\"colorbar\": {\"outlinewidth\": 0, \"ticks\": \"\"}, \"type\": \"contourcarpet\"}], \"heatmap\": [{\"colorbar\": {\"outlinewidth\": 0, \"ticks\": \"\"}, \"colorscale\": [[0.0, \"#0d0887\"], [0.1111111111111111, \"#46039f\"], [0.2222222222222222, \"#7201a8\"], [0.3333333333333333, \"#9c179e\"], [0.4444444444444444, \"#bd3786\"], [0.5555555555555556, \"#d8576b\"], [0.6666666666666666, \"#ed7953\"], [0.7777777777777778, \"#fb9f3a\"], [0.8888888888888888, \"#fdca26\"], [1.0, \"#f0f921\"]], \"type\": \"heatmap\"}], \"heatmapgl\": [{\"colorbar\": {\"outlinewidth\": 0, \"ticks\": \"\"}, \"colorscale\": [[0.0, \"#0d0887\"], [0.1111111111111111, \"#46039f\"], [0.2222222222222222, \"#7201a8\"], [0.3333333333333333, \"#9c179e\"], [0.4444444444444444, \"#bd3786\"], [0.5555555555555556, \"#d8576b\"], [0.6666666666666666, \"#ed7953\"], [0.7777777777777778, \"#fb9f3a\"], [0.8888888888888888, \"#fdca26\"], [1.0, \"#f0f921\"]], \"type\": \"heatmapgl\"}], \"histogram\": [{\"marker\": {\"colorbar\": {\"outlinewidth\": 0, \"ticks\": \"\"}}, \"type\": \"histogram\"}], \"histogram2d\": [{\"colorbar\": {\"outlinewidth\": 0, \"ticks\": \"\"}, \"colorscale\": [[0.0, \"#0d0887\"], [0.1111111111111111, \"#46039f\"], [0.2222222222222222, \"#7201a8\"], [0.3333333333333333, \"#9c179e\"], [0.4444444444444444, \"#bd3786\"], [0.5555555555555556, \"#d8576b\"], [0.6666666666666666, \"#ed7953\"], [0.7777777777777778, \"#fb9f3a\"], [0.8888888888888888, \"#fdca26\"], [1.0, \"#f0f921\"]], \"type\": \"histogram2d\"}], \"histogram2dcontour\": [{\"colorbar\": {\"outlinewidth\": 0, \"ticks\": \"\"}, \"colorscale\": [[0.0, \"#0d0887\"], [0.1111111111111111, \"#46039f\"], [0.2222222222222222, \"#7201a8\"], [0.3333333333333333, \"#9c179e\"], [0.4444444444444444, \"#bd3786\"], [0.5555555555555556, \"#d8576b\"], [0.6666666666666666, \"#ed7953\"], [0.7777777777777778, \"#fb9f3a\"], [0.8888888888888888, \"#fdca26\"], [1.0, \"#f0f921\"]], \"type\": \"histogram2dcontour\"}], \"mesh3d\": [{\"colorbar\": {\"outlinewidth\": 0, \"ticks\": \"\"}, \"type\": \"mesh3d\"}], \"parcoords\": [{\"line\": {\"colorbar\": {\"outlinewidth\": 0, \"ticks\": \"\"}}, \"type\": \"parcoords\"}], \"pie\": [{\"automargin\": true, \"type\": \"pie\"}], \"scatter\": [{\"marker\": {\"colorbar\": {\"outlinewidth\": 0, \"ticks\": \"\"}}, \"type\": \"scatter\"}], \"scatter3d\": [{\"line\": {\"colorbar\": {\"outlinewidth\": 0, \"ticks\": \"\"}}, \"marker\": {\"colorbar\": {\"outlinewidth\": 0, \"ticks\": \"\"}}, \"type\": \"scatter3d\"}], \"scattercarpet\": [{\"marker\": {\"colorbar\": {\"outlinewidth\": 0, \"ticks\": \"\"}}, \"type\": \"scattercarpet\"}], \"scattergeo\": [{\"marker\": {\"colorbar\": {\"outlinewidth\": 0, \"ticks\": \"\"}}, \"type\": \"scattergeo\"}], \"scattergl\": [{\"marker\": {\"colorbar\": {\"outlinewidth\": 0, \"ticks\": \"\"}}, \"type\": \"scattergl\"}], \"scattermapbox\": [{\"marker\": {\"colorbar\": {\"outlinewidth\": 0, \"ticks\": \"\"}}, \"type\": \"scattermapbox\"}], \"scatterpolar\": [{\"marker\": {\"colorbar\": {\"outlinewidth\": 0, \"ticks\": \"\"}}, \"type\": \"scatterpolar\"}], \"scatterpolargl\": [{\"marker\": {\"colorbar\": {\"outlinewidth\": 0, \"ticks\": \"\"}}, \"type\": \"scatterpolargl\"}], \"scatterternary\": [{\"marker\": {\"colorbar\": {\"outlinewidth\": 0, \"ticks\": \"\"}}, \"type\": \"scatterternary\"}], \"surface\": [{\"colorbar\": {\"outlinewidth\": 0, \"ticks\": \"\"}, \"colorscale\": [[0.0, \"#0d0887\"], [0.1111111111111111, \"#46039f\"], [0.2222222222222222, \"#7201a8\"], [0.3333333333333333, \"#9c179e\"], [0.4444444444444444, \"#bd3786\"], [0.5555555555555556, \"#d8576b\"], [0.6666666666666666, \"#ed7953\"], [0.7777777777777778, \"#fb9f3a\"], [0.8888888888888888, \"#fdca26\"], [1.0, \"#f0f921\"]], \"type\": \"surface\"}], \"table\": [{\"cells\": {\"fill\": {\"color\": \"#EBF0F8\"}, \"line\": {\"color\": \"white\"}}, \"header\": {\"fill\": {\"color\": \"#C8D4E3\"}, \"line\": {\"color\": \"white\"}}, \"type\": \"table\"}]}, \"layout\": {\"annotationdefaults\": {\"arrowcolor\": \"#2a3f5f\", \"arrowhead\": 0, \"arrowwidth\": 1}, \"autotypenumbers\": \"strict\", \"coloraxis\": {\"colorbar\": {\"outlinewidth\": 0, \"ticks\": \"\"}}, \"colorscale\": {\"diverging\": [[0, \"#8e0152\"], [0.1, \"#c51b7d\"], [0.2, \"#de77ae\"], [0.3, \"#f1b6da\"], [0.4, \"#fde0ef\"], [0.5, \"#f7f7f7\"], [0.6, \"#e6f5d0\"], [0.7, \"#b8e186\"], [0.8, \"#7fbc41\"], [0.9, \"#4d9221\"], [1, \"#276419\"]], \"sequential\": [[0.0, \"#0d0887\"], [0.1111111111111111, \"#46039f\"], [0.2222222222222222, \"#7201a8\"], [0.3333333333333333, \"#9c179e\"], [0.4444444444444444, \"#bd3786\"], [0.5555555555555556, \"#d8576b\"], [0.6666666666666666, \"#ed7953\"], [0.7777777777777778, \"#fb9f3a\"], [0.8888888888888888, \"#fdca26\"], [1.0, \"#f0f921\"]], \"sequentialminus\": [[0.0, \"#0d0887\"], [0.1111111111111111, \"#46039f\"], [0.2222222222222222, \"#7201a8\"], [0.3333333333333333, \"#9c179e\"], [0.4444444444444444, \"#bd3786\"], [0.5555555555555556, \"#d8576b\"], [0.6666666666666666, \"#ed7953\"], [0.7777777777777778, \"#fb9f3a\"], [0.8888888888888888, \"#fdca26\"], [1.0, \"#f0f921\"]]}, \"colorway\": [\"#636efa\", \"#EF553B\", \"#00cc96\", \"#ab63fa\", \"#FFA15A\", \"#19d3f3\", \"#FF6692\", \"#B6E880\", \"#FF97FF\", \"#FECB52\"], \"font\": {\"color\": \"#2a3f5f\"}, \"geo\": {\"bgcolor\": \"white\", \"lakecolor\": \"white\", \"landcolor\": \"#E5ECF6\", \"showlakes\": true, \"showland\": true, \"subunitcolor\": \"white\"}, \"hoverlabel\": {\"align\": \"left\"}, \"hovermode\": \"closest\", \"mapbox\": {\"style\": \"light\"}, \"paper_bgcolor\": \"white\", \"plot_bgcolor\": \"#E5ECF6\", \"polar\": {\"angularaxis\": {\"gridcolor\": \"white\", \"linecolor\": \"white\", \"ticks\": \"\"}, \"bgcolor\": \"#E5ECF6\", \"radialaxis\": {\"gridcolor\": \"white\", \"linecolor\": \"white\", \"ticks\": \"\"}}, \"scene\": {\"xaxis\": {\"backgroundcolor\": \"#E5ECF6\", \"gridcolor\": \"white\", \"gridwidth\": 2, \"linecolor\": \"white\", \"showbackground\": true, \"ticks\": \"\", \"zerolinecolor\": \"white\"}, \"yaxis\": {\"backgroundcolor\": \"#E5ECF6\", \"gridcolor\": \"white\", \"gridwidth\": 2, \"linecolor\": \"white\", \"showbackground\": true, \"ticks\": \"\", \"zerolinecolor\": \"white\"}, \"zaxis\": {\"backgroundcolor\": \"#E5ECF6\", \"gridcolor\": \"white\", \"gridwidth\": 2, \"linecolor\": \"white\", \"showbackground\": true, \"ticks\": \"\", \"zerolinecolor\": \"white\"}}, \"shapedefaults\": {\"line\": {\"color\": \"#2a3f5f\"}}, \"ternary\": {\"aaxis\": {\"gridcolor\": \"white\", \"linecolor\": \"white\", \"ticks\": \"\"}, \"baxis\": {\"gridcolor\": \"white\", \"linecolor\": \"white\", \"ticks\": \"\"}, \"bgcolor\": \"#E5ECF6\", \"caxis\": {\"gridcolor\": \"white\", \"linecolor\": \"white\", \"ticks\": \"\"}}, \"title\": {\"x\": 0.05}, \"xaxis\": {\"automargin\": true, \"gridcolor\": \"white\", \"linecolor\": \"white\", \"ticks\": \"\", \"title\": {\"standoff\": 15}, \"zerolinecolor\": \"white\", \"zerolinewidth\": 2}, \"yaxis\": {\"automargin\": true, \"gridcolor\": \"white\", \"linecolor\": \"white\", \"ticks\": \"\", \"title\": {\"standoff\": 15}, \"zerolinecolor\": \"white\", \"zerolinewidth\": 2}}}, \"title\": {\"text\": \"Hyperparameter Importances\"}, \"xaxis\": {\"title\": {\"text\": \"Importance for Objective Value\"}}, \"yaxis\": {\"title\": {\"text\": \"Hyperparameter\"}}},                        {\"responsive\": true}                    ).then(function(){\n",
       "                            \n",
       "var gd = document.getElementById('831d86a6-bc63-4f09-925e-cedc99f22774');\n",
       "var x = new MutationObserver(function (mutations, observer) {{\n",
       "        var display = window.getComputedStyle(gd).display;\n",
       "        if (!display || display === 'none') {{\n",
       "            console.log([gd, 'removed!']);\n",
       "            Plotly.purge(gd);\n",
       "            observer.disconnect();\n",
       "        }}\n",
       "}});\n",
       "\n",
       "// Listen for the removal of the full notebook cells\n",
       "var notebookContainer = gd.closest('#notebook-container');\n",
       "if (notebookContainer) {{\n",
       "    x.observe(notebookContainer, {childList: true});\n",
       "}}\n",
       "\n",
       "// Listen for the clearing of the current output cell\n",
       "var outputEl = gd.closest('.output');\n",
       "if (outputEl) {{\n",
       "    x.observe(outputEl, {childList: true});\n",
       "}}\n",
       "\n",
       "                        })                };                });            </script>        </div>"
      ]
     },
     "metadata": {},
     "output_type": "display_data"
    }
   ],
   "source": [
    "optuna.visualization.plot_param_importances(study_lstm_no_fed)"
   ]
  },
  {
   "cell_type": "code",
   "execution_count": 1221,
   "id": "35042a12",
   "metadata": {},
   "outputs": [
    {
     "name": "stdout",
     "output_type": "stream",
     "text": [
      "Best trial:\n",
      "Validation Loss:  0.008591758087277412\n",
      "{'Look Back': 35, 'Batch Size': 8, 'Hidden Dim': 32, 'N layers': 1, 'Learning Rate': 0.007669153465919796, 'Factor': 0.65}\n",
      "\n",
      "Training Loss:\n",
      "Last Epoch 41 MSE:  0.008909080700350538\n"
     ]
    },
    {
     "data": {
      "image/png": "[encoded data removed]",
      "text/plain": [
       "<Figure size 432x288 with 1 Axes>"
      ]
     },
     "metadata": {
      "needs_background": "light"
     },
     "output_type": "display_data"
    },
    {
     "name": "stdout",
     "output_type": "stream",
     "text": [
      "\n",
      "\n",
      "Model Train Score: 121.35 RMSE\n",
      "Model Validation Score: 121.21 RMSE\n",
      "Model Test Score: 174.95 RMSE\n",
      "\n",
      "\n",
      "Aggregated Score: 133.75 RMSE\n",
      "\n",
      "\n"
     ]
    },
    {
     "data": {
      "image/png": "[encoded data removed]",
      "text/plain": [
       "<Figure size 1080x432 with 1 Axes>"
      ]
     },
     "metadata": {
      "needs_background": "light"
     },
     "output_type": "display_data"
    },
    {
     "data": {
      "image/png": "[encoded data removed]",
      "text/plain": [
       "<Figure size 1080x432 with 1 Axes>"
      ]
     },
     "metadata": {
      "needs_background": "light"
     },
     "output_type": "display_data"
    },
    {
     "data": {
      "image/png": "[encoded data removed]",
      "text/plain": [
       "<Figure size 1080x432 with 1 Axes>"
      ]
     },
     "metadata": {
      "needs_background": "light"
     },
     "output_type": "display_data"
    },
    {
     "name": "stdout",
     "output_type": "stream",
     "text": [
      "[14281.287109375, 14296.517578125, 14290.88671875, 14295.912109375, 14314.7880859375]\n"
     ]
    }
   ],
   "source": [
    "nasdaq, scaled, scaler1, scaler2  = load_nasdaq(use_fed_data = False)\n",
    "input_dim = 1\n",
    "study_results(study_lstm_no_fed,'LSTM')"
   ]
  },
  {
   "cell_type": "markdown",
   "id": "12d3edfd",
   "metadata": {},
   "source": [
    "# Naive Predictor"
   ]
  },
  {
   "cell_type": "code",
   "execution_count": 1225,
   "id": "22330d7b",
   "metadata": {},
   "outputs": [
    {
     "name": "stdout",
     "output_type": "stream",
     "text": [
      "Nasdaq avegage weekly gain: 1.0027\n",
      "Naive Predictor Score: 131.68 RMSE\n"
     ]
    }
   ],
   "source": [
    "dt = nasdaq.index[-1]-nasdaq.index[0]\n",
    "dt = int(dt.days/7)\n",
    "avg_weekly_gain = (nasdaq.iloc[-1,0]/nasdaq.iloc[0,0])**(1/dt)\n",
    "#avg_weekly_gain = 1\n",
    "#dt = len(nasdaq)\n",
    "print('Nasdaq avegage weekly gain: %.4f' % (avg_weekly_gain))\n",
    "dates = nasdaq.index\n",
    "d0 = dates[0]\n",
    "#naive = nasdaq.iloc[0,0]*avg_weekly_gain**((dates-d0).days/7)\n",
    "naive = nasdaq['Close']*avg_weekly_gain\n",
    "naiveScore = math.sqrt(mean_squared_error(naive[:-1], nasdaq['Close'][1:]))\n",
    "print('Naive Predictor Score: %.2f RMSE' % (naiveScore))"
   ]
  },
  {
   "cell_type": "code",
   "execution_count": 1223,
   "id": "7c423f1b",
   "metadata": {},
   "outputs": [
    {
     "data": {
      "text/plain": [
       "<matplotlib.legend.Legend at 0x1fb8f694ac0>"
      ]
     },
     "execution_count": 1223,
     "metadata": {},
     "output_type": "execute_result"
    },
    {
     "data": {
      "image/png": "[encoded data removed]",
      "text/plain": [
       "<Figure size 1080x432 with 1 Axes>"
      ]
     },
     "metadata": {
      "needs_background": "light"
     },
     "output_type": "display_data"
    }
   ],
   "source": [
    "figure, axes = plt.subplots(figsize=(15, 6))\n",
    "last = 20\n",
    "axes.xaxis_date()\n",
    "axes.plot(nasdaq[-last:].index, nasdaq['Close'][-last:], color = 'red', label = 'Real NASDAQ Price')\n",
    "axes.plot(nasdaq[-last:].index, naive[-last-1:-1], color = 'blue', label = 'Predicted NASDAQ Price')\n",
    "plt.legend()"
   ]
  }
 ],
 "metadata": {
  "kernelspec": {
   "display_name": "Python 3",
   "language": "python",
   "name": "python3"
  },
  "language_info": {
   "codemirror_mode": {
    "name": "ipython",
    "version": 3
   },
   "file_extension": ".py",
   "mimetype": "text/x-python",
   "name": "python",
   "nbconvert_exporter": "python",
   "pygments_lexer": "ipython3",
   "version": "3.9.5"
  }
 },
 "nbformat": 4,
 "nbformat_minor": 5
}
