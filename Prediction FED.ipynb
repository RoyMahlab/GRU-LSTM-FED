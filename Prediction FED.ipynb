{
 "cells": [
  {
   "cell_type": "code",
   "execution_count": 224,
   "id": "provincial-casting",
   "metadata": {},
   "outputs": [
    {
     "name": "stderr",
     "output_type": "stream",
     "text": [
      "<ipython-input-224-88461a3b10a8>:9: FutureWarning:\n",
      "\n",
      "The pandas.datetime class is deprecated and will be removed from pandas in a future version. Import from datetime module instead.\n",
      "\n"
     ]
    }
   ],
   "source": [
    "import numpy as np\n",
    "import random\n",
    "import pandas as pd \n",
    "from pylab import mpl, plt\n",
    "plt.style.use('seaborn')\n",
    "mpl.rcParams['font.family'] = 'serif'\n",
    "%matplotlib inline\n",
    "\n",
    "from pandas import datetime\n",
    "import math, time\n",
    "import itertools\n",
    "import datetime\n",
    "from operator import itemgetter\n",
    "from sklearn.metrics import mean_squared_error\n",
    "from sklearn.preprocessing import MinMaxScaler\n",
    "from math import sqrt\n",
    "\n",
    "import torch\n",
    "import torch.nn as nn\n",
    "from torch.autograd import Variable\n",
    "import os\n",
    "import optuna\n",
    "\n",
    "seed = 211\n",
    "np.random.seed(seed)"
   ]
  },
  {
   "cell_type": "code",
   "execution_count": 225,
   "id": "basic-treasurer",
   "metadata": {},
   "outputs": [
    {
     "data": {
      "text/html": [
       "<div>\n",
       "<style scoped>\n",
       "    .dataframe tbody tr th:only-of-type {\n",
       "        vertical-align: middle;\n",
       "    }\n",
       "\n",
       "    .dataframe tbody tr th {\n",
       "        vertical-align: top;\n",
       "    }\n",
       "\n",
       "    .dataframe thead th {\n",
       "        text-align: right;\n",
       "    }\n",
       "</style>\n",
       "<table border=\"1\" class=\"dataframe\">\n",
       "  <thead>\n",
       "    <tr style=\"text-align: right;\">\n",
       "      <th></th>\n",
       "      <th>Close</th>\n",
       "    </tr>\n",
       "    <tr>\n",
       "      <th>Date</th>\n",
       "      <th></th>\n",
       "    </tr>\n",
       "  </thead>\n",
       "  <tbody>\n",
       "    <tr>\n",
       "      <th>2002-12-18</th>\n",
       "      <td>1013.669983</td>\n",
       "    </tr>\n",
       "    <tr>\n",
       "      <th>2002-12-19</th>\n",
       "      <td>1006.049988</td>\n",
       "    </tr>\n",
       "    <tr>\n",
       "      <th>2002-12-20</th>\n",
       "      <td>1013.900024</td>\n",
       "    </tr>\n",
       "    <tr>\n",
       "      <th>2002-12-23</th>\n",
       "      <td>1032.300049</td>\n",
       "    </tr>\n",
       "    <tr>\n",
       "      <th>2002-12-24</th>\n",
       "      <td>1023.289978</td>\n",
       "    </tr>\n",
       "    <tr>\n",
       "      <th>...</th>\n",
       "      <td>...</td>\n",
       "    </tr>\n",
       "    <tr>\n",
       "      <th>2021-06-07</th>\n",
       "      <td>13802.889648</td>\n",
       "    </tr>\n",
       "    <tr>\n",
       "      <th>2021-06-08</th>\n",
       "      <td>13810.860352</td>\n",
       "    </tr>\n",
       "    <tr>\n",
       "      <th>2021-06-09</th>\n",
       "      <td>13814.940430</td>\n",
       "    </tr>\n",
       "    <tr>\n",
       "      <th>2021-06-10</th>\n",
       "      <td>13960.349609</td>\n",
       "    </tr>\n",
       "    <tr>\n",
       "      <th>2021-06-11</th>\n",
       "      <td>13998.299805</td>\n",
       "    </tr>\n",
       "  </tbody>\n",
       "</table>\n",
       "<p>4652 rows × 1 columns</p>\n",
       "</div>"
      ],
      "text/plain": [
       "                   Close\n",
       "Date                    \n",
       "2002-12-18   1013.669983\n",
       "2002-12-19   1006.049988\n",
       "2002-12-20   1013.900024\n",
       "2002-12-23   1032.300049\n",
       "2002-12-24   1023.289978\n",
       "...                  ...\n",
       "2021-06-07  13802.889648\n",
       "2021-06-08  13810.860352\n",
       "2021-06-09  13814.940430\n",
       "2021-06-10  13960.349609\n",
       "2021-06-11  13998.299805\n",
       "\n",
       "[4652 rows x 1 columns]"
      ]
     },
     "execution_count": 225,
     "metadata": {},
     "output_type": "execute_result"
    }
   ],
   "source": [
    "filepath = 'input/NASDAQ_DAYLY.csv'\n",
    "#d_parser = lambda x: pd.datetime.strptime(x, '%d/%m/%d')\n",
    "nasdaq = pd.read_csv(filepath)\n",
    "nasdaq['Date'] = pd.to_datetime(nasdaq['Date'], format = '%Y-%m-%d')\n",
    "#data = data.sort_values('Date')\n",
    "nasdaq = nasdaq.set_index('Date')\n",
    "#nasdaq = nasdaq.sort_values(by='Date',ascending=False)\n",
    "nasdaq = nasdaq[['Close']]\n",
    "nasdaq"
   ]
  },
  {
   "cell_type": "code",
   "execution_count": 226,
   "id": "respected-peter",
   "metadata": {},
   "outputs": [
    {
     "data": {
      "text/html": [
       "<div>\n",
       "<style scoped>\n",
       "    .dataframe tbody tr th:only-of-type {\n",
       "        vertical-align: middle;\n",
       "    }\n",
       "\n",
       "    .dataframe tbody tr th {\n",
       "        vertical-align: top;\n",
       "    }\n",
       "\n",
       "    .dataframe thead th {\n",
       "        text-align: right;\n",
       "    }\n",
       "</style>\n",
       "<table border=\"1\" class=\"dataframe\">\n",
       "  <thead>\n",
       "    <tr style=\"text-align: right;\">\n",
       "      <th></th>\n",
       "      <th>Millions_of_Dollars</th>\n",
       "    </tr>\n",
       "    <tr>\n",
       "      <th>Date</th>\n",
       "      <th></th>\n",
       "    </tr>\n",
       "  </thead>\n",
       "  <tbody>\n",
       "    <tr>\n",
       "      <th>2002-12-18</th>\n",
       "      <td>719542.0</td>\n",
       "    </tr>\n",
       "    <tr>\n",
       "      <th>2002-12-25</th>\n",
       "      <td>732059.0</td>\n",
       "    </tr>\n",
       "    <tr>\n",
       "      <th>2003-01-01</th>\n",
       "      <td>730994.0</td>\n",
       "    </tr>\n",
       "    <tr>\n",
       "      <th>2003-01-08</th>\n",
       "      <td>723762.0</td>\n",
       "    </tr>\n",
       "    <tr>\n",
       "      <th>2003-01-15</th>\n",
       "      <td>720074.0</td>\n",
       "    </tr>\n",
       "    <tr>\n",
       "      <th>...</th>\n",
       "      <td>...</td>\n",
       "    </tr>\n",
       "    <tr>\n",
       "      <th>2021-05-12</th>\n",
       "      <td>7830663.0</td>\n",
       "    </tr>\n",
       "    <tr>\n",
       "      <th>2021-05-19</th>\n",
       "      <td>7922883.0</td>\n",
       "    </tr>\n",
       "    <tr>\n",
       "      <th>2021-05-26</th>\n",
       "      <td>7903541.0</td>\n",
       "    </tr>\n",
       "    <tr>\n",
       "      <th>2021-06-02</th>\n",
       "      <td>7935703.0</td>\n",
       "    </tr>\n",
       "    <tr>\n",
       "      <th>2021-06-09</th>\n",
       "      <td>7952327.0</td>\n",
       "    </tr>\n",
       "  </tbody>\n",
       "</table>\n",
       "<p>965 rows × 1 columns</p>\n",
       "</div>"
      ],
      "text/plain": [
       "            Millions_of_Dollars\n",
       "Date                           \n",
       "2002-12-18             719542.0\n",
       "2002-12-25             732059.0\n",
       "2003-01-01             730994.0\n",
       "2003-01-08             723762.0\n",
       "2003-01-15             720074.0\n",
       "...                         ...\n",
       "2021-05-12            7830663.0\n",
       "2021-05-19            7922883.0\n",
       "2021-05-26            7903541.0\n",
       "2021-06-02            7935703.0\n",
       "2021-06-09            7952327.0\n",
       "\n",
       "[965 rows x 1 columns]"
      ]
     },
     "execution_count": 226,
     "metadata": {},
     "output_type": "execute_result"
    }
   ],
   "source": [
    "filepath = 'input/WALCL.csv'\n",
    "#d_parser = lambda x: pd.datetime.strptime(x, '%d/%m/%d')\n",
    "assets = pd.read_csv(filepath)\n",
    "assets['DATE'] = pd.to_datetime(assets['DATE'], format = '%Y-%m-%d')\n",
    "#data = data.sort_values('Date')\n",
    "assets = assets.rename(columns={'DATE':'Date',\"WALCL\":'Millions_of_Dollars'})\n",
    "assets.set_index('Date',inplace=True)\n",
    "#assets.sort_values(by='DATE',ascending=False,inplace=True)\n",
    "#(assets.index[1]-assets.index[0]).days\n",
    "#assets.iloc[0]\n",
    "assets"
   ]
  },
  {
   "cell_type": "code",
   "execution_count": 227,
   "id": "guilty-chess",
   "metadata": {},
   "outputs": [
    {
     "data": {
      "text/html": [
       "<div>\n",
       "<style scoped>\n",
       "    .dataframe tbody tr th:only-of-type {\n",
       "        vertical-align: middle;\n",
       "    }\n",
       "\n",
       "    .dataframe tbody tr th {\n",
       "        vertical-align: top;\n",
       "    }\n",
       "\n",
       "    .dataframe thead th {\n",
       "        text-align: right;\n",
       "    }\n",
       "</style>\n",
       "<table border=\"1\" class=\"dataframe\">\n",
       "  <thead>\n",
       "    <tr style=\"text-align: right;\">\n",
       "      <th></th>\n",
       "      <th>Close</th>\n",
       "      <th>Assets</th>\n",
       "    </tr>\n",
       "    <tr>\n",
       "      <th>Date</th>\n",
       "      <th></th>\n",
       "      <th></th>\n",
       "    </tr>\n",
       "  </thead>\n",
       "  <tbody>\n",
       "    <tr>\n",
       "      <th>2002-12-18</th>\n",
       "      <td>1013.669983</td>\n",
       "      <td>719542.0</td>\n",
       "    </tr>\n",
       "    <tr>\n",
       "      <th>2003-01-08</th>\n",
       "      <td>1042.520020</td>\n",
       "      <td>723762.0</td>\n",
       "    </tr>\n",
       "    <tr>\n",
       "      <th>2003-01-15</th>\n",
       "      <td>1073.599976</td>\n",
       "      <td>720074.0</td>\n",
       "    </tr>\n",
       "    <tr>\n",
       "      <th>2003-01-22</th>\n",
       "      <td>1006.510010</td>\n",
       "      <td>735953.0</td>\n",
       "    </tr>\n",
       "    <tr>\n",
       "      <th>2003-01-29</th>\n",
       "      <td>1016.559998</td>\n",
       "      <td>712809.0</td>\n",
       "    </tr>\n",
       "    <tr>\n",
       "      <th>...</th>\n",
       "      <td>...</td>\n",
       "      <td>...</td>\n",
       "    </tr>\n",
       "    <tr>\n",
       "      <th>2021-05-12</th>\n",
       "      <td>13001.629883</td>\n",
       "      <td>7830663.0</td>\n",
       "    </tr>\n",
       "    <tr>\n",
       "      <th>2021-05-19</th>\n",
       "      <td>13237.910156</td>\n",
       "      <td>7922883.0</td>\n",
       "    </tr>\n",
       "    <tr>\n",
       "      <th>2021-05-26</th>\n",
       "      <td>13702.740234</td>\n",
       "      <td>7903541.0</td>\n",
       "    </tr>\n",
       "    <tr>\n",
       "      <th>2021-06-02</th>\n",
       "      <td>13675.790039</td>\n",
       "      <td>7935703.0</td>\n",
       "    </tr>\n",
       "    <tr>\n",
       "      <th>2021-06-09</th>\n",
       "      <td>13814.940430</td>\n",
       "      <td>7952327.0</td>\n",
       "    </tr>\n",
       "  </tbody>\n",
       "</table>\n",
       "<p>955 rows × 2 columns</p>\n",
       "</div>"
      ],
      "text/plain": [
       "                   Close     Assets\n",
       "Date                               \n",
       "2002-12-18   1013.669983   719542.0\n",
       "2003-01-08   1042.520020   723762.0\n",
       "2003-01-15   1073.599976   720074.0\n",
       "2003-01-22   1006.510010   735953.0\n",
       "2003-01-29   1016.559998   712809.0\n",
       "...                  ...        ...\n",
       "2021-05-12  13001.629883  7830663.0\n",
       "2021-05-19  13237.910156  7922883.0\n",
       "2021-05-26  13702.740234  7903541.0\n",
       "2021-06-02  13675.790039  7935703.0\n",
       "2021-06-09  13814.940430  7952327.0\n",
       "\n",
       "[955 rows x 2 columns]"
      ]
     },
     "execution_count": 227,
     "metadata": {},
     "output_type": "execute_result"
    }
   ],
   "source": [
    "#nasdaq = nasdaq.iloc[:assets.size]\n",
    "nasdaq['Assets'] = assets['Millions_of_Dollars']\n",
    "nasdaq = nasdaq.dropna()\n",
    "nasdaq"
   ]
  },
  {
   "cell_type": "code",
   "execution_count": 228,
   "id": "alike-expense",
   "metadata": {},
   "outputs": [
    {
     "data": {
      "text/html": [
       "<div>\n",
       "<style scoped>\n",
       "    .dataframe tbody tr th:only-of-type {\n",
       "        vertical-align: middle;\n",
       "    }\n",
       "\n",
       "    .dataframe tbody tr th {\n",
       "        vertical-align: top;\n",
       "    }\n",
       "\n",
       "    .dataframe thead th {\n",
       "        text-align: right;\n",
       "    }\n",
       "</style>\n",
       "<table border=\"1\" class=\"dataframe\">\n",
       "  <thead>\n",
       "    <tr style=\"text-align: right;\">\n",
       "      <th></th>\n",
       "      <th>Close</th>\n",
       "      <th>Assets</th>\n",
       "    </tr>\n",
       "    <tr>\n",
       "      <th>Date</th>\n",
       "      <th></th>\n",
       "      <th></th>\n",
       "    </tr>\n",
       "  </thead>\n",
       "  <tbody>\n",
       "    <tr>\n",
       "      <th>2002-12-18</th>\n",
       "      <td>0.103946</td>\n",
       "      <td>0.100837</td>\n",
       "    </tr>\n",
       "    <tr>\n",
       "      <th>2003-01-08</th>\n",
       "      <td>0.105946</td>\n",
       "      <td>0.101362</td>\n",
       "    </tr>\n",
       "    <tr>\n",
       "      <th>2003-01-15</th>\n",
       "      <td>0.108102</td>\n",
       "      <td>0.100903</td>\n",
       "    </tr>\n",
       "    <tr>\n",
       "      <th>2003-01-22</th>\n",
       "      <td>0.103449</td>\n",
       "      <td>0.102877</td>\n",
       "    </tr>\n",
       "    <tr>\n",
       "      <th>2003-01-29</th>\n",
       "      <td>0.104146</td>\n",
       "      <td>0.100000</td>\n",
       "    </tr>\n",
       "    <tr>\n",
       "      <th>...</th>\n",
       "      <td>...</td>\n",
       "      <td>...</td>\n",
       "    </tr>\n",
       "    <tr>\n",
       "      <th>2021-05-12</th>\n",
       "      <td>0.935264</td>\n",
       "      <td>0.984875</td>\n",
       "    </tr>\n",
       "    <tr>\n",
       "      <th>2021-05-19</th>\n",
       "      <td>0.951649</td>\n",
       "      <td>0.996340</td>\n",
       "    </tr>\n",
       "    <tr>\n",
       "      <th>2021-05-26</th>\n",
       "      <td>0.983883</td>\n",
       "      <td>0.993935</td>\n",
       "    </tr>\n",
       "    <tr>\n",
       "      <th>2021-06-02</th>\n",
       "      <td>0.982014</td>\n",
       "      <td>0.997933</td>\n",
       "    </tr>\n",
       "    <tr>\n",
       "      <th>2021-06-09</th>\n",
       "      <td>0.991664</td>\n",
       "      <td>1.000000</td>\n",
       "    </tr>\n",
       "  </tbody>\n",
       "</table>\n",
       "<p>955 rows × 2 columns</p>\n",
       "</div>"
      ],
      "text/plain": [
       "               Close    Assets\n",
       "Date                          \n",
       "2002-12-18  0.103946  0.100837\n",
       "2003-01-08  0.105946  0.101362\n",
       "2003-01-15  0.108102  0.100903\n",
       "2003-01-22  0.103449  0.102877\n",
       "2003-01-29  0.104146  0.100000\n",
       "...              ...       ...\n",
       "2021-05-12  0.935264  0.984875\n",
       "2021-05-19  0.951649  0.996340\n",
       "2021-05-26  0.983883  0.993935\n",
       "2021-06-02  0.982014  0.997933\n",
       "2021-06-09  0.991664  1.000000\n",
       "\n",
       "[955 rows x 2 columns]"
      ]
     },
     "execution_count": 228,
     "metadata": {},
     "output_type": "execute_result"
    }
   ],
   "source": [
    "scaler1 = MinMaxScaler(feature_range=(0.1, 1))\n",
    "scaler2 = MinMaxScaler(feature_range=(0.1, 1))\n",
    "scaled = nasdaq.copy()\n",
    "scaled ['Close'] = scaler1.fit_transform(scaled['Close'].values.reshape(-1,1))\n",
    "scaled ['Assets'] = scaler2.fit_transform(scaled['Assets'].values.reshape(-1,1))\n",
    "scaled"
   ]
  },
  {
   "cell_type": "code",
   "execution_count": 229,
   "id": "dying-combining",
   "metadata": {},
   "outputs": [
    {
     "name": "stdout",
     "output_type": "stream",
     "text": [
      "[[13001.629883]\n",
      " [13237.910156]\n",
      " [13702.740234]\n",
      " [13675.790039]\n",
      " [13814.94043 ]]\n"
     ]
    }
   ],
   "source": [
    "# function to create train, test data given stock data and sequence length\n",
    "def load_data(stock, look_back, use_perm = True):\n",
    "    data_raw = stock.values # convert to numpy array\n",
    "    data = []\n",
    "    \n",
    "    # create all possible sequences of length look_back\n",
    "    for index in range(len(data_raw) - look_back + 1): \n",
    "        data.append(data_raw[index: index + look_back])\n",
    "    \n",
    "    data = np.array(data);\n",
    "    test_set_size = int(np.round(0.2*data.shape[0]))\n",
    "    train_set_size = data.shape[0] - (test_set_size)\n",
    "    rand_perm = np.random.permutation(data.shape[0])\n",
    "    if use_perm: \n",
    "        data = data[rand_perm,:,:]\n",
    "    \n",
    "    x_train = data[:train_set_size,:-1,:]\n",
    "    y_train = data[:train_set_size,-1,:]\n",
    "    y_train = y_train[:,0].reshape(-1,1)\n",
    "    x_test = data[train_set_size:,:-1]\n",
    "    y_test = data[train_set_size:,-1,:]\n",
    "    y_test = y_test[:,0].reshape(-1,1)\n",
    "    \n",
    "    return [x_train, y_train, x_test, y_test], rand_perm\n",
    "[x_train, y_train, x_test, y_test], rand_perm = load_data(scaled, 50, use_perm=False)\n",
    "print(scaler1.inverse_transform(y_test)[-5:])"
   ]
  },
  {
   "cell_type": "code",
   "execution_count": 230,
   "id": "b76a5817",
   "metadata": {},
   "outputs": [],
   "source": [
    "class GRU(nn.Module):\n",
    "    def __init__(self, input_dim, hidden_dim, num_layers, output_dim):\n",
    "        super(GRU, self).__init__()\n",
    "        self.hidden_dim = hidden_dim\n",
    "        self.num_layers = num_layers\n",
    "        \n",
    "        self.gru = nn.GRU(input_dim, hidden_dim, num_layers, batch_first=True)\n",
    "        self.fc = nn.Linear(hidden_dim, output_dim)\n",
    "\n",
    "    def forward(self, x):\n",
    "        h0 = torch.zeros(self.num_layers, x.size(0), self.hidden_dim).requires_grad_().to(device)\n",
    "        out, (hn) = self.gru(x, (h0.detach()))\n",
    "        out = self.fc(out[:, -1, :]) \n",
    "        return out\n",
    "    \n",
    "class LSTM(nn.Module):\n",
    "    def __init__(self, input_dim, hidden_dim, num_layers, output_dim):\n",
    "        super(LSTM, self).__init__()\n",
    "        self.hidden_dim = hidden_dim\n",
    "        self.num_layers = num_layers\n",
    "        \n",
    "        self.lstm = nn.LSTM(input_dim, hidden_dim, num_layers, batch_first=True)\n",
    "        self.fc = nn.Linear(hidden_dim, output_dim)\n",
    "\n",
    "    def forward(self, x):\n",
    "        h0 = torch.zeros(self.num_layers, x.size(0), self.hidden_dim).requires_grad_().to(device)\n",
    "        c0 = torch.zeros(self.num_layers, x.size(0), self.hidden_dim).requires_grad_().to(device)\n",
    "        out, (hn, cn) = self.lstm(x, (h0.detach(), c0.detach()))\n",
    "        out = self.fc(out[:, -1, :]) \n",
    "        return out"
   ]
  },
  {
   "cell_type": "markdown",
   "id": "8f06e101",
   "metadata": {},
   "source": [
    "# Prediction with GRU"
   ]
  },
  {
   "cell_type": "code",
   "execution_count": 231,
   "id": "operating-behalf",
   "metadata": {},
   "outputs": [],
   "source": [
    "device = torch.device(\"cuda:0\" if torch.cuda.is_available() else \"cpu\")\n",
    "def objective(trial):\n",
    "    look_back = trial.suggest_int(\"Look Back\",5,100) # choose sequence length\n",
    "    [x_train, y_train, x_test, y_test], _ = load_data(scaled, look_back, use_perm=True)\n",
    "    x_train = torch.from_numpy(x_train).type(torch.Tensor).to(device)\n",
    "    x_test = torch.from_numpy(x_test).type(torch.Tensor).to(device)\n",
    "    y_train = torch.from_numpy(y_train).type(torch.Tensor).to(device)\n",
    "    y_test = torch.from_numpy(y_test).type(torch.Tensor).to(device)\n",
    "    \n",
    "    input_dim = 2\n",
    "    hidden_dim = trial.suggest_int(\"Hidden Dim\",16,128,log=True)\n",
    "    num_layers = trial.suggest_int(\"N layers\",1,5)\n",
    "    output_dim = 1\n",
    "    model = GRU(input_dim=input_dim, hidden_dim=hidden_dim, output_dim=output_dim, num_layers=num_layers).to(device)\n",
    "\n",
    "    loss_fn = torch.nn.MSELoss()\n",
    "    lr = trial.suggest_float(\"Learning Rate\",1e-4,1,log=True)\n",
    "    optimizer = torch.optim.Adam(model.parameters(), lr=lr)\n",
    "\n",
    "    num_epochs = 1000\n",
    "    factor = trial.suggest_float('Factor',0.1,1,log=True)\n",
    "    scheduler = torch.optim.lr_scheduler.ReduceLROnPlateau(optimizer, factor=factor, patience=5)\n",
    "    for epoch in range(num_epochs):\n",
    "        # Initialise hidden state\n",
    "        # Don't do this if you want your LSTM to be stateful\n",
    "        #model.hidden = model.init_hidden()\n",
    "\n",
    "        # Forward pass\n",
    "        y_train_pred = model(x_train)\n",
    "\n",
    "        loss = loss_fn(y_train_pred, y_train)\n",
    "\n",
    "        # Zero out gradient, else they will accumulate between epochs\n",
    "        optimizer.zero_grad()\n",
    "\n",
    "        # Backward pass\n",
    "        loss.backward()\n",
    "\n",
    "        # Update parameters\n",
    "        optimizer.step()\n",
    "        scheduler.step(loss)\n",
    "        trial.report(loss, epoch)\n",
    "        if trial.should_prune():\n",
    "            raise optuna.exceptions.TrialPruned()\n",
    "    return loss"
   ]
  },
  {
   "cell_type": "code",
   "execution_count": 232,
   "id": "04b38a06",
   "metadata": {},
   "outputs": [
    {
     "name": "stderr",
     "output_type": "stream",
     "text": [
      "\u001b[32m[I 2021-06-21 16:44:06,850]\u001b[0m A new study created in memory with name: GRU\u001b[0m\n",
      "\u001b[32m[I 2021-06-21 16:44:28,109]\u001b[0m Trial 0 finished with value: 0.00013266385940369219 and parameters: {'Look Back': 56, 'Hidden Dim': 48, 'N layers': 2, 'Learning Rate': 0.0004921355367969423, 'Factor': 0.10312801359010905}. Best is trial 0 with value: 0.00013266385940369219.\u001b[0m\n",
      "\u001b[32m[I 2021-06-21 16:44:37,493]\u001b[0m Trial 1 finished with value: 8.172242814907804e-05 and parameters: {'Look Back': 46, 'Hidden Dim': 17, 'N layers': 2, 'Learning Rate': 0.011322743595157345, 'Factor': 0.5167094397872432}. Best is trial 1 with value: 8.172242814907804e-05.\u001b[0m\n",
      "\u001b[32m[I 2021-06-21 16:44:41,764]\u001b[0m Trial 2 finished with value: 0.00017638354620430619 and parameters: {'Look Back': 23, 'Hidden Dim': 19, 'N layers': 1, 'Learning Rate': 0.00026762425071296026, 'Factor': 0.2535675092643443}. Best is trial 1 with value: 8.172242814907804e-05.\u001b[0m\n",
      "\u001b[32m[I 2021-06-21 16:45:12,808]\u001b[0m Trial 3 finished with value: 0.00040984610677696764 and parameters: {'Look Back': 50, 'Hidden Dim': 47, 'N layers': 3, 'Learning Rate': 0.0913585793773038, 'Factor': 0.6328643886727282}. Best is trial 1 with value: 8.172242814907804e-05.\u001b[0m\n",
      "\u001b[32m[I 2021-06-21 16:46:13,925]\u001b[0m Trial 4 finished with value: 9.483034955337644e-05 and parameters: {'Look Back': 66, 'Hidden Dim': 63, 'N layers': 4, 'Learning Rate': 0.01779658518882518, 'Factor': 0.4198226417852913}. Best is trial 1 with value: 8.172242814907804e-05.\u001b[0m\n",
      "\u001b[32m[I 2021-06-21 16:46:14,477]\u001b[0m Trial 5 pruned. \u001b[0m\n",
      "\u001b[32m[I 2021-06-21 16:46:14,509]\u001b[0m Trial 6 pruned. \u001b[0m\n",
      "\u001b[32m[I 2021-06-21 16:46:14,556]\u001b[0m Trial 7 pruned. \u001b[0m\n",
      "\u001b[32m[I 2021-06-21 16:46:14,954]\u001b[0m Trial 8 pruned. \u001b[0m\n",
      "\u001b[32m[I 2021-06-21 16:46:14,998]\u001b[0m Trial 9 pruned. \u001b[0m\n",
      "\u001b[32m[I 2021-06-21 16:46:15,120]\u001b[0m Trial 10 pruned. \u001b[0m\n",
      "\u001b[32m[I 2021-06-21 16:46:15,706]\u001b[0m Trial 11 pruned. \u001b[0m\n",
      "\u001b[32m[I 2021-06-21 16:46:34,676]\u001b[0m Trial 12 finished with value: 7.988534343894571e-05 and parameters: {'Look Back': 34, 'Hidden Dim': 30, 'N layers': 4, 'Learning Rate': 0.004130364273372387, 'Factor': 0.9995569438143792}. Best is trial 12 with value: 7.988534343894571e-05.\u001b[0m\n",
      "\u001b[32m[I 2021-06-21 16:46:34,719]\u001b[0m Trial 13 pruned. \u001b[0m\n",
      "\u001b[32m[I 2021-06-21 16:46:34,774]\u001b[0m Trial 14 pruned. \u001b[0m\n",
      "\u001b[32m[I 2021-06-21 16:46:34,818]\u001b[0m Trial 15 pruned. \u001b[0m\n",
      "\u001b[32m[I 2021-06-21 16:46:34,858]\u001b[0m Trial 16 pruned. \u001b[0m\n",
      "\u001b[32m[I 2021-06-21 16:46:34,918]\u001b[0m Trial 17 pruned. \u001b[0m\n",
      "\u001b[32m[I 2021-06-21 16:46:34,979]\u001b[0m Trial 18 pruned. \u001b[0m\n",
      "\u001b[32m[I 2021-06-21 16:46:35,024]\u001b[0m Trial 19 pruned. \u001b[0m\n",
      "\u001b[32m[I 2021-06-21 16:46:35,067]\u001b[0m Trial 20 pruned. \u001b[0m\n",
      "\u001b[32m[I 2021-06-21 16:46:35,207]\u001b[0m Trial 21 pruned. \u001b[0m\n",
      "\u001b[32m[I 2021-06-21 16:46:35,359]\u001b[0m Trial 22 pruned. \u001b[0m\n",
      "\u001b[32m[I 2021-06-21 16:46:35,505]\u001b[0m Trial 23 pruned. \u001b[0m\n",
      "\u001b[32m[I 2021-06-21 16:46:35,570]\u001b[0m Trial 24 pruned. \u001b[0m\n",
      "\u001b[32m[I 2021-06-21 16:46:35,647]\u001b[0m Trial 25 pruned. \u001b[0m\n",
      "\u001b[32m[I 2021-06-21 16:46:35,726]\u001b[0m Trial 26 pruned. \u001b[0m\n",
      "\u001b[32m[I 2021-06-21 16:46:35,936]\u001b[0m Trial 27 pruned. \u001b[0m\n",
      "\u001b[32m[I 2021-06-21 16:46:36,094]\u001b[0m Trial 28 pruned. \u001b[0m\n",
      "\u001b[32m[I 2021-06-21 16:46:36,134]\u001b[0m Trial 29 pruned. \u001b[0m\n",
      "\u001b[32m[I 2021-06-21 16:46:36,205]\u001b[0m Trial 30 pruned. \u001b[0m\n",
      "\u001b[32m[I 2021-06-21 16:46:36,251]\u001b[0m Trial 31 pruned. \u001b[0m\n",
      "\u001b[32m[I 2021-06-21 16:46:36,322]\u001b[0m Trial 32 pruned. \u001b[0m\n",
      "\u001b[32m[I 2021-06-21 16:46:36,392]\u001b[0m Trial 33 pruned. \u001b[0m\n",
      "\u001b[32m[I 2021-06-21 16:46:36,440]\u001b[0m Trial 34 pruned. \u001b[0m\n",
      "\u001b[32m[I 2021-06-21 16:46:36,487]\u001b[0m Trial 35 pruned. \u001b[0m\n",
      "\u001b[32m[I 2021-06-21 16:46:36,871]\u001b[0m Trial 36 pruned. \u001b[0m\n",
      "\u001b[32m[I 2021-06-21 16:46:36,943]\u001b[0m Trial 37 pruned. \u001b[0m\n",
      "\u001b[32m[I 2021-06-21 16:46:37,029]\u001b[0m Trial 38 pruned. \u001b[0m\n",
      "\u001b[32m[I 2021-06-21 16:46:37,072]\u001b[0m Trial 39 pruned. \u001b[0m\n",
      "\u001b[32m[I 2021-06-21 16:46:37,214]\u001b[0m Trial 40 pruned. \u001b[0m\n",
      "\u001b[32m[I 2021-06-21 16:46:37,258]\u001b[0m Trial 41 pruned. \u001b[0m\n",
      "\u001b[32m[I 2021-06-21 16:46:37,294]\u001b[0m Trial 42 pruned. \u001b[0m\n",
      "\u001b[32m[I 2021-06-21 16:46:37,377]\u001b[0m Trial 43 pruned. \u001b[0m\n",
      "\u001b[32m[I 2021-06-21 16:46:37,442]\u001b[0m Trial 44 pruned. \u001b[0m\n",
      "\u001b[32m[I 2021-06-21 16:46:37,507]\u001b[0m Trial 45 pruned. \u001b[0m\n",
      "\u001b[32m[I 2021-06-21 16:46:37,549]\u001b[0m Trial 46 pruned. \u001b[0m\n",
      "\u001b[32m[I 2021-06-21 16:46:37,932]\u001b[0m Trial 47 pruned. \u001b[0m\n",
      "\u001b[32m[I 2021-06-21 16:46:38,089]\u001b[0m Trial 48 pruned. \u001b[0m\n",
      "\u001b[32m[I 2021-06-21 16:46:38,156]\u001b[0m Trial 49 pruned. \u001b[0m\n",
      "\u001b[32m[I 2021-06-21 16:46:38,250]\u001b[0m Trial 50 pruned. \u001b[0m\n",
      "\u001b[32m[I 2021-06-21 16:46:38,338]\u001b[0m Trial 51 pruned. \u001b[0m\n",
      "\u001b[32m[I 2021-06-21 16:46:38,430]\u001b[0m Trial 52 pruned. \u001b[0m\n",
      "\u001b[32m[I 2021-06-21 16:46:38,493]\u001b[0m Trial 53 pruned. \u001b[0m\n",
      "\u001b[32m[I 2021-06-21 16:46:38,564]\u001b[0m Trial 54 pruned. \u001b[0m\n",
      "\u001b[32m[I 2021-06-21 16:46:38,693]\u001b[0m Trial 55 pruned. \u001b[0m\n",
      "\u001b[32m[I 2021-06-21 16:46:38,833]\u001b[0m Trial 56 pruned. \u001b[0m\n",
      "\u001b[32m[I 2021-06-21 16:46:38,925]\u001b[0m Trial 57 pruned. \u001b[0m\n",
      "\u001b[32m[I 2021-06-21 16:46:38,971]\u001b[0m Trial 58 pruned. \u001b[0m\n",
      "\u001b[32m[I 2021-06-21 16:46:39,090]\u001b[0m Trial 59 pruned. \u001b[0m\n",
      "\u001b[32m[I 2021-06-21 16:46:39,151]\u001b[0m Trial 60 pruned. \u001b[0m\n",
      "\u001b[32m[I 2021-06-21 16:46:39,198]\u001b[0m Trial 61 pruned. \u001b[0m\n",
      "\u001b[32m[I 2021-06-21 16:46:39,254]\u001b[0m Trial 62 pruned. \u001b[0m\n",
      "\u001b[32m[I 2021-06-21 16:46:39,304]\u001b[0m Trial 63 pruned. \u001b[0m\n",
      "\u001b[32m[I 2021-06-21 16:46:39,347]\u001b[0m Trial 64 pruned. \u001b[0m\n",
      "\u001b[32m[I 2021-06-21 16:46:39,408]\u001b[0m Trial 65 pruned. \u001b[0m\n",
      "\u001b[32m[I 2021-06-21 16:46:39,446]\u001b[0m Trial 66 pruned. \u001b[0m\n",
      "\u001b[32m[I 2021-06-21 16:46:39,501]\u001b[0m Trial 67 pruned. \u001b[0m\n",
      "\u001b[32m[I 2021-06-21 16:46:40,209]\u001b[0m Trial 68 pruned. \u001b[0m\n",
      "\u001b[32m[I 2021-06-21 16:46:40,259]\u001b[0m Trial 69 pruned. \u001b[0m\n",
      "\u001b[32m[I 2021-06-21 16:46:40,319]\u001b[0m Trial 70 pruned. \u001b[0m\n",
      "\u001b[32m[I 2021-06-21 16:46:40,364]\u001b[0m Trial 71 pruned. \u001b[0m\n",
      "\u001b[32m[I 2021-06-21 16:46:40,414]\u001b[0m Trial 72 pruned. \u001b[0m\n",
      "\u001b[32m[I 2021-06-21 16:46:40,483]\u001b[0m Trial 73 pruned. \u001b[0m\n",
      "\u001b[32m[I 2021-06-21 16:46:40,526]\u001b[0m Trial 74 pruned. \u001b[0m\n",
      "\u001b[32m[I 2021-06-21 16:46:40,570]\u001b[0m Trial 75 pruned. \u001b[0m\n",
      "\u001b[32m[I 2021-06-21 16:46:40,955]\u001b[0m Trial 76 pruned. \u001b[0m\n",
      "\u001b[32m[I 2021-06-21 16:46:41,010]\u001b[0m Trial 77 pruned. \u001b[0m\n",
      "\u001b[32m[I 2021-06-21 16:46:41,056]\u001b[0m Trial 78 pruned. \u001b[0m\n",
      "\u001b[32m[I 2021-06-21 16:46:41,125]\u001b[0m Trial 79 pruned. \u001b[0m\n",
      "\u001b[32m[I 2021-06-21 16:46:41,186]\u001b[0m Trial 80 pruned. \u001b[0m\n",
      "\u001b[32m[I 2021-06-21 16:46:41,263]\u001b[0m Trial 81 pruned. \u001b[0m\n",
      "\u001b[32m[I 2021-06-21 16:46:41,316]\u001b[0m Trial 82 pruned. \u001b[0m\n",
      "\u001b[32m[I 2021-06-21 16:46:41,364]\u001b[0m Trial 83 pruned. \u001b[0m\n",
      "\u001b[32m[I 2021-06-21 16:46:41,447]\u001b[0m Trial 84 pruned. \u001b[0m\n",
      "\u001b[32m[I 2021-06-21 16:46:41,497]\u001b[0m Trial 85 pruned. \u001b[0m\n",
      "\u001b[32m[I 2021-06-21 16:46:41,560]\u001b[0m Trial 86 pruned. \u001b[0m\n",
      "\u001b[32m[I 2021-06-21 16:47:02,902]\u001b[0m Trial 87 finished with value: 7.031285349512473e-05 and parameters: {'Look Back': 63, 'Hidden Dim': 23, 'N layers': 3, 'Learning Rate': 0.00638800406818388, 'Factor': 0.9948387771830486}. Best is trial 87 with value: 7.031285349512473e-05.\u001b[0m\n",
      "\u001b[32m[I 2021-06-21 16:47:02,945]\u001b[0m Trial 88 pruned. \u001b[0m\n",
      "\u001b[32m[I 2021-06-21 16:47:03,470]\u001b[0m Trial 89 pruned. \u001b[0m\n",
      "\u001b[32m[I 2021-06-21 16:47:03,544]\u001b[0m Trial 90 pruned. \u001b[0m\n",
      "\u001b[32m[I 2021-06-21 16:47:03,609]\u001b[0m Trial 91 pruned. \u001b[0m\n",
      "\u001b[32m[I 2021-06-21 16:47:19,470]\u001b[0m Trial 92 finished with value: 7.833610288798809e-05 and parameters: {'Look Back': 73, 'Hidden Dim': 16, 'N layers': 3, 'Learning Rate': 0.03682637868355999, 'Factor': 0.46280684806597416}. Best is trial 87 with value: 7.031285349512473e-05.\u001b[0m\n",
      "\u001b[32m[I 2021-06-21 16:47:19,527]\u001b[0m Trial 93 pruned. \u001b[0m\n",
      "\u001b[32m[I 2021-06-21 16:47:19,581]\u001b[0m Trial 94 pruned. \u001b[0m\n",
      "\u001b[32m[I 2021-06-21 16:47:19,631]\u001b[0m Trial 95 pruned. \u001b[0m\n",
      "\u001b[32m[I 2021-06-21 16:47:19,721]\u001b[0m Trial 96 pruned. \u001b[0m\n",
      "\u001b[32m[I 2021-06-21 16:47:19,786]\u001b[0m Trial 97 pruned. \u001b[0m\n",
      "\u001b[32m[I 2021-06-21 16:47:19,846]\u001b[0m Trial 98 pruned. \u001b[0m\n",
      "\u001b[32m[I 2021-06-21 16:47:19,878]\u001b[0m Trial 99 pruned. \u001b[0m\n"
     ]
    },
    {
     "name": "stdout",
     "output_type": "stream",
     "text": [
      "Study statistics: \n",
      "  Number of finished trials:  100\n",
      "  Number of pruned trials:  92\n",
      "  Number of complete trials:  8\n"
     ]
    }
   ],
   "source": [
    "# now we can run the experiment\n",
    "sampler = optuna.samplers.TPESampler()\n",
    "study_gru = optuna.create_study(study_name=\"GRU\", direction=\"minimize\", sampler=sampler)\n",
    "study_gru.optimize(objective, n_trials=100, timeout=120*60)\n",
    "\n",
    "pruned_trials = [t for t in study_gru.trials if t.state == optuna.trial.TrialState.PRUNED]\n",
    "complete_trials = [t for t in study_gru.trials if t.state == optuna.trial.TrialState.COMPLETE]\n",
    "\n",
    "print(\"Study statistics: \")\n",
    "print(\"  Number of finished trials: \", len(study_gru.trials))\n",
    "print(\"  Number of pruned trials: \", len(pruned_trials))\n",
    "print(\"  Number of complete trials: \", len(complete_trials))\n",
    "#print(\"  Params: \")\n",
    "#for key, value in trial.params.items():\n",
    "#    print(\"    {}: {}\".format(key, value))"
   ]
  },
  {
   "cell_type": "code",
   "execution_count": 233,
   "id": "49a05f38",
   "metadata": {},
   "outputs": [
    {
     "data": {
      "application/vnd.plotly.v1+json": {
       "config": {
        "plotlyServerURL": "https://plot.ly"
       },
       "data": [
        {
         "cliponaxis": false,
         "hovertemplate": [
          "Look Back (IntUniformDistribution): 0.0662848741868304<extra></extra>",
          "N layers (IntUniformDistribution): 0.08031730459601569<extra></extra>",
          "Hidden Dim (IntLogUniformDistribution): 0.08715116871850032<extra></extra>",
          "Factor (LogUniformDistribution): 0.2004562691410323<extra></extra>",
          "Learning Rate (LogUniformDistribution): 0.5657903833576213<extra></extra>"
         ],
         "marker": {
          "color": "rgb(66,146,198)"
         },
         "orientation": "h",
         "text": [
          "0.0662848741868304",
          "0.08031730459601569",
          "0.08715116871850032",
          "0.2004562691410323",
          "0.5657903833576213"
         ],
         "textposition": "outside",
         "texttemplate": "%{text:.2f}",
         "type": "bar",
         "x": [
          0.0662848741868304,
          0.08031730459601569,
          0.08715116871850032,
          0.2004562691410323,
          0.5657903833576213
         ],
         "y": [
          "Look Back",
          "N layers",
          "Hidden Dim",
          "Factor",
          "Learning Rate"
         ]
        }
       ],
       "layout": {
        "showlegend": false,
        "template": {
         "data": {
          "bar": [
           {
            "error_x": {
             "color": "#2a3f5f"
            },
            "error_y": {
             "color": "#2a3f5f"
            },
            "marker": {
             "line": {
              "color": "#E5ECF6",
              "width": 0.5
             }
            },
            "type": "bar"
           }
          ],
          "barpolar": [
           {
            "marker": {
             "line": {
              "color": "#E5ECF6",
              "width": 0.5
             }
            },
            "type": "barpolar"
           }
          ],
          "carpet": [
           {
            "aaxis": {
             "endlinecolor": "#2a3f5f",
             "gridcolor": "white",
             "linecolor": "white",
             "minorgridcolor": "white",
             "startlinecolor": "#2a3f5f"
            },
            "baxis": {
             "endlinecolor": "#2a3f5f",
             "gridcolor": "white",
             "linecolor": "white",
             "minorgridcolor": "white",
             "startlinecolor": "#2a3f5f"
            },
            "type": "carpet"
           }
          ],
          "choropleth": [
           {
            "colorbar": {
             "outlinewidth": 0,
             "ticks": ""
            },
            "type": "choropleth"
           }
          ],
          "contour": [
           {
            "colorbar": {
             "outlinewidth": 0,
             "ticks": ""
            },
            "colorscale": [
             [
              0,
              "#0d0887"
             ],
             [
              0.1111111111111111,
              "#46039f"
             ],
             [
              0.2222222222222222,
              "#7201a8"
             ],
             [
              0.3333333333333333,
              "#9c179e"
             ],
             [
              0.4444444444444444,
              "#bd3786"
             ],
             [
              0.5555555555555556,
              "#d8576b"
             ],
             [
              0.6666666666666666,
              "#ed7953"
             ],
             [
              0.7777777777777778,
              "#fb9f3a"
             ],
             [
              0.8888888888888888,
              "#fdca26"
             ],
             [
              1,
              "#f0f921"
             ]
            ],
            "type": "contour"
           }
          ],
          "contourcarpet": [
           {
            "colorbar": {
             "outlinewidth": 0,
             "ticks": ""
            },
            "type": "contourcarpet"
           }
          ],
          "heatmap": [
           {
            "colorbar": {
             "outlinewidth": 0,
             "ticks": ""
            },
            "colorscale": [
             [
              0,
              "#0d0887"
             ],
             [
              0.1111111111111111,
              "#46039f"
             ],
             [
              0.2222222222222222,
              "#7201a8"
             ],
             [
              0.3333333333333333,
              "#9c179e"
             ],
             [
              0.4444444444444444,
              "#bd3786"
             ],
             [
              0.5555555555555556,
              "#d8576b"
             ],
             [
              0.6666666666666666,
              "#ed7953"
             ],
             [
              0.7777777777777778,
              "#fb9f3a"
             ],
             [
              0.8888888888888888,
              "#fdca26"
             ],
             [
              1,
              "#f0f921"
             ]
            ],
            "type": "heatmap"
           }
          ],
          "heatmapgl": [
           {
            "colorbar": {
             "outlinewidth": 0,
             "ticks": ""
            },
            "colorscale": [
             [
              0,
              "#0d0887"
             ],
             [
              0.1111111111111111,
              "#46039f"
             ],
             [
              0.2222222222222222,
              "#7201a8"
             ],
             [
              0.3333333333333333,
              "#9c179e"
             ],
             [
              0.4444444444444444,
              "#bd3786"
             ],
             [
              0.5555555555555556,
              "#d8576b"
             ],
             [
              0.6666666666666666,
              "#ed7953"
             ],
             [
              0.7777777777777778,
              "#fb9f3a"
             ],
             [
              0.8888888888888888,
              "#fdca26"
             ],
             [
              1,
              "#f0f921"
             ]
            ],
            "type": "heatmapgl"
           }
          ],
          "histogram": [
           {
            "marker": {
             "colorbar": {
              "outlinewidth": 0,
              "ticks": ""
             }
            },
            "type": "histogram"
           }
          ],
          "histogram2d": [
           {
            "colorbar": {
             "outlinewidth": 0,
             "ticks": ""
            },
            "colorscale": [
             [
              0,
              "#0d0887"
             ],
             [
              0.1111111111111111,
              "#46039f"
             ],
             [
              0.2222222222222222,
              "#7201a8"
             ],
             [
              0.3333333333333333,
              "#9c179e"
             ],
             [
              0.4444444444444444,
              "#bd3786"
             ],
             [
              0.5555555555555556,
              "#d8576b"
             ],
             [
              0.6666666666666666,
              "#ed7953"
             ],
             [
              0.7777777777777778,
              "#fb9f3a"
             ],
             [
              0.8888888888888888,
              "#fdca26"
             ],
             [
              1,
              "#f0f921"
             ]
            ],
            "type": "histogram2d"
           }
          ],
          "histogram2dcontour": [
           {
            "colorbar": {
             "outlinewidth": 0,
             "ticks": ""
            },
            "colorscale": [
             [
              0,
              "#0d0887"
             ],
             [
              0.1111111111111111,
              "#46039f"
             ],
             [
              0.2222222222222222,
              "#7201a8"
             ],
             [
              0.3333333333333333,
              "#9c179e"
             ],
             [
              0.4444444444444444,
              "#bd3786"
             ],
             [
              0.5555555555555556,
              "#d8576b"
             ],
             [
              0.6666666666666666,
              "#ed7953"
             ],
             [
              0.7777777777777778,
              "#fb9f3a"
             ],
             [
              0.8888888888888888,
              "#fdca26"
             ],
             [
              1,
              "#f0f921"
             ]
            ],
            "type": "histogram2dcontour"
           }
          ],
          "mesh3d": [
           {
            "colorbar": {
             "outlinewidth": 0,
             "ticks": ""
            },
            "type": "mesh3d"
           }
          ],
          "parcoords": [
           {
            "line": {
             "colorbar": {
              "outlinewidth": 0,
              "ticks": ""
             }
            },
            "type": "parcoords"
           }
          ],
          "pie": [
           {
            "automargin": true,
            "type": "pie"
           }
          ],
          "scatter": [
           {
            "marker": {
             "colorbar": {
              "outlinewidth": 0,
              "ticks": ""
             }
            },
            "type": "scatter"
           }
          ],
          "scatter3d": [
           {
            "line": {
             "colorbar": {
              "outlinewidth": 0,
              "ticks": ""
             }
            },
            "marker": {
             "colorbar": {
              "outlinewidth": 0,
              "ticks": ""
             }
            },
            "type": "scatter3d"
           }
          ],
          "scattercarpet": [
           {
            "marker": {
             "colorbar": {
              "outlinewidth": 0,
              "ticks": ""
             }
            },
            "type": "scattercarpet"
           }
          ],
          "scattergeo": [
           {
            "marker": {
             "colorbar": {
              "outlinewidth": 0,
              "ticks": ""
             }
            },
            "type": "scattergeo"
           }
          ],
          "scattergl": [
           {
            "marker": {
             "colorbar": {
              "outlinewidth": 0,
              "ticks": ""
             }
            },
            "type": "scattergl"
           }
          ],
          "scattermapbox": [
           {
            "marker": {
             "colorbar": {
              "outlinewidth": 0,
              "ticks": ""
             }
            },
            "type": "scattermapbox"
           }
          ],
          "scatterpolar": [
           {
            "marker": {
             "colorbar": {
              "outlinewidth": 0,
              "ticks": ""
             }
            },
            "type": "scatterpolar"
           }
          ],
          "scatterpolargl": [
           {
            "marker": {
             "colorbar": {
              "outlinewidth": 0,
              "ticks": ""
             }
            },
            "type": "scatterpolargl"
           }
          ],
          "scatterternary": [
           {
            "marker": {
             "colorbar": {
              "outlinewidth": 0,
              "ticks": ""
             }
            },
            "type": "scatterternary"
           }
          ],
          "surface": [
           {
            "colorbar": {
             "outlinewidth": 0,
             "ticks": ""
            },
            "colorscale": [
             [
              0,
              "#0d0887"
             ],
             [
              0.1111111111111111,
              "#46039f"
             ],
             [
              0.2222222222222222,
              "#7201a8"
             ],
             [
              0.3333333333333333,
              "#9c179e"
             ],
             [
              0.4444444444444444,
              "#bd3786"
             ],
             [
              0.5555555555555556,
              "#d8576b"
             ],
             [
              0.6666666666666666,
              "#ed7953"
             ],
             [
              0.7777777777777778,
              "#fb9f3a"
             ],
             [
              0.8888888888888888,
              "#fdca26"
             ],
             [
              1,
              "#f0f921"
             ]
            ],
            "type": "surface"
           }
          ],
          "table": [
           {
            "cells": {
             "fill": {
              "color": "#EBF0F8"
             },
             "line": {
              "color": "white"
             }
            },
            "header": {
             "fill": {
              "color": "#C8D4E3"
             },
             "line": {
              "color": "white"
             }
            },
            "type": "table"
           }
          ]
         },
         "layout": {
          "annotationdefaults": {
           "arrowcolor": "#2a3f5f",
           "arrowhead": 0,
           "arrowwidth": 1
          },
          "autotypenumbers": "strict",
          "coloraxis": {
           "colorbar": {
            "outlinewidth": 0,
            "ticks": ""
           }
          },
          "colorscale": {
           "diverging": [
            [
             0,
             "#8e0152"
            ],
            [
             0.1,
             "#c51b7d"
            ],
            [
             0.2,
             "#de77ae"
            ],
            [
             0.3,
             "#f1b6da"
            ],
            [
             0.4,
             "#fde0ef"
            ],
            [
             0.5,
             "#f7f7f7"
            ],
            [
             0.6,
             "#e6f5d0"
            ],
            [
             0.7,
             "#b8e186"
            ],
            [
             0.8,
             "#7fbc41"
            ],
            [
             0.9,
             "#4d9221"
            ],
            [
             1,
             "#276419"
            ]
           ],
           "sequential": [
            [
             0,
             "#0d0887"
            ],
            [
             0.1111111111111111,
             "#46039f"
            ],
            [
             0.2222222222222222,
             "#7201a8"
            ],
            [
             0.3333333333333333,
             "#9c179e"
            ],
            [
             0.4444444444444444,
             "#bd3786"
            ],
            [
             0.5555555555555556,
             "#d8576b"
            ],
            [
             0.6666666666666666,
             "#ed7953"
            ],
            [
             0.7777777777777778,
             "#fb9f3a"
            ],
            [
             0.8888888888888888,
             "#fdca26"
            ],
            [
             1,
             "#f0f921"
            ]
           ],
           "sequentialminus": [
            [
             0,
             "#0d0887"
            ],
            [
             0.1111111111111111,
             "#46039f"
            ],
            [
             0.2222222222222222,
             "#7201a8"
            ],
            [
             0.3333333333333333,
             "#9c179e"
            ],
            [
             0.4444444444444444,
             "#bd3786"
            ],
            [
             0.5555555555555556,
             "#d8576b"
            ],
            [
             0.6666666666666666,
             "#ed7953"
            ],
            [
             0.7777777777777778,
             "#fb9f3a"
            ],
            [
             0.8888888888888888,
             "#fdca26"
            ],
            [
             1,
             "#f0f921"
            ]
           ]
          },
          "colorway": [
           "#636efa",
           "#EF553B",
           "#00cc96",
           "#ab63fa",
           "#FFA15A",
           "#19d3f3",
           "#FF6692",
           "#B6E880",
           "#FF97FF",
           "#FECB52"
          ],
          "font": {
           "color": "#2a3f5f"
          },
          "geo": {
           "bgcolor": "white",
           "lakecolor": "white",
           "landcolor": "#E5ECF6",
           "showlakes": true,
           "showland": true,
           "subunitcolor": "white"
          },
          "hoverlabel": {
           "align": "left"
          },
          "hovermode": "closest",
          "mapbox": {
           "style": "light"
          },
          "paper_bgcolor": "white",
          "plot_bgcolor": "#E5ECF6",
          "polar": {
           "angularaxis": {
            "gridcolor": "white",
            "linecolor": "white",
            "ticks": ""
           },
           "bgcolor": "#E5ECF6",
           "radialaxis": {
            "gridcolor": "white",
            "linecolor": "white",
            "ticks": ""
           }
          },
          "scene": {
           "xaxis": {
            "backgroundcolor": "#E5ECF6",
            "gridcolor": "white",
            "gridwidth": 2,
            "linecolor": "white",
            "showbackground": true,
            "ticks": "",
            "zerolinecolor": "white"
           },
           "yaxis": {
            "backgroundcolor": "#E5ECF6",
            "gridcolor": "white",
            "gridwidth": 2,
            "linecolor": "white",
            "showbackground": true,
            "ticks": "",
            "zerolinecolor": "white"
           },
           "zaxis": {
            "backgroundcolor": "#E5ECF6",
            "gridcolor": "white",
            "gridwidth": 2,
            "linecolor": "white",
            "showbackground": true,
            "ticks": "",
            "zerolinecolor": "white"
           }
          },
          "shapedefaults": {
           "line": {
            "color": "#2a3f5f"
           }
          },
          "ternary": {
           "aaxis": {
            "gridcolor": "white",
            "linecolor": "white",
            "ticks": ""
           },
           "baxis": {
            "gridcolor": "white",
            "linecolor": "white",
            "ticks": ""
           },
           "bgcolor": "#E5ECF6",
           "caxis": {
            "gridcolor": "white",
            "linecolor": "white",
            "ticks": ""
           }
          },
          "title": {
           "x": 0.05
          },
          "xaxis": {
           "automargin": true,
           "gridcolor": "white",
           "linecolor": "white",
           "ticks": "",
           "title": {
            "standoff": 15
           },
           "zerolinecolor": "white",
           "zerolinewidth": 2
          },
          "yaxis": {
           "automargin": true,
           "gridcolor": "white",
           "linecolor": "white",
           "ticks": "",
           "title": {
            "standoff": 15
           },
           "zerolinecolor": "white",
           "zerolinewidth": 2
          }
         }
        },
        "title": {
         "text": "Hyperparameter Importances"
        },
        "xaxis": {
         "title": {
          "text": "Importance for Objective Value"
         }
        },
        "yaxis": {
         "title": {
          "text": "Hyperparameter"
         }
        }
       }
      },
      "text/html": [
       "<div>                            <div id=\"a56ed7de-877b-48db-91e4-70150128dd72\" class=\"plotly-graph-div\" style=\"height:525px; width:100%;\"></div>            <script type=\"text/javascript\">                require([\"plotly\"], function(Plotly) {                    window.PLOTLYENV=window.PLOTLYENV || {};                                    if (document.getElementById(\"a56ed7de-877b-48db-91e4-70150128dd72\")) {                    Plotly.newPlot(                        \"a56ed7de-877b-48db-91e4-70150128dd72\",                        [{\"cliponaxis\": false, \"hovertemplate\": [\"Look Back (IntUniformDistribution): 0.0662848741868304<extra></extra>\", \"N layers (IntUniformDistribution): 0.08031730459601569<extra></extra>\", \"Hidden Dim (IntLogUniformDistribution): 0.08715116871850032<extra></extra>\", \"Factor (LogUniformDistribution): 0.2004562691410323<extra></extra>\", \"Learning Rate (LogUniformDistribution): 0.5657903833576213<extra></extra>\"], \"marker\": {\"color\": \"rgb(66,146,198)\"}, \"orientation\": \"h\", \"text\": [\"0.0662848741868304\", \"0.08031730459601569\", \"0.08715116871850032\", \"0.2004562691410323\", \"0.5657903833576213\"], \"textposition\": \"outside\", \"texttemplate\": \"%{text:.2f}\", \"type\": \"bar\", \"x\": [0.0662848741868304, 0.08031730459601569, 0.08715116871850032, 0.2004562691410323, 0.5657903833576213], \"y\": [\"Look Back\", \"N layers\", \"Hidden Dim\", \"Factor\", \"Learning Rate\"]}],                        {\"showlegend\": false, \"template\": {\"data\": {\"bar\": [{\"error_x\": {\"color\": \"#2a3f5f\"}, \"error_y\": {\"color\": \"#2a3f5f\"}, \"marker\": {\"line\": {\"color\": \"#E5ECF6\", \"width\": 0.5}}, \"type\": \"bar\"}], \"barpolar\": [{\"marker\": {\"line\": {\"color\": \"#E5ECF6\", \"width\": 0.5}}, \"type\": \"barpolar\"}], \"carpet\": [{\"aaxis\": {\"endlinecolor\": \"#2a3f5f\", \"gridcolor\": \"white\", \"linecolor\": \"white\", \"minorgridcolor\": \"white\", \"startlinecolor\": \"#2a3f5f\"}, \"baxis\": {\"endlinecolor\": \"#2a3f5f\", \"gridcolor\": \"white\", \"linecolor\": \"white\", \"minorgridcolor\": \"white\", \"startlinecolor\": \"#2a3f5f\"}, \"type\": \"carpet\"}], \"choropleth\": [{\"colorbar\": {\"outlinewidth\": 0, \"ticks\": \"\"}, \"type\": \"choropleth\"}], \"contour\": [{\"colorbar\": {\"outlinewidth\": 0, \"ticks\": \"\"}, \"colorscale\": [[0.0, \"#0d0887\"], [0.1111111111111111, \"#46039f\"], [0.2222222222222222, \"#7201a8\"], [0.3333333333333333, \"#9c179e\"], [0.4444444444444444, \"#bd3786\"], [0.5555555555555556, \"#d8576b\"], [0.6666666666666666, \"#ed7953\"], [0.7777777777777778, \"#fb9f3a\"], [0.8888888888888888, \"#fdca26\"], [1.0, \"#f0f921\"]], \"type\": \"contour\"}], \"contourcarpet\": [{\"colorbar\": {\"outlinewidth\": 0, \"ticks\": \"\"}, \"type\": \"contourcarpet\"}], \"heatmap\": [{\"colorbar\": {\"outlinewidth\": 0, \"ticks\": \"\"}, \"colorscale\": [[0.0, \"#0d0887\"], [0.1111111111111111, \"#46039f\"], [0.2222222222222222, \"#7201a8\"], [0.3333333333333333, \"#9c179e\"], [0.4444444444444444, \"#bd3786\"], [0.5555555555555556, \"#d8576b\"], [0.6666666666666666, \"#ed7953\"], [0.7777777777777778, \"#fb9f3a\"], [0.8888888888888888, \"#fdca26\"], [1.0, \"#f0f921\"]], \"type\": \"heatmap\"}], \"heatmapgl\": [{\"colorbar\": {\"outlinewidth\": 0, \"ticks\": \"\"}, \"colorscale\": [[0.0, \"#0d0887\"], [0.1111111111111111, \"#46039f\"], [0.2222222222222222, \"#7201a8\"], [0.3333333333333333, \"#9c179e\"], [0.4444444444444444, \"#bd3786\"], [0.5555555555555556, \"#d8576b\"], [0.6666666666666666, \"#ed7953\"], [0.7777777777777778, \"#fb9f3a\"], [0.8888888888888888, \"#fdca26\"], [1.0, \"#f0f921\"]], \"type\": \"heatmapgl\"}], \"histogram\": [{\"marker\": {\"colorbar\": {\"outlinewidth\": 0, \"ticks\": \"\"}}, \"type\": \"histogram\"}], \"histogram2d\": [{\"colorbar\": {\"outlinewidth\": 0, \"ticks\": \"\"}, \"colorscale\": [[0.0, \"#0d0887\"], [0.1111111111111111, \"#46039f\"], [0.2222222222222222, \"#7201a8\"], [0.3333333333333333, \"#9c179e\"], [0.4444444444444444, \"#bd3786\"], [0.5555555555555556, \"#d8576b\"], [0.6666666666666666, \"#ed7953\"], [0.7777777777777778, \"#fb9f3a\"], [0.8888888888888888, \"#fdca26\"], [1.0, \"#f0f921\"]], \"type\": \"histogram2d\"}], \"histogram2dcontour\": [{\"colorbar\": {\"outlinewidth\": 0, \"ticks\": \"\"}, \"colorscale\": [[0.0, \"#0d0887\"], [0.1111111111111111, \"#46039f\"], [0.2222222222222222, \"#7201a8\"], [0.3333333333333333, \"#9c179e\"], [0.4444444444444444, \"#bd3786\"], [0.5555555555555556, \"#d8576b\"], [0.6666666666666666, \"#ed7953\"], [0.7777777777777778, \"#fb9f3a\"], [0.8888888888888888, \"#fdca26\"], [1.0, \"#f0f921\"]], \"type\": \"histogram2dcontour\"}], \"mesh3d\": [{\"colorbar\": {\"outlinewidth\": 0, \"ticks\": \"\"}, \"type\": \"mesh3d\"}], \"parcoords\": [{\"line\": {\"colorbar\": {\"outlinewidth\": 0, \"ticks\": \"\"}}, \"type\": \"parcoords\"}], \"pie\": [{\"automargin\": true, \"type\": \"pie\"}], \"scatter\": [{\"marker\": {\"colorbar\": {\"outlinewidth\": 0, \"ticks\": \"\"}}, \"type\": \"scatter\"}], \"scatter3d\": [{\"line\": {\"colorbar\": {\"outlinewidth\": 0, \"ticks\": \"\"}}, \"marker\": {\"colorbar\": {\"outlinewidth\": 0, \"ticks\": \"\"}}, \"type\": \"scatter3d\"}], \"scattercarpet\": [{\"marker\": {\"colorbar\": {\"outlinewidth\": 0, \"ticks\": \"\"}}, \"type\": \"scattercarpet\"}], \"scattergeo\": [{\"marker\": {\"colorbar\": {\"outlinewidth\": 0, \"ticks\": \"\"}}, \"type\": \"scattergeo\"}], \"scattergl\": [{\"marker\": {\"colorbar\": {\"outlinewidth\": 0, \"ticks\": \"\"}}, \"type\": \"scattergl\"}], \"scattermapbox\": [{\"marker\": {\"colorbar\": {\"outlinewidth\": 0, \"ticks\": \"\"}}, \"type\": \"scattermapbox\"}], \"scatterpolar\": [{\"marker\": {\"colorbar\": {\"outlinewidth\": 0, \"ticks\": \"\"}}, \"type\": \"scatterpolar\"}], \"scatterpolargl\": [{\"marker\": {\"colorbar\": {\"outlinewidth\": 0, \"ticks\": \"\"}}, \"type\": \"scatterpolargl\"}], \"scatterternary\": [{\"marker\": {\"colorbar\": {\"outlinewidth\": 0, \"ticks\": \"\"}}, \"type\": \"scatterternary\"}], \"surface\": [{\"colorbar\": {\"outlinewidth\": 0, \"ticks\": \"\"}, \"colorscale\": [[0.0, \"#0d0887\"], [0.1111111111111111, \"#46039f\"], [0.2222222222222222, \"#7201a8\"], [0.3333333333333333, \"#9c179e\"], [0.4444444444444444, \"#bd3786\"], [0.5555555555555556, \"#d8576b\"], [0.6666666666666666, \"#ed7953\"], [0.7777777777777778, \"#fb9f3a\"], [0.8888888888888888, \"#fdca26\"], [1.0, \"#f0f921\"]], \"type\": \"surface\"}], \"table\": [{\"cells\": {\"fill\": {\"color\": \"#EBF0F8\"}, \"line\": {\"color\": \"white\"}}, \"header\": {\"fill\": {\"color\": \"#C8D4E3\"}, \"line\": {\"color\": \"white\"}}, \"type\": \"table\"}]}, \"layout\": {\"annotationdefaults\": {\"arrowcolor\": \"#2a3f5f\", \"arrowhead\": 0, \"arrowwidth\": 1}, \"autotypenumbers\": \"strict\", \"coloraxis\": {\"colorbar\": {\"outlinewidth\": 0, \"ticks\": \"\"}}, \"colorscale\": {\"diverging\": [[0, \"#8e0152\"], [0.1, \"#c51b7d\"], [0.2, \"#de77ae\"], [0.3, \"#f1b6da\"], [0.4, \"#fde0ef\"], [0.5, \"#f7f7f7\"], [0.6, \"#e6f5d0\"], [0.7, \"#b8e186\"], [0.8, \"#7fbc41\"], [0.9, \"#4d9221\"], [1, \"#276419\"]], \"sequential\": [[0.0, \"#0d0887\"], [0.1111111111111111, \"#46039f\"], [0.2222222222222222, \"#7201a8\"], [0.3333333333333333, \"#9c179e\"], [0.4444444444444444, \"#bd3786\"], [0.5555555555555556, \"#d8576b\"], [0.6666666666666666, \"#ed7953\"], [0.7777777777777778, \"#fb9f3a\"], [0.8888888888888888, \"#fdca26\"], [1.0, \"#f0f921\"]], \"sequentialminus\": [[0.0, \"#0d0887\"], [0.1111111111111111, \"#46039f\"], [0.2222222222222222, \"#7201a8\"], [0.3333333333333333, \"#9c179e\"], [0.4444444444444444, \"#bd3786\"], [0.5555555555555556, \"#d8576b\"], [0.6666666666666666, \"#ed7953\"], [0.7777777777777778, \"#fb9f3a\"], [0.8888888888888888, \"#fdca26\"], [1.0, \"#f0f921\"]]}, \"colorway\": [\"#636efa\", \"#EF553B\", \"#00cc96\", \"#ab63fa\", \"#FFA15A\", \"#19d3f3\", \"#FF6692\", \"#B6E880\", \"#FF97FF\", \"#FECB52\"], \"font\": {\"color\": \"#2a3f5f\"}, \"geo\": {\"bgcolor\": \"white\", \"lakecolor\": \"white\", \"landcolor\": \"#E5ECF6\", \"showlakes\": true, \"showland\": true, \"subunitcolor\": \"white\"}, \"hoverlabel\": {\"align\": \"left\"}, \"hovermode\": \"closest\", \"mapbox\": {\"style\": \"light\"}, \"paper_bgcolor\": \"white\", \"plot_bgcolor\": \"#E5ECF6\", \"polar\": {\"angularaxis\": {\"gridcolor\": \"white\", \"linecolor\": \"white\", \"ticks\": \"\"}, \"bgcolor\": \"#E5ECF6\", \"radialaxis\": {\"gridcolor\": \"white\", \"linecolor\": \"white\", \"ticks\": \"\"}}, \"scene\": {\"xaxis\": {\"backgroundcolor\": \"#E5ECF6\", \"gridcolor\": \"white\", \"gridwidth\": 2, \"linecolor\": \"white\", \"showbackground\": true, \"ticks\": \"\", \"zerolinecolor\": \"white\"}, \"yaxis\": {\"backgroundcolor\": \"#E5ECF6\", \"gridcolor\": \"white\", \"gridwidth\": 2, \"linecolor\": \"white\", \"showbackground\": true, \"ticks\": \"\", \"zerolinecolor\": \"white\"}, \"zaxis\": {\"backgroundcolor\": \"#E5ECF6\", \"gridcolor\": \"white\", \"gridwidth\": 2, \"linecolor\": \"white\", \"showbackground\": true, \"ticks\": \"\", \"zerolinecolor\": \"white\"}}, \"shapedefaults\": {\"line\": {\"color\": \"#2a3f5f\"}}, \"ternary\": {\"aaxis\": {\"gridcolor\": \"white\", \"linecolor\": \"white\", \"ticks\": \"\"}, \"baxis\": {\"gridcolor\": \"white\", \"linecolor\": \"white\", \"ticks\": \"\"}, \"bgcolor\": \"#E5ECF6\", \"caxis\": {\"gridcolor\": \"white\", \"linecolor\": \"white\", \"ticks\": \"\"}}, \"title\": {\"x\": 0.05}, \"xaxis\": {\"automargin\": true, \"gridcolor\": \"white\", \"linecolor\": \"white\", \"ticks\": \"\", \"title\": {\"standoff\": 15}, \"zerolinecolor\": \"white\", \"zerolinewidth\": 2}, \"yaxis\": {\"automargin\": true, \"gridcolor\": \"white\", \"linecolor\": \"white\", \"ticks\": \"\", \"title\": {\"standoff\": 15}, \"zerolinecolor\": \"white\", \"zerolinewidth\": 2}}}, \"title\": {\"text\": \"Hyperparameter Importances\"}, \"xaxis\": {\"title\": {\"text\": \"Importance for Objective Value\"}}, \"yaxis\": {\"title\": {\"text\": \"Hyperparameter\"}}},                        {\"responsive\": true}                    ).then(function(){\n",
       "                            \n",
       "var gd = document.getElementById('a56ed7de-877b-48db-91e4-70150128dd72');\n",
       "var x = new MutationObserver(function (mutations, observer) {{\n",
       "        var display = window.getComputedStyle(gd).display;\n",
       "        if (!display || display === 'none') {{\n",
       "            console.log([gd, 'removed!']);\n",
       "            Plotly.purge(gd);\n",
       "            observer.disconnect();\n",
       "        }}\n",
       "}});\n",
       "\n",
       "// Listen for the removal of the full notebook cells\n",
       "var notebookContainer = gd.closest('#notebook-container');\n",
       "if (notebookContainer) {{\n",
       "    x.observe(notebookContainer, {childList: true});\n",
       "}}\n",
       "\n",
       "// Listen for the clearing of the current output cell\n",
       "var outputEl = gd.closest('.output');\n",
       "if (outputEl) {{\n",
       "    x.observe(outputEl, {childList: true});\n",
       "}}\n",
       "\n",
       "                        })                };                });            </script>        </div>"
      ]
     },
     "metadata": {},
     "output_type": "display_data"
    }
   ],
   "source": [
    "optuna.visualization.plot_param_importances(study_gru)"
   ]
  },
  {
   "cell_type": "code",
   "execution_count": 234,
   "id": "b0d925fa",
   "metadata": {},
   "outputs": [
    {
     "name": "stdout",
     "output_type": "stream",
     "text": [
      "Best trial:\n",
      "Value:  7.031285349512473e-05\n",
      "{'Look Back': 63, 'Hidden Dim': 23, 'N layers': 3, 'Learning Rate': 0.00638800406818388, 'Factor': 0.9948387771830486}\n"
     ]
    }
   ],
   "source": [
    "print(\"Best trial:\")\n",
    "trial_gru = study_gru.best_trial\n",
    "\n",
    "print(\"Value: \", trial_gru.value)\n",
    "print(trial_gru.params)"
   ]
  },
  {
   "cell_type": "code",
   "execution_count": 235,
   "id": "2f0a876d",
   "metadata": {},
   "outputs": [
    {
     "name": "stdout",
     "output_type": "stream",
     "text": [
      "x_train.shape =  (714, 62, 2)\n",
      "y_train.shape =  (714, 1)\n",
      "x_test.shape =  (179, 62, 2)\n",
      "y_test.shape =  (179, 1)\n"
     ]
    }
   ],
   "source": [
    "look_back = trial_gru.params['Look Back'] # choose sequence length\n",
    "[x_train, y_train, x_test, y_test], rand_perm = load_data(scaled, look_back, use_perm=True)\n",
    "print('x_train.shape = ',x_train.shape)\n",
    "print('y_train.shape = ',y_train.shape)\n",
    "print('x_test.shape = ',x_test.shape)\n",
    "print('y_test.shape = ',y_test.shape)\n",
    "# make training and test sets in torch\n",
    "#print(device)\n",
    "x_train = torch.from_numpy(x_train).type(torch.Tensor).to(device)\n",
    "x_test = torch.from_numpy(x_test).type(torch.Tensor).to(device)\n",
    "y_train = torch.from_numpy(y_train).type(torch.Tensor).to(device)\n",
    "y_test = torch.from_numpy(y_test).type(torch.Tensor).to(device)"
   ]
  },
  {
   "cell_type": "code",
   "execution_count": 236,
   "id": "61d2e433",
   "metadata": {},
   "outputs": [
    {
     "name": "stdout",
     "output_type": "stream",
     "text": [
      "Epoch  0 MSE:  0.3418048620223999\n",
      "Epoch  50 MSE:  0.0017196277622133493\n",
      "Epoch  100 MSE:  0.00015891897783149034\n",
      "Epoch  150 MSE:  0.00012064241309417412\n",
      "Epoch  200 MSE:  0.00011343316873535514\n",
      "Epoch  250 MSE:  0.00010807505896082148\n",
      "Epoch  300 MSE:  0.00010324386676074937\n",
      "Epoch  350 MSE:  9.816706005949527e-05\n",
      "Epoch  400 MSE:  9.456122643314302e-05\n",
      "Epoch  450 MSE:  9.212196164298803e-05\n",
      "Epoch  500 MSE:  9.018297714646906e-05\n",
      "Epoch  550 MSE:  8.855002670316026e-05\n",
      "Epoch  600 MSE:  8.711637201486155e-05\n",
      "Epoch  650 MSE:  8.582830923842266e-05\n",
      "Epoch  700 MSE:  8.473497291561216e-05\n",
      "Epoch  750 MSE:  8.381614316022024e-05\n",
      "Epoch  800 MSE:  8.302280184580013e-05\n",
      "Epoch  850 MSE:  8.22955698822625e-05\n",
      "Epoch  900 MSE:  8.154186798492447e-05\n",
      "Epoch  950 MSE:  8.099461410893127e-05\n"
     ]
    }
   ],
   "source": [
    "input_dim = 2\n",
    "hidden_dim = trial_gru.params['Hidden Dim']\n",
    "num_layers = trial_gru.params['N layers']\n",
    "output_dim = 1\n",
    "model = GRU(input_dim=input_dim, hidden_dim=hidden_dim, output_dim=output_dim, num_layers=num_layers).to(device)\n",
    "\n",
    "loss_fn = torch.nn.MSELoss()\n",
    "lr = trial_gru.params['Learning Rate']\n",
    "optimizer = torch.optim.Adam(model.parameters(), lr=lr)\n",
    "\"\"\"\n",
    "print(model)\n",
    "print(len(list(model.parameters())))\n",
    "for i in range(len(list(model.parameters()))):\n",
    "print(list(model.parameters())[i].size())\n",
    "\"\"\"\n",
    "num_epochs = 1000\n",
    "factor = trial_gru.params['Factor']\n",
    "scheduler = torch.optim.lr_scheduler.ReduceLROnPlateau(optimizer, factor=factor, patience = 5)\n",
    "hist = np.zeros(num_epochs)\n",
    "for epoch in range(num_epochs):\n",
    "    # Initialise hidden state\n",
    "    # Don't do this if you want your LSTM to be stateful\n",
    "    #model.hidden = model.init_hidden()\n",
    "\n",
    "    # Forward pass\n",
    "    y_train_pred = model(x_train)\n",
    "\n",
    "    loss = loss_fn(y_train_pred, y_train)\n",
    "    if epoch % 50 == 0:\n",
    "        print(\"Epoch \", epoch, \"MSE: \", loss.item())\n",
    "    hist[epoch] = loss.item()\n",
    "    # Zero out gradient, else they will accumulate between epochs\n",
    "    optimizer.zero_grad()\n",
    "\n",
    "    # Backward pass\n",
    "    loss.backward()\n",
    "\n",
    "    # Update parameters\n",
    "    optimizer.step()\n",
    "    scheduler.step(loss)"
   ]
  },
  {
   "cell_type": "code",
   "execution_count": 237,
   "id": "agreed-bundle",
   "metadata": {},
   "outputs": [
    {
     "data": {
      "image/png": "[encoded data removed]",
      "text/plain": [
       "<Figure size 432x288 with 1 Axes>"
      ]
     },
     "metadata": {
      "needs_background": "light"
     },
     "output_type": "display_data"
    }
   ],
   "source": [
    "plt.semilogy(hist, label=\"Training loss\")\n",
    "plt.legend()\n",
    "plt.show()"
   ]
  },
  {
   "cell_type": "code",
   "execution_count": 238,
   "id": "based-batch",
   "metadata": {},
   "outputs": [],
   "source": [
    "# make predictions\n",
    "y_test_pred = model(x_test)\n",
    "# invert predictions\n",
    "\n",
    "y_train_pred = scaler1.inverse_transform(y_train_pred.cpu().detach().numpy())\n",
    "y_train = scaler1.inverse_transform(y_train.detach().cpu().numpy())\n",
    "y_test_pred = scaler1.inverse_transform(y_test_pred.cpu().detach().numpy())\n",
    "y_test = scaler1.inverse_transform(y_test.cpu().detach().numpy())\n"
   ]
  },
  {
   "cell_type": "code",
   "execution_count": 239,
   "id": "collective-reynolds",
   "metadata": {},
   "outputs": [
    {
     "name": "stdout",
     "output_type": "stream",
     "text": [
      "Train Score: 129.43 RMSE\n",
      "Test Score: 132.76 RMSE\n"
     ]
    }
   ],
   "source": [
    "# calculate root mean squared error\n",
    "trainScore = math.sqrt(mean_squared_error(y_train[:,0], y_train_pred[:,0]))\n",
    "print('Train Score: %.2f RMSE' % (trainScore))\n",
    "testScore = math.sqrt(mean_squared_error(y_test[:,0], y_test_pred[:,0]))\n",
    "print('Test Score: %.2f RMSE' % (testScore))\n",
    "#ShiftedtestScore = math.sqrt(mean_squared_error(y_test[:,0], y_test_pred[:,0]))\n",
    "#print('Shifted Test Score: %.2f RMSE' % (ShiftedtestScore))"
   ]
  },
  {
   "cell_type": "code",
   "execution_count": 240,
   "id": "5e51d525",
   "metadata": {},
   "outputs": [
    {
     "data": {
      "text/plain": [
       "<matplotlib.legend.Legend at 0x19fb50e1fa0>"
      ]
     },
     "execution_count": 240,
     "metadata": {},
     "output_type": "execute_result"
    },
    {
     "data": {
      "image/png": "[encoded data removed]",
      "text/plain": [
       "<Figure size 1080x432 with 1 Axes>"
      ]
     },
     "metadata": {
      "needs_background": "light"
     },
     "output_type": "display_data"
    }
   ],
   "source": [
    "[_, _, x_test, y_test], rand_perm = load_data(scaled, look_back, use_perm = False)\n",
    "x_test = torch.from_numpy(x_test).type(torch.Tensor).to(device)\n",
    "#y_test = torch.from_numpy(y_test).type(torch.Tensor).to(device)\n",
    "y_test_pred = model(x_test)\n",
    "y_test_pred = scaler1.inverse_transform(y_test_pred.cpu().detach().numpy())\n",
    "y_test = scaler1.inverse_transform(y_test)\n",
    "figure, axes = plt.subplots(figsize=(15, 6))\n",
    "axes.xaxis_date()\n",
    "axes.plot(nasdaq[len(nasdaq)-len(y_test):].index, y_test, color = 'red', label = 'Real NASDAQ Price')\n",
    "axes.plot(nasdaq[len(nasdaq)-len(y_test):].index, y_test_pred, color = 'blue', label = 'Predicted NASDAQ Price')\n",
    "#axes.xticks(np.arange(0,394,50))\n",
    "plt.title('NASDAQ-100 Stock Price Prediction')\n",
    "plt.xlabel('Time')\n",
    "plt.ylabel('NASDAQ-100 Stock Price')\n",
    "plt.legend()"
   ]
  },
  {
   "cell_type": "code",
   "execution_count": 241,
   "id": "df4863dd",
   "metadata": {},
   "outputs": [
    {
     "data": {
      "text/plain": [
       "<matplotlib.legend.Legend at 0x19fb514c550>"
      ]
     },
     "execution_count": 241,
     "metadata": {},
     "output_type": "execute_result"
    },
    {
     "data": {
      "image/png": "[encoded data removed]",
      "text/plain": [
       "<Figure size 1080x432 with 1 Axes>"
      ]
     },
     "metadata": {
      "needs_background": "light"
     },
     "output_type": "display_data"
    }
   ],
   "source": [
    "last = 20\n",
    "figure, axes = plt.subplots(figsize=(15, 6))\n",
    "axes.xaxis_date()\n",
    "axes.plot(nasdaq[-last:].index, y_test[-last:], color = 'red', label = 'Real NASDAQ Price')\n",
    "axes.plot(nasdaq[-last:].index, y_test_pred[-last:], color = 'blue', label = 'Predicted NASDAQ Price')\n",
    "plt.legend()"
   ]
  },
  {
   "cell_type": "code",
   "execution_count": 242,
   "id": "f632d1c8",
   "metadata": {},
   "outputs": [
    {
     "name": "stdout",
     "output_type": "stream",
     "text": [
      "[13839.82421875, 13877.2861328125, 13910.1767578125, 13944.6962890625, 13979.7705078125]\n"
     ]
    },
    {
     "data": {
      "text/plain": [
       "[<matplotlib.lines.Line2D at 0x19fb55ef8e0>]"
      ]
     },
     "execution_count": 242,
     "metadata": {},
     "output_type": "execute_result"
    },
    {
     "data": {
      "image/png": "[encoded data removed]",
      "text/plain": [
       "<Figure size 1080x432 with 1 Axes>"
      ]
     },
     "metadata": {
      "needs_background": "light"
     },
     "output_type": "display_data"
    }
   ],
   "source": [
    "data_raw = scaled.values\n",
    "predictions = []\n",
    "n = 5\n",
    "data = np.array(data_raw[len(data_raw) - look_back:])\n",
    "x_test = data.reshape(1,data.shape[0],data.shape[1])\n",
    "x_test = torch.from_numpy(x_test).type(torch.Tensor).to(device)\n",
    "for _ in range(n):\n",
    "    y_test_pred = model(x_test)\n",
    "    tmp = torch.tensor([[[y_test_pred[0,0].item(),2*x_test[0,-1,1].item()-x_test[0,-2,1].item()]]]).to(device)\n",
    "    #x_test = np.concatenate((data_raw,tmp),axis=0,dtype='object')\n",
    "    x_test = torch.cat((x_test,tmp),1)[:,1:,:]\n",
    "    ##print(x_test.shape)\n",
    "    y_test_pred = scaler1.inverse_transform(y_test_pred.cpu().detach().numpy())\n",
    "    predictions.append(y_test_pred.item())\n",
    "#print(predictions)\n",
    "figure, axes = plt.subplots(figsize=(15, 6))\n",
    "print(predictions)\n",
    "axes.plot(predictions)\n",
    "#next_week_forecast = model(data)"
   ]
  },
  {
   "cell_type": "markdown",
   "id": "c992cb4e",
   "metadata": {},
   "source": [
    "# Prediction with LSTM"
   ]
  },
  {
   "cell_type": "code",
   "execution_count": 243,
   "id": "3895f051",
   "metadata": {},
   "outputs": [],
   "source": [
    "device = torch.device(\"cuda:0\" if torch.cuda.is_available() else \"cpu\")\n",
    "def objective(trial):\n",
    "    look_back = trial.suggest_int(\"Look Back\",5,100) # choose sequence length\n",
    "    [x_train, y_train, x_test, y_test], _ = load_data(scaled, look_back, use_perm=True)\n",
    "    x_train = torch.from_numpy(x_train).type(torch.Tensor).to(device)\n",
    "    x_test = torch.from_numpy(x_test).type(torch.Tensor).to(device)\n",
    "    y_train = torch.from_numpy(y_train).type(torch.Tensor).to(device)\n",
    "    y_test = torch.from_numpy(y_test).type(torch.Tensor).to(device)\n",
    "    \n",
    "    input_dim = 2\n",
    "    hidden_dim = trial.suggest_int(\"Hidden Dim\",16,128,log=True)\n",
    "    num_layers = trial.suggest_int(\"N layers\",1,3)\n",
    "    output_dim = 1\n",
    "    model = LSTM(input_dim=input_dim, hidden_dim=hidden_dim, output_dim=output_dim, num_layers=num_layers).to(device)\n",
    "\n",
    "    loss_fn = torch.nn.MSELoss()\n",
    "    lr = trial.suggest_float(\"Learning Rate\",1e-4,1,log=True)\n",
    "    optimizer = torch.optim.Adam(model.parameters(), lr=lr)\n",
    "\n",
    "    num_epochs = 1000\n",
    "    factor = trial.suggest_float('Factor',0.1,1,log=True)\n",
    "    scheduler = torch.optim.lr_scheduler.ReduceLROnPlateau(optimizer, factor=factor, patience=5)\n",
    "    for epoch in range(num_epochs):\n",
    "        # Initialise hidden state\n",
    "        # Don't do this if you want your LSTM to be stateful\n",
    "        #model.hidden = model.init_hidden()\n",
    "\n",
    "        # Forward pass\n",
    "        y_train_pred = model(x_train)\n",
    "\n",
    "        loss = loss_fn(y_train_pred, y_train)\n",
    "\n",
    "        # Zero out gradient, else they will accumulate between epochs\n",
    "        optimizer.zero_grad()\n",
    "\n",
    "        # Backward pass\n",
    "        loss.backward()\n",
    "\n",
    "        # Update parameters\n",
    "        optimizer.step()\n",
    "        scheduler.step(loss)\n",
    "        trial.report(loss, epoch)\n",
    "        if trial.should_prune():\n",
    "            raise optuna.exceptions.TrialPruned()\n",
    "    return loss"
   ]
  },
  {
   "cell_type": "code",
   "execution_count": 244,
   "id": "c1568e5a",
   "metadata": {},
   "outputs": [
    {
     "name": "stderr",
     "output_type": "stream",
     "text": [
      "\u001b[32m[I 2021-06-21 16:47:42,614]\u001b[0m A new study created in memory with name: LSTM\u001b[0m\n",
      "\u001b[32m[I 2021-06-21 16:48:18,789]\u001b[0m Trial 0 finished with value: 0.00017983111320063472 and parameters: {'Look Back': 56, 'Hidden Dim': 67, 'N layers': 2, 'Learning Rate': 0.002798315415368764, 'Factor': 0.34369102174888244}. Best is trial 0 with value: 0.00017983111320063472.\u001b[0m\n",
      "\u001b[32m[I 2021-06-21 16:50:11,736]\u001b[0m Trial 1 finished with value: 0.0003900669398717582 and parameters: {'Look Back': 60, 'Hidden Dim': 120, 'N layers': 3, 'Learning Rate': 0.0003675195986373514, 'Factor': 0.2058845966490188}. Best is trial 0 with value: 0.00017983111320063472.\u001b[0m\n",
      "\u001b[32m[I 2021-06-21 16:50:27,738]\u001b[0m Trial 2 finished with value: 0.00020600069547072053 and parameters: {'Look Back': 43, 'Hidden Dim': 82, 'N layers': 1, 'Learning Rate': 0.001851445569077532, 'Factor': 0.1793771794026209}. Best is trial 0 with value: 0.00017983111320063472.\u001b[0m\n",
      "\u001b[32m[I 2021-06-21 16:50:43,308]\u001b[0m Trial 3 finished with value: 0.00011932172492379323 and parameters: {'Look Back': 98, 'Hidden Dim': 35, 'N layers': 1, 'Learning Rate': 0.02929455927747477, 'Factor': 0.5344458344127742}. Best is trial 3 with value: 0.00011932172492379323.\u001b[0m\n",
      "\u001b[32m[I 2021-06-21 16:50:48,337]\u001b[0m Trial 4 finished with value: 0.05759383365511894 and parameters: {'Look Back': 36, 'Hidden Dim': 21, 'N layers': 1, 'Learning Rate': 0.2662060284032826, 'Factor': 0.5384114176814779}. Best is trial 3 with value: 0.00011932172492379323.\u001b[0m\n",
      "\u001b[32m[I 2021-06-21 16:50:48,424]\u001b[0m Trial 5 pruned. \u001b[0m\n",
      "\u001b[32m[I 2021-06-21 16:50:48,533]\u001b[0m Trial 6 pruned. \u001b[0m\n",
      "\u001b[32m[I 2021-06-21 16:50:48,574]\u001b[0m Trial 7 pruned. \u001b[0m\n",
      "\u001b[32m[I 2021-06-21 16:50:48,593]\u001b[0m Trial 8 pruned. \u001b[0m\n",
      "\u001b[32m[I 2021-06-21 16:50:48,691]\u001b[0m Trial 9 pruned. \u001b[0m\n",
      "\u001b[32m[I 2021-06-21 16:51:05,796]\u001b[0m Trial 10 finished with value: 8.240522583946586e-05 and parameters: {'Look Back': 97, 'Hidden Dim': 20, 'N layers': 2, 'Learning Rate': 0.024568104935623888, 'Factor': 0.942704121501132}. Best is trial 10 with value: 8.240522583946586e-05.\u001b[0m\n",
      "\u001b[32m[I 2021-06-21 16:51:23,870]\u001b[0m Trial 11 finished with value: 8.926172449719161e-05 and parameters: {'Look Back': 100, 'Hidden Dim': 17, 'N layers': 2, 'Learning Rate': 0.02886835210311619, 'Factor': 0.9640042721346973}. Best is trial 10 with value: 8.240522583946586e-05.\u001b[0m\n",
      "\u001b[32m[I 2021-06-21 16:51:37,785]\u001b[0m Trial 12 finished with value: 8.040379907470196e-05 and parameters: {'Look Back': 81, 'Hidden Dim': 17, 'N layers': 2, 'Learning Rate': 0.025568137455839083, 'Factor': 0.9979023805315722}. Best is trial 12 with value: 8.040379907470196e-05.\u001b[0m\n",
      "\u001b[32m[I 2021-06-21 16:51:39,453]\u001b[0m Trial 13 pruned. \u001b[0m\n",
      "\u001b[32m[I 2021-06-21 16:51:39,536]\u001b[0m Trial 14 pruned. \u001b[0m\n",
      "\u001b[32m[I 2021-06-21 16:51:39,634]\u001b[0m Trial 15 pruned. \u001b[0m\n",
      "\u001b[32m[I 2021-06-21 16:51:39,701]\u001b[0m Trial 16 pruned. \u001b[0m\n",
      "\u001b[32m[I 2021-06-21 16:51:39,749]\u001b[0m Trial 17 pruned. \u001b[0m\n",
      "\u001b[32m[I 2021-06-21 16:51:39,801]\u001b[0m Trial 18 pruned. \u001b[0m\n",
      "\u001b[32m[I 2021-06-21 16:51:39,861]\u001b[0m Trial 19 pruned. \u001b[0m\n",
      "\u001b[32m[I 2021-06-21 16:51:39,920]\u001b[0m Trial 20 pruned. \u001b[0m\n",
      "\u001b[32m[I 2021-06-21 16:51:39,976]\u001b[0m Trial 21 pruned. \u001b[0m\n",
      "\u001b[32m[I 2021-06-21 16:51:40,035]\u001b[0m Trial 22 pruned. \u001b[0m\n",
      "\u001b[32m[I 2021-06-21 16:51:40,085]\u001b[0m Trial 23 pruned. \u001b[0m\n",
      "\u001b[32m[I 2021-06-21 16:51:40,152]\u001b[0m Trial 24 pruned. \u001b[0m\n",
      "\u001b[32m[I 2021-06-21 16:51:40,256]\u001b[0m Trial 25 pruned. \u001b[0m\n",
      "\u001b[32m[I 2021-06-21 16:51:40,310]\u001b[0m Trial 26 pruned. \u001b[0m\n",
      "\u001b[32m[I 2021-06-21 16:51:40,383]\u001b[0m Trial 27 pruned. \u001b[0m\n",
      "\u001b[32m[I 2021-06-21 16:51:40,437]\u001b[0m Trial 28 pruned. \u001b[0m\n",
      "\u001b[32m[I 2021-06-21 16:51:40,524]\u001b[0m Trial 29 pruned. \u001b[0m\n",
      "\u001b[32m[I 2021-06-21 16:51:40,605]\u001b[0m Trial 30 pruned. \u001b[0m\n",
      "\u001b[32m[I 2021-06-21 16:51:40,650]\u001b[0m Trial 31 pruned. \u001b[0m\n",
      "\u001b[32m[I 2021-06-21 16:51:40,850]\u001b[0m Trial 32 pruned. \u001b[0m\n",
      "\u001b[32m[I 2021-06-21 16:51:40,934]\u001b[0m Trial 33 pruned. \u001b[0m\n",
      "\u001b[32m[I 2021-06-21 16:51:40,990]\u001b[0m Trial 34 pruned. \u001b[0m\n",
      "\u001b[32m[I 2021-06-21 16:51:41,033]\u001b[0m Trial 35 pruned. \u001b[0m\n",
      "\u001b[32m[I 2021-06-21 16:51:51,147]\u001b[0m Trial 36 finished with value: 9.285676060244441e-05 and parameters: {'Look Back': 94, 'Hidden Dim': 18, 'N layers': 1, 'Learning Rate': 0.0495144268196634, 'Factor': 0.7509324082199096}. Best is trial 12 with value: 8.040379907470196e-05.\u001b[0m\n",
      "\u001b[32m[I 2021-06-21 16:51:51,224]\u001b[0m Trial 37 pruned. \u001b[0m\n",
      "\u001b[32m[I 2021-06-21 16:51:51,359]\u001b[0m Trial 38 pruned. \u001b[0m\n",
      "\u001b[32m[I 2021-06-21 16:51:51,423]\u001b[0m Trial 39 pruned. \u001b[0m\n",
      "\u001b[32m[I 2021-06-21 16:51:51,482]\u001b[0m Trial 40 pruned. \u001b[0m\n",
      "\u001b[32m[I 2021-06-21 16:51:51,545]\u001b[0m Trial 41 pruned. \u001b[0m\n",
      "\u001b[32m[I 2021-06-21 16:51:51,598]\u001b[0m Trial 42 pruned. \u001b[0m\n",
      "\u001b[32m[I 2021-06-21 16:51:51,703]\u001b[0m Trial 43 pruned. \u001b[0m\n",
      "\u001b[32m[I 2021-06-21 16:51:51,752]\u001b[0m Trial 44 pruned. \u001b[0m\n",
      "\u001b[32m[I 2021-06-21 16:51:51,816]\u001b[0m Trial 45 pruned. \u001b[0m\n",
      "\u001b[32m[I 2021-06-21 16:51:51,878]\u001b[0m Trial 46 pruned. \u001b[0m\n",
      "\u001b[32m[I 2021-06-21 16:51:51,923]\u001b[0m Trial 47 pruned. \u001b[0m\n",
      "\u001b[32m[I 2021-06-21 16:51:51,994]\u001b[0m Trial 48 pruned. \u001b[0m\n",
      "\u001b[32m[I 2021-06-21 16:51:52,041]\u001b[0m Trial 49 pruned. \u001b[0m\n",
      "\u001b[32m[I 2021-06-21 16:51:52,108]\u001b[0m Trial 50 pruned. \u001b[0m\n",
      "\u001b[32m[I 2021-06-21 16:51:52,205]\u001b[0m Trial 51 pruned. \u001b[0m\n",
      "\u001b[32m[I 2021-06-21 16:51:52,258]\u001b[0m Trial 52 pruned. \u001b[0m\n",
      "\u001b[32m[I 2021-06-21 16:51:52,343]\u001b[0m Trial 53 pruned. \u001b[0m\n",
      "\u001b[32m[I 2021-06-21 16:51:52,414]\u001b[0m Trial 54 pruned. \u001b[0m\n",
      "\u001b[32m[I 2021-06-21 16:51:52,542]\u001b[0m Trial 55 pruned. \u001b[0m\n",
      "\u001b[32m[I 2021-06-21 16:51:52,595]\u001b[0m Trial 56 pruned. \u001b[0m\n",
      "\u001b[32m[I 2021-06-21 16:51:52,722]\u001b[0m Trial 57 pruned. \u001b[0m\n",
      "\u001b[32m[I 2021-06-21 16:51:52,774]\u001b[0m Trial 58 pruned. \u001b[0m\n",
      "\u001b[32m[I 2021-06-21 16:51:52,820]\u001b[0m Trial 59 pruned. \u001b[0m\n",
      "\u001b[32m[I 2021-06-21 16:51:52,859]\u001b[0m Trial 60 pruned. \u001b[0m\n",
      "\u001b[32m[I 2021-06-21 16:51:52,912]\u001b[0m Trial 61 pruned. \u001b[0m\n",
      "\u001b[32m[I 2021-06-21 16:51:52,969]\u001b[0m Trial 62 pruned. \u001b[0m\n",
      "\u001b[32m[I 2021-06-21 16:51:53,037]\u001b[0m Trial 63 pruned. \u001b[0m\n",
      "\u001b[32m[I 2021-06-21 16:51:53,085]\u001b[0m Trial 64 pruned. \u001b[0m\n",
      "\u001b[32m[I 2021-06-21 16:51:53,246]\u001b[0m Trial 65 pruned. \u001b[0m\n",
      "\u001b[32m[I 2021-06-21 16:51:53,305]\u001b[0m Trial 66 pruned. \u001b[0m\n",
      "\u001b[32m[I 2021-06-21 16:51:53,358]\u001b[0m Trial 67 pruned. \u001b[0m\n",
      "\u001b[32m[I 2021-06-21 16:51:53,410]\u001b[0m Trial 68 pruned. \u001b[0m\n",
      "\u001b[32m[I 2021-06-21 16:51:53,545]\u001b[0m Trial 69 pruned. \u001b[0m\n",
      "\u001b[32m[I 2021-06-21 16:51:53,648]\u001b[0m Trial 70 pruned. \u001b[0m\n",
      "\u001b[32m[I 2021-06-21 16:51:53,788]\u001b[0m Trial 71 pruned. \u001b[0m\n",
      "\u001b[32m[I 2021-06-21 16:51:53,874]\u001b[0m Trial 72 pruned. \u001b[0m\n",
      "\u001b[32m[I 2021-06-21 16:51:54,039]\u001b[0m Trial 73 pruned. \u001b[0m\n",
      "\u001b[32m[I 2021-06-21 16:51:54,076]\u001b[0m Trial 74 pruned. \u001b[0m\n",
      "\u001b[32m[I 2021-06-21 16:51:54,128]\u001b[0m Trial 75 pruned. \u001b[0m\n",
      "\u001b[32m[I 2021-06-21 16:51:54,201]\u001b[0m Trial 76 pruned. \u001b[0m\n",
      "\u001b[32m[I 2021-06-21 16:51:54,293]\u001b[0m Trial 77 pruned. \u001b[0m\n",
      "\u001b[32m[I 2021-06-21 16:51:54,366]\u001b[0m Trial 78 pruned. \u001b[0m\n",
      "\u001b[32m[I 2021-06-21 16:51:54,425]\u001b[0m Trial 79 pruned. \u001b[0m\n",
      "\u001b[32m[I 2021-06-21 16:51:54,560]\u001b[0m Trial 80 pruned. \u001b[0m\n",
      "\u001b[32m[I 2021-06-21 16:51:54,601]\u001b[0m Trial 81 pruned. \u001b[0m\n",
      "\u001b[32m[I 2021-06-21 16:51:54,655]\u001b[0m Trial 82 pruned. \u001b[0m\n",
      "\u001b[32m[I 2021-06-21 16:51:54,710]\u001b[0m Trial 83 pruned. \u001b[0m\n",
      "\u001b[32m[I 2021-06-21 16:51:54,760]\u001b[0m Trial 84 pruned. \u001b[0m\n",
      "\u001b[32m[I 2021-06-21 16:51:54,812]\u001b[0m Trial 85 pruned. \u001b[0m\n",
      "\u001b[32m[I 2021-06-21 16:51:54,854]\u001b[0m Trial 86 pruned. \u001b[0m\n",
      "\u001b[32m[I 2021-06-21 16:51:54,914]\u001b[0m Trial 87 pruned. \u001b[0m\n",
      "\u001b[32m[I 2021-06-21 16:51:54,968]\u001b[0m Trial 88 pruned. \u001b[0m\n",
      "\u001b[32m[I 2021-06-21 16:51:55,022]\u001b[0m Trial 89 pruned. \u001b[0m\n",
      "\u001b[32m[I 2021-06-21 16:51:55,078]\u001b[0m Trial 90 pruned. \u001b[0m\n",
      "\u001b[32m[I 2021-06-21 16:51:55,138]\u001b[0m Trial 91 pruned. \u001b[0m\n",
      "\u001b[32m[I 2021-06-21 16:51:55,237]\u001b[0m Trial 92 pruned. \u001b[0m\n",
      "\u001b[32m[I 2021-06-21 16:51:55,295]\u001b[0m Trial 93 pruned. \u001b[0m\n",
      "\u001b[32m[I 2021-06-21 16:51:55,357]\u001b[0m Trial 94 pruned. \u001b[0m\n",
      "\u001b[32m[I 2021-06-21 16:51:55,471]\u001b[0m Trial 95 pruned. \u001b[0m\n",
      "\u001b[32m[I 2021-06-21 16:51:55,528]\u001b[0m Trial 96 pruned. \u001b[0m\n",
      "\u001b[32m[I 2021-06-21 16:51:55,585]\u001b[0m Trial 97 pruned. \u001b[0m\n",
      "\u001b[32m[I 2021-06-21 16:51:55,661]\u001b[0m Trial 98 pruned. \u001b[0m\n",
      "\u001b[32m[I 2021-06-21 16:51:55,714]\u001b[0m Trial 99 pruned. \u001b[0m\n"
     ]
    },
    {
     "name": "stdout",
     "output_type": "stream",
     "text": [
      "Study statistics: \n",
      "  Number of finished trials:  100\n",
      "  Number of pruned trials:  91\n",
      "  Number of complete trials:  9\n"
     ]
    }
   ],
   "source": [
    "# now we can run the experiment\n",
    "sampler = optuna.samplers.TPESampler()\n",
    "study_lstm = optuna.create_study(study_name=\"LSTM\", direction=\"minimize\", sampler=sampler)\n",
    "study_lstm.optimize(objective, n_trials=100, timeout=120*60)\n",
    "\n",
    "pruned_trials = [t for t in study_lstm.trials if t.state == optuna.trial.TrialState.PRUNED]\n",
    "complete_trials = [t for t in study_lstm.trials if t.state == optuna.trial.TrialState.COMPLETE]\n",
    "\n",
    "print(\"Study statistics: \")\n",
    "print(\"  Number of finished trials: \", len(study_lstm.trials))\n",
    "print(\"  Number of pruned trials: \", len(pruned_trials))\n",
    "print(\"  Number of complete trials: \", len(complete_trials))\n",
    "#print(\"  Params: \")\n",
    "#for key, value in trial.params.items():\n",
    "#    print(\"    {}: {}\".format(key, value))"
   ]
  },
  {
   "cell_type": "code",
   "execution_count": 245,
   "id": "73225e8a",
   "metadata": {},
   "outputs": [
    {
     "data": {
      "application/vnd.plotly.v1+json": {
       "config": {
        "plotlyServerURL": "https://plot.ly"
       },
       "data": [
        {
         "cliponaxis": false,
         "hovertemplate": [
          "Factor (LogUniformDistribution): 0.0747536509882191<extra></extra>",
          "N layers (IntUniformDistribution): 0.08801514030750644<extra></extra>",
          "Hidden Dim (IntLogUniformDistribution): 0.13716999312810227<extra></extra>",
          "Learning Rate (LogUniformDistribution): 0.2892029143975148<extra></extra>",
          "Look Back (IntUniformDistribution): 0.4108583011786574<extra></extra>"
         ],
         "marker": {
          "color": "rgb(66,146,198)"
         },
         "orientation": "h",
         "text": [
          "0.0747536509882191",
          "0.08801514030750644",
          "0.13716999312810227",
          "0.2892029143975148",
          "0.4108583011786574"
         ],
         "textposition": "outside",
         "texttemplate": "%{text:.2f}",
         "type": "bar",
         "x": [
          0.0747536509882191,
          0.08801514030750644,
          0.13716999312810227,
          0.2892029143975148,
          0.4108583011786574
         ],
         "y": [
          "Factor",
          "N layers",
          "Hidden Dim",
          "Learning Rate",
          "Look Back"
         ]
        }
       ],
       "layout": {
        "showlegend": false,
        "template": {
         "data": {
          "bar": [
           {
            "error_x": {
             "color": "#2a3f5f"
            },
            "error_y": {
             "color": "#2a3f5f"
            },
            "marker": {
             "line": {
              "color": "#E5ECF6",
              "width": 0.5
             }
            },
            "type": "bar"
           }
          ],
          "barpolar": [
           {
            "marker": {
             "line": {
              "color": "#E5ECF6",
              "width": 0.5
             }
            },
            "type": "barpolar"
           }
          ],
          "carpet": [
           {
            "aaxis": {
             "endlinecolor": "#2a3f5f",
             "gridcolor": "white",
             "linecolor": "white",
             "minorgridcolor": "white",
             "startlinecolor": "#2a3f5f"
            },
            "baxis": {
             "endlinecolor": "#2a3f5f",
             "gridcolor": "white",
             "linecolor": "white",
             "minorgridcolor": "white",
             "startlinecolor": "#2a3f5f"
            },
            "type": "carpet"
           }
          ],
          "choropleth": [
           {
            "colorbar": {
             "outlinewidth": 0,
             "ticks": ""
            },
            "type": "choropleth"
           }
          ],
          "contour": [
           {
            "colorbar": {
             "outlinewidth": 0,
             "ticks": ""
            },
            "colorscale": [
             [
              0,
              "#0d0887"
             ],
             [
              0.1111111111111111,
              "#46039f"
             ],
             [
              0.2222222222222222,
              "#7201a8"
             ],
             [
              0.3333333333333333,
              "#9c179e"
             ],
             [
              0.4444444444444444,
              "#bd3786"
             ],
             [
              0.5555555555555556,
              "#d8576b"
             ],
             [
              0.6666666666666666,
              "#ed7953"
             ],
             [
              0.7777777777777778,
              "#fb9f3a"
             ],
             [
              0.8888888888888888,
              "#fdca26"
             ],
             [
              1,
              "#f0f921"
             ]
            ],
            "type": "contour"
           }
          ],
          "contourcarpet": [
           {
            "colorbar": {
             "outlinewidth": 0,
             "ticks": ""
            },
            "type": "contourcarpet"
           }
          ],
          "heatmap": [
           {
            "colorbar": {
             "outlinewidth": 0,
             "ticks": ""
            },
            "colorscale": [
             [
              0,
              "#0d0887"
             ],
             [
              0.1111111111111111,
              "#46039f"
             ],
             [
              0.2222222222222222,
              "#7201a8"
             ],
             [
              0.3333333333333333,
              "#9c179e"
             ],
             [
              0.4444444444444444,
              "#bd3786"
             ],
             [
              0.5555555555555556,
              "#d8576b"
             ],
             [
              0.6666666666666666,
              "#ed7953"
             ],
             [
              0.7777777777777778,
              "#fb9f3a"
             ],
             [
              0.8888888888888888,
              "#fdca26"
             ],
             [
              1,
              "#f0f921"
             ]
            ],
            "type": "heatmap"
           }
          ],
          "heatmapgl": [
           {
            "colorbar": {
             "outlinewidth": 0,
             "ticks": ""
            },
            "colorscale": [
             [
              0,
              "#0d0887"
             ],
             [
              0.1111111111111111,
              "#46039f"
             ],
             [
              0.2222222222222222,
              "#7201a8"
             ],
             [
              0.3333333333333333,
              "#9c179e"
             ],
             [
              0.4444444444444444,
              "#bd3786"
             ],
             [
              0.5555555555555556,
              "#d8576b"
             ],
             [
              0.6666666666666666,
              "#ed7953"
             ],
             [
              0.7777777777777778,
              "#fb9f3a"
             ],
             [
              0.8888888888888888,
              "#fdca26"
             ],
             [
              1,
              "#f0f921"
             ]
            ],
            "type": "heatmapgl"
           }
          ],
          "histogram": [
           {
            "marker": {
             "colorbar": {
              "outlinewidth": 0,
              "ticks": ""
             }
            },
            "type": "histogram"
           }
          ],
          "histogram2d": [
           {
            "colorbar": {
             "outlinewidth": 0,
             "ticks": ""
            },
            "colorscale": [
             [
              0,
              "#0d0887"
             ],
             [
              0.1111111111111111,
              "#46039f"
             ],
             [
              0.2222222222222222,
              "#7201a8"
             ],
             [
              0.3333333333333333,
              "#9c179e"
             ],
             [
              0.4444444444444444,
              "#bd3786"
             ],
             [
              0.5555555555555556,
              "#d8576b"
             ],
             [
              0.6666666666666666,
              "#ed7953"
             ],
             [
              0.7777777777777778,
              "#fb9f3a"
             ],
             [
              0.8888888888888888,
              "#fdca26"
             ],
             [
              1,
              "#f0f921"
             ]
            ],
            "type": "histogram2d"
           }
          ],
          "histogram2dcontour": [
           {
            "colorbar": {
             "outlinewidth": 0,
             "ticks": ""
            },
            "colorscale": [
             [
              0,
              "#0d0887"
             ],
             [
              0.1111111111111111,
              "#46039f"
             ],
             [
              0.2222222222222222,
              "#7201a8"
             ],
             [
              0.3333333333333333,
              "#9c179e"
             ],
             [
              0.4444444444444444,
              "#bd3786"
             ],
             [
              0.5555555555555556,
              "#d8576b"
             ],
             [
              0.6666666666666666,
              "#ed7953"
             ],
             [
              0.7777777777777778,
              "#fb9f3a"
             ],
             [
              0.8888888888888888,
              "#fdca26"
             ],
             [
              1,
              "#f0f921"
             ]
            ],
            "type": "histogram2dcontour"
           }
          ],
          "mesh3d": [
           {
            "colorbar": {
             "outlinewidth": 0,
             "ticks": ""
            },
            "type": "mesh3d"
           }
          ],
          "parcoords": [
           {
            "line": {
             "colorbar": {
              "outlinewidth": 0,
              "ticks": ""
             }
            },
            "type": "parcoords"
           }
          ],
          "pie": [
           {
            "automargin": true,
            "type": "pie"
           }
          ],
          "scatter": [
           {
            "marker": {
             "colorbar": {
              "outlinewidth": 0,
              "ticks": ""
             }
            },
            "type": "scatter"
           }
          ],
          "scatter3d": [
           {
            "line": {
             "colorbar": {
              "outlinewidth": 0,
              "ticks": ""
             }
            },
            "marker": {
             "colorbar": {
              "outlinewidth": 0,
              "ticks": ""
             }
            },
            "type": "scatter3d"
           }
          ],
          "scattercarpet": [
           {
            "marker": {
             "colorbar": {
              "outlinewidth": 0,
              "ticks": ""
             }
            },
            "type": "scattercarpet"
           }
          ],
          "scattergeo": [
           {
            "marker": {
             "colorbar": {
              "outlinewidth": 0,
              "ticks": ""
             }
            },
            "type": "scattergeo"
           }
          ],
          "scattergl": [
           {
            "marker": {
             "colorbar": {
              "outlinewidth": 0,
              "ticks": ""
             }
            },
            "type": "scattergl"
           }
          ],
          "scattermapbox": [
           {
            "marker": {
             "colorbar": {
              "outlinewidth": 0,
              "ticks": ""
             }
            },
            "type": "scattermapbox"
           }
          ],
          "scatterpolar": [
           {
            "marker": {
             "colorbar": {
              "outlinewidth": 0,
              "ticks": ""
             }
            },
            "type": "scatterpolar"
           }
          ],
          "scatterpolargl": [
           {
            "marker": {
             "colorbar": {
              "outlinewidth": 0,
              "ticks": ""
             }
            },
            "type": "scatterpolargl"
           }
          ],
          "scatterternary": [
           {
            "marker": {
             "colorbar": {
              "outlinewidth": 0,
              "ticks": ""
             }
            },
            "type": "scatterternary"
           }
          ],
          "surface": [
           {
            "colorbar": {
             "outlinewidth": 0,
             "ticks": ""
            },
            "colorscale": [
             [
              0,
              "#0d0887"
             ],
             [
              0.1111111111111111,
              "#46039f"
             ],
             [
              0.2222222222222222,
              "#7201a8"
             ],
             [
              0.3333333333333333,
              "#9c179e"
             ],
             [
              0.4444444444444444,
              "#bd3786"
             ],
             [
              0.5555555555555556,
              "#d8576b"
             ],
             [
              0.6666666666666666,
              "#ed7953"
             ],
             [
              0.7777777777777778,
              "#fb9f3a"
             ],
             [
              0.8888888888888888,
              "#fdca26"
             ],
             [
              1,
              "#f0f921"
             ]
            ],
            "type": "surface"
           }
          ],
          "table": [
           {
            "cells": {
             "fill": {
              "color": "#EBF0F8"
             },
             "line": {
              "color": "white"
             }
            },
            "header": {
             "fill": {
              "color": "#C8D4E3"
             },
             "line": {
              "color": "white"
             }
            },
            "type": "table"
           }
          ]
         },
         "layout": {
          "annotationdefaults": {
           "arrowcolor": "#2a3f5f",
           "arrowhead": 0,
           "arrowwidth": 1
          },
          "autotypenumbers": "strict",
          "coloraxis": {
           "colorbar": {
            "outlinewidth": 0,
            "ticks": ""
           }
          },
          "colorscale": {
           "diverging": [
            [
             0,
             "#8e0152"
            ],
            [
             0.1,
             "#c51b7d"
            ],
            [
             0.2,
             "#de77ae"
            ],
            [
             0.3,
             "#f1b6da"
            ],
            [
             0.4,
             "#fde0ef"
            ],
            [
             0.5,
             "#f7f7f7"
            ],
            [
             0.6,
             "#e6f5d0"
            ],
            [
             0.7,
             "#b8e186"
            ],
            [
             0.8,
             "#7fbc41"
            ],
            [
             0.9,
             "#4d9221"
            ],
            [
             1,
             "#276419"
            ]
           ],
           "sequential": [
            [
             0,
             "#0d0887"
            ],
            [
             0.1111111111111111,
             "#46039f"
            ],
            [
             0.2222222222222222,
             "#7201a8"
            ],
            [
             0.3333333333333333,
             "#9c179e"
            ],
            [
             0.4444444444444444,
             "#bd3786"
            ],
            [
             0.5555555555555556,
             "#d8576b"
            ],
            [
             0.6666666666666666,
             "#ed7953"
            ],
            [
             0.7777777777777778,
             "#fb9f3a"
            ],
            [
             0.8888888888888888,
             "#fdca26"
            ],
            [
             1,
             "#f0f921"
            ]
           ],
           "sequentialminus": [
            [
             0,
             "#0d0887"
            ],
            [
             0.1111111111111111,
             "#46039f"
            ],
            [
             0.2222222222222222,
             "#7201a8"
            ],
            [
             0.3333333333333333,
             "#9c179e"
            ],
            [
             0.4444444444444444,
             "#bd3786"
            ],
            [
             0.5555555555555556,
             "#d8576b"
            ],
            [
             0.6666666666666666,
             "#ed7953"
            ],
            [
             0.7777777777777778,
             "#fb9f3a"
            ],
            [
             0.8888888888888888,
             "#fdca26"
            ],
            [
             1,
             "#f0f921"
            ]
           ]
          },
          "colorway": [
           "#636efa",
           "#EF553B",
           "#00cc96",
           "#ab63fa",
           "#FFA15A",
           "#19d3f3",
           "#FF6692",
           "#B6E880",
           "#FF97FF",
           "#FECB52"
          ],
          "font": {
           "color": "#2a3f5f"
          },
          "geo": {
           "bgcolor": "white",
           "lakecolor": "white",
           "landcolor": "#E5ECF6",
           "showlakes": true,
           "showland": true,
           "subunitcolor": "white"
          },
          "hoverlabel": {
           "align": "left"
          },
          "hovermode": "closest",
          "mapbox": {
           "style": "light"
          },
          "paper_bgcolor": "white",
          "plot_bgcolor": "#E5ECF6",
          "polar": {
           "angularaxis": {
            "gridcolor": "white",
            "linecolor": "white",
            "ticks": ""
           },
           "bgcolor": "#E5ECF6",
           "radialaxis": {
            "gridcolor": "white",
            "linecolor": "white",
            "ticks": ""
           }
          },
          "scene": {
           "xaxis": {
            "backgroundcolor": "#E5ECF6",
            "gridcolor": "white",
            "gridwidth": 2,
            "linecolor": "white",
            "showbackground": true,
            "ticks": "",
            "zerolinecolor": "white"
           },
           "yaxis": {
            "backgroundcolor": "#E5ECF6",
            "gridcolor": "white",
            "gridwidth": 2,
            "linecolor": "white",
            "showbackground": true,
            "ticks": "",
            "zerolinecolor": "white"
           },
           "zaxis": {
            "backgroundcolor": "#E5ECF6",
            "gridcolor": "white",
            "gridwidth": 2,
            "linecolor": "white",
            "showbackground": true,
            "ticks": "",
            "zerolinecolor": "white"
           }
          },
          "shapedefaults": {
           "line": {
            "color": "#2a3f5f"
           }
          },
          "ternary": {
           "aaxis": {
            "gridcolor": "white",
            "linecolor": "white",
            "ticks": ""
           },
           "baxis": {
            "gridcolor": "white",
            "linecolor": "white",
            "ticks": ""
           },
           "bgcolor": "#E5ECF6",
           "caxis": {
            "gridcolor": "white",
            "linecolor": "white",
            "ticks": ""
           }
          },
          "title": {
           "x": 0.05
          },
          "xaxis": {
           "automargin": true,
           "gridcolor": "white",
           "linecolor": "white",
           "ticks": "",
           "title": {
            "standoff": 15
           },
           "zerolinecolor": "white",
           "zerolinewidth": 2
          },
          "yaxis": {
           "automargin": true,
           "gridcolor": "white",
           "linecolor": "white",
           "ticks": "",
           "title": {
            "standoff": 15
           },
           "zerolinecolor": "white",
           "zerolinewidth": 2
          }
         }
        },
        "title": {
         "text": "Hyperparameter Importances"
        },
        "xaxis": {
         "title": {
          "text": "Importance for Objective Value"
         }
        },
        "yaxis": {
         "title": {
          "text": "Hyperparameter"
         }
        }
       }
      },
      "text/html": [
       "<div>                            <div id=\"169136ac-4f48-4992-ad0a-561878f3a9c2\" class=\"plotly-graph-div\" style=\"height:525px; width:100%;\"></div>            <script type=\"text/javascript\">                require([\"plotly\"], function(Plotly) {                    window.PLOTLYENV=window.PLOTLYENV || {};                                    if (document.getElementById(\"169136ac-4f48-4992-ad0a-561878f3a9c2\")) {                    Plotly.newPlot(                        \"169136ac-4f48-4992-ad0a-561878f3a9c2\",                        [{\"cliponaxis\": false, \"hovertemplate\": [\"Factor (LogUniformDistribution): 0.0747536509882191<extra></extra>\", \"N layers (IntUniformDistribution): 0.08801514030750644<extra></extra>\", \"Hidden Dim (IntLogUniformDistribution): 0.13716999312810227<extra></extra>\", \"Learning Rate (LogUniformDistribution): 0.2892029143975148<extra></extra>\", \"Look Back (IntUniformDistribution): 0.4108583011786574<extra></extra>\"], \"marker\": {\"color\": \"rgb(66,146,198)\"}, \"orientation\": \"h\", \"text\": [\"0.0747536509882191\", \"0.08801514030750644\", \"0.13716999312810227\", \"0.2892029143975148\", \"0.4108583011786574\"], \"textposition\": \"outside\", \"texttemplate\": \"%{text:.2f}\", \"type\": \"bar\", \"x\": [0.0747536509882191, 0.08801514030750644, 0.13716999312810227, 0.2892029143975148, 0.4108583011786574], \"y\": [\"Factor\", \"N layers\", \"Hidden Dim\", \"Learning Rate\", \"Look Back\"]}],                        {\"showlegend\": false, \"template\": {\"data\": {\"bar\": [{\"error_x\": {\"color\": \"#2a3f5f\"}, \"error_y\": {\"color\": \"#2a3f5f\"}, \"marker\": {\"line\": {\"color\": \"#E5ECF6\", \"width\": 0.5}}, \"type\": \"bar\"}], \"barpolar\": [{\"marker\": {\"line\": {\"color\": \"#E5ECF6\", \"width\": 0.5}}, \"type\": \"barpolar\"}], \"carpet\": [{\"aaxis\": {\"endlinecolor\": \"#2a3f5f\", \"gridcolor\": \"white\", \"linecolor\": \"white\", \"minorgridcolor\": \"white\", \"startlinecolor\": \"#2a3f5f\"}, \"baxis\": {\"endlinecolor\": \"#2a3f5f\", \"gridcolor\": \"white\", \"linecolor\": \"white\", \"minorgridcolor\": \"white\", \"startlinecolor\": \"#2a3f5f\"}, \"type\": \"carpet\"}], \"choropleth\": [{\"colorbar\": {\"outlinewidth\": 0, \"ticks\": \"\"}, \"type\": \"choropleth\"}], \"contour\": [{\"colorbar\": {\"outlinewidth\": 0, \"ticks\": \"\"}, \"colorscale\": [[0.0, \"#0d0887\"], [0.1111111111111111, \"#46039f\"], [0.2222222222222222, \"#7201a8\"], [0.3333333333333333, \"#9c179e\"], [0.4444444444444444, \"#bd3786\"], [0.5555555555555556, \"#d8576b\"], [0.6666666666666666, \"#ed7953\"], [0.7777777777777778, \"#fb9f3a\"], [0.8888888888888888, \"#fdca26\"], [1.0, \"#f0f921\"]], \"type\": \"contour\"}], \"contourcarpet\": [{\"colorbar\": {\"outlinewidth\": 0, \"ticks\": \"\"}, \"type\": \"contourcarpet\"}], \"heatmap\": [{\"colorbar\": {\"outlinewidth\": 0, \"ticks\": \"\"}, \"colorscale\": [[0.0, \"#0d0887\"], [0.1111111111111111, \"#46039f\"], [0.2222222222222222, \"#7201a8\"], [0.3333333333333333, \"#9c179e\"], [0.4444444444444444, \"#bd3786\"], [0.5555555555555556, \"#d8576b\"], [0.6666666666666666, \"#ed7953\"], [0.7777777777777778, \"#fb9f3a\"], [0.8888888888888888, \"#fdca26\"], [1.0, \"#f0f921\"]], \"type\": \"heatmap\"}], \"heatmapgl\": [{\"colorbar\": {\"outlinewidth\": 0, \"ticks\": \"\"}, \"colorscale\": [[0.0, \"#0d0887\"], [0.1111111111111111, \"#46039f\"], [0.2222222222222222, \"#7201a8\"], [0.3333333333333333, \"#9c179e\"], [0.4444444444444444, \"#bd3786\"], [0.5555555555555556, \"#d8576b\"], [0.6666666666666666, \"#ed7953\"], [0.7777777777777778, \"#fb9f3a\"], [0.8888888888888888, \"#fdca26\"], [1.0, \"#f0f921\"]], \"type\": \"heatmapgl\"}], \"histogram\": [{\"marker\": {\"colorbar\": {\"outlinewidth\": 0, \"ticks\": \"\"}}, \"type\": \"histogram\"}], \"histogram2d\": [{\"colorbar\": {\"outlinewidth\": 0, \"ticks\": \"\"}, \"colorscale\": [[0.0, \"#0d0887\"], [0.1111111111111111, \"#46039f\"], [0.2222222222222222, \"#7201a8\"], [0.3333333333333333, \"#9c179e\"], [0.4444444444444444, \"#bd3786\"], [0.5555555555555556, \"#d8576b\"], [0.6666666666666666, \"#ed7953\"], [0.7777777777777778, \"#fb9f3a\"], [0.8888888888888888, \"#fdca26\"], [1.0, \"#f0f921\"]], \"type\": \"histogram2d\"}], \"histogram2dcontour\": [{\"colorbar\": {\"outlinewidth\": 0, \"ticks\": \"\"}, \"colorscale\": [[0.0, \"#0d0887\"], [0.1111111111111111, \"#46039f\"], [0.2222222222222222, \"#7201a8\"], [0.3333333333333333, \"#9c179e\"], [0.4444444444444444, \"#bd3786\"], [0.5555555555555556, \"#d8576b\"], [0.6666666666666666, \"#ed7953\"], [0.7777777777777778, \"#fb9f3a\"], [0.8888888888888888, \"#fdca26\"], [1.0, \"#f0f921\"]], \"type\": \"histogram2dcontour\"}], \"mesh3d\": [{\"colorbar\": {\"outlinewidth\": 0, \"ticks\": \"\"}, \"type\": \"mesh3d\"}], \"parcoords\": [{\"line\": {\"colorbar\": {\"outlinewidth\": 0, \"ticks\": \"\"}}, \"type\": \"parcoords\"}], \"pie\": [{\"automargin\": true, \"type\": \"pie\"}], \"scatter\": [{\"marker\": {\"colorbar\": {\"outlinewidth\": 0, \"ticks\": \"\"}}, \"type\": \"scatter\"}], \"scatter3d\": [{\"line\": {\"colorbar\": {\"outlinewidth\": 0, \"ticks\": \"\"}}, \"marker\": {\"colorbar\": {\"outlinewidth\": 0, \"ticks\": \"\"}}, \"type\": \"scatter3d\"}], \"scattercarpet\": [{\"marker\": {\"colorbar\": {\"outlinewidth\": 0, \"ticks\": \"\"}}, \"type\": \"scattercarpet\"}], \"scattergeo\": [{\"marker\": {\"colorbar\": {\"outlinewidth\": 0, \"ticks\": \"\"}}, \"type\": \"scattergeo\"}], \"scattergl\": [{\"marker\": {\"colorbar\": {\"outlinewidth\": 0, \"ticks\": \"\"}}, \"type\": \"scattergl\"}], \"scattermapbox\": [{\"marker\": {\"colorbar\": {\"outlinewidth\": 0, \"ticks\": \"\"}}, \"type\": \"scattermapbox\"}], \"scatterpolar\": [{\"marker\": {\"colorbar\": {\"outlinewidth\": 0, \"ticks\": \"\"}}, \"type\": \"scatterpolar\"}], \"scatterpolargl\": [{\"marker\": {\"colorbar\": {\"outlinewidth\": 0, \"ticks\": \"\"}}, \"type\": \"scatterpolargl\"}], \"scatterternary\": [{\"marker\": {\"colorbar\": {\"outlinewidth\": 0, \"ticks\": \"\"}}, \"type\": \"scatterternary\"}], \"surface\": [{\"colorbar\": {\"outlinewidth\": 0, \"ticks\": \"\"}, \"colorscale\": [[0.0, \"#0d0887\"], [0.1111111111111111, \"#46039f\"], [0.2222222222222222, \"#7201a8\"], [0.3333333333333333, \"#9c179e\"], [0.4444444444444444, \"#bd3786\"], [0.5555555555555556, \"#d8576b\"], [0.6666666666666666, \"#ed7953\"], [0.7777777777777778, \"#fb9f3a\"], [0.8888888888888888, \"#fdca26\"], [1.0, \"#f0f921\"]], \"type\": \"surface\"}], \"table\": [{\"cells\": {\"fill\": {\"color\": \"#EBF0F8\"}, \"line\": {\"color\": \"white\"}}, \"header\": {\"fill\": {\"color\": \"#C8D4E3\"}, \"line\": {\"color\": \"white\"}}, \"type\": \"table\"}]}, \"layout\": {\"annotationdefaults\": {\"arrowcolor\": \"#2a3f5f\", \"arrowhead\": 0, \"arrowwidth\": 1}, \"autotypenumbers\": \"strict\", \"coloraxis\": {\"colorbar\": {\"outlinewidth\": 0, \"ticks\": \"\"}}, \"colorscale\": {\"diverging\": [[0, \"#8e0152\"], [0.1, \"#c51b7d\"], [0.2, \"#de77ae\"], [0.3, \"#f1b6da\"], [0.4, \"#fde0ef\"], [0.5, \"#f7f7f7\"], [0.6, \"#e6f5d0\"], [0.7, \"#b8e186\"], [0.8, \"#7fbc41\"], [0.9, \"#4d9221\"], [1, \"#276419\"]], \"sequential\": [[0.0, \"#0d0887\"], [0.1111111111111111, \"#46039f\"], [0.2222222222222222, \"#7201a8\"], [0.3333333333333333, \"#9c179e\"], [0.4444444444444444, \"#bd3786\"], [0.5555555555555556, \"#d8576b\"], [0.6666666666666666, \"#ed7953\"], [0.7777777777777778, \"#fb9f3a\"], [0.8888888888888888, \"#fdca26\"], [1.0, \"#f0f921\"]], \"sequentialminus\": [[0.0, \"#0d0887\"], [0.1111111111111111, \"#46039f\"], [0.2222222222222222, \"#7201a8\"], [0.3333333333333333, \"#9c179e\"], [0.4444444444444444, \"#bd3786\"], [0.5555555555555556, \"#d8576b\"], [0.6666666666666666, \"#ed7953\"], [0.7777777777777778, \"#fb9f3a\"], [0.8888888888888888, \"#fdca26\"], [1.0, \"#f0f921\"]]}, \"colorway\": [\"#636efa\", \"#EF553B\", \"#00cc96\", \"#ab63fa\", \"#FFA15A\", \"#19d3f3\", \"#FF6692\", \"#B6E880\", \"#FF97FF\", \"#FECB52\"], \"font\": {\"color\": \"#2a3f5f\"}, \"geo\": {\"bgcolor\": \"white\", \"lakecolor\": \"white\", \"landcolor\": \"#E5ECF6\", \"showlakes\": true, \"showland\": true, \"subunitcolor\": \"white\"}, \"hoverlabel\": {\"align\": \"left\"}, \"hovermode\": \"closest\", \"mapbox\": {\"style\": \"light\"}, \"paper_bgcolor\": \"white\", \"plot_bgcolor\": \"#E5ECF6\", \"polar\": {\"angularaxis\": {\"gridcolor\": \"white\", \"linecolor\": \"white\", \"ticks\": \"\"}, \"bgcolor\": \"#E5ECF6\", \"radialaxis\": {\"gridcolor\": \"white\", \"linecolor\": \"white\", \"ticks\": \"\"}}, \"scene\": {\"xaxis\": {\"backgroundcolor\": \"#E5ECF6\", \"gridcolor\": \"white\", \"gridwidth\": 2, \"linecolor\": \"white\", \"showbackground\": true, \"ticks\": \"\", \"zerolinecolor\": \"white\"}, \"yaxis\": {\"backgroundcolor\": \"#E5ECF6\", \"gridcolor\": \"white\", \"gridwidth\": 2, \"linecolor\": \"white\", \"showbackground\": true, \"ticks\": \"\", \"zerolinecolor\": \"white\"}, \"zaxis\": {\"backgroundcolor\": \"#E5ECF6\", \"gridcolor\": \"white\", \"gridwidth\": 2, \"linecolor\": \"white\", \"showbackground\": true, \"ticks\": \"\", \"zerolinecolor\": \"white\"}}, \"shapedefaults\": {\"line\": {\"color\": \"#2a3f5f\"}}, \"ternary\": {\"aaxis\": {\"gridcolor\": \"white\", \"linecolor\": \"white\", \"ticks\": \"\"}, \"baxis\": {\"gridcolor\": \"white\", \"linecolor\": \"white\", \"ticks\": \"\"}, \"bgcolor\": \"#E5ECF6\", \"caxis\": {\"gridcolor\": \"white\", \"linecolor\": \"white\", \"ticks\": \"\"}}, \"title\": {\"x\": 0.05}, \"xaxis\": {\"automargin\": true, \"gridcolor\": \"white\", \"linecolor\": \"white\", \"ticks\": \"\", \"title\": {\"standoff\": 15}, \"zerolinecolor\": \"white\", \"zerolinewidth\": 2}, \"yaxis\": {\"automargin\": true, \"gridcolor\": \"white\", \"linecolor\": \"white\", \"ticks\": \"\", \"title\": {\"standoff\": 15}, \"zerolinecolor\": \"white\", \"zerolinewidth\": 2}}}, \"title\": {\"text\": \"Hyperparameter Importances\"}, \"xaxis\": {\"title\": {\"text\": \"Importance for Objective Value\"}}, \"yaxis\": {\"title\": {\"text\": \"Hyperparameter\"}}},                        {\"responsive\": true}                    ).then(function(){\n",
       "                            \n",
       "var gd = document.getElementById('169136ac-4f48-4992-ad0a-561878f3a9c2');\n",
       "var x = new MutationObserver(function (mutations, observer) {{\n",
       "        var display = window.getComputedStyle(gd).display;\n",
       "        if (!display || display === 'none') {{\n",
       "            console.log([gd, 'removed!']);\n",
       "            Plotly.purge(gd);\n",
       "            observer.disconnect();\n",
       "        }}\n",
       "}});\n",
       "\n",
       "// Listen for the removal of the full notebook cells\n",
       "var notebookContainer = gd.closest('#notebook-container');\n",
       "if (notebookContainer) {{\n",
       "    x.observe(notebookContainer, {childList: true});\n",
       "}}\n",
       "\n",
       "// Listen for the clearing of the current output cell\n",
       "var outputEl = gd.closest('.output');\n",
       "if (outputEl) {{\n",
       "    x.observe(outputEl, {childList: true});\n",
       "}}\n",
       "\n",
       "                        })                };                });            </script>        </div>"
      ]
     },
     "metadata": {},
     "output_type": "display_data"
    }
   ],
   "source": [
    "optuna.visualization.plot_param_importances(study_lstm)"
   ]
  },
  {
   "cell_type": "code",
   "execution_count": 246,
   "id": "dbe1c885",
   "metadata": {},
   "outputs": [
    {
     "name": "stdout",
     "output_type": "stream",
     "text": [
      "Best trial:\n",
      "Value:  8.040379907470196e-05\n",
      "{'Look Back': 81, 'Hidden Dim': 17, 'N layers': 2, 'Learning Rate': 0.025568137455839083, 'Factor': 0.9979023805315722}\n"
     ]
    }
   ],
   "source": [
    "print(\"Best trial:\")\n",
    "trial_lstm = study_lstm.best_trial\n",
    "\n",
    "print(\"Value: \", trial_lstm.value)\n",
    "print(trial_lstm.params)"
   ]
  },
  {
   "cell_type": "code",
   "execution_count": 247,
   "id": "a0b3353e",
   "metadata": {},
   "outputs": [],
   "source": [
    "look_back = trial_lstm.params['Look Back'] # choose sequence length\n",
    "[x_train, y_train, x_test, y_test], rand_perm = load_data(scaled, look_back, use_perm=True)\n",
    "#print('x_train.shape = ',x_train.shape)\n",
    "#print('y_train.shape = ',y_train.shape)\n",
    "#print('x_test.shape = ',x_test.shape)\n",
    "#print('y_test.shape = ',y_test.shape)\n",
    "# make training and test sets in torch\n",
    "#print(device)\n",
    "x_train = torch.from_numpy(x_train).type(torch.Tensor).to(device)\n",
    "x_test = torch.from_numpy(x_test).type(torch.Tensor).to(device)\n",
    "y_train = torch.from_numpy(y_train).type(torch.Tensor).to(device)\n",
    "y_test = torch.from_numpy(y_test).type(torch.Tensor).to(device)"
   ]
  },
  {
   "cell_type": "code",
   "execution_count": 248,
   "id": "d1e62a1c",
   "metadata": {},
   "outputs": [
    {
     "name": "stdout",
     "output_type": "stream",
     "text": [
      "Epoch  0 MSE:  0.11442962288856506\n",
      "Epoch  50 MSE:  0.0005245705833658576\n",
      "Epoch  100 MSE:  0.0002732657885644585\n",
      "Epoch  150 MSE:  0.00022950625861994922\n",
      "Epoch  200 MSE:  0.00020539398246910423\n",
      "Epoch  250 MSE:  0.00018837284005712718\n",
      "Epoch  300 MSE:  0.0001730676303850487\n",
      "Epoch  350 MSE:  0.00015937202260829508\n",
      "Epoch  400 MSE:  0.0001475958270020783\n",
      "Epoch  450 MSE:  0.00013773204409517348\n",
      "Epoch  500 MSE:  0.000129528678371571\n",
      "Epoch  550 MSE:  0.0001226113672601059\n",
      "Epoch  600 MSE:  0.00011659598385449499\n",
      "Epoch  650 MSE:  0.00011117892427137122\n",
      "Epoch  700 MSE:  0.00010618184023769572\n",
      "Epoch  750 MSE:  0.0001015463494695723\n",
      "Epoch  800 MSE:  9.730656165629625e-05\n",
      "Epoch  850 MSE:  0.0003238497884012759\n",
      "Epoch  900 MSE:  0.00010409629612695426\n",
      "Epoch  950 MSE:  9.536762081552297e-05\n"
     ]
    }
   ],
   "source": [
    "input_dim = 2\n",
    "hidden_dim = trial_lstm.params['Hidden Dim']\n",
    "num_layers = trial_lstm.params['N layers']\n",
    "output_dim = 1\n",
    "model = LSTM(input_dim=input_dim, hidden_dim=hidden_dim, output_dim=output_dim, num_layers=num_layers).to(device)\n",
    "\n",
    "loss_fn = torch.nn.MSELoss()\n",
    "lr = trial_lstm.params['Learning Rate']\n",
    "optimizer = torch.optim.Adam(model.parameters(), lr=lr)\n",
    "\"\"\"\n",
    "print(model)\n",
    "print(len(list(model.parameters())))\n",
    "for i in range(len(list(model.parameters()))):\n",
    "print(list(model.parameters())[i].size())\n",
    "\"\"\"\n",
    "num_epochs = 1000\n",
    "factor = trial_lstm.params['Factor']\n",
    "scheduler = torch.optim.lr_scheduler.ReduceLROnPlateau(optimizer, factor=factor, patience = 5)\n",
    "hist = np.zeros(num_epochs)\n",
    "for epoch in range(num_epochs):\n",
    "    # Initialise hidden state\n",
    "    # Don't do this if you want your LSTM to be stateful\n",
    "    #model.hidden = model.init_hidden()\n",
    "\n",
    "    # Forward pass\n",
    "    y_train_pred = model(x_train)\n",
    "\n",
    "    loss = loss_fn(y_train_pred, y_train)\n",
    "    if epoch % 50 == 0:\n",
    "        print(\"Epoch \", epoch, \"MSE: \", loss.item())\n",
    "    hist[epoch] = loss.item()\n",
    "    # Zero out gradient, else they will accumulate between epochs\n",
    "    optimizer.zero_grad()\n",
    "\n",
    "    # Backward pass\n",
    "    loss.backward()\n",
    "\n",
    "    # Update parameters\n",
    "    optimizer.step()\n",
    "    scheduler.step(loss)"
   ]
  },
  {
   "cell_type": "code",
   "execution_count": 249,
   "id": "24737326",
   "metadata": {},
   "outputs": [
    {
     "data": {
      "image/png": "[encoded data removed]",
      "text/plain": [
       "<Figure size 432x288 with 1 Axes>"
      ]
     },
     "metadata": {
      "needs_background": "light"
     },
     "output_type": "display_data"
    }
   ],
   "source": [
    "plt.semilogy(hist, label=\"Training loss\")\n",
    "plt.legend()\n",
    "plt.show()"
   ]
  },
  {
   "cell_type": "code",
   "execution_count": 250,
   "id": "1f96e38e",
   "metadata": {},
   "outputs": [],
   "source": [
    "# make predictions\n",
    "y_test_pred = model(x_test)\n",
    "# invert predictions\n",
    "\n",
    "y_train_pred = scaler1.inverse_transform(y_train_pred.cpu().detach().numpy())\n",
    "y_train = scaler1.inverse_transform(y_train.detach().cpu().numpy())\n",
    "y_test_pred = scaler1.inverse_transform(y_test_pred.cpu().detach().numpy())\n",
    "y_test = scaler1.inverse_transform(y_test.cpu().detach().numpy())\n"
   ]
  },
  {
   "cell_type": "code",
   "execution_count": 251,
   "id": "80e29e01",
   "metadata": {},
   "outputs": [
    {
     "name": "stdout",
     "output_type": "stream",
     "text": [
      "Train Score: 137.77 RMSE\n",
      "Test Score: 133.83 RMSE\n"
     ]
    }
   ],
   "source": [
    "# calculate root mean squared error\n",
    "trainScore = math.sqrt(mean_squared_error(y_train[:,0], y_train_pred[:,0]))\n",
    "print('Train Score: %.2f RMSE' % (trainScore))\n",
    "testScore = math.sqrt(mean_squared_error(y_test[:,0], y_test_pred[:,0]))\n",
    "print('Test Score: %.2f RMSE' % (testScore))\n",
    "#ShiftedtestScore = math.sqrt(mean_squared_error(y_test[:,0], y_test_pred[:,0]))\n",
    "#print('Shifted Test Score: %.2f RMSE' % (ShiftedtestScore))"
   ]
  },
  {
   "cell_type": "code",
   "execution_count": 252,
   "id": "fc52cfa5",
   "metadata": {},
   "outputs": [
    {
     "data": {
      "text/plain": [
       "<matplotlib.legend.Legend at 0x19fb5bf8c10>"
      ]
     },
     "execution_count": 252,
     "metadata": {},
     "output_type": "execute_result"
    },
    {
     "data": {
      "image/png": "[encoded data removed]",
      "text/plain": [
       "<Figure size 1080x432 with 1 Axes>"
      ]
     },
     "metadata": {
      "needs_background": "light"
     },
     "output_type": "display_data"
    }
   ],
   "source": [
    "[_, _, x_test, y_test], rand_perm = load_data(scaled, look_back, use_perm = False)\n",
    "x_test = torch.from_numpy(x_test).type(torch.Tensor).to(device)\n",
    "#y_test = torch.from_numpy(y_test).type(torch.Tensor).to(device)\n",
    "y_test_pred = model(x_test)\n",
    "y_test_pred = scaler1.inverse_transform(y_test_pred.cpu().detach().numpy())\n",
    "y_test = scaler1.inverse_transform(y_test)\n",
    "figure, axes = plt.subplots(figsize=(15, 6))\n",
    "axes.xaxis_date()\n",
    "axes.plot(nasdaq[len(nasdaq)-len(y_test):].index, y_test, color = 'red', label = 'Real NASDAQ Price')\n",
    "axes.plot(nasdaq[len(nasdaq)-len(y_test):].index, y_test_pred, color = 'blue', label = 'Predicted NASDAQ Price')\n",
    "#axes.xticks(np.arange(0,394,50))\n",
    "plt.title('NASDAQ-100 Stock Price Prediction')\n",
    "plt.xlabel('Time')\n",
    "plt.ylabel('NASDAQ-100 Stock Price')\n",
    "plt.legend()"
   ]
  },
  {
   "cell_type": "code",
   "execution_count": 253,
   "id": "6f48d524",
   "metadata": {},
   "outputs": [
    {
     "data": {
      "text/plain": [
       "<matplotlib.legend.Legend at 0x19fb5db0f70>"
      ]
     },
     "execution_count": 253,
     "metadata": {},
     "output_type": "execute_result"
    },
    {
     "data": {
      "image/png": "[encoded data removed]",
      "text/plain": [
       "<Figure size 1080x432 with 1 Axes>"
      ]
     },
     "metadata": {
      "needs_background": "light"
     },
     "output_type": "display_data"
    }
   ],
   "source": [
    "last = 20\n",
    "figure, axes = plt.subplots(figsize=(15, 6))\n",
    "axes.xaxis_date()\n",
    "axes.plot(nasdaq[-last:].index, y_test[-last:], color = 'red', label = 'Real NASDAQ Price')\n",
    "axes.plot(nasdaq[-last:].index, y_test_pred[-last:], color = 'blue', label = 'Predicted NASDAQ Price')\n",
    "plt.legend()"
   ]
  },
  {
   "cell_type": "code",
   "execution_count": 254,
   "id": "ddd34b41",
   "metadata": {},
   "outputs": [
    {
     "name": "stdout",
     "output_type": "stream",
     "text": [
      "[13720.3798828125, 13669.466796875, 13647.103515625, 13632.7685546875, 13623.478515625]\n"
     ]
    },
    {
     "data": {
      "text/plain": [
       "[<matplotlib.lines.Line2D at 0x19fb5c835e0>]"
      ]
     },
     "execution_count": 254,
     "metadata": {},
     "output_type": "execute_result"
    },
    {
     "data": {
      "image/png": "[encoded data removed]",
      "text/plain": [
       "<Figure size 1080x432 with 1 Axes>"
      ]
     },
     "metadata": {
      "needs_background": "light"
     },
     "output_type": "display_data"
    }
   ],
   "source": [
    "data_raw = scaled.values\n",
    "predictions = []\n",
    "n = 5\n",
    "data = np.array(data_raw[len(data_raw) - look_back:])\n",
    "x_test = data.reshape(1,data.shape[0],data.shape[1])\n",
    "x_test = torch.from_numpy(x_test).type(torch.Tensor).to(device)\n",
    "for _ in range(n):\n",
    "    y_test_pred = model(x_test)\n",
    "    tmp = torch.tensor([[[y_test_pred[0,0].item(),2*x_test[0,-1,1].item()-x_test[0,-2,1].item()]]]).to(device)\n",
    "    #x_test = np.concatenate((data_raw,tmp),axis=0,dtype='object')\n",
    "    x_test = torch.cat((x_test,tmp),1)[:,1:,:]\n",
    "    ##print(x_test.shape)\n",
    "    y_test_pred = scaler1.inverse_transform(y_test_pred.cpu().detach().numpy())\n",
    "    predictions.append(y_test_pred.item())\n",
    "#print(predictions)\n",
    "figure, axes = plt.subplots(figsize=(15, 6))\n",
    "print(predictions)\n",
    "axes.plot(predictions)\n",
    "#next_week_forecast = model(data)"
   ]
  },
  {
   "cell_type": "markdown",
   "id": "680765e7",
   "metadata": {},
   "source": [
    "# Naive Predictor"
   ]
  },
  {
   "cell_type": "code",
   "execution_count": 257,
   "id": "60b0cf47",
   "metadata": {},
   "outputs": [
    {
     "name": "stdout",
     "output_type": "stream",
     "text": [
      "1.0027133979117822\n",
      "Naive Predictor Score: 131.50 RMSE\n"
     ]
    }
   ],
   "source": [
    "dt = nasdaq.index[-1]-nasdaq.index[0]\n",
    "dt = int(dt.days/7)\n",
    "avg_weekly_gain = (nasdaq.iloc[-1,0]/nasdaq.iloc[0,0])**(1/dt)\n",
    "#dt = len(nasdaq)\n",
    "print(avg_weekly_gain)\n",
    "dates = nasdaq.index\n",
    "d0 = dates[0]\n",
    "#naive = nasdaq.iloc[0,0]*avg_weekly_gain**((dates-d0).days/7)\n",
    "naive = nasdaq['Close']*avg_weekly_gain\n",
    "naiveScore = math.sqrt(mean_squared_error(naive[:-1], nasdaq['Close'][1:]))\n",
    "print('Naive Predictor Score: %.2f RMSE' % (naiveScore))"
   ]
  },
  {
   "cell_type": "code",
   "execution_count": 256,
   "id": "2a4a034b",
   "metadata": {},
   "outputs": [
    {
     "data": {
      "text/plain": [
       "<matplotlib.legend.Legend at 0x19fb5cc0c40>"
      ]
     },
     "execution_count": 256,
     "metadata": {},
     "output_type": "execute_result"
    },
    {
     "data": {
      "image/png": "[encoded data removed]",
      "text/plain": [
       "<Figure size 1080x432 with 1 Axes>"
      ]
     },
     "metadata": {
      "needs_background": "light"
     },
     "output_type": "display_data"
    }
   ],
   "source": [
    "figure, axes = plt.subplots(figsize=(15, 6))\n",
    "last = 20\n",
    "axes.xaxis_date()\n",
    "axes.plot(nasdaq[-last:].index, nasdaq['Close'][-last:], color = 'red', label = 'Real NASDAQ Price')\n",
    "axes.plot(nasdaq[-last:].index, naive[-last-1:-1], color = 'blue', label = 'Predicted NASDAQ Price')\n",
    "plt.legend()"
   ]
  },
  {
   "cell_type": "code",
   "execution_count": null,
   "id": "7b392ee7",
   "metadata": {},
   "outputs": [],
   "source": []
  }
 ],
 "metadata": {
  "kernelspec": {
   "display_name": "Python 3",
   "language": "python",
   "name": "python3"
  },
  "language_info": {
   "codemirror_mode": {
    "name": "ipython",
    "version": 3
   },
   "file_extension": ".py",
   "mimetype": "text/x-python",
   "name": "python",
   "nbconvert_exporter": "python",
   "pygments_lexer": "ipython3",
   "version": "3.9.5"
  }
 },
 "nbformat": 4,
 "nbformat_minor": 5
}
