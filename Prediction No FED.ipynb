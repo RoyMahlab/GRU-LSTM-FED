{
 "cells": [
  {
   "cell_type": "code",
   "execution_count": 55,
   "id": "provincial-casting",
   "metadata": {},
   "outputs": [
    {
     "name": "stderr",
     "output_type": "stream",
     "text": [
      "<ipython-input-55-88461a3b10a8>:9: FutureWarning:\n",
      "\n",
      "The pandas.datetime class is deprecated and will be removed from pandas in a future version. Import from datetime module instead.\n",
      "\n"
     ]
    }
   ],
   "source": [
    "import numpy as np\n",
    "import random\n",
    "import pandas as pd \n",
    "from pylab import mpl, plt\n",
    "plt.style.use('seaborn')\n",
    "mpl.rcParams['font.family'] = 'serif'\n",
    "%matplotlib inline\n",
    "\n",
    "from pandas import datetime\n",
    "import math, time\n",
    "import itertools\n",
    "import datetime\n",
    "from operator import itemgetter\n",
    "from sklearn.metrics import mean_squared_error\n",
    "from sklearn.preprocessing import MinMaxScaler\n",
    "from math import sqrt\n",
    "\n",
    "import torch\n",
    "import torch.nn as nn\n",
    "from torch.autograd import Variable\n",
    "import os\n",
    "import optuna\n",
    "\n",
    "seed = 211\n",
    "np.random.seed(seed)"
   ]
  },
  {
   "cell_type": "code",
   "execution_count": 56,
   "id": "basic-treasurer",
   "metadata": {},
   "outputs": [
    {
     "data": {
      "text/html": [
       "<div>\n",
       "<style scoped>\n",
       "    .dataframe tbody tr th:only-of-type {\n",
       "        vertical-align: middle;\n",
       "    }\n",
       "\n",
       "    .dataframe tbody tr th {\n",
       "        vertical-align: top;\n",
       "    }\n",
       "\n",
       "    .dataframe thead th {\n",
       "        text-align: right;\n",
       "    }\n",
       "</style>\n",
       "<table border=\"1\" class=\"dataframe\">\n",
       "  <thead>\n",
       "    <tr style=\"text-align: right;\">\n",
       "      <th></th>\n",
       "      <th>Close</th>\n",
       "    </tr>\n",
       "    <tr>\n",
       "      <th>Date</th>\n",
       "      <th></th>\n",
       "    </tr>\n",
       "  </thead>\n",
       "  <tbody>\n",
       "    <tr>\n",
       "      <th>2002-12-18</th>\n",
       "      <td>1013.669983</td>\n",
       "    </tr>\n",
       "    <tr>\n",
       "      <th>2002-12-19</th>\n",
       "      <td>1006.049988</td>\n",
       "    </tr>\n",
       "    <tr>\n",
       "      <th>2002-12-20</th>\n",
       "      <td>1013.900024</td>\n",
       "    </tr>\n",
       "    <tr>\n",
       "      <th>2002-12-23</th>\n",
       "      <td>1032.300049</td>\n",
       "    </tr>\n",
       "    <tr>\n",
       "      <th>2002-12-24</th>\n",
       "      <td>1023.289978</td>\n",
       "    </tr>\n",
       "    <tr>\n",
       "      <th>...</th>\n",
       "      <td>...</td>\n",
       "    </tr>\n",
       "    <tr>\n",
       "      <th>2021-06-07</th>\n",
       "      <td>13802.889648</td>\n",
       "    </tr>\n",
       "    <tr>\n",
       "      <th>2021-06-08</th>\n",
       "      <td>13810.860352</td>\n",
       "    </tr>\n",
       "    <tr>\n",
       "      <th>2021-06-09</th>\n",
       "      <td>13814.940430</td>\n",
       "    </tr>\n",
       "    <tr>\n",
       "      <th>2021-06-10</th>\n",
       "      <td>13960.349609</td>\n",
       "    </tr>\n",
       "    <tr>\n",
       "      <th>2021-06-11</th>\n",
       "      <td>13998.299805</td>\n",
       "    </tr>\n",
       "  </tbody>\n",
       "</table>\n",
       "<p>4652 rows × 1 columns</p>\n",
       "</div>"
      ],
      "text/plain": [
       "                   Close\n",
       "Date                    \n",
       "2002-12-18   1013.669983\n",
       "2002-12-19   1006.049988\n",
       "2002-12-20   1013.900024\n",
       "2002-12-23   1032.300049\n",
       "2002-12-24   1023.289978\n",
       "...                  ...\n",
       "2021-06-07  13802.889648\n",
       "2021-06-08  13810.860352\n",
       "2021-06-09  13814.940430\n",
       "2021-06-10  13960.349609\n",
       "2021-06-11  13998.299805\n",
       "\n",
       "[4652 rows x 1 columns]"
      ]
     },
     "execution_count": 56,
     "metadata": {},
     "output_type": "execute_result"
    }
   ],
   "source": [
    "filepath = 'input/NASDAQ_DAYLY.csv'\n",
    "#d_parser = lambda x: pd.datetime.strptime(x, '%d/%m/%d')\n",
    "nasdaq = pd.read_csv(filepath)\n",
    "nasdaq['Date'] = pd.to_datetime(nasdaq['Date'], format = '%Y-%m-%d')\n",
    "#data = data.sort_values('Date')\n",
    "nasdaq = nasdaq.set_index('Date')\n",
    "#nasdaq = nasdaq.sort_values(by='Date',ascending=False)\n",
    "nasdaq = nasdaq[['Close']]\n",
    "nasdaq"
   ]
  },
  {
   "cell_type": "code",
   "execution_count": 57,
   "id": "alike-expense",
   "metadata": {
    "scrolled": true
   },
   "outputs": [
    {
     "data": {
      "text/html": [
       "<div>\n",
       "<style scoped>\n",
       "    .dataframe tbody tr th:only-of-type {\n",
       "        vertical-align: middle;\n",
       "    }\n",
       "\n",
       "    .dataframe tbody tr th {\n",
       "        vertical-align: top;\n",
       "    }\n",
       "\n",
       "    .dataframe thead th {\n",
       "        text-align: right;\n",
       "    }\n",
       "</style>\n",
       "<table border=\"1\" class=\"dataframe\">\n",
       "  <thead>\n",
       "    <tr style=\"text-align: right;\">\n",
       "      <th></th>\n",
       "      <th>Close</th>\n",
       "    </tr>\n",
       "    <tr>\n",
       "      <th>Date</th>\n",
       "      <th></th>\n",
       "    </tr>\n",
       "  </thead>\n",
       "  <tbody>\n",
       "    <tr>\n",
       "      <th>2002-12-18</th>\n",
       "      <td>0.103946</td>\n",
       "    </tr>\n",
       "    <tr>\n",
       "      <th>2003-01-08</th>\n",
       "      <td>0.105946</td>\n",
       "    </tr>\n",
       "    <tr>\n",
       "      <th>2003-01-15</th>\n",
       "      <td>0.108102</td>\n",
       "    </tr>\n",
       "    <tr>\n",
       "      <th>2003-01-22</th>\n",
       "      <td>0.103449</td>\n",
       "    </tr>\n",
       "    <tr>\n",
       "      <th>2003-01-29</th>\n",
       "      <td>0.104146</td>\n",
       "    </tr>\n",
       "    <tr>\n",
       "      <th>...</th>\n",
       "      <td>...</td>\n",
       "    </tr>\n",
       "    <tr>\n",
       "      <th>2021-05-12</th>\n",
       "      <td>0.935264</td>\n",
       "    </tr>\n",
       "    <tr>\n",
       "      <th>2021-05-19</th>\n",
       "      <td>0.951649</td>\n",
       "    </tr>\n",
       "    <tr>\n",
       "      <th>2021-05-26</th>\n",
       "      <td>0.983883</td>\n",
       "    </tr>\n",
       "    <tr>\n",
       "      <th>2021-06-02</th>\n",
       "      <td>0.982014</td>\n",
       "    </tr>\n",
       "    <tr>\n",
       "      <th>2021-06-09</th>\n",
       "      <td>0.991664</td>\n",
       "    </tr>\n",
       "  </tbody>\n",
       "</table>\n",
       "<p>955 rows × 1 columns</p>\n",
       "</div>"
      ],
      "text/plain": [
       "               Close\n",
       "Date                \n",
       "2002-12-18  0.103946\n",
       "2003-01-08  0.105946\n",
       "2003-01-15  0.108102\n",
       "2003-01-22  0.103449\n",
       "2003-01-29  0.104146\n",
       "...              ...\n",
       "2021-05-12  0.935264\n",
       "2021-05-19  0.951649\n",
       "2021-05-26  0.983883\n",
       "2021-06-02  0.982014\n",
       "2021-06-09  0.991664\n",
       "\n",
       "[955 rows x 1 columns]"
      ]
     },
     "execution_count": 57,
     "metadata": {},
     "output_type": "execute_result"
    }
   ],
   "source": [
    "filepath = 'input/WALCL.csv'\n",
    "#d_parser = lambda x: pd.datetime.strptime(x, '%d/%m/%d')\n",
    "assets = pd.read_csv(filepath)\n",
    "assets['DATE'] = pd.to_datetime(assets['DATE'], format = '%Y-%m-%d')\n",
    "#data = data.sort_values('Date')\n",
    "assets = assets.rename(columns={'DATE':'Date',\"WALCL\":'Millions_of_Dollars'})\n",
    "assets.set_index('Date',inplace=True)\n",
    "nasdaq['Assets'] = assets['Millions_of_Dollars']\n",
    "nasdaq = nasdaq.dropna()\n",
    "del nasdaq['Assets']\n",
    "\n",
    "scaler1 = MinMaxScaler(feature_range=(0.1, 1))\n",
    "scaled = nasdaq.copy()\n",
    "scaled['Close'] = scaler1.fit_transform(scaled['Close'].values.reshape(-1,1))\n",
    "scaled"
   ]
  },
  {
   "cell_type": "code",
   "execution_count": 58,
   "id": "5a26c249",
   "metadata": {},
   "outputs": [
    {
     "data": {
      "text/html": [
       "<div>\n",
       "<style scoped>\n",
       "    .dataframe tbody tr th:only-of-type {\n",
       "        vertical-align: middle;\n",
       "    }\n",
       "\n",
       "    .dataframe tbody tr th {\n",
       "        vertical-align: top;\n",
       "    }\n",
       "\n",
       "    .dataframe thead th {\n",
       "        text-align: right;\n",
       "    }\n",
       "</style>\n",
       "<table border=\"1\" class=\"dataframe\">\n",
       "  <thead>\n",
       "    <tr style=\"text-align: right;\">\n",
       "      <th></th>\n",
       "      <th>Close</th>\n",
       "    </tr>\n",
       "    <tr>\n",
       "      <th>Date</th>\n",
       "      <th></th>\n",
       "    </tr>\n",
       "  </thead>\n",
       "  <tbody>\n",
       "    <tr>\n",
       "      <th>2002-12-18</th>\n",
       "      <td>1013.669983</td>\n",
       "    </tr>\n",
       "    <tr>\n",
       "      <th>2003-01-08</th>\n",
       "      <td>1042.520020</td>\n",
       "    </tr>\n",
       "    <tr>\n",
       "      <th>2003-01-15</th>\n",
       "      <td>1073.599976</td>\n",
       "    </tr>\n",
       "    <tr>\n",
       "      <th>2003-01-22</th>\n",
       "      <td>1006.510010</td>\n",
       "    </tr>\n",
       "    <tr>\n",
       "      <th>2003-01-29</th>\n",
       "      <td>1016.559998</td>\n",
       "    </tr>\n",
       "    <tr>\n",
       "      <th>...</th>\n",
       "      <td>...</td>\n",
       "    </tr>\n",
       "    <tr>\n",
       "      <th>2021-05-12</th>\n",
       "      <td>13001.629883</td>\n",
       "    </tr>\n",
       "    <tr>\n",
       "      <th>2021-05-19</th>\n",
       "      <td>13237.910156</td>\n",
       "    </tr>\n",
       "    <tr>\n",
       "      <th>2021-05-26</th>\n",
       "      <td>13702.740234</td>\n",
       "    </tr>\n",
       "    <tr>\n",
       "      <th>2021-06-02</th>\n",
       "      <td>13675.790039</td>\n",
       "    </tr>\n",
       "    <tr>\n",
       "      <th>2021-06-09</th>\n",
       "      <td>13814.940430</td>\n",
       "    </tr>\n",
       "  </tbody>\n",
       "</table>\n",
       "<p>955 rows × 1 columns</p>\n",
       "</div>"
      ],
      "text/plain": [
       "                   Close\n",
       "Date                    \n",
       "2002-12-18   1013.669983\n",
       "2003-01-08   1042.520020\n",
       "2003-01-15   1073.599976\n",
       "2003-01-22   1006.510010\n",
       "2003-01-29   1016.559998\n",
       "...                  ...\n",
       "2021-05-12  13001.629883\n",
       "2021-05-19  13237.910156\n",
       "2021-05-26  13702.740234\n",
       "2021-06-02  13675.790039\n",
       "2021-06-09  13814.940430\n",
       "\n",
       "[955 rows x 1 columns]"
      ]
     },
     "execution_count": 58,
     "metadata": {},
     "output_type": "execute_result"
    }
   ],
   "source": [
    "nasdaq"
   ]
  },
  {
   "cell_type": "code",
   "execution_count": 59,
   "id": "dying-combining",
   "metadata": {},
   "outputs": [
    {
     "name": "stdout",
     "output_type": "stream",
     "text": [
      "[[13001.629883]\n",
      " [13237.910156]\n",
      " [13702.740234]\n",
      " [13675.790039]\n",
      " [13814.94043 ]]\n"
     ]
    }
   ],
   "source": [
    "# function to create train, test data given stock data and sequence length\n",
    "def load_data(stock, look_back, use_perm = True):\n",
    "    data_raw = stock.values # convert to numpy array\n",
    "    data = []\n",
    "    \n",
    "    # create all possible sequences of length look_back\n",
    "    for index in range(len(data_raw) - look_back + 1): \n",
    "        data.append(data_raw[index: index + look_back])\n",
    "    \n",
    "    data = np.array(data);\n",
    "    test_set_size = int(np.round(0.2*data.shape[0]))\n",
    "    train_set_size = data.shape[0] - (test_set_size)\n",
    "    rand_perm = np.random.permutation(data.shape[0])\n",
    "    if use_perm: \n",
    "        data = data[rand_perm,:,:]\n",
    "    \n",
    "    x_train = data[:train_set_size,:-1,:]\n",
    "    y_train = data[:train_set_size,-1,:]\n",
    "    y_train = y_train[:,0].reshape(-1,1)\n",
    "    x_test = data[train_set_size:,:-1]\n",
    "    y_test = data[train_set_size:,-1,:]\n",
    "    y_test = y_test[:,0].reshape(-1,1)\n",
    "    \n",
    "    return [x_train, y_train, x_test, y_test], rand_perm\n",
    "[x_train, y_train, x_test, y_test], rand_perm = load_data(scaled, 50, use_perm=False)\n",
    "print(scaler1.inverse_transform(y_test)[-5:])"
   ]
  },
  {
   "cell_type": "code",
   "execution_count": 60,
   "id": "b76a5817",
   "metadata": {},
   "outputs": [],
   "source": [
    "class GRU(nn.Module):\n",
    "    def __init__(self, input_dim, hidden_dim, num_layers, output_dim):\n",
    "        super(GRU, self).__init__()\n",
    "        self.hidden_dim = hidden_dim\n",
    "        self.num_layers = num_layers\n",
    "        \n",
    "        self.gru = nn.GRU(input_dim, hidden_dim, num_layers, batch_first=True)\n",
    "        self.fc = nn.Linear(hidden_dim, output_dim)\n",
    "\n",
    "    def forward(self, x):\n",
    "        h0 = torch.zeros(self.num_layers, x.size(0), self.hidden_dim).requires_grad_().to(device)\n",
    "        out, (hn) = self.gru(x, (h0.detach()))\n",
    "        out = self.fc(out[:, -1, :]) \n",
    "        return out\n",
    "    \n",
    "class LSTM(nn.Module):\n",
    "    def __init__(self, input_dim, hidden_dim, num_layers, output_dim):\n",
    "        super(LSTM, self).__init__()\n",
    "        self.hidden_dim = hidden_dim\n",
    "        self.num_layers = num_layers\n",
    "        \n",
    "        self.lstm = nn.LSTM(input_dim, hidden_dim, num_layers, batch_first=True)\n",
    "        self.fc = nn.Linear(hidden_dim, output_dim)\n",
    "\n",
    "    def forward(self, x):\n",
    "        h0 = torch.zeros(self.num_layers, x.size(0), self.hidden_dim).requires_grad_().to(device)\n",
    "        c0 = torch.zeros(self.num_layers, x.size(0), self.hidden_dim).requires_grad_().to(device)\n",
    "        out, (hn, cn) = self.lstm(x, (h0.detach(), c0.detach()))\n",
    "        out = self.fc(out[:, -1, :]) \n",
    "        return out"
   ]
  },
  {
   "cell_type": "markdown",
   "id": "7ed20f55",
   "metadata": {},
   "source": [
    "# Prediction with GRU"
   ]
  },
  {
   "cell_type": "code",
   "execution_count": 61,
   "id": "operating-behalf",
   "metadata": {},
   "outputs": [],
   "source": [
    "device = torch.device(\"cuda:0\" if torch.cuda.is_available() else \"cpu\")\n",
    "def objective(trial):\n",
    "    look_back = trial.suggest_int(\"Look Back\",5,100) # choose sequence length\n",
    "    [x_train, y_train, x_test, y_test], _ = load_data(scaled, look_back, use_perm=True)\n",
    "    x_train = torch.from_numpy(x_train).type(torch.Tensor).to(device)\n",
    "    x_test = torch.from_numpy(x_test).type(torch.Tensor).to(device)\n",
    "    y_train = torch.from_numpy(y_train).type(torch.Tensor).to(device)\n",
    "    y_test = torch.from_numpy(y_test).type(torch.Tensor).to(device)\n",
    "    \n",
    "    input_dim = 1\n",
    "    hidden_dim = trial.suggest_int(\"Hidden Dim\",16,128,log=True)\n",
    "    num_layers = trial.suggest_int(\"N layers\",1,5)\n",
    "    output_dim = 1\n",
    "    model = GRU(input_dim=input_dim, hidden_dim=hidden_dim, output_dim=output_dim, num_layers=num_layers).to(device)\n",
    "\n",
    "    loss_fn = torch.nn.MSELoss()\n",
    "    lr = trial.suggest_float(\"Learning Rate\",1e-4,1,log=True)\n",
    "    optimizer = torch.optim.Adam(model.parameters(), lr=lr)\n",
    "\n",
    "    num_epochs = 1000\n",
    "    factor = trial.suggest_float('Factor',0.1,1,log=True)\n",
    "    scheduler = torch.optim.lr_scheduler.ReduceLROnPlateau(optimizer, factor=factor, patience=5)\n",
    "    for epoch in range(num_epochs):\n",
    "        # Initialise hidden state\n",
    "        # Don't do this if you want your LSTM to be stateful\n",
    "        #model.hidden = model.init_hidden()\n",
    "\n",
    "        # Forward pass\n",
    "        y_train_pred = model(x_train)\n",
    "\n",
    "        loss = loss_fn(y_train_pred, y_train)\n",
    "\n",
    "        # Zero out gradient, else they will accumulate between epochs\n",
    "        optimizer.zero_grad()\n",
    "\n",
    "        # Backward pass\n",
    "        loss.backward()\n",
    "\n",
    "        # Update parameters\n",
    "        optimizer.step()\n",
    "        scheduler.step(loss)\n",
    "        trial.report(loss, epoch)\n",
    "        if trial.should_prune():\n",
    "            raise optuna.exceptions.TrialPruned()\n",
    "    return loss"
   ]
  },
  {
   "cell_type": "code",
   "execution_count": 62,
   "id": "04b38a06",
   "metadata": {},
   "outputs": [
    {
     "name": "stderr",
     "output_type": "stream",
     "text": [
      "\u001b[32m[I 2021-06-21 16:53:15,028]\u001b[0m A new study created in memory with name: GRU\u001b[0m\n",
      "\u001b[32m[I 2021-06-21 16:53:26,400]\u001b[0m Trial 0 finished with value: 0.0005971321952529252 and parameters: {'Look Back': 8, 'Hidden Dim': 16, 'N layers': 4, 'Learning Rate': 0.003475689931597431, 'Factor': 0.1909797773732862}. Best is trial 0 with value: 0.0005971321952529252.\u001b[0m\n",
      "\u001b[32m[I 2021-06-21 16:53:47,785]\u001b[0m Trial 1 finished with value: 0.04929756745696068 and parameters: {'Look Back': 58, 'Hidden Dim': 22, 'N layers': 4, 'Learning Rate': 0.6168673910804733, 'Factor': 0.7027669939958612}. Best is trial 0 with value: 0.0005971321952529252.\u001b[0m\n",
      "\u001b[32m[I 2021-06-21 16:54:26,741]\u001b[0m Trial 2 finished with value: 8.281258583068848 and parameters: {'Look Back': 95, 'Hidden Dim': 55, 'N layers': 2, 'Learning Rate': 0.2448923228361607, 'Factor': 0.10720387150541116}. Best is trial 0 with value: 0.0005971321952529252.\u001b[0m\n",
      "\u001b[32m[I 2021-06-21 16:54:46,884]\u001b[0m Trial 3 finished with value: 0.0005238065496087074 and parameters: {'Look Back': 18, 'Hidden Dim': 46, 'N layers': 5, 'Learning Rate': 0.004357950575277255, 'Factor': 0.25077075628724904}. Best is trial 3 with value: 0.0005238065496087074.\u001b[0m\n",
      "\u001b[32m[I 2021-06-21 16:54:52,028]\u001b[0m Trial 4 finished with value: 0.04144224151968956 and parameters: {'Look Back': 7, 'Hidden Dim': 21, 'N layers': 2, 'Learning Rate': 0.3880635908393563, 'Factor': 0.3885586690461373}. Best is trial 3 with value: 0.0005238065496087074.\u001b[0m\n",
      "\u001b[32m[I 2021-06-21 16:55:01,709]\u001b[0m Trial 5 finished with value: 9.850820788415149e-05 and parameters: {'Look Back': 34, 'Hidden Dim': 23, 'N layers': 2, 'Learning Rate': 0.025597580420296567, 'Factor': 0.16728904466534308}. Best is trial 5 with value: 9.850820788415149e-05.\u001b[0m\n",
      "\u001b[32m[I 2021-06-21 16:55:01,800]\u001b[0m Trial 6 pruned. \u001b[0m\n",
      "\u001b[32m[I 2021-06-21 16:55:01,826]\u001b[0m Trial 7 pruned. \u001b[0m\n",
      "\u001b[32m[I 2021-06-21 16:55:18,053]\u001b[0m Trial 8 finished with value: 0.0005125487223267555 and parameters: {'Look Back': 10, 'Hidden Dim': 108, 'N layers': 3, 'Learning Rate': 0.029546335160531508, 'Factor': 0.2797665380117496}. Best is trial 5 with value: 9.850820788415149e-05.\u001b[0m\n",
      "\u001b[32m[I 2021-06-21 16:55:18,082]\u001b[0m Trial 9 pruned. \u001b[0m\n",
      "\u001b[32m[I 2021-06-21 16:55:18,214]\u001b[0m Trial 10 pruned. \u001b[0m\n",
      "\u001b[32m[I 2021-06-21 16:55:18,491]\u001b[0m Trial 11 pruned. \u001b[0m\n",
      "\u001b[32m[I 2021-06-21 16:55:18,593]\u001b[0m Trial 12 pruned. \u001b[0m\n",
      "\u001b[32m[I 2021-06-21 16:55:18,649]\u001b[0m Trial 13 pruned. \u001b[0m\n",
      "\u001b[32m[I 2021-06-21 16:55:18,710]\u001b[0m Trial 14 pruned. \u001b[0m\n",
      "\u001b[32m[I 2021-06-21 16:55:18,762]\u001b[0m Trial 15 pruned. \u001b[0m\n",
      "\u001b[32m[I 2021-06-21 16:55:18,803]\u001b[0m Trial 16 pruned. \u001b[0m\n",
      "\u001b[32m[I 2021-06-21 16:55:18,851]\u001b[0m Trial 17 pruned. \u001b[0m\n",
      "\u001b[32m[I 2021-06-21 16:55:18,929]\u001b[0m Trial 18 pruned. \u001b[0m\n",
      "\u001b[32m[I 2021-06-21 16:55:19,076]\u001b[0m Trial 19 pruned. \u001b[0m\n",
      "\u001b[32m[I 2021-06-21 16:55:19,104]\u001b[0m Trial 20 pruned. \u001b[0m\n",
      "\u001b[32m[I 2021-06-21 16:55:19,162]\u001b[0m Trial 21 pruned. \u001b[0m\n",
      "\u001b[32m[I 2021-06-21 16:55:19,424]\u001b[0m Trial 22 pruned. \u001b[0m\n",
      "\u001b[32m[I 2021-06-21 16:55:19,457]\u001b[0m Trial 23 pruned. \u001b[0m\n",
      "\u001b[32m[I 2021-06-21 16:55:19,519]\u001b[0m Trial 24 pruned. \u001b[0m\n",
      "\u001b[32m[I 2021-06-21 16:55:28,071]\u001b[0m Trial 25 finished with value: 0.000454283959697932 and parameters: {'Look Back': 13, 'Hidden Dim': 26, 'N layers': 3, 'Learning Rate': 0.00530890695307317, 'Factor': 0.37380138762004844}. Best is trial 5 with value: 9.850820788415149e-05.\u001b[0m\n",
      "\u001b[32m[I 2021-06-21 16:55:28,206]\u001b[0m Trial 26 pruned. \u001b[0m\n",
      "\u001b[32m[I 2021-06-21 16:55:28,244]\u001b[0m Trial 27 pruned. \u001b[0m\n",
      "\u001b[32m[I 2021-06-21 16:55:28,295]\u001b[0m Trial 28 pruned. \u001b[0m\n",
      "\u001b[32m[I 2021-06-21 16:55:28,437]\u001b[0m Trial 29 pruned. \u001b[0m\n",
      "\u001b[32m[I 2021-06-21 16:55:28,904]\u001b[0m Trial 30 pruned. \u001b[0m\n",
      "\u001b[32m[I 2021-06-21 16:55:28,962]\u001b[0m Trial 31 pruned. \u001b[0m\n",
      "\u001b[32m[I 2021-06-21 16:55:29,001]\u001b[0m Trial 32 pruned. \u001b[0m\n",
      "\u001b[32m[I 2021-06-21 16:55:29,070]\u001b[0m Trial 33 pruned. \u001b[0m\n",
      "\u001b[32m[I 2021-06-21 16:55:29,128]\u001b[0m Trial 34 pruned. \u001b[0m\n",
      "\u001b[32m[I 2021-06-21 16:55:29,200]\u001b[0m Trial 35 pruned. \u001b[0m\n",
      "\u001b[32m[I 2021-06-21 16:55:29,369]\u001b[0m Trial 36 pruned. \u001b[0m\n",
      "\u001b[32m[I 2021-06-21 16:55:29,685]\u001b[0m Trial 37 pruned. \u001b[0m\n",
      "\u001b[32m[I 2021-06-21 16:55:30,374]\u001b[0m Trial 38 pruned. \u001b[0m\n",
      "\u001b[32m[I 2021-06-21 16:55:30,435]\u001b[0m Trial 39 pruned. \u001b[0m\n",
      "\u001b[32m[I 2021-06-21 16:55:30,471]\u001b[0m Trial 40 pruned. \u001b[0m\n",
      "\u001b[32m[I 2021-06-21 16:55:30,595]\u001b[0m Trial 41 pruned. \u001b[0m\n",
      "\u001b[32m[I 2021-06-21 16:55:30,714]\u001b[0m Trial 42 pruned. \u001b[0m\n",
      "\u001b[32m[I 2021-06-21 16:55:30,766]\u001b[0m Trial 43 pruned. \u001b[0m\n",
      "\u001b[32m[I 2021-06-21 16:55:30,814]\u001b[0m Trial 44 pruned. \u001b[0m\n",
      "\u001b[32m[I 2021-06-21 16:55:30,866]\u001b[0m Trial 45 pruned. \u001b[0m\n",
      "\u001b[32m[I 2021-06-21 16:55:30,910]\u001b[0m Trial 46 pruned. \u001b[0m\n",
      "\u001b[32m[I 2021-06-21 16:55:31,100]\u001b[0m Trial 47 pruned. \u001b[0m\n",
      "\u001b[32m[I 2021-06-21 16:55:31,154]\u001b[0m Trial 48 pruned. \u001b[0m\n",
      "\u001b[32m[I 2021-06-21 16:55:31,202]\u001b[0m Trial 49 pruned. \u001b[0m\n",
      "\u001b[32m[I 2021-06-21 16:55:31,266]\u001b[0m Trial 50 pruned. \u001b[0m\n",
      "\u001b[32m[I 2021-06-21 16:55:31,339]\u001b[0m Trial 51 pruned. \u001b[0m\n",
      "\u001b[32m[I 2021-06-21 16:55:31,408]\u001b[0m Trial 52 pruned. \u001b[0m\n",
      "\u001b[32m[I 2021-06-21 16:55:31,446]\u001b[0m Trial 53 pruned. \u001b[0m\n",
      "\u001b[32m[I 2021-06-21 16:55:31,495]\u001b[0m Trial 54 pruned. \u001b[0m\n",
      "\u001b[32m[I 2021-06-21 16:55:31,538]\u001b[0m Trial 55 pruned. \u001b[0m\n",
      "\u001b[32m[I 2021-06-21 16:55:31,572]\u001b[0m Trial 56 pruned. \u001b[0m\n",
      "\u001b[32m[I 2021-06-21 16:55:31,656]\u001b[0m Trial 57 pruned. \u001b[0m\n",
      "\u001b[32m[I 2021-06-21 16:55:31,686]\u001b[0m Trial 58 pruned. \u001b[0m\n",
      "\u001b[32m[I 2021-06-21 16:55:31,780]\u001b[0m Trial 59 pruned. \u001b[0m\n",
      "\u001b[32m[I 2021-06-21 16:55:31,817]\u001b[0m Trial 60 pruned. \u001b[0m\n",
      "\u001b[32m[I 2021-06-21 16:55:31,881]\u001b[0m Trial 61 pruned. \u001b[0m\n",
      "\u001b[32m[I 2021-06-21 16:55:31,941]\u001b[0m Trial 62 pruned. \u001b[0m\n",
      "\u001b[32m[I 2021-06-21 16:55:32,226]\u001b[0m Trial 63 pruned. \u001b[0m\n",
      "\u001b[32m[I 2021-06-21 16:55:32,297]\u001b[0m Trial 64 pruned. \u001b[0m\n",
      "\u001b[32m[I 2021-06-21 16:55:32,356]\u001b[0m Trial 65 pruned. \u001b[0m\n",
      "\u001b[32m[I 2021-06-21 16:55:32,425]\u001b[0m Trial 66 pruned. \u001b[0m\n",
      "\u001b[32m[I 2021-06-21 16:55:32,504]\u001b[0m Trial 67 pruned. \u001b[0m\n",
      "\u001b[32m[I 2021-06-21 16:55:32,562]\u001b[0m Trial 68 pruned. \u001b[0m\n",
      "\u001b[32m[I 2021-06-21 16:55:32,629]\u001b[0m Trial 69 pruned. \u001b[0m\n",
      "\u001b[32m[I 2021-06-21 16:55:32,665]\u001b[0m Trial 70 pruned. \u001b[0m\n",
      "\u001b[32m[I 2021-06-21 16:55:32,723]\u001b[0m Trial 71 pruned. \u001b[0m\n",
      "\u001b[32m[I 2021-06-21 16:55:32,758]\u001b[0m Trial 72 pruned. \u001b[0m\n",
      "\u001b[32m[I 2021-06-21 16:55:32,829]\u001b[0m Trial 73 pruned. \u001b[0m\n",
      "\u001b[32m[I 2021-06-21 16:55:32,878]\u001b[0m Trial 74 pruned. \u001b[0m\n",
      "\u001b[32m[I 2021-06-21 16:55:32,921]\u001b[0m Trial 75 pruned. \u001b[0m\n",
      "\u001b[32m[I 2021-06-21 16:55:32,983]\u001b[0m Trial 76 pruned. \u001b[0m\n",
      "\u001b[32m[I 2021-06-21 16:55:54,670]\u001b[0m Trial 77 finished with value: 0.00027770406450144947 and parameters: {'Look Back': 37, 'Hidden Dim': 44, 'N layers': 3, 'Learning Rate': 0.0025576518615544968, 'Factor': 0.2929296215014239}. Best is trial 5 with value: 9.850820788415149e-05.\u001b[0m\n",
      "\u001b[32m[I 2021-06-21 16:55:54,742]\u001b[0m Trial 78 pruned. \u001b[0m\n",
      "\u001b[32m[I 2021-06-21 16:55:54,831]\u001b[0m Trial 79 pruned. \u001b[0m\n",
      "\u001b[32m[I 2021-06-21 16:56:08,363]\u001b[0m Trial 80 finished with value: 0.0001590269384905696 and parameters: {'Look Back': 43, 'Hidden Dim': 19, 'N layers': 3, 'Learning Rate': 0.008832193480402902, 'Factor': 0.39975625961743616}. Best is trial 5 with value: 9.850820788415149e-05.\u001b[0m\n",
      "\u001b[32m[I 2021-06-21 16:56:08,407]\u001b[0m Trial 81 pruned. \u001b[0m\n",
      "\u001b[32m[I 2021-06-21 16:56:08,474]\u001b[0m Trial 82 pruned. \u001b[0m\n",
      "\u001b[32m[I 2021-06-21 16:56:08,544]\u001b[0m Trial 83 pruned. \u001b[0m\n",
      "\u001b[32m[I 2021-06-21 16:56:08,765]\u001b[0m Trial 84 pruned. \u001b[0m\n",
      "\u001b[32m[I 2021-06-21 16:56:08,824]\u001b[0m Trial 85 pruned. \u001b[0m\n",
      "\u001b[32m[I 2021-06-21 16:56:08,892]\u001b[0m Trial 86 pruned. \u001b[0m\n",
      "\u001b[32m[I 2021-06-21 16:56:08,954]\u001b[0m Trial 87 pruned. \u001b[0m\n",
      "\u001b[32m[I 2021-06-21 16:56:09,140]\u001b[0m Trial 88 pruned. \u001b[0m\n",
      "\u001b[32m[I 2021-06-21 16:56:09,234]\u001b[0m Trial 89 pruned. \u001b[0m\n",
      "\u001b[32m[I 2021-06-21 16:56:09,287]\u001b[0m Trial 90 pruned. \u001b[0m\n",
      "\u001b[32m[I 2021-06-21 16:56:09,364]\u001b[0m Trial 91 pruned. \u001b[0m\n",
      "\u001b[32m[I 2021-06-21 16:56:09,424]\u001b[0m Trial 92 pruned. \u001b[0m\n",
      "\u001b[32m[I 2021-06-21 16:56:09,616]\u001b[0m Trial 93 pruned. \u001b[0m\n",
      "\u001b[32m[I 2021-06-21 16:56:09,669]\u001b[0m Trial 94 pruned. \u001b[0m\n",
      "\u001b[32m[I 2021-06-21 16:56:09,723]\u001b[0m Trial 95 pruned. \u001b[0m\n",
      "\u001b[32m[I 2021-06-21 16:56:09,810]\u001b[0m Trial 96 pruned. \u001b[0m\n",
      "\u001b[32m[I 2021-06-21 16:56:09,863]\u001b[0m Trial 97 pruned. \u001b[0m\n",
      "\u001b[32m[I 2021-06-21 16:56:09,915]\u001b[0m Trial 98 pruned. \u001b[0m\n",
      "\u001b[32m[I 2021-06-21 16:56:09,993]\u001b[0m Trial 99 pruned. \u001b[0m\n"
     ]
    },
    {
     "name": "stdout",
     "output_type": "stream",
     "text": [
      "Study statistics: \n",
      "  Number of finished trials:  100\n",
      "  Number of pruned trials:  90\n",
      "  Number of complete trials:  10\n"
     ]
    }
   ],
   "source": [
    "# now we can run the experiment\n",
    "sampler = optuna.samplers.TPESampler()\n",
    "study_gru = optuna.create_study(study_name=\"GRU\", direction=\"minimize\", sampler=sampler)\n",
    "study_gru.optimize(objective, n_trials=100, timeout=120*60)\n",
    "\n",
    "pruned_trials = [t for t in study_gru.trials if t.state == optuna.trial.TrialState.PRUNED]\n",
    "complete_trials = [t for t in study_gru.trials if t.state == optuna.trial.TrialState.COMPLETE]\n",
    "\n",
    "print(\"Study statistics: \")\n",
    "print(\"  Number of finished trials: \", len(study_gru.trials))\n",
    "print(\"  Number of pruned trials: \", len(pruned_trials))\n",
    "print(\"  Number of complete trials: \", len(complete_trials))\n",
    "#print(\"  Params: \")\n",
    "#for key, value in trial.params.items():\n",
    "#    print(\"    {}: {}\".format(key, value))"
   ]
  },
  {
   "cell_type": "code",
   "execution_count": 63,
   "id": "49a05f38",
   "metadata": {},
   "outputs": [
    {
     "data": {
      "application/vnd.plotly.v1+json": {
       "config": {
        "plotlyServerURL": "https://plot.ly"
       },
       "data": [
        {
         "cliponaxis": false,
         "hovertemplate": [
          "N layers (IntUniformDistribution): 0.016578328685743583<extra></extra>",
          "Hidden Dim (IntLogUniformDistribution): 0.14144900213593686<extra></extra>",
          "Factor (LogUniformDistribution): 0.2210031147142434<extra></extra>",
          "Learning Rate (LogUniformDistribution): 0.24697615301607267<extra></extra>",
          "Look Back (IntUniformDistribution): 0.3739934014480034<extra></extra>"
         ],
         "marker": {
          "color": "rgb(66,146,198)"
         },
         "orientation": "h",
         "text": [
          "0.016578328685743583",
          "0.14144900213593686",
          "0.2210031147142434",
          "0.24697615301607267",
          "0.3739934014480034"
         ],
         "textposition": "outside",
         "texttemplate": "%{text:.2f}",
         "type": "bar",
         "x": [
          0.016578328685743583,
          0.14144900213593686,
          0.2210031147142434,
          0.24697615301607267,
          0.3739934014480034
         ],
         "y": [
          "N layers",
          "Hidden Dim",
          "Factor",
          "Learning Rate",
          "Look Back"
         ]
        }
       ],
       "layout": {
        "showlegend": false,
        "template": {
         "data": {
          "bar": [
           {
            "error_x": {
             "color": "#2a3f5f"
            },
            "error_y": {
             "color": "#2a3f5f"
            },
            "marker": {
             "line": {
              "color": "#E5ECF6",
              "width": 0.5
             }
            },
            "type": "bar"
           }
          ],
          "barpolar": [
           {
            "marker": {
             "line": {
              "color": "#E5ECF6",
              "width": 0.5
             }
            },
            "type": "barpolar"
           }
          ],
          "carpet": [
           {
            "aaxis": {
             "endlinecolor": "#2a3f5f",
             "gridcolor": "white",
             "linecolor": "white",
             "minorgridcolor": "white",
             "startlinecolor": "#2a3f5f"
            },
            "baxis": {
             "endlinecolor": "#2a3f5f",
             "gridcolor": "white",
             "linecolor": "white",
             "minorgridcolor": "white",
             "startlinecolor": "#2a3f5f"
            },
            "type": "carpet"
           }
          ],
          "choropleth": [
           {
            "colorbar": {
             "outlinewidth": 0,
             "ticks": ""
            },
            "type": "choropleth"
           }
          ],
          "contour": [
           {
            "colorbar": {
             "outlinewidth": 0,
             "ticks": ""
            },
            "colorscale": [
             [
              0,
              "#0d0887"
             ],
             [
              0.1111111111111111,
              "#46039f"
             ],
             [
              0.2222222222222222,
              "#7201a8"
             ],
             [
              0.3333333333333333,
              "#9c179e"
             ],
             [
              0.4444444444444444,
              "#bd3786"
             ],
             [
              0.5555555555555556,
              "#d8576b"
             ],
             [
              0.6666666666666666,
              "#ed7953"
             ],
             [
              0.7777777777777778,
              "#fb9f3a"
             ],
             [
              0.8888888888888888,
              "#fdca26"
             ],
             [
              1,
              "#f0f921"
             ]
            ],
            "type": "contour"
           }
          ],
          "contourcarpet": [
           {
            "colorbar": {
             "outlinewidth": 0,
             "ticks": ""
            },
            "type": "contourcarpet"
           }
          ],
          "heatmap": [
           {
            "colorbar": {
             "outlinewidth": 0,
             "ticks": ""
            },
            "colorscale": [
             [
              0,
              "#0d0887"
             ],
             [
              0.1111111111111111,
              "#46039f"
             ],
             [
              0.2222222222222222,
              "#7201a8"
             ],
             [
              0.3333333333333333,
              "#9c179e"
             ],
             [
              0.4444444444444444,
              "#bd3786"
             ],
             [
              0.5555555555555556,
              "#d8576b"
             ],
             [
              0.6666666666666666,
              "#ed7953"
             ],
             [
              0.7777777777777778,
              "#fb9f3a"
             ],
             [
              0.8888888888888888,
              "#fdca26"
             ],
             [
              1,
              "#f0f921"
             ]
            ],
            "type": "heatmap"
           }
          ],
          "heatmapgl": [
           {
            "colorbar": {
             "outlinewidth": 0,
             "ticks": ""
            },
            "colorscale": [
             [
              0,
              "#0d0887"
             ],
             [
              0.1111111111111111,
              "#46039f"
             ],
             [
              0.2222222222222222,
              "#7201a8"
             ],
             [
              0.3333333333333333,
              "#9c179e"
             ],
             [
              0.4444444444444444,
              "#bd3786"
             ],
             [
              0.5555555555555556,
              "#d8576b"
             ],
             [
              0.6666666666666666,
              "#ed7953"
             ],
             [
              0.7777777777777778,
              "#fb9f3a"
             ],
             [
              0.8888888888888888,
              "#fdca26"
             ],
             [
              1,
              "#f0f921"
             ]
            ],
            "type": "heatmapgl"
           }
          ],
          "histogram": [
           {
            "marker": {
             "colorbar": {
              "outlinewidth": 0,
              "ticks": ""
             }
            },
            "type": "histogram"
           }
          ],
          "histogram2d": [
           {
            "colorbar": {
             "outlinewidth": 0,
             "ticks": ""
            },
            "colorscale": [
             [
              0,
              "#0d0887"
             ],
             [
              0.1111111111111111,
              "#46039f"
             ],
             [
              0.2222222222222222,
              "#7201a8"
             ],
             [
              0.3333333333333333,
              "#9c179e"
             ],
             [
              0.4444444444444444,
              "#bd3786"
             ],
             [
              0.5555555555555556,
              "#d8576b"
             ],
             [
              0.6666666666666666,
              "#ed7953"
             ],
             [
              0.7777777777777778,
              "#fb9f3a"
             ],
             [
              0.8888888888888888,
              "#fdca26"
             ],
             [
              1,
              "#f0f921"
             ]
            ],
            "type": "histogram2d"
           }
          ],
          "histogram2dcontour": [
           {
            "colorbar": {
             "outlinewidth": 0,
             "ticks": ""
            },
            "colorscale": [
             [
              0,
              "#0d0887"
             ],
             [
              0.1111111111111111,
              "#46039f"
             ],
             [
              0.2222222222222222,
              "#7201a8"
             ],
             [
              0.3333333333333333,
              "#9c179e"
             ],
             [
              0.4444444444444444,
              "#bd3786"
             ],
             [
              0.5555555555555556,
              "#d8576b"
             ],
             [
              0.6666666666666666,
              "#ed7953"
             ],
             [
              0.7777777777777778,
              "#fb9f3a"
             ],
             [
              0.8888888888888888,
              "#fdca26"
             ],
             [
              1,
              "#f0f921"
             ]
            ],
            "type": "histogram2dcontour"
           }
          ],
          "mesh3d": [
           {
            "colorbar": {
             "outlinewidth": 0,
             "ticks": ""
            },
            "type": "mesh3d"
           }
          ],
          "parcoords": [
           {
            "line": {
             "colorbar": {
              "outlinewidth": 0,
              "ticks": ""
             }
            },
            "type": "parcoords"
           }
          ],
          "pie": [
           {
            "automargin": true,
            "type": "pie"
           }
          ],
          "scatter": [
           {
            "marker": {
             "colorbar": {
              "outlinewidth": 0,
              "ticks": ""
             }
            },
            "type": "scatter"
           }
          ],
          "scatter3d": [
           {
            "line": {
             "colorbar": {
              "outlinewidth": 0,
              "ticks": ""
             }
            },
            "marker": {
             "colorbar": {
              "outlinewidth": 0,
              "ticks": ""
             }
            },
            "type": "scatter3d"
           }
          ],
          "scattercarpet": [
           {
            "marker": {
             "colorbar": {
              "outlinewidth": 0,
              "ticks": ""
             }
            },
            "type": "scattercarpet"
           }
          ],
          "scattergeo": [
           {
            "marker": {
             "colorbar": {
              "outlinewidth": 0,
              "ticks": ""
             }
            },
            "type": "scattergeo"
           }
          ],
          "scattergl": [
           {
            "marker": {
             "colorbar": {
              "outlinewidth": 0,
              "ticks": ""
             }
            },
            "type": "scattergl"
           }
          ],
          "scattermapbox": [
           {
            "marker": {
             "colorbar": {
              "outlinewidth": 0,
              "ticks": ""
             }
            },
            "type": "scattermapbox"
           }
          ],
          "scatterpolar": [
           {
            "marker": {
             "colorbar": {
              "outlinewidth": 0,
              "ticks": ""
             }
            },
            "type": "scatterpolar"
           }
          ],
          "scatterpolargl": [
           {
            "marker": {
             "colorbar": {
              "outlinewidth": 0,
              "ticks": ""
             }
            },
            "type": "scatterpolargl"
           }
          ],
          "scatterternary": [
           {
            "marker": {
             "colorbar": {
              "outlinewidth": 0,
              "ticks": ""
             }
            },
            "type": "scatterternary"
           }
          ],
          "surface": [
           {
            "colorbar": {
             "outlinewidth": 0,
             "ticks": ""
            },
            "colorscale": [
             [
              0,
              "#0d0887"
             ],
             [
              0.1111111111111111,
              "#46039f"
             ],
             [
              0.2222222222222222,
              "#7201a8"
             ],
             [
              0.3333333333333333,
              "#9c179e"
             ],
             [
              0.4444444444444444,
              "#bd3786"
             ],
             [
              0.5555555555555556,
              "#d8576b"
             ],
             [
              0.6666666666666666,
              "#ed7953"
             ],
             [
              0.7777777777777778,
              "#fb9f3a"
             ],
             [
              0.8888888888888888,
              "#fdca26"
             ],
             [
              1,
              "#f0f921"
             ]
            ],
            "type": "surface"
           }
          ],
          "table": [
           {
            "cells": {
             "fill": {
              "color": "#EBF0F8"
             },
             "line": {
              "color": "white"
             }
            },
            "header": {
             "fill": {
              "color": "#C8D4E3"
             },
             "line": {
              "color": "white"
             }
            },
            "type": "table"
           }
          ]
         },
         "layout": {
          "annotationdefaults": {
           "arrowcolor": "#2a3f5f",
           "arrowhead": 0,
           "arrowwidth": 1
          },
          "autotypenumbers": "strict",
          "coloraxis": {
           "colorbar": {
            "outlinewidth": 0,
            "ticks": ""
           }
          },
          "colorscale": {
           "diverging": [
            [
             0,
             "#8e0152"
            ],
            [
             0.1,
             "#c51b7d"
            ],
            [
             0.2,
             "#de77ae"
            ],
            [
             0.3,
             "#f1b6da"
            ],
            [
             0.4,
             "#fde0ef"
            ],
            [
             0.5,
             "#f7f7f7"
            ],
            [
             0.6,
             "#e6f5d0"
            ],
            [
             0.7,
             "#b8e186"
            ],
            [
             0.8,
             "#7fbc41"
            ],
            [
             0.9,
             "#4d9221"
            ],
            [
             1,
             "#276419"
            ]
           ],
           "sequential": [
            [
             0,
             "#0d0887"
            ],
            [
             0.1111111111111111,
             "#46039f"
            ],
            [
             0.2222222222222222,
             "#7201a8"
            ],
            [
             0.3333333333333333,
             "#9c179e"
            ],
            [
             0.4444444444444444,
             "#bd3786"
            ],
            [
             0.5555555555555556,
             "#d8576b"
            ],
            [
             0.6666666666666666,
             "#ed7953"
            ],
            [
             0.7777777777777778,
             "#fb9f3a"
            ],
            [
             0.8888888888888888,
             "#fdca26"
            ],
            [
             1,
             "#f0f921"
            ]
           ],
           "sequentialminus": [
            [
             0,
             "#0d0887"
            ],
            [
             0.1111111111111111,
             "#46039f"
            ],
            [
             0.2222222222222222,
             "#7201a8"
            ],
            [
             0.3333333333333333,
             "#9c179e"
            ],
            [
             0.4444444444444444,
             "#bd3786"
            ],
            [
             0.5555555555555556,
             "#d8576b"
            ],
            [
             0.6666666666666666,
             "#ed7953"
            ],
            [
             0.7777777777777778,
             "#fb9f3a"
            ],
            [
             0.8888888888888888,
             "#fdca26"
            ],
            [
             1,
             "#f0f921"
            ]
           ]
          },
          "colorway": [
           "#636efa",
           "#EF553B",
           "#00cc96",
           "#ab63fa",
           "#FFA15A",
           "#19d3f3",
           "#FF6692",
           "#B6E880",
           "#FF97FF",
           "#FECB52"
          ],
          "font": {
           "color": "#2a3f5f"
          },
          "geo": {
           "bgcolor": "white",
           "lakecolor": "white",
           "landcolor": "#E5ECF6",
           "showlakes": true,
           "showland": true,
           "subunitcolor": "white"
          },
          "hoverlabel": {
           "align": "left"
          },
          "hovermode": "closest",
          "mapbox": {
           "style": "light"
          },
          "paper_bgcolor": "white",
          "plot_bgcolor": "#E5ECF6",
          "polar": {
           "angularaxis": {
            "gridcolor": "white",
            "linecolor": "white",
            "ticks": ""
           },
           "bgcolor": "#E5ECF6",
           "radialaxis": {
            "gridcolor": "white",
            "linecolor": "white",
            "ticks": ""
           }
          },
          "scene": {
           "xaxis": {
            "backgroundcolor": "#E5ECF6",
            "gridcolor": "white",
            "gridwidth": 2,
            "linecolor": "white",
            "showbackground": true,
            "ticks": "",
            "zerolinecolor": "white"
           },
           "yaxis": {
            "backgroundcolor": "#E5ECF6",
            "gridcolor": "white",
            "gridwidth": 2,
            "linecolor": "white",
            "showbackground": true,
            "ticks": "",
            "zerolinecolor": "white"
           },
           "zaxis": {
            "backgroundcolor": "#E5ECF6",
            "gridcolor": "white",
            "gridwidth": 2,
            "linecolor": "white",
            "showbackground": true,
            "ticks": "",
            "zerolinecolor": "white"
           }
          },
          "shapedefaults": {
           "line": {
            "color": "#2a3f5f"
           }
          },
          "ternary": {
           "aaxis": {
            "gridcolor": "white",
            "linecolor": "white",
            "ticks": ""
           },
           "baxis": {
            "gridcolor": "white",
            "linecolor": "white",
            "ticks": ""
           },
           "bgcolor": "#E5ECF6",
           "caxis": {
            "gridcolor": "white",
            "linecolor": "white",
            "ticks": ""
           }
          },
          "title": {
           "x": 0.05
          },
          "xaxis": {
           "automargin": true,
           "gridcolor": "white",
           "linecolor": "white",
           "ticks": "",
           "title": {
            "standoff": 15
           },
           "zerolinecolor": "white",
           "zerolinewidth": 2
          },
          "yaxis": {
           "automargin": true,
           "gridcolor": "white",
           "linecolor": "white",
           "ticks": "",
           "title": {
            "standoff": 15
           },
           "zerolinecolor": "white",
           "zerolinewidth": 2
          }
         }
        },
        "title": {
         "text": "Hyperparameter Importances"
        },
        "xaxis": {
         "title": {
          "text": "Importance for Objective Value"
         }
        },
        "yaxis": {
         "title": {
          "text": "Hyperparameter"
         }
        }
       }
      },
      "text/html": [
       "<div>                            <div id=\"5dccfe1e-c5f0-4834-897d-2c30f166f66d\" class=\"plotly-graph-div\" style=\"height:525px; width:100%;\"></div>            <script type=\"text/javascript\">                require([\"plotly\"], function(Plotly) {                    window.PLOTLYENV=window.PLOTLYENV || {};                                    if (document.getElementById(\"5dccfe1e-c5f0-4834-897d-2c30f166f66d\")) {                    Plotly.newPlot(                        \"5dccfe1e-c5f0-4834-897d-2c30f166f66d\",                        [{\"cliponaxis\": false, \"hovertemplate\": [\"N layers (IntUniformDistribution): 0.016578328685743583<extra></extra>\", \"Hidden Dim (IntLogUniformDistribution): 0.14144900213593686<extra></extra>\", \"Factor (LogUniformDistribution): 0.2210031147142434<extra></extra>\", \"Learning Rate (LogUniformDistribution): 0.24697615301607267<extra></extra>\", \"Look Back (IntUniformDistribution): 0.3739934014480034<extra></extra>\"], \"marker\": {\"color\": \"rgb(66,146,198)\"}, \"orientation\": \"h\", \"text\": [\"0.016578328685743583\", \"0.14144900213593686\", \"0.2210031147142434\", \"0.24697615301607267\", \"0.3739934014480034\"], \"textposition\": \"outside\", \"texttemplate\": \"%{text:.2f}\", \"type\": \"bar\", \"x\": [0.016578328685743583, 0.14144900213593686, 0.2210031147142434, 0.24697615301607267, 0.3739934014480034], \"y\": [\"N layers\", \"Hidden Dim\", \"Factor\", \"Learning Rate\", \"Look Back\"]}],                        {\"showlegend\": false, \"template\": {\"data\": {\"bar\": [{\"error_x\": {\"color\": \"#2a3f5f\"}, \"error_y\": {\"color\": \"#2a3f5f\"}, \"marker\": {\"line\": {\"color\": \"#E5ECF6\", \"width\": 0.5}}, \"type\": \"bar\"}], \"barpolar\": [{\"marker\": {\"line\": {\"color\": \"#E5ECF6\", \"width\": 0.5}}, \"type\": \"barpolar\"}], \"carpet\": [{\"aaxis\": {\"endlinecolor\": \"#2a3f5f\", \"gridcolor\": \"white\", \"linecolor\": \"white\", \"minorgridcolor\": \"white\", \"startlinecolor\": \"#2a3f5f\"}, \"baxis\": {\"endlinecolor\": \"#2a3f5f\", \"gridcolor\": \"white\", \"linecolor\": \"white\", \"minorgridcolor\": \"white\", \"startlinecolor\": \"#2a3f5f\"}, \"type\": \"carpet\"}], \"choropleth\": [{\"colorbar\": {\"outlinewidth\": 0, \"ticks\": \"\"}, \"type\": \"choropleth\"}], \"contour\": [{\"colorbar\": {\"outlinewidth\": 0, \"ticks\": \"\"}, \"colorscale\": [[0.0, \"#0d0887\"], [0.1111111111111111, \"#46039f\"], [0.2222222222222222, \"#7201a8\"], [0.3333333333333333, \"#9c179e\"], [0.4444444444444444, \"#bd3786\"], [0.5555555555555556, \"#d8576b\"], [0.6666666666666666, \"#ed7953\"], [0.7777777777777778, \"#fb9f3a\"], [0.8888888888888888, \"#fdca26\"], [1.0, \"#f0f921\"]], \"type\": \"contour\"}], \"contourcarpet\": [{\"colorbar\": {\"outlinewidth\": 0, \"ticks\": \"\"}, \"type\": \"contourcarpet\"}], \"heatmap\": [{\"colorbar\": {\"outlinewidth\": 0, \"ticks\": \"\"}, \"colorscale\": [[0.0, \"#0d0887\"], [0.1111111111111111, \"#46039f\"], [0.2222222222222222, \"#7201a8\"], [0.3333333333333333, \"#9c179e\"], [0.4444444444444444, \"#bd3786\"], [0.5555555555555556, \"#d8576b\"], [0.6666666666666666, \"#ed7953\"], [0.7777777777777778, \"#fb9f3a\"], [0.8888888888888888, \"#fdca26\"], [1.0, \"#f0f921\"]], \"type\": \"heatmap\"}], \"heatmapgl\": [{\"colorbar\": {\"outlinewidth\": 0, \"ticks\": \"\"}, \"colorscale\": [[0.0, \"#0d0887\"], [0.1111111111111111, \"#46039f\"], [0.2222222222222222, \"#7201a8\"], [0.3333333333333333, \"#9c179e\"], [0.4444444444444444, \"#bd3786\"], [0.5555555555555556, \"#d8576b\"], [0.6666666666666666, \"#ed7953\"], [0.7777777777777778, \"#fb9f3a\"], [0.8888888888888888, \"#fdca26\"], [1.0, \"#f0f921\"]], \"type\": \"heatmapgl\"}], \"histogram\": [{\"marker\": {\"colorbar\": {\"outlinewidth\": 0, \"ticks\": \"\"}}, \"type\": \"histogram\"}], \"histogram2d\": [{\"colorbar\": {\"outlinewidth\": 0, \"ticks\": \"\"}, \"colorscale\": [[0.0, \"#0d0887\"], [0.1111111111111111, \"#46039f\"], [0.2222222222222222, \"#7201a8\"], [0.3333333333333333, \"#9c179e\"], [0.4444444444444444, \"#bd3786\"], [0.5555555555555556, \"#d8576b\"], [0.6666666666666666, \"#ed7953\"], [0.7777777777777778, \"#fb9f3a\"], [0.8888888888888888, \"#fdca26\"], [1.0, \"#f0f921\"]], \"type\": \"histogram2d\"}], \"histogram2dcontour\": [{\"colorbar\": {\"outlinewidth\": 0, \"ticks\": \"\"}, \"colorscale\": [[0.0, \"#0d0887\"], [0.1111111111111111, \"#46039f\"], [0.2222222222222222, \"#7201a8\"], [0.3333333333333333, \"#9c179e\"], [0.4444444444444444, \"#bd3786\"], [0.5555555555555556, \"#d8576b\"], [0.6666666666666666, \"#ed7953\"], [0.7777777777777778, \"#fb9f3a\"], [0.8888888888888888, \"#fdca26\"], [1.0, \"#f0f921\"]], \"type\": \"histogram2dcontour\"}], \"mesh3d\": [{\"colorbar\": {\"outlinewidth\": 0, \"ticks\": \"\"}, \"type\": \"mesh3d\"}], \"parcoords\": [{\"line\": {\"colorbar\": {\"outlinewidth\": 0, \"ticks\": \"\"}}, \"type\": \"parcoords\"}], \"pie\": [{\"automargin\": true, \"type\": \"pie\"}], \"scatter\": [{\"marker\": {\"colorbar\": {\"outlinewidth\": 0, \"ticks\": \"\"}}, \"type\": \"scatter\"}], \"scatter3d\": [{\"line\": {\"colorbar\": {\"outlinewidth\": 0, \"ticks\": \"\"}}, \"marker\": {\"colorbar\": {\"outlinewidth\": 0, \"ticks\": \"\"}}, \"type\": \"scatter3d\"}], \"scattercarpet\": [{\"marker\": {\"colorbar\": {\"outlinewidth\": 0, \"ticks\": \"\"}}, \"type\": \"scattercarpet\"}], \"scattergeo\": [{\"marker\": {\"colorbar\": {\"outlinewidth\": 0, \"ticks\": \"\"}}, \"type\": \"scattergeo\"}], \"scattergl\": [{\"marker\": {\"colorbar\": {\"outlinewidth\": 0, \"ticks\": \"\"}}, \"type\": \"scattergl\"}], \"scattermapbox\": [{\"marker\": {\"colorbar\": {\"outlinewidth\": 0, \"ticks\": \"\"}}, \"type\": \"scattermapbox\"}], \"scatterpolar\": [{\"marker\": {\"colorbar\": {\"outlinewidth\": 0, \"ticks\": \"\"}}, \"type\": \"scatterpolar\"}], \"scatterpolargl\": [{\"marker\": {\"colorbar\": {\"outlinewidth\": 0, \"ticks\": \"\"}}, \"type\": \"scatterpolargl\"}], \"scatterternary\": [{\"marker\": {\"colorbar\": {\"outlinewidth\": 0, \"ticks\": \"\"}}, \"type\": \"scatterternary\"}], \"surface\": [{\"colorbar\": {\"outlinewidth\": 0, \"ticks\": \"\"}, \"colorscale\": [[0.0, \"#0d0887\"], [0.1111111111111111, \"#46039f\"], [0.2222222222222222, \"#7201a8\"], [0.3333333333333333, \"#9c179e\"], [0.4444444444444444, \"#bd3786\"], [0.5555555555555556, \"#d8576b\"], [0.6666666666666666, \"#ed7953\"], [0.7777777777777778, \"#fb9f3a\"], [0.8888888888888888, \"#fdca26\"], [1.0, \"#f0f921\"]], \"type\": \"surface\"}], \"table\": [{\"cells\": {\"fill\": {\"color\": \"#EBF0F8\"}, \"line\": {\"color\": \"white\"}}, \"header\": {\"fill\": {\"color\": \"#C8D4E3\"}, \"line\": {\"color\": \"white\"}}, \"type\": \"table\"}]}, \"layout\": {\"annotationdefaults\": {\"arrowcolor\": \"#2a3f5f\", \"arrowhead\": 0, \"arrowwidth\": 1}, \"autotypenumbers\": \"strict\", \"coloraxis\": {\"colorbar\": {\"outlinewidth\": 0, \"ticks\": \"\"}}, \"colorscale\": {\"diverging\": [[0, \"#8e0152\"], [0.1, \"#c51b7d\"], [0.2, \"#de77ae\"], [0.3, \"#f1b6da\"], [0.4, \"#fde0ef\"], [0.5, \"#f7f7f7\"], [0.6, \"#e6f5d0\"], [0.7, \"#b8e186\"], [0.8, \"#7fbc41\"], [0.9, \"#4d9221\"], [1, \"#276419\"]], \"sequential\": [[0.0, \"#0d0887\"], [0.1111111111111111, \"#46039f\"], [0.2222222222222222, \"#7201a8\"], [0.3333333333333333, \"#9c179e\"], [0.4444444444444444, \"#bd3786\"], [0.5555555555555556, \"#d8576b\"], [0.6666666666666666, \"#ed7953\"], [0.7777777777777778, \"#fb9f3a\"], [0.8888888888888888, \"#fdca26\"], [1.0, \"#f0f921\"]], \"sequentialminus\": [[0.0, \"#0d0887\"], [0.1111111111111111, \"#46039f\"], [0.2222222222222222, \"#7201a8\"], [0.3333333333333333, \"#9c179e\"], [0.4444444444444444, \"#bd3786\"], [0.5555555555555556, \"#d8576b\"], [0.6666666666666666, \"#ed7953\"], [0.7777777777777778, \"#fb9f3a\"], [0.8888888888888888, \"#fdca26\"], [1.0, \"#f0f921\"]]}, \"colorway\": [\"#636efa\", \"#EF553B\", \"#00cc96\", \"#ab63fa\", \"#FFA15A\", \"#19d3f3\", \"#FF6692\", \"#B6E880\", \"#FF97FF\", \"#FECB52\"], \"font\": {\"color\": \"#2a3f5f\"}, \"geo\": {\"bgcolor\": \"white\", \"lakecolor\": \"white\", \"landcolor\": \"#E5ECF6\", \"showlakes\": true, \"showland\": true, \"subunitcolor\": \"white\"}, \"hoverlabel\": {\"align\": \"left\"}, \"hovermode\": \"closest\", \"mapbox\": {\"style\": \"light\"}, \"paper_bgcolor\": \"white\", \"plot_bgcolor\": \"#E5ECF6\", \"polar\": {\"angularaxis\": {\"gridcolor\": \"white\", \"linecolor\": \"white\", \"ticks\": \"\"}, \"bgcolor\": \"#E5ECF6\", \"radialaxis\": {\"gridcolor\": \"white\", \"linecolor\": \"white\", \"ticks\": \"\"}}, \"scene\": {\"xaxis\": {\"backgroundcolor\": \"#E5ECF6\", \"gridcolor\": \"white\", \"gridwidth\": 2, \"linecolor\": \"white\", \"showbackground\": true, \"ticks\": \"\", \"zerolinecolor\": \"white\"}, \"yaxis\": {\"backgroundcolor\": \"#E5ECF6\", \"gridcolor\": \"white\", \"gridwidth\": 2, \"linecolor\": \"white\", \"showbackground\": true, \"ticks\": \"\", \"zerolinecolor\": \"white\"}, \"zaxis\": {\"backgroundcolor\": \"#E5ECF6\", \"gridcolor\": \"white\", \"gridwidth\": 2, \"linecolor\": \"white\", \"showbackground\": true, \"ticks\": \"\", \"zerolinecolor\": \"white\"}}, \"shapedefaults\": {\"line\": {\"color\": \"#2a3f5f\"}}, \"ternary\": {\"aaxis\": {\"gridcolor\": \"white\", \"linecolor\": \"white\", \"ticks\": \"\"}, \"baxis\": {\"gridcolor\": \"white\", \"linecolor\": \"white\", \"ticks\": \"\"}, \"bgcolor\": \"#E5ECF6\", \"caxis\": {\"gridcolor\": \"white\", \"linecolor\": \"white\", \"ticks\": \"\"}}, \"title\": {\"x\": 0.05}, \"xaxis\": {\"automargin\": true, \"gridcolor\": \"white\", \"linecolor\": \"white\", \"ticks\": \"\", \"title\": {\"standoff\": 15}, \"zerolinecolor\": \"white\", \"zerolinewidth\": 2}, \"yaxis\": {\"automargin\": true, \"gridcolor\": \"white\", \"linecolor\": \"white\", \"ticks\": \"\", \"title\": {\"standoff\": 15}, \"zerolinecolor\": \"white\", \"zerolinewidth\": 2}}}, \"title\": {\"text\": \"Hyperparameter Importances\"}, \"xaxis\": {\"title\": {\"text\": \"Importance for Objective Value\"}}, \"yaxis\": {\"title\": {\"text\": \"Hyperparameter\"}}},                        {\"responsive\": true}                    ).then(function(){\n",
       "                            \n",
       "var gd = document.getElementById('5dccfe1e-c5f0-4834-897d-2c30f166f66d');\n",
       "var x = new MutationObserver(function (mutations, observer) {{\n",
       "        var display = window.getComputedStyle(gd).display;\n",
       "        if (!display || display === 'none') {{\n",
       "            console.log([gd, 'removed!']);\n",
       "            Plotly.purge(gd);\n",
       "            observer.disconnect();\n",
       "        }}\n",
       "}});\n",
       "\n",
       "// Listen for the removal of the full notebook cells\n",
       "var notebookContainer = gd.closest('#notebook-container');\n",
       "if (notebookContainer) {{\n",
       "    x.observe(notebookContainer, {childList: true});\n",
       "}}\n",
       "\n",
       "// Listen for the clearing of the current output cell\n",
       "var outputEl = gd.closest('.output');\n",
       "if (outputEl) {{\n",
       "    x.observe(outputEl, {childList: true});\n",
       "}}\n",
       "\n",
       "                        })                };                });            </script>        </div>"
      ]
     },
     "metadata": {},
     "output_type": "display_data"
    }
   ],
   "source": [
    "optuna.visualization.plot_param_importances(study_gru)"
   ]
  },
  {
   "cell_type": "code",
   "execution_count": 64,
   "id": "b0d925fa",
   "metadata": {},
   "outputs": [
    {
     "name": "stdout",
     "output_type": "stream",
     "text": [
      "Best trial:\n",
      "Value:  9.850820788415149e-05\n",
      "{'Look Back': 34, 'Hidden Dim': 23, 'N layers': 2, 'Learning Rate': 0.025597580420296567, 'Factor': 0.16728904466534308}\n"
     ]
    }
   ],
   "source": [
    "print(\"Best trial:\")\n",
    "trial_gru = study_gru.best_trial\n",
    "\n",
    "print(\"Value: \", trial_gru.value)\n",
    "print(trial_gru.params)"
   ]
  },
  {
   "cell_type": "code",
   "execution_count": 65,
   "id": "2f0a876d",
   "metadata": {},
   "outputs": [
    {
     "name": "stdout",
     "output_type": "stream",
     "text": [
      "x_train.shape =  (738, 33, 1)\n"
     ]
    }
   ],
   "source": [
    "look_back = trial_gru.params['Look Back'] # choose sequence length\n",
    "[x_train, y_train, x_test, y_test], rand_perm = load_data(scaled, look_back, use_perm=True)\n",
    "print('x_train.shape = ',x_train.shape)\n",
    "#print('y_train.shape = ',y_train.shape)\n",
    "#print('x_test.shape = ',x_test.shape)\n",
    "#print('y_test.shape = ',y_test.shape)\n",
    "# make training and test sets in torch\n",
    "#print(device)\n",
    "x_train = torch.from_numpy(x_train).type(torch.Tensor).to(device)\n",
    "x_test = torch.from_numpy(x_test).type(torch.Tensor).to(device)\n",
    "y_train = torch.from_numpy(y_train).type(torch.Tensor).to(device)\n",
    "y_test = torch.from_numpy(y_test).type(torch.Tensor).to(device)"
   ]
  },
  {
   "cell_type": "code",
   "execution_count": 66,
   "id": "61d2e433",
   "metadata": {},
   "outputs": [
    {
     "name": "stdout",
     "output_type": "stream",
     "text": [
      "Epoch  0 MSE:  0.3597719073295593\n",
      "Epoch  50 MSE:  0.0003337089729029685\n",
      "Epoch  100 MSE:  0.00026028562569990754\n",
      "Epoch  150 MSE:  0.00022811155940871686\n",
      "Epoch  200 MSE:  0.0001984529080800712\n",
      "Epoch  250 MSE:  0.00017385157116223127\n",
      "Epoch  300 MSE:  0.00015451194485649467\n",
      "Epoch  350 MSE:  0.00013981231313664466\n",
      "Epoch  400 MSE:  0.00012891505321022123\n",
      "Epoch  450 MSE:  0.00012095746933482587\n",
      "Epoch  500 MSE:  0.00011516302038216963\n",
      "Epoch  550 MSE:  0.00011089360486948863\n",
      "Epoch  600 MSE:  0.00010766302875708789\n",
      "Epoch  650 MSE:  0.0001051239887601696\n",
      "Epoch  700 MSE:  0.00010304144234396517\n",
      "Epoch  750 MSE:  0.00010126308188773692\n",
      "Epoch  800 MSE:  9.96919916360639e-05\n",
      "Epoch  850 MSE:  9.826720634009689e-05\n",
      "Epoch  900 MSE:  9.695028711576015e-05\n",
      "Epoch  950 MSE:  9.571696136845276e-05\n"
     ]
    }
   ],
   "source": [
    "input_dim = 1\n",
    "hidden_dim = trial_gru.params['Hidden Dim']\n",
    "num_layers = trial_gru.params['N layers']\n",
    "output_dim = 1\n",
    "model = GRU(input_dim=input_dim, hidden_dim=hidden_dim, output_dim=output_dim, num_layers=num_layers).to(device)\n",
    "\n",
    "loss_fn = torch.nn.MSELoss()\n",
    "lr = trial_gru.params['Learning Rate']\n",
    "optimizer = torch.optim.Adam(model.parameters(), lr=lr)\n",
    "\"\"\"\n",
    "print(model)\n",
    "print(len(list(model.parameters())))\n",
    "for i in range(len(list(model.parameters()))):\n",
    "print(list(model.parameters())[i].size())\n",
    "\"\"\"\n",
    "num_epochs = 1000\n",
    "factor = trial_gru.params['Factor']\n",
    "scheduler = torch.optim.lr_scheduler.ReduceLROnPlateau(optimizer, factor=factor, patience = 5)\n",
    "hist = np.zeros(num_epochs)\n",
    "for epoch in range(num_epochs):\n",
    "    # Initialise hidden state\n",
    "    # Don't do this if you want your LSTM to be stateful\n",
    "    #model.hidden = model.init_hidden()\n",
    "\n",
    "    # Forward pass\n",
    "    y_train_pred = model(x_train)\n",
    "\n",
    "    loss = loss_fn(y_train_pred, y_train)\n",
    "    if epoch % 50 == 0:\n",
    "        print(\"Epoch \", epoch, \"MSE: \", loss.item())\n",
    "    hist[epoch] = loss.item()\n",
    "    # Zero out gradient, else they will accumulate between epochs\n",
    "    optimizer.zero_grad()\n",
    "\n",
    "    # Backward pass\n",
    "    loss.backward()\n",
    "\n",
    "    # Update parameters\n",
    "    optimizer.step()\n",
    "    scheduler.step(loss)"
   ]
  },
  {
   "cell_type": "code",
   "execution_count": 67,
   "id": "agreed-bundle",
   "metadata": {},
   "outputs": [
    {
     "data": {
      "image/png": "[encoded data removed]",
      "text/plain": [
       "<Figure size 432x288 with 1 Axes>"
      ]
     },
     "metadata": {
      "needs_background": "light"
     },
     "output_type": "display_data"
    }
   ],
   "source": [
    "plt.semilogy(hist, label=\"Training loss\")\n",
    "plt.legend()\n",
    "plt.show()"
   ]
  },
  {
   "cell_type": "code",
   "execution_count": 68,
   "id": "based-batch",
   "metadata": {},
   "outputs": [],
   "source": [
    "# make predictions\n",
    "y_test_pred = model(x_test)\n",
    "# invert predictions\n",
    "\n",
    "y_train_pred = scaler1.inverse_transform(y_train_pred.cpu().detach().numpy())\n",
    "y_train = scaler1.inverse_transform(y_train.detach().cpu().numpy())\n",
    "y_test_pred = scaler1.inverse_transform(y_test_pred.cpu().detach().numpy())\n",
    "y_test = scaler1.inverse_transform(y_test.cpu().detach().numpy())\n"
   ]
  },
  {
   "cell_type": "code",
   "execution_count": 69,
   "id": "collective-reynolds",
   "metadata": {},
   "outputs": [
    {
     "name": "stdout",
     "output_type": "stream",
     "text": [
      "Train Score: 140.24 RMSE\n",
      "Test Score: 149.66 RMSE\n"
     ]
    }
   ],
   "source": [
    "# calculate root mean squared error\n",
    "trainScore = math.sqrt(mean_squared_error(y_train[:,0], y_train_pred[:,0]))\n",
    "print('Train Score: %.2f RMSE' % (trainScore))\n",
    "testScore = math.sqrt(mean_squared_error(y_test[:,0], y_test_pred[:,0]))\n",
    "print('Test Score: %.2f RMSE' % (testScore))\n",
    "#ShiftedtestScore = math.sqrt(mean_squared_error(y_test[:,0], y_test_pred[:,0]))\n",
    "#print('Shifted Test Score: %.2f RMSE' % (ShiftedtestScore))"
   ]
  },
  {
   "cell_type": "code",
   "execution_count": 70,
   "id": "5e51d525",
   "metadata": {},
   "outputs": [
    {
     "data": {
      "text/plain": [
       "<matplotlib.legend.Legend at 0x19963a26cd0>"
      ]
     },
     "execution_count": 70,
     "metadata": {},
     "output_type": "execute_result"
    },
    {
     "data": {
      "image/png": "[encoded data removed]",
      "text/plain": [
       "<Figure size 1080x432 with 1 Axes>"
      ]
     },
     "metadata": {
      "needs_background": "light"
     },
     "output_type": "display_data"
    }
   ],
   "source": [
    "[_, _, x_test, y_test], rand_perm = load_data(scaled, look_back, use_perm = False)\n",
    "x_test = torch.from_numpy(x_test).type(torch.Tensor).to(device)\n",
    "#y_test = torch.from_numpy(y_test).type(torch.Tensor).to(device)\n",
    "y_test_pred = model(x_test)\n",
    "y_test_pred = scaler1.inverse_transform(y_test_pred.cpu().detach().numpy())\n",
    "y_test = scaler1.inverse_transform(y_test)\n",
    "figure, axes = plt.subplots(figsize=(15, 6))\n",
    "axes.xaxis_date()\n",
    "axes.plot(nasdaq[len(nasdaq)-len(y_test):].index, y_test, color = 'red', label = 'Real NASDAQ Price')\n",
    "axes.plot(nasdaq[len(nasdaq)-len(y_test):].index, y_test_pred, color = 'blue', label = 'Predicted NASDAQ Price')\n",
    "#axes.xticks(np.arange(0,394,50))\n",
    "plt.title('NASDAQ-100 Stock Price Prediction')\n",
    "plt.xlabel('Time')\n",
    "plt.ylabel('NASDAQ-100 Stock Price')\n",
    "plt.legend()"
   ]
  },
  {
   "cell_type": "code",
   "execution_count": 71,
   "id": "df4863dd",
   "metadata": {},
   "outputs": [
    {
     "data": {
      "text/plain": [
       "<matplotlib.legend.Legend at 0x19977758460>"
      ]
     },
     "execution_count": 71,
     "metadata": {},
     "output_type": "execute_result"
    },
    {
     "data": {
      "image/png": "[encoded data removed]",
      "text/plain": [
       "<Figure size 1080x432 with 1 Axes>"
      ]
     },
     "metadata": {
      "needs_background": "light"
     },
     "output_type": "display_data"
    }
   ],
   "source": [
    "last = 20\n",
    "figure, axes = plt.subplots(figsize=(15, 6))\n",
    "axes.xaxis_date()\n",
    "axes.plot(nasdaq[-last:].index, y_test[-last:], color = 'red', label = 'Real NASDAQ Price')\n",
    "axes.plot(nasdaq[-last:].index, y_test_pred[-last:], color = 'blue', label = 'Predicted NASDAQ Price')\n",
    "plt.legend()"
   ]
  },
  {
   "cell_type": "code",
   "execution_count": 72,
   "id": "f632d1c8",
   "metadata": {},
   "outputs": [
    {
     "name": "stdout",
     "output_type": "stream",
     "text": [
      "[13675.326171875, 13625.7939453125, 13588.0615234375, 13566.3916015625, 13552.41796875]\n"
     ]
    },
    {
     "data": {
      "text/plain": [
       "[<matplotlib.lines.Line2D at 0x1997d03e160>]"
      ]
     },
     "execution_count": 72,
     "metadata": {},
     "output_type": "execute_result"
    },
    {
     "data": {
      "image/png": "[encoded data removed]",
      "text/plain": [
       "<Figure size 1080x432 with 1 Axes>"
      ]
     },
     "metadata": {
      "needs_background": "light"
     },
     "output_type": "display_data"
    }
   ],
   "source": [
    "data_raw = scaled.values\n",
    "predictions = []\n",
    "n = 5\n",
    "data = np.array(data_raw[len(data_raw) - look_back:])\n",
    "x_test = data.reshape(1,data.shape[0],data.shape[1])\n",
    "x_test = torch.from_numpy(x_test).type(torch.Tensor).to(device)\n",
    "for _ in range(n):\n",
    "    y_test_pred = model(x_test)\n",
    "    tmp = torch.tensor([[[y_test_pred[0,0].item()]]]).to(device)\n",
    "    #x_test = np.concatenate((data_raw,tmp),axis=0,dtype='object')\n",
    "    x_test = torch.cat((x_test,tmp),1)[:,1:,:]\n",
    "    ##print(x_test.shape)\n",
    "    y_test_pred = scaler1.inverse_transform(y_test_pred.cpu().detach().numpy())\n",
    "    predictions.append(y_test_pred.item())\n",
    "#print(predictions)\n",
    "figure, axes = plt.subplots(figsize=(15, 6))\n",
    "print(predictions)\n",
    "axes.plot(predictions)\n",
    "#next_week_forecast = model(data)"
   ]
  },
  {
   "cell_type": "markdown",
   "id": "a113c451",
   "metadata": {},
   "source": [
    "# Prediction with LSTM"
   ]
  },
  {
   "cell_type": "code",
   "execution_count": 73,
   "id": "773a7f49",
   "metadata": {},
   "outputs": [],
   "source": [
    "device = torch.device(\"cuda:0\" if torch.cuda.is_available() else \"cpu\")\n",
    "def objective(trial):\n",
    "    look_back = trial.suggest_int(\"Look Back\",5,100) # choose sequence length\n",
    "    [x_train, y_train, x_test, y_test], _ = load_data(scaled, look_back, use_perm=True)\n",
    "    x_train = torch.from_numpy(x_train).type(torch.Tensor).to(device)\n",
    "    x_test = torch.from_numpy(x_test).type(torch.Tensor).to(device)\n",
    "    y_train = torch.from_numpy(y_train).type(torch.Tensor).to(device)\n",
    "    y_test = torch.from_numpy(y_test).type(torch.Tensor).to(device)\n",
    "    \n",
    "    input_dim = 1\n",
    "    hidden_dim = trial.suggest_int(\"Hidden Dim\",16,128,log=True)\n",
    "    num_layers = trial.suggest_int(\"N layers\",1,3)\n",
    "    output_dim = 1\n",
    "    model = LSTM(input_dim=input_dim, hidden_dim=hidden_dim, output_dim=output_dim, num_layers=num_layers).to(device)\n",
    "\n",
    "    loss_fn = torch.nn.MSELoss()\n",
    "    lr = trial.suggest_float(\"Learning Rate\",1e-4,1,log=True)\n",
    "    optimizer = torch.optim.Adam(model.parameters(), lr=lr)\n",
    "\n",
    "    num_epochs = 1000\n",
    "    factor = trial.suggest_float('Factor',0.1,1,log=True)\n",
    "    scheduler = torch.optim.lr_scheduler.ReduceLROnPlateau(optimizer, factor=factor, patience=5)\n",
    "    for epoch in range(num_epochs):\n",
    "        # Initialise hidden state\n",
    "        # Don't do this if you want your LSTM to be stateful\n",
    "        #model.hidden = model.init_hidden()\n",
    "\n",
    "        # Forward pass\n",
    "        y_train_pred = model(x_train)\n",
    "\n",
    "        loss = loss_fn(y_train_pred, y_train)\n",
    "\n",
    "        # Zero out gradient, else they will accumulate between epochs\n",
    "        optimizer.zero_grad()\n",
    "\n",
    "        # Backward pass\n",
    "        loss.backward()\n",
    "\n",
    "        # Update parameters\n",
    "        optimizer.step()\n",
    "        scheduler.step(loss)\n",
    "        trial.report(loss, epoch)\n",
    "        if trial.should_prune():\n",
    "            raise optuna.exceptions.TrialPruned()\n",
    "    return loss"
   ]
  },
  {
   "cell_type": "code",
   "execution_count": 74,
   "id": "4272e289",
   "metadata": {},
   "outputs": [
    {
     "name": "stderr",
     "output_type": "stream",
     "text": [
      "\u001b[32m[I 2021-06-21 16:56:21,409]\u001b[0m A new study created in memory with name: LSTM\u001b[0m\n",
      "\u001b[32m[I 2021-06-21 16:56:32,632]\u001b[0m Trial 0 finished with value: 0.0034124362282454967 and parameters: {'Look Back': 37, 'Hidden Dim': 20, 'N layers': 3, 'Learning Rate': 0.0002833027007843885, 'Factor': 0.2795629355662403}. Best is trial 0 with value: 0.0034124362282454967.\u001b[0m\n",
      "\u001b[32m[I 2021-06-21 16:56:37,933]\u001b[0m Trial 1 finished with value: 0.00017522306006867439 and parameters: {'Look Back': 17, 'Hidden Dim': 17, 'N layers': 2, 'Learning Rate': 0.019796422497708875, 'Factor': 0.27459754150885407}. Best is trial 1 with value: 0.00017522306006867439.\u001b[0m\n",
      "\u001b[32m[I 2021-06-21 16:57:09,082]\u001b[0m Trial 2 finished with value: 0.08784137666225433 and parameters: {'Look Back': 87, 'Hidden Dim': 43, 'N layers': 2, 'Learning Rate': 0.47407835065963805, 'Factor': 0.5000551988934265}. Best is trial 1 with value: 0.00017522306006867439.\u001b[0m\n",
      "\u001b[32m[I 2021-06-21 16:57:19,278]\u001b[0m Trial 3 finished with value: 0.00029170585912652314 and parameters: {'Look Back': 56, 'Hidden Dim': 37, 'N layers': 1, 'Learning Rate': 0.0011732998155969164, 'Factor': 0.33560644193833816}. Best is trial 1 with value: 0.00017522306006867439.\u001b[0m\n",
      "\u001b[32m[I 2021-06-21 16:57:27,403]\u001b[0m Trial 4 finished with value: 0.04203111305832863 and parameters: {'Look Back': 21, 'Hidden Dim': 76, 'N layers': 1, 'Learning Rate': 0.6306664920075771, 'Factor': 0.9766000843984168}. Best is trial 1 with value: 0.00017522306006867439.\u001b[0m\n",
      "\u001b[32m[I 2021-06-21 16:57:27,443]\u001b[0m Trial 5 pruned. \u001b[0m\n",
      "\u001b[32m[I 2021-06-21 16:57:27,661]\u001b[0m Trial 6 pruned. \u001b[0m\n",
      "\u001b[32m[I 2021-06-21 16:57:27,680]\u001b[0m Trial 7 pruned. \u001b[0m\n",
      "\u001b[32m[I 2021-06-21 16:57:27,694]\u001b[0m Trial 8 pruned. \u001b[0m\n",
      "\u001b[32m[I 2021-06-21 16:57:27,737]\u001b[0m Trial 9 pruned. \u001b[0m\n",
      "\u001b[32m[I 2021-06-21 16:57:33,530]\u001b[0m Trial 10 finished with value: 0.0014744686195626855 and parameters: {'Look Back': 12, 'Hidden Dim': 17, 'N layers': 2, 'Learning Rate': 0.005019198003080396, 'Factor': 0.12383517308334492}. Best is trial 1 with value: 0.00017522306006867439.\u001b[0m\n",
      "\u001b[32m[I 2021-06-21 16:57:33,565]\u001b[0m Trial 11 pruned. \u001b[0m\n",
      "\u001b[32m[I 2021-06-21 16:57:33,665]\u001b[0m Trial 12 pruned. \u001b[0m\n",
      "\u001b[32m[I 2021-06-21 16:57:45,134]\u001b[0m Trial 13 finished with value: 0.00026734359562397003 and parameters: {'Look Back': 37, 'Hidden Dim': 31, 'N layers': 2, 'Learning Rate': 0.001655205278839313, 'Factor': 0.6445683976100088}. Best is trial 1 with value: 0.00017522306006867439.\u001b[0m\n",
      "\u001b[32m[I 2021-06-21 16:57:45,178]\u001b[0m Trial 14 pruned. \u001b[0m\n",
      "\u001b[32m[I 2021-06-21 16:57:45,222]\u001b[0m Trial 15 pruned. \u001b[0m\n",
      "\u001b[32m[I 2021-06-21 16:57:45,280]\u001b[0m Trial 16 pruned. \u001b[0m\n",
      "\u001b[32m[I 2021-06-21 16:57:45,541]\u001b[0m Trial 17 pruned. \u001b[0m\n",
      "\u001b[32m[I 2021-06-21 16:57:45,577]\u001b[0m Trial 18 pruned. \u001b[0m\n",
      "\u001b[32m[I 2021-06-21 16:57:45,649]\u001b[0m Trial 19 pruned. \u001b[0m\n",
      "\u001b[32m[I 2021-06-21 16:57:45,697]\u001b[0m Trial 20 pruned. \u001b[0m\n",
      "\u001b[32m[I 2021-06-21 16:57:45,961]\u001b[0m Trial 21 pruned. \u001b[0m\n",
      "\u001b[32m[I 2021-06-21 16:57:45,994]\u001b[0m Trial 22 pruned. \u001b[0m\n",
      "\u001b[32m[I 2021-06-21 16:57:46,037]\u001b[0m Trial 23 pruned. \u001b[0m\n",
      "\u001b[32m[I 2021-06-21 16:57:46,272]\u001b[0m Trial 24 pruned. \u001b[0m\n",
      "\u001b[32m[I 2021-06-21 16:57:46,328]\u001b[0m Trial 25 pruned. \u001b[0m\n",
      "\u001b[32m[I 2021-06-21 16:57:46,369]\u001b[0m Trial 26 pruned. \u001b[0m\n",
      "\u001b[32m[I 2021-06-21 16:57:46,430]\u001b[0m Trial 27 pruned. \u001b[0m\n",
      "\u001b[32m[I 2021-06-21 16:57:46,469]\u001b[0m Trial 28 pruned. \u001b[0m\n",
      "\u001b[32m[I 2021-06-21 16:57:46,757]\u001b[0m Trial 29 pruned. \u001b[0m\n",
      "\u001b[32m[I 2021-06-21 16:57:47,032]\u001b[0m Trial 30 pruned. \u001b[0m\n",
      "\u001b[32m[I 2021-06-21 16:57:47,067]\u001b[0m Trial 31 pruned. \u001b[0m\n",
      "\u001b[32m[I 2021-06-21 16:57:52,706]\u001b[0m Trial 32 finished with value: 0.0008446227293461561 and parameters: {'Look Back': 13, 'Hidden Dim': 16, 'N layers': 2, 'Learning Rate': 0.006268078349184167, 'Factor': 0.10406191654689385}. Best is trial 1 with value: 0.00017522306006867439.\u001b[0m\n",
      "\u001b[32m[I 2021-06-21 16:57:52,742]\u001b[0m Trial 33 pruned. \u001b[0m\n",
      "\u001b[32m[I 2021-06-21 16:57:52,790]\u001b[0m Trial 34 pruned. \u001b[0m\n",
      "\u001b[32m[I 2021-06-21 16:57:52,834]\u001b[0m Trial 35 pruned. \u001b[0m\n",
      "\u001b[32m[I 2021-06-21 16:57:52,882]\u001b[0m Trial 36 pruned. \u001b[0m\n",
      "\u001b[32m[I 2021-06-21 16:57:52,911]\u001b[0m Trial 37 pruned. \u001b[0m\n",
      "\u001b[32m[I 2021-06-21 16:57:52,974]\u001b[0m Trial 38 pruned. \u001b[0m\n",
      "\u001b[32m[I 2021-06-21 16:57:53,024]\u001b[0m Trial 39 pruned. \u001b[0m\n",
      "\u001b[32m[I 2021-06-21 16:57:53,064]\u001b[0m Trial 40 pruned. \u001b[0m\n",
      "\u001b[32m[I 2021-06-21 16:57:59,236]\u001b[0m Trial 41 finished with value: 0.0006634140154346824 and parameters: {'Look Back': 12, 'Hidden Dim': 17, 'N layers': 2, 'Learning Rate': 0.014502533898003012, 'Factor': 0.10719922693283412}. Best is trial 1 with value: 0.00017522306006867439.\u001b[0m\n",
      "\u001b[32m[I 2021-06-21 16:57:59,575]\u001b[0m Trial 42 pruned. \u001b[0m\n",
      "\u001b[32m[I 2021-06-21 16:57:59,608]\u001b[0m Trial 43 pruned. \u001b[0m\n",
      "\u001b[32m[I 2021-06-21 16:57:59,651]\u001b[0m Trial 44 pruned. \u001b[0m\n",
      "\u001b[32m[I 2021-06-21 16:57:59,694]\u001b[0m Trial 45 pruned. \u001b[0m\n",
      "\u001b[32m[I 2021-06-21 16:58:00,865]\u001b[0m Trial 46 pruned. \u001b[0m\n",
      "\u001b[32m[I 2021-06-21 16:58:00,908]\u001b[0m Trial 47 pruned. \u001b[0m\n",
      "\u001b[32m[I 2021-06-21 16:58:00,967]\u001b[0m Trial 48 pruned. \u001b[0m\n",
      "\u001b[32m[I 2021-06-21 16:58:01,041]\u001b[0m Trial 49 pruned. \u001b[0m\n",
      "\u001b[32m[I 2021-06-21 16:58:01,084]\u001b[0m Trial 50 pruned. \u001b[0m\n",
      "\u001b[32m[I 2021-06-21 16:58:01,161]\u001b[0m Trial 51 pruned. \u001b[0m\n",
      "\u001b[32m[I 2021-06-21 16:58:01,207]\u001b[0m Trial 52 pruned. \u001b[0m\n",
      "\u001b[32m[I 2021-06-21 16:58:01,253]\u001b[0m Trial 53 pruned. \u001b[0m\n",
      "\u001b[32m[I 2021-06-21 16:58:01,291]\u001b[0m Trial 54 pruned. \u001b[0m\n",
      "\u001b[32m[I 2021-06-21 16:58:01,326]\u001b[0m Trial 55 pruned. \u001b[0m\n",
      "\u001b[32m[I 2021-06-21 16:58:01,378]\u001b[0m Trial 56 pruned. \u001b[0m\n",
      "\u001b[32m[I 2021-06-21 16:58:01,427]\u001b[0m Trial 57 pruned. \u001b[0m\n",
      "\u001b[32m[I 2021-06-21 16:58:01,468]\u001b[0m Trial 58 pruned. \u001b[0m\n",
      "\u001b[32m[I 2021-06-21 16:58:01,543]\u001b[0m Trial 59 pruned. \u001b[0m\n",
      "\u001b[32m[I 2021-06-21 16:58:01,585]\u001b[0m Trial 60 pruned. \u001b[0m\n",
      "\u001b[32m[I 2021-06-21 16:58:01,646]\u001b[0m Trial 61 pruned. \u001b[0m\n",
      "\u001b[32m[I 2021-06-21 16:58:01,702]\u001b[0m Trial 62 pruned. \u001b[0m\n",
      "\u001b[32m[I 2021-06-21 16:58:01,764]\u001b[0m Trial 63 pruned. \u001b[0m\n",
      "\u001b[32m[I 2021-06-21 16:58:01,828]\u001b[0m Trial 64 pruned. \u001b[0m\n",
      "\u001b[32m[I 2021-06-21 16:58:01,877]\u001b[0m Trial 65 pruned. \u001b[0m\n",
      "\u001b[32m[I 2021-06-21 16:58:01,921]\u001b[0m Trial 66 pruned. \u001b[0m\n",
      "\u001b[32m[I 2021-06-21 16:58:01,975]\u001b[0m Trial 67 pruned. \u001b[0m\n",
      "\u001b[32m[I 2021-06-21 16:58:02,033]\u001b[0m Trial 68 pruned. \u001b[0m\n",
      "\u001b[32m[I 2021-06-21 16:58:02,088]\u001b[0m Trial 69 pruned. \u001b[0m\n",
      "\u001b[32m[I 2021-06-21 16:58:12,878]\u001b[0m Trial 70 finished with value: 9.17450015549548e-05 and parameters: {'Look Back': 24, 'Hidden Dim': 44, 'N layers': 2, 'Learning Rate': 0.004145397061336217, 'Factor': 0.9934804627309587}. Best is trial 70 with value: 9.17450015549548e-05.\u001b[0m\n",
      "\u001b[32m[I 2021-06-21 16:58:12,928]\u001b[0m Trial 71 pruned. \u001b[0m\n",
      "\u001b[32m[I 2021-06-21 16:58:12,975]\u001b[0m Trial 72 pruned. \u001b[0m\n",
      "\u001b[32m[I 2021-06-21 16:58:13,027]\u001b[0m Trial 73 pruned. \u001b[0m\n",
      "\u001b[32m[I 2021-06-21 16:58:13,085]\u001b[0m Trial 74 pruned. \u001b[0m\n",
      "\u001b[32m[I 2021-06-21 16:58:13,131]\u001b[0m Trial 75 pruned. \u001b[0m\n",
      "\u001b[32m[I 2021-06-21 16:58:13,190]\u001b[0m Trial 76 pruned. \u001b[0m\n",
      "\u001b[32m[I 2021-06-21 16:58:13,232]\u001b[0m Trial 77 pruned. \u001b[0m\n",
      "\u001b[32m[I 2021-06-21 16:58:13,284]\u001b[0m Trial 78 pruned. \u001b[0m\n",
      "\u001b[32m[I 2021-06-21 16:58:13,347]\u001b[0m Trial 79 pruned. \u001b[0m\n",
      "\u001b[32m[I 2021-06-21 16:58:13,458]\u001b[0m Trial 80 pruned. \u001b[0m\n",
      "\u001b[32m[I 2021-06-21 16:58:13,494]\u001b[0m Trial 81 pruned. \u001b[0m\n",
      "\u001b[32m[I 2021-06-21 16:58:13,556]\u001b[0m Trial 82 pruned. \u001b[0m\n",
      "\u001b[32m[I 2021-06-21 16:58:13,615]\u001b[0m Trial 83 pruned. \u001b[0m\n",
      "\u001b[32m[I 2021-06-21 16:58:13,665]\u001b[0m Trial 84 pruned. \u001b[0m\n",
      "\u001b[32m[I 2021-06-21 16:58:13,705]\u001b[0m Trial 85 pruned. \u001b[0m\n",
      "\u001b[32m[I 2021-06-21 16:58:13,744]\u001b[0m Trial 86 pruned. \u001b[0m\n",
      "\u001b[32m[I 2021-06-21 16:58:13,815]\u001b[0m Trial 87 pruned. \u001b[0m\n",
      "\u001b[32m[I 2021-06-21 16:58:13,872]\u001b[0m Trial 88 pruned. \u001b[0m\n",
      "\u001b[32m[I 2021-06-21 16:58:13,942]\u001b[0m Trial 89 pruned. \u001b[0m\n",
      "\u001b[32m[I 2021-06-21 16:58:13,998]\u001b[0m Trial 90 pruned. \u001b[0m\n",
      "\u001b[32m[I 2021-06-21 16:58:14,070]\u001b[0m Trial 91 pruned. \u001b[0m\n",
      "\u001b[32m[I 2021-06-21 16:58:14,153]\u001b[0m Trial 92 pruned. \u001b[0m\n",
      "\u001b[32m[I 2021-06-21 16:58:14,195]\u001b[0m Trial 93 pruned. \u001b[0m\n",
      "\u001b[32m[I 2021-06-21 16:58:14,242]\u001b[0m Trial 94 pruned. \u001b[0m\n",
      "\u001b[32m[I 2021-06-21 16:58:14,294]\u001b[0m Trial 95 pruned. \u001b[0m\n",
      "\u001b[32m[I 2021-06-21 16:58:14,336]\u001b[0m Trial 96 pruned. \u001b[0m\n",
      "\u001b[32m[I 2021-06-21 16:58:14,386]\u001b[0m Trial 97 pruned. \u001b[0m\n",
      "\u001b[32m[I 2021-06-21 16:58:14,448]\u001b[0m Trial 98 pruned. \u001b[0m\n",
      "\u001b[32m[I 2021-06-21 16:58:14,481]\u001b[0m Trial 99 pruned. \u001b[0m\n"
     ]
    },
    {
     "name": "stdout",
     "output_type": "stream",
     "text": [
      "Study statistics: \n",
      "  Number of finished trials:  100\n",
      "  Number of pruned trials:  90\n",
      "  Number of complete trials:  10\n"
     ]
    }
   ],
   "source": [
    "# now we can run the experiment\n",
    "sampler = optuna.samplers.TPESampler()\n",
    "study_lstm = optuna.create_study(study_name=\"LSTM\", direction=\"minimize\", sampler=sampler)\n",
    "study_lstm.optimize(objective, n_trials=100, timeout=120*60)\n",
    "\n",
    "pruned_trials = [t for t in study_lstm.trials if t.state == optuna.trial.TrialState.PRUNED]\n",
    "complete_trials = [t for t in study_lstm.trials if t.state == optuna.trial.TrialState.COMPLETE]\n",
    "\n",
    "print(\"Study statistics: \")\n",
    "print(\"  Number of finished trials: \", len(study_lstm.trials))\n",
    "print(\"  Number of pruned trials: \", len(pruned_trials))\n",
    "print(\"  Number of complete trials: \", len(complete_trials))\n",
    "#print(\"  Params: \")\n",
    "#for key, value in trial.params.items():\n",
    "#    print(\"    {}: {}\".format(key, value))"
   ]
  },
  {
   "cell_type": "code",
   "execution_count": 75,
   "id": "6f47e5f6",
   "metadata": {},
   "outputs": [
    {
     "data": {
      "application/vnd.plotly.v1+json": {
       "config": {
        "plotlyServerURL": "https://plot.ly"
       },
       "data": [
        {
         "cliponaxis": false,
         "hovertemplate": [
          "N layers (IntUniformDistribution): 0.07143402677962025<extra></extra>",
          "Factor (LogUniformDistribution): 0.12771483459978217<extra></extra>",
          "Hidden Dim (IntLogUniformDistribution): 0.1738340093375906<extra></extra>",
          "Look Back (IntUniformDistribution): 0.21708344486850237<extra></extra>",
          "Learning Rate (LogUniformDistribution): 0.40993368441450456<extra></extra>"
         ],
         "marker": {
          "color": "rgb(66,146,198)"
         },
         "orientation": "h",
         "text": [
          "0.07143402677962025",
          "0.12771483459978217",
          "0.1738340093375906",
          "0.21708344486850237",
          "0.40993368441450456"
         ],
         "textposition": "outside",
         "texttemplate": "%{text:.2f}",
         "type": "bar",
         "x": [
          0.07143402677962025,
          0.12771483459978217,
          0.1738340093375906,
          0.21708344486850237,
          0.40993368441450456
         ],
         "y": [
          "N layers",
          "Factor",
          "Hidden Dim",
          "Look Back",
          "Learning Rate"
         ]
        }
       ],
       "layout": {
        "showlegend": false,
        "template": {
         "data": {
          "bar": [
           {
            "error_x": {
             "color": "#2a3f5f"
            },
            "error_y": {
             "color": "#2a3f5f"
            },
            "marker": {
             "line": {
              "color": "#E5ECF6",
              "width": 0.5
             }
            },
            "type": "bar"
           }
          ],
          "barpolar": [
           {
            "marker": {
             "line": {
              "color": "#E5ECF6",
              "width": 0.5
             }
            },
            "type": "barpolar"
           }
          ],
          "carpet": [
           {
            "aaxis": {
             "endlinecolor": "#2a3f5f",
             "gridcolor": "white",
             "linecolor": "white",
             "minorgridcolor": "white",
             "startlinecolor": "#2a3f5f"
            },
            "baxis": {
             "endlinecolor": "#2a3f5f",
             "gridcolor": "white",
             "linecolor": "white",
             "minorgridcolor": "white",
             "startlinecolor": "#2a3f5f"
            },
            "type": "carpet"
           }
          ],
          "choropleth": [
           {
            "colorbar": {
             "outlinewidth": 0,
             "ticks": ""
            },
            "type": "choropleth"
           }
          ],
          "contour": [
           {
            "colorbar": {
             "outlinewidth": 0,
             "ticks": ""
            },
            "colorscale": [
             [
              0,
              "#0d0887"
             ],
             [
              0.1111111111111111,
              "#46039f"
             ],
             [
              0.2222222222222222,
              "#7201a8"
             ],
             [
              0.3333333333333333,
              "#9c179e"
             ],
             [
              0.4444444444444444,
              "#bd3786"
             ],
             [
              0.5555555555555556,
              "#d8576b"
             ],
             [
              0.6666666666666666,
              "#ed7953"
             ],
             [
              0.7777777777777778,
              "#fb9f3a"
             ],
             [
              0.8888888888888888,
              "#fdca26"
             ],
             [
              1,
              "#f0f921"
             ]
            ],
            "type": "contour"
           }
          ],
          "contourcarpet": [
           {
            "colorbar": {
             "outlinewidth": 0,
             "ticks": ""
            },
            "type": "contourcarpet"
           }
          ],
          "heatmap": [
           {
            "colorbar": {
             "outlinewidth": 0,
             "ticks": ""
            },
            "colorscale": [
             [
              0,
              "#0d0887"
             ],
             [
              0.1111111111111111,
              "#46039f"
             ],
             [
              0.2222222222222222,
              "#7201a8"
             ],
             [
              0.3333333333333333,
              "#9c179e"
             ],
             [
              0.4444444444444444,
              "#bd3786"
             ],
             [
              0.5555555555555556,
              "#d8576b"
             ],
             [
              0.6666666666666666,
              "#ed7953"
             ],
             [
              0.7777777777777778,
              "#fb9f3a"
             ],
             [
              0.8888888888888888,
              "#fdca26"
             ],
             [
              1,
              "#f0f921"
             ]
            ],
            "type": "heatmap"
           }
          ],
          "heatmapgl": [
           {
            "colorbar": {
             "outlinewidth": 0,
             "ticks": ""
            },
            "colorscale": [
             [
              0,
              "#0d0887"
             ],
             [
              0.1111111111111111,
              "#46039f"
             ],
             [
              0.2222222222222222,
              "#7201a8"
             ],
             [
              0.3333333333333333,
              "#9c179e"
             ],
             [
              0.4444444444444444,
              "#bd3786"
             ],
             [
              0.5555555555555556,
              "#d8576b"
             ],
             [
              0.6666666666666666,
              "#ed7953"
             ],
             [
              0.7777777777777778,
              "#fb9f3a"
             ],
             [
              0.8888888888888888,
              "#fdca26"
             ],
             [
              1,
              "#f0f921"
             ]
            ],
            "type": "heatmapgl"
           }
          ],
          "histogram": [
           {
            "marker": {
             "colorbar": {
              "outlinewidth": 0,
              "ticks": ""
             }
            },
            "type": "histogram"
           }
          ],
          "histogram2d": [
           {
            "colorbar": {
             "outlinewidth": 0,
             "ticks": ""
            },
            "colorscale": [
             [
              0,
              "#0d0887"
             ],
             [
              0.1111111111111111,
              "#46039f"
             ],
             [
              0.2222222222222222,
              "#7201a8"
             ],
             [
              0.3333333333333333,
              "#9c179e"
             ],
             [
              0.4444444444444444,
              "#bd3786"
             ],
             [
              0.5555555555555556,
              "#d8576b"
             ],
             [
              0.6666666666666666,
              "#ed7953"
             ],
             [
              0.7777777777777778,
              "#fb9f3a"
             ],
             [
              0.8888888888888888,
              "#fdca26"
             ],
             [
              1,
              "#f0f921"
             ]
            ],
            "type": "histogram2d"
           }
          ],
          "histogram2dcontour": [
           {
            "colorbar": {
             "outlinewidth": 0,
             "ticks": ""
            },
            "colorscale": [
             [
              0,
              "#0d0887"
             ],
             [
              0.1111111111111111,
              "#46039f"
             ],
             [
              0.2222222222222222,
              "#7201a8"
             ],
             [
              0.3333333333333333,
              "#9c179e"
             ],
             [
              0.4444444444444444,
              "#bd3786"
             ],
             [
              0.5555555555555556,
              "#d8576b"
             ],
             [
              0.6666666666666666,
              "#ed7953"
             ],
             [
              0.7777777777777778,
              "#fb9f3a"
             ],
             [
              0.8888888888888888,
              "#fdca26"
             ],
             [
              1,
              "#f0f921"
             ]
            ],
            "type": "histogram2dcontour"
           }
          ],
          "mesh3d": [
           {
            "colorbar": {
             "outlinewidth": 0,
             "ticks": ""
            },
            "type": "mesh3d"
           }
          ],
          "parcoords": [
           {
            "line": {
             "colorbar": {
              "outlinewidth": 0,
              "ticks": ""
             }
            },
            "type": "parcoords"
           }
          ],
          "pie": [
           {
            "automargin": true,
            "type": "pie"
           }
          ],
          "scatter": [
           {
            "marker": {
             "colorbar": {
              "outlinewidth": 0,
              "ticks": ""
             }
            },
            "type": "scatter"
           }
          ],
          "scatter3d": [
           {
            "line": {
             "colorbar": {
              "outlinewidth": 0,
              "ticks": ""
             }
            },
            "marker": {
             "colorbar": {
              "outlinewidth": 0,
              "ticks": ""
             }
            },
            "type": "scatter3d"
           }
          ],
          "scattercarpet": [
           {
            "marker": {
             "colorbar": {
              "outlinewidth": 0,
              "ticks": ""
             }
            },
            "type": "scattercarpet"
           }
          ],
          "scattergeo": [
           {
            "marker": {
             "colorbar": {
              "outlinewidth": 0,
              "ticks": ""
             }
            },
            "type": "scattergeo"
           }
          ],
          "scattergl": [
           {
            "marker": {
             "colorbar": {
              "outlinewidth": 0,
              "ticks": ""
             }
            },
            "type": "scattergl"
           }
          ],
          "scattermapbox": [
           {
            "marker": {
             "colorbar": {
              "outlinewidth": 0,
              "ticks": ""
             }
            },
            "type": "scattermapbox"
           }
          ],
          "scatterpolar": [
           {
            "marker": {
             "colorbar": {
              "outlinewidth": 0,
              "ticks": ""
             }
            },
            "type": "scatterpolar"
           }
          ],
          "scatterpolargl": [
           {
            "marker": {
             "colorbar": {
              "outlinewidth": 0,
              "ticks": ""
             }
            },
            "type": "scatterpolargl"
           }
          ],
          "scatterternary": [
           {
            "marker": {
             "colorbar": {
              "outlinewidth": 0,
              "ticks": ""
             }
            },
            "type": "scatterternary"
           }
          ],
          "surface": [
           {
            "colorbar": {
             "outlinewidth": 0,
             "ticks": ""
            },
            "colorscale": [
             [
              0,
              "#0d0887"
             ],
             [
              0.1111111111111111,
              "#46039f"
             ],
             [
              0.2222222222222222,
              "#7201a8"
             ],
             [
              0.3333333333333333,
              "#9c179e"
             ],
             [
              0.4444444444444444,
              "#bd3786"
             ],
             [
              0.5555555555555556,
              "#d8576b"
             ],
             [
              0.6666666666666666,
              "#ed7953"
             ],
             [
              0.7777777777777778,
              "#fb9f3a"
             ],
             [
              0.8888888888888888,
              "#fdca26"
             ],
             [
              1,
              "#f0f921"
             ]
            ],
            "type": "surface"
           }
          ],
          "table": [
           {
            "cells": {
             "fill": {
              "color": "#EBF0F8"
             },
             "line": {
              "color": "white"
             }
            },
            "header": {
             "fill": {
              "color": "#C8D4E3"
             },
             "line": {
              "color": "white"
             }
            },
            "type": "table"
           }
          ]
         },
         "layout": {
          "annotationdefaults": {
           "arrowcolor": "#2a3f5f",
           "arrowhead": 0,
           "arrowwidth": 1
          },
          "autotypenumbers": "strict",
          "coloraxis": {
           "colorbar": {
            "outlinewidth": 0,
            "ticks": ""
           }
          },
          "colorscale": {
           "diverging": [
            [
             0,
             "#8e0152"
            ],
            [
             0.1,
             "#c51b7d"
            ],
            [
             0.2,
             "#de77ae"
            ],
            [
             0.3,
             "#f1b6da"
            ],
            [
             0.4,
             "#fde0ef"
            ],
            [
             0.5,
             "#f7f7f7"
            ],
            [
             0.6,
             "#e6f5d0"
            ],
            [
             0.7,
             "#b8e186"
            ],
            [
             0.8,
             "#7fbc41"
            ],
            [
             0.9,
             "#4d9221"
            ],
            [
             1,
             "#276419"
            ]
           ],
           "sequential": [
            [
             0,
             "#0d0887"
            ],
            [
             0.1111111111111111,
             "#46039f"
            ],
            [
             0.2222222222222222,
             "#7201a8"
            ],
            [
             0.3333333333333333,
             "#9c179e"
            ],
            [
             0.4444444444444444,
             "#bd3786"
            ],
            [
             0.5555555555555556,
             "#d8576b"
            ],
            [
             0.6666666666666666,
             "#ed7953"
            ],
            [
             0.7777777777777778,
             "#fb9f3a"
            ],
            [
             0.8888888888888888,
             "#fdca26"
            ],
            [
             1,
             "#f0f921"
            ]
           ],
           "sequentialminus": [
            [
             0,
             "#0d0887"
            ],
            [
             0.1111111111111111,
             "#46039f"
            ],
            [
             0.2222222222222222,
             "#7201a8"
            ],
            [
             0.3333333333333333,
             "#9c179e"
            ],
            [
             0.4444444444444444,
             "#bd3786"
            ],
            [
             0.5555555555555556,
             "#d8576b"
            ],
            [
             0.6666666666666666,
             "#ed7953"
            ],
            [
             0.7777777777777778,
             "#fb9f3a"
            ],
            [
             0.8888888888888888,
             "#fdca26"
            ],
            [
             1,
             "#f0f921"
            ]
           ]
          },
          "colorway": [
           "#636efa",
           "#EF553B",
           "#00cc96",
           "#ab63fa",
           "#FFA15A",
           "#19d3f3",
           "#FF6692",
           "#B6E880",
           "#FF97FF",
           "#FECB52"
          ],
          "font": {
           "color": "#2a3f5f"
          },
          "geo": {
           "bgcolor": "white",
           "lakecolor": "white",
           "landcolor": "#E5ECF6",
           "showlakes": true,
           "showland": true,
           "subunitcolor": "white"
          },
          "hoverlabel": {
           "align": "left"
          },
          "hovermode": "closest",
          "mapbox": {
           "style": "light"
          },
          "paper_bgcolor": "white",
          "plot_bgcolor": "#E5ECF6",
          "polar": {
           "angularaxis": {
            "gridcolor": "white",
            "linecolor": "white",
            "ticks": ""
           },
           "bgcolor": "#E5ECF6",
           "radialaxis": {
            "gridcolor": "white",
            "linecolor": "white",
            "ticks": ""
           }
          },
          "scene": {
           "xaxis": {
            "backgroundcolor": "#E5ECF6",
            "gridcolor": "white",
            "gridwidth": 2,
            "linecolor": "white",
            "showbackground": true,
            "ticks": "",
            "zerolinecolor": "white"
           },
           "yaxis": {
            "backgroundcolor": "#E5ECF6",
            "gridcolor": "white",
            "gridwidth": 2,
            "linecolor": "white",
            "showbackground": true,
            "ticks": "",
            "zerolinecolor": "white"
           },
           "zaxis": {
            "backgroundcolor": "#E5ECF6",
            "gridcolor": "white",
            "gridwidth": 2,
            "linecolor": "white",
            "showbackground": true,
            "ticks": "",
            "zerolinecolor": "white"
           }
          },
          "shapedefaults": {
           "line": {
            "color": "#2a3f5f"
           }
          },
          "ternary": {
           "aaxis": {
            "gridcolor": "white",
            "linecolor": "white",
            "ticks": ""
           },
           "baxis": {
            "gridcolor": "white",
            "linecolor": "white",
            "ticks": ""
           },
           "bgcolor": "#E5ECF6",
           "caxis": {
            "gridcolor": "white",
            "linecolor": "white",
            "ticks": ""
           }
          },
          "title": {
           "x": 0.05
          },
          "xaxis": {
           "automargin": true,
           "gridcolor": "white",
           "linecolor": "white",
           "ticks": "",
           "title": {
            "standoff": 15
           },
           "zerolinecolor": "white",
           "zerolinewidth": 2
          },
          "yaxis": {
           "automargin": true,
           "gridcolor": "white",
           "linecolor": "white",
           "ticks": "",
           "title": {
            "standoff": 15
           },
           "zerolinecolor": "white",
           "zerolinewidth": 2
          }
         }
        },
        "title": {
         "text": "Hyperparameter Importances"
        },
        "xaxis": {
         "title": {
          "text": "Importance for Objective Value"
         }
        },
        "yaxis": {
         "title": {
          "text": "Hyperparameter"
         }
        }
       }
      },
      "text/html": [
       "<div>                            <div id=\"a2df9292-65b9-485f-8fc3-71485e838d77\" class=\"plotly-graph-div\" style=\"height:525px; width:100%;\"></div>            <script type=\"text/javascript\">                require([\"plotly\"], function(Plotly) {                    window.PLOTLYENV=window.PLOTLYENV || {};                                    if (document.getElementById(\"a2df9292-65b9-485f-8fc3-71485e838d77\")) {                    Plotly.newPlot(                        \"a2df9292-65b9-485f-8fc3-71485e838d77\",                        [{\"cliponaxis\": false, \"hovertemplate\": [\"N layers (IntUniformDistribution): 0.07143402677962025<extra></extra>\", \"Factor (LogUniformDistribution): 0.12771483459978217<extra></extra>\", \"Hidden Dim (IntLogUniformDistribution): 0.1738340093375906<extra></extra>\", \"Look Back (IntUniformDistribution): 0.21708344486850237<extra></extra>\", \"Learning Rate (LogUniformDistribution): 0.40993368441450456<extra></extra>\"], \"marker\": {\"color\": \"rgb(66,146,198)\"}, \"orientation\": \"h\", \"text\": [\"0.07143402677962025\", \"0.12771483459978217\", \"0.1738340093375906\", \"0.21708344486850237\", \"0.40993368441450456\"], \"textposition\": \"outside\", \"texttemplate\": \"%{text:.2f}\", \"type\": \"bar\", \"x\": [0.07143402677962025, 0.12771483459978217, 0.1738340093375906, 0.21708344486850237, 0.40993368441450456], \"y\": [\"N layers\", \"Factor\", \"Hidden Dim\", \"Look Back\", \"Learning Rate\"]}],                        {\"showlegend\": false, \"template\": {\"data\": {\"bar\": [{\"error_x\": {\"color\": \"#2a3f5f\"}, \"error_y\": {\"color\": \"#2a3f5f\"}, \"marker\": {\"line\": {\"color\": \"#E5ECF6\", \"width\": 0.5}}, \"type\": \"bar\"}], \"barpolar\": [{\"marker\": {\"line\": {\"color\": \"#E5ECF6\", \"width\": 0.5}}, \"type\": \"barpolar\"}], \"carpet\": [{\"aaxis\": {\"endlinecolor\": \"#2a3f5f\", \"gridcolor\": \"white\", \"linecolor\": \"white\", \"minorgridcolor\": \"white\", \"startlinecolor\": \"#2a3f5f\"}, \"baxis\": {\"endlinecolor\": \"#2a3f5f\", \"gridcolor\": \"white\", \"linecolor\": \"white\", \"minorgridcolor\": \"white\", \"startlinecolor\": \"#2a3f5f\"}, \"type\": \"carpet\"}], \"choropleth\": [{\"colorbar\": {\"outlinewidth\": 0, \"ticks\": \"\"}, \"type\": \"choropleth\"}], \"contour\": [{\"colorbar\": {\"outlinewidth\": 0, \"ticks\": \"\"}, \"colorscale\": [[0.0, \"#0d0887\"], [0.1111111111111111, \"#46039f\"], [0.2222222222222222, \"#7201a8\"], [0.3333333333333333, \"#9c179e\"], [0.4444444444444444, \"#bd3786\"], [0.5555555555555556, \"#d8576b\"], [0.6666666666666666, \"#ed7953\"], [0.7777777777777778, \"#fb9f3a\"], [0.8888888888888888, \"#fdca26\"], [1.0, \"#f0f921\"]], \"type\": \"contour\"}], \"contourcarpet\": [{\"colorbar\": {\"outlinewidth\": 0, \"ticks\": \"\"}, \"type\": \"contourcarpet\"}], \"heatmap\": [{\"colorbar\": {\"outlinewidth\": 0, \"ticks\": \"\"}, \"colorscale\": [[0.0, \"#0d0887\"], [0.1111111111111111, \"#46039f\"], [0.2222222222222222, \"#7201a8\"], [0.3333333333333333, \"#9c179e\"], [0.4444444444444444, \"#bd3786\"], [0.5555555555555556, \"#d8576b\"], [0.6666666666666666, \"#ed7953\"], [0.7777777777777778, \"#fb9f3a\"], [0.8888888888888888, \"#fdca26\"], [1.0, \"#f0f921\"]], \"type\": \"heatmap\"}], \"heatmapgl\": [{\"colorbar\": {\"outlinewidth\": 0, \"ticks\": \"\"}, \"colorscale\": [[0.0, \"#0d0887\"], [0.1111111111111111, \"#46039f\"], [0.2222222222222222, \"#7201a8\"], [0.3333333333333333, \"#9c179e\"], [0.4444444444444444, \"#bd3786\"], [0.5555555555555556, \"#d8576b\"], [0.6666666666666666, \"#ed7953\"], [0.7777777777777778, \"#fb9f3a\"], [0.8888888888888888, \"#fdca26\"], [1.0, \"#f0f921\"]], \"type\": \"heatmapgl\"}], \"histogram\": [{\"marker\": {\"colorbar\": {\"outlinewidth\": 0, \"ticks\": \"\"}}, \"type\": \"histogram\"}], \"histogram2d\": [{\"colorbar\": {\"outlinewidth\": 0, \"ticks\": \"\"}, \"colorscale\": [[0.0, \"#0d0887\"], [0.1111111111111111, \"#46039f\"], [0.2222222222222222, \"#7201a8\"], [0.3333333333333333, \"#9c179e\"], [0.4444444444444444, \"#bd3786\"], [0.5555555555555556, \"#d8576b\"], [0.6666666666666666, \"#ed7953\"], [0.7777777777777778, \"#fb9f3a\"], [0.8888888888888888, \"#fdca26\"], [1.0, \"#f0f921\"]], \"type\": \"histogram2d\"}], \"histogram2dcontour\": [{\"colorbar\": {\"outlinewidth\": 0, \"ticks\": \"\"}, \"colorscale\": [[0.0, \"#0d0887\"], [0.1111111111111111, \"#46039f\"], [0.2222222222222222, \"#7201a8\"], [0.3333333333333333, \"#9c179e\"], [0.4444444444444444, \"#bd3786\"], [0.5555555555555556, \"#d8576b\"], [0.6666666666666666, \"#ed7953\"], [0.7777777777777778, \"#fb9f3a\"], [0.8888888888888888, \"#fdca26\"], [1.0, \"#f0f921\"]], \"type\": \"histogram2dcontour\"}], \"mesh3d\": [{\"colorbar\": {\"outlinewidth\": 0, \"ticks\": \"\"}, \"type\": \"mesh3d\"}], \"parcoords\": [{\"line\": {\"colorbar\": {\"outlinewidth\": 0, \"ticks\": \"\"}}, \"type\": \"parcoords\"}], \"pie\": [{\"automargin\": true, \"type\": \"pie\"}], \"scatter\": [{\"marker\": {\"colorbar\": {\"outlinewidth\": 0, \"ticks\": \"\"}}, \"type\": \"scatter\"}], \"scatter3d\": [{\"line\": {\"colorbar\": {\"outlinewidth\": 0, \"ticks\": \"\"}}, \"marker\": {\"colorbar\": {\"outlinewidth\": 0, \"ticks\": \"\"}}, \"type\": \"scatter3d\"}], \"scattercarpet\": [{\"marker\": {\"colorbar\": {\"outlinewidth\": 0, \"ticks\": \"\"}}, \"type\": \"scattercarpet\"}], \"scattergeo\": [{\"marker\": {\"colorbar\": {\"outlinewidth\": 0, \"ticks\": \"\"}}, \"type\": \"scattergeo\"}], \"scattergl\": [{\"marker\": {\"colorbar\": {\"outlinewidth\": 0, \"ticks\": \"\"}}, \"type\": \"scattergl\"}], \"scattermapbox\": [{\"marker\": {\"colorbar\": {\"outlinewidth\": 0, \"ticks\": \"\"}}, \"type\": \"scattermapbox\"}], \"scatterpolar\": [{\"marker\": {\"colorbar\": {\"outlinewidth\": 0, \"ticks\": \"\"}}, \"type\": \"scatterpolar\"}], \"scatterpolargl\": [{\"marker\": {\"colorbar\": {\"outlinewidth\": 0, \"ticks\": \"\"}}, \"type\": \"scatterpolargl\"}], \"scatterternary\": [{\"marker\": {\"colorbar\": {\"outlinewidth\": 0, \"ticks\": \"\"}}, \"type\": \"scatterternary\"}], \"surface\": [{\"colorbar\": {\"outlinewidth\": 0, \"ticks\": \"\"}, \"colorscale\": [[0.0, \"#0d0887\"], [0.1111111111111111, \"#46039f\"], [0.2222222222222222, \"#7201a8\"], [0.3333333333333333, \"#9c179e\"], [0.4444444444444444, \"#bd3786\"], [0.5555555555555556, \"#d8576b\"], [0.6666666666666666, \"#ed7953\"], [0.7777777777777778, \"#fb9f3a\"], [0.8888888888888888, \"#fdca26\"], [1.0, \"#f0f921\"]], \"type\": \"surface\"}], \"table\": [{\"cells\": {\"fill\": {\"color\": \"#EBF0F8\"}, \"line\": {\"color\": \"white\"}}, \"header\": {\"fill\": {\"color\": \"#C8D4E3\"}, \"line\": {\"color\": \"white\"}}, \"type\": \"table\"}]}, \"layout\": {\"annotationdefaults\": {\"arrowcolor\": \"#2a3f5f\", \"arrowhead\": 0, \"arrowwidth\": 1}, \"autotypenumbers\": \"strict\", \"coloraxis\": {\"colorbar\": {\"outlinewidth\": 0, \"ticks\": \"\"}}, \"colorscale\": {\"diverging\": [[0, \"#8e0152\"], [0.1, \"#c51b7d\"], [0.2, \"#de77ae\"], [0.3, \"#f1b6da\"], [0.4, \"#fde0ef\"], [0.5, \"#f7f7f7\"], [0.6, \"#e6f5d0\"], [0.7, \"#b8e186\"], [0.8, \"#7fbc41\"], [0.9, \"#4d9221\"], [1, \"#276419\"]], \"sequential\": [[0.0, \"#0d0887\"], [0.1111111111111111, \"#46039f\"], [0.2222222222222222, \"#7201a8\"], [0.3333333333333333, \"#9c179e\"], [0.4444444444444444, \"#bd3786\"], [0.5555555555555556, \"#d8576b\"], [0.6666666666666666, \"#ed7953\"], [0.7777777777777778, \"#fb9f3a\"], [0.8888888888888888, \"#fdca26\"], [1.0, \"#f0f921\"]], \"sequentialminus\": [[0.0, \"#0d0887\"], [0.1111111111111111, \"#46039f\"], [0.2222222222222222, \"#7201a8\"], [0.3333333333333333, \"#9c179e\"], [0.4444444444444444, \"#bd3786\"], [0.5555555555555556, \"#d8576b\"], [0.6666666666666666, \"#ed7953\"], [0.7777777777777778, \"#fb9f3a\"], [0.8888888888888888, \"#fdca26\"], [1.0, \"#f0f921\"]]}, \"colorway\": [\"#636efa\", \"#EF553B\", \"#00cc96\", \"#ab63fa\", \"#FFA15A\", \"#19d3f3\", \"#FF6692\", \"#B6E880\", \"#FF97FF\", \"#FECB52\"], \"font\": {\"color\": \"#2a3f5f\"}, \"geo\": {\"bgcolor\": \"white\", \"lakecolor\": \"white\", \"landcolor\": \"#E5ECF6\", \"showlakes\": true, \"showland\": true, \"subunitcolor\": \"white\"}, \"hoverlabel\": {\"align\": \"left\"}, \"hovermode\": \"closest\", \"mapbox\": {\"style\": \"light\"}, \"paper_bgcolor\": \"white\", \"plot_bgcolor\": \"#E5ECF6\", \"polar\": {\"angularaxis\": {\"gridcolor\": \"white\", \"linecolor\": \"white\", \"ticks\": \"\"}, \"bgcolor\": \"#E5ECF6\", \"radialaxis\": {\"gridcolor\": \"white\", \"linecolor\": \"white\", \"ticks\": \"\"}}, \"scene\": {\"xaxis\": {\"backgroundcolor\": \"#E5ECF6\", \"gridcolor\": \"white\", \"gridwidth\": 2, \"linecolor\": \"white\", \"showbackground\": true, \"ticks\": \"\", \"zerolinecolor\": \"white\"}, \"yaxis\": {\"backgroundcolor\": \"#E5ECF6\", \"gridcolor\": \"white\", \"gridwidth\": 2, \"linecolor\": \"white\", \"showbackground\": true, \"ticks\": \"\", \"zerolinecolor\": \"white\"}, \"zaxis\": {\"backgroundcolor\": \"#E5ECF6\", \"gridcolor\": \"white\", \"gridwidth\": 2, \"linecolor\": \"white\", \"showbackground\": true, \"ticks\": \"\", \"zerolinecolor\": \"white\"}}, \"shapedefaults\": {\"line\": {\"color\": \"#2a3f5f\"}}, \"ternary\": {\"aaxis\": {\"gridcolor\": \"white\", \"linecolor\": \"white\", \"ticks\": \"\"}, \"baxis\": {\"gridcolor\": \"white\", \"linecolor\": \"white\", \"ticks\": \"\"}, \"bgcolor\": \"#E5ECF6\", \"caxis\": {\"gridcolor\": \"white\", \"linecolor\": \"white\", \"ticks\": \"\"}}, \"title\": {\"x\": 0.05}, \"xaxis\": {\"automargin\": true, \"gridcolor\": \"white\", \"linecolor\": \"white\", \"ticks\": \"\", \"title\": {\"standoff\": 15}, \"zerolinecolor\": \"white\", \"zerolinewidth\": 2}, \"yaxis\": {\"automargin\": true, \"gridcolor\": \"white\", \"linecolor\": \"white\", \"ticks\": \"\", \"title\": {\"standoff\": 15}, \"zerolinecolor\": \"white\", \"zerolinewidth\": 2}}}, \"title\": {\"text\": \"Hyperparameter Importances\"}, \"xaxis\": {\"title\": {\"text\": \"Importance for Objective Value\"}}, \"yaxis\": {\"title\": {\"text\": \"Hyperparameter\"}}},                        {\"responsive\": true}                    ).then(function(){\n",
       "                            \n",
       "var gd = document.getElementById('a2df9292-65b9-485f-8fc3-71485e838d77');\n",
       "var x = new MutationObserver(function (mutations, observer) {{\n",
       "        var display = window.getComputedStyle(gd).display;\n",
       "        if (!display || display === 'none') {{\n",
       "            console.log([gd, 'removed!']);\n",
       "            Plotly.purge(gd);\n",
       "            observer.disconnect();\n",
       "        }}\n",
       "}});\n",
       "\n",
       "// Listen for the removal of the full notebook cells\n",
       "var notebookContainer = gd.closest('#notebook-container');\n",
       "if (notebookContainer) {{\n",
       "    x.observe(notebookContainer, {childList: true});\n",
       "}}\n",
       "\n",
       "// Listen for the clearing of the current output cell\n",
       "var outputEl = gd.closest('.output');\n",
       "if (outputEl) {{\n",
       "    x.observe(outputEl, {childList: true});\n",
       "}}\n",
       "\n",
       "                        })                };                });            </script>        </div>"
      ]
     },
     "metadata": {},
     "output_type": "display_data"
    }
   ],
   "source": [
    "optuna.visualization.plot_param_importances(study_lstm)"
   ]
  },
  {
   "cell_type": "code",
   "execution_count": 76,
   "id": "304e1370",
   "metadata": {},
   "outputs": [
    {
     "name": "stdout",
     "output_type": "stream",
     "text": [
      "Best trial:\n",
      "Value:  9.17450015549548e-05\n",
      "{'Look Back': 24, 'Hidden Dim': 44, 'N layers': 2, 'Learning Rate': 0.004145397061336217, 'Factor': 0.9934804627309587}\n"
     ]
    }
   ],
   "source": [
    "print(\"Best trial:\")\n",
    "trial_lstm = study_lstm.best_trial\n",
    "\n",
    "print(\"Value: \", trial_lstm.value)\n",
    "print(trial_lstm.params)"
   ]
  },
  {
   "cell_type": "code",
   "execution_count": 87,
   "id": "a0238d86",
   "metadata": {},
   "outputs": [],
   "source": [
    "look_back = trial_lstm.params['Look Back'] # choose sequence length\n",
    "[x_train, y_train, x_test, y_test], rand_perm = load_data(scaled, look_back, use_perm=True)\n",
    "#print('x_train.shape = ',x_train.shape)\n",
    "#print('y_train.shape = ',y_train.shape)\n",
    "#print('x_test.shape = ',x_test.shape)\n",
    "#print('y_test.shape = ',y_test.shape)\n",
    "# make training and test sets in torch\n",
    "#print(device)\n",
    "x_train = torch.from_numpy(x_train).type(torch.Tensor).to(device)\n",
    "x_test = torch.from_numpy(x_test).type(torch.Tensor).to(device)\n",
    "y_train = torch.from_numpy(y_train).type(torch.Tensor).to(device)\n",
    "y_test = torch.from_numpy(y_test).type(torch.Tensor).to(device)"
   ]
  },
  {
   "cell_type": "code",
   "execution_count": 88,
   "id": "23c2c237",
   "metadata": {},
   "outputs": [
    {
     "name": "stdout",
     "output_type": "stream",
     "text": [
      "Epoch  0 MSE:  0.2451074868440628\n",
      "Epoch  50 MSE:  0.0016677927924320102\n",
      "Epoch  100 MSE:  0.0003019296273123473\n",
      "Epoch  150 MSE:  0.0002541027497500181\n",
      "Epoch  200 MSE:  0.0002293667639605701\n",
      "Epoch  250 MSE:  0.000214020095882006\n",
      "Epoch  300 MSE:  0.0002033571945503354\n",
      "Epoch  350 MSE:  0.00019517779583111405\n",
      "Epoch  400 MSE:  0.0001883683871710673\n",
      "Epoch  450 MSE:  0.00018232448201160878\n",
      "Epoch  500 MSE:  0.0001767082285368815\n",
      "Epoch  550 MSE:  0.0001713410601951182\n",
      "Epoch  600 MSE:  0.0001661512505961582\n",
      "Epoch  650 MSE:  0.00016113201854750514\n",
      "Epoch  700 MSE:  0.00015629878907930106\n",
      "Epoch  750 MSE:  0.00015165528748184443\n",
      "Epoch  800 MSE:  0.00014718722377438098\n",
      "Epoch  850 MSE:  0.00014287419617176056\n",
      "Epoch  900 MSE:  0.00013870070688426495\n",
      "Epoch  950 MSE:  0.00013466250675264746\n"
     ]
    }
   ],
   "source": [
    "input_dim = 1\n",
    "hidden_dim = trial_lstm.params['Hidden Dim']\n",
    "num_layers = trial_lstm.params['N layers']\n",
    "output_dim = 1\n",
    "model = LSTM(input_dim=input_dim, hidden_dim=hidden_dim, output_dim=output_dim, num_layers=num_layers).to(device)\n",
    "\n",
    "loss_fn = torch.nn.MSELoss()\n",
    "lr = trial_lstm.params['Learning Rate']\n",
    "optimizer = torch.optim.Adam(model.parameters(), lr=lr)\n",
    "\"\"\"\n",
    "print(model)\n",
    "print(len(list(model.parameters())))\n",
    "for i in range(len(list(model.parameters()))):\n",
    "print(list(model.parameters())[i].size())\n",
    "\"\"\"\n",
    "num_epochs = 1000\n",
    "factor = trial_lstm.params['Factor']\n",
    "scheduler = torch.optim.lr_scheduler.ReduceLROnPlateau(optimizer, factor=factor, patience = 5)\n",
    "hist = np.zeros(num_epochs)\n",
    "for epoch in range(num_epochs):\n",
    "    # Initialise hidden state\n",
    "    # Don't do this if you want your LSTM to be stateful\n",
    "    #model.hidden = model.init_hidden()\n",
    "\n",
    "    # Forward pass\n",
    "    y_train_pred = model(x_train)\n",
    "\n",
    "    loss = loss_fn(y_train_pred, y_train)\n",
    "    if epoch % 50 == 0:\n",
    "        print(\"Epoch \", epoch, \"MSE: \", loss.item())\n",
    "    hist[epoch] = loss.item()\n",
    "    # Zero out gradient, else they will accumulate between epochs\n",
    "    optimizer.zero_grad()\n",
    "\n",
    "    # Backward pass\n",
    "    loss.backward()\n",
    "\n",
    "    # Update parameters\n",
    "    optimizer.step()\n",
    "    scheduler.step(loss)"
   ]
  },
  {
   "cell_type": "code",
   "execution_count": 89,
   "id": "6aabb449",
   "metadata": {},
   "outputs": [
    {
     "data": {
      "image/png": "[encoded data removed]",
      "text/plain": [
       "<Figure size 432x288 with 1 Axes>"
      ]
     },
     "metadata": {
      "needs_background": "light"
     },
     "output_type": "display_data"
    }
   ],
   "source": [
    "plt.semilogy(hist, label=\"Training loss\")\n",
    "plt.legend()\n",
    "plt.show()"
   ]
  },
  {
   "cell_type": "code",
   "execution_count": 90,
   "id": "a993b4fd",
   "metadata": {},
   "outputs": [],
   "source": [
    "# make predictions\n",
    "y_test_pred = model(x_test)\n",
    "# invert predictions\n",
    "\n",
    "y_train_pred = scaler1.inverse_transform(y_train_pred.cpu().detach().numpy())\n",
    "y_train = scaler1.inverse_transform(y_train.detach().cpu().numpy())\n",
    "y_test_pred = scaler1.inverse_transform(y_test_pred.cpu().detach().numpy())\n",
    "y_test = scaler1.inverse_transform(y_test.cpu().detach().numpy())\n"
   ]
  },
  {
   "cell_type": "code",
   "execution_count": 91,
   "id": "aaa297ba",
   "metadata": {},
   "outputs": [
    {
     "name": "stdout",
     "output_type": "stream",
     "text": [
      "Train Score: 164.95 RMSE\n",
      "Test Score: 183.11 RMSE\n"
     ]
    }
   ],
   "source": [
    "# calculate root mean squared error\n",
    "trainScore = math.sqrt(mean_squared_error(y_train[:,0], y_train_pred[:,0]))\n",
    "print('Train Score: %.2f RMSE' % (trainScore))\n",
    "testScore = math.sqrt(mean_squared_error(y_test[:,0], y_test_pred[:,0]))\n",
    "print('Test Score: %.2f RMSE' % (testScore))\n",
    "#ShiftedtestScore = math.sqrt(mean_squared_error(y_test[:,0], y_test_pred[:,0]))\n",
    "#print('Shifted Test Score: %.2f RMSE' % (ShiftedtestScore))"
   ]
  },
  {
   "cell_type": "code",
   "execution_count": 92,
   "id": "11ce4c7d",
   "metadata": {},
   "outputs": [
    {
     "data": {
      "text/plain": [
       "<matplotlib.legend.Legend at 0x1992c38e460>"
      ]
     },
     "execution_count": 92,
     "metadata": {},
     "output_type": "execute_result"
    },
    {
     "data": {
      "image/png": "[encoded data removed]",
      "text/plain": [
       "<Figure size 1080x432 with 1 Axes>"
      ]
     },
     "metadata": {
      "needs_background": "light"
     },
     "output_type": "display_data"
    }
   ],
   "source": [
    "[_, _, x_test, y_test], rand_perm = load_data(scaled, look_back, use_perm = False)\n",
    "x_test = torch.from_numpy(x_test).type(torch.Tensor).to(device)\n",
    "#y_test = torch.from_numpy(y_test).type(torch.Tensor).to(device)\n",
    "y_test_pred = model(x_test)\n",
    "y_test_pred = scaler1.inverse_transform(y_test_pred.cpu().detach().numpy())\n",
    "y_test = scaler1.inverse_transform(y_test)\n",
    "figure, axes = plt.subplots(figsize=(15, 6))\n",
    "axes.xaxis_date()\n",
    "axes.plot(nasdaq[len(nasdaq)-len(y_test):].index, y_test, color = 'red', label = 'Real NASDAQ Price')\n",
    "axes.plot(nasdaq[len(nasdaq)-len(y_test):].index, y_test_pred, color = 'blue', label = 'Predicted NASDAQ Price')\n",
    "#axes.xticks(np.arange(0,394,50))\n",
    "plt.title('NASDAQ-100 Stock Price Prediction')\n",
    "plt.xlabel('Time')\n",
    "plt.ylabel('NASDAQ-100 Stock Price')\n",
    "plt.legend()"
   ]
  },
  {
   "cell_type": "code",
   "execution_count": 93,
   "id": "fafceb0f",
   "metadata": {},
   "outputs": [
    {
     "data": {
      "text/plain": [
       "<matplotlib.legend.Legend at 0x199639fb7f0>"
      ]
     },
     "execution_count": 93,
     "metadata": {},
     "output_type": "execute_result"
    },
    {
     "data": {
      "image/png": "[encoded data removed]",
      "text/plain": [
       "<Figure size 1080x432 with 1 Axes>"
      ]
     },
     "metadata": {
      "needs_background": "light"
     },
     "output_type": "display_data"
    }
   ],
   "source": [
    "last = 20\n",
    "figure, axes = plt.subplots(figsize=(15, 6))\n",
    "axes.xaxis_date()\n",
    "axes.plot(nasdaq[-last:].index, y_test[-last:], color = 'red', label = 'Real NASDAQ Price')\n",
    "axes.plot(nasdaq[-last:].index, y_test_pred[-last:], color = 'blue', label = 'Predicted NASDAQ Price')\n",
    "plt.legend()"
   ]
  },
  {
   "cell_type": "code",
   "execution_count": 94,
   "id": "896d1bae",
   "metadata": {},
   "outputs": [
    {
     "name": "stdout",
     "output_type": "stream",
     "text": [
      "[13773.130859375, 13861.029296875, 13926.56640625, 13982.19921875, 14033.6162109375]\n"
     ]
    },
    {
     "data": {
      "text/plain": [
       "[<matplotlib.lines.Line2D at 0x1999b67a2b0>]"
      ]
     },
     "execution_count": 94,
     "metadata": {},
     "output_type": "execute_result"
    },
    {
     "data": {
      "image/png": "[encoded data removed]",
      "text/plain": [
       "<Figure size 1080x432 with 1 Axes>"
      ]
     },
     "metadata": {
      "needs_background": "light"
     },
     "output_type": "display_data"
    }
   ],
   "source": [
    "data_raw = scaled.values\n",
    "predictions = []\n",
    "n = 5\n",
    "data = np.array(data_raw[len(data_raw) - look_back:])\n",
    "x_test = data.reshape(1,data.shape[0],data.shape[1])\n",
    "x_test = torch.from_numpy(x_test).type(torch.Tensor).to(device)\n",
    "for _ in range(n):\n",
    "    y_test_pred = model(x_test)\n",
    "    tmp = torch.tensor([[[y_test_pred[0,0].item()]]]).to(device)\n",
    "    #x_test = np.concatenate((data_raw,tmp),axis=0,dtype='object')\n",
    "    x_test = torch.cat((x_test,tmp),1)[:,1:,:]\n",
    "    ##print(x_test.shape)\n",
    "    y_test_pred = scaler1.inverse_transform(y_test_pred.cpu().detach().numpy())\n",
    "    predictions.append(y_test_pred.item())\n",
    "#print(predictions)\n",
    "figure, axes = plt.subplots(figsize=(15, 6))\n",
    "print(predictions)\n",
    "axes.plot(predictions)\n",
    "#next_week_forecast = model(data)"
   ]
  },
  {
   "cell_type": "code",
   "execution_count": null,
   "id": "379f4563",
   "metadata": {},
   "outputs": [],
   "source": []
  }
 ],
 "metadata": {
  "kernelspec": {
   "display_name": "Python 3",
   "language": "python",
   "name": "python3"
  },
  "language_info": {
   "codemirror_mode": {
    "name": "ipython",
    "version": 3
   },
   "file_extension": ".py",
   "mimetype": "text/x-python",
   "name": "python",
   "nbconvert_exporter": "python",
   "pygments_lexer": "ipython3",
   "version": "3.9.5"
  }
 },
 "nbformat": 4,
 "nbformat_minor": 5
}
